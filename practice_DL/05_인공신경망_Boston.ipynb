{
 "cells": [
  {
   "cell_type": "markdown",
   "metadata": {},
   "source": [
    "## Boston 데이터 분석"
   ]
  },
  {
   "cell_type": "code",
   "execution_count": 252,
   "metadata": {},
   "outputs": [
    {
     "name": "stdout",
     "output_type": "stream",
     "text": [
      "dict_keys(['data', 'target', 'frame', 'categories', 'feature_names', 'target_names', 'DESCR', 'details', 'url'])\n"
     ]
    },
    {
     "name": "stderr",
     "output_type": "stream",
     "text": [
      "c:\\Users\\user\\miniconda3\\envs\\deeplearning\\Lib\\site-packages\\sklearn\\datasets\\_openml.py:323: UserWarning: Multiple active versions of the dataset matching the name boston exist. Versions may be fundamentally different, returning version 1. Available versions:\n",
      "- version 1, status: active\n",
      "  url: https://www.openml.org/search?type=data&id=531\n",
      "- version 2, status: active\n",
      "  url: https://www.openml.org/search?type=data&id=853\n",
      "\n",
      "  warn(warning_msg)\n"
     ]
    }
   ],
   "source": [
    "import torch\n",
    "from sklearn.datasets import fetch_openml\n",
    "import pandas as pd\n",
    "\n",
    "boston_dataset = fetch_openml(name=\"boston\")\n",
    "print(boston_dataset.keys())\n"
   ]
  },
  {
   "cell_type": "code",
   "execution_count": 16,
   "metadata": {},
   "outputs": [
    {
     "data": {
      "text/html": [
       "<div>\n",
       "<style scoped>\n",
       "    .dataframe tbody tr th:only-of-type {\n",
       "        vertical-align: middle;\n",
       "    }\n",
       "\n",
       "    .dataframe tbody tr th {\n",
       "        vertical-align: top;\n",
       "    }\n",
       "\n",
       "    .dataframe thead th {\n",
       "        text-align: right;\n",
       "    }\n",
       "</style>\n",
       "<table border=\"1\" class=\"dataframe\">\n",
       "  <thead>\n",
       "    <tr style=\"text-align: right;\">\n",
       "      <th></th>\n",
       "      <th>CRIM</th>\n",
       "      <th>ZN</th>\n",
       "      <th>INDUS</th>\n",
       "      <th>CHAS</th>\n",
       "      <th>NOX</th>\n",
       "      <th>RM</th>\n",
       "      <th>AGE</th>\n",
       "      <th>DIS</th>\n",
       "      <th>RAD</th>\n",
       "      <th>TAX</th>\n",
       "      <th>PTRATIO</th>\n",
       "      <th>B</th>\n",
       "      <th>LSTAT</th>\n",
       "      <th>MEDV</th>\n",
       "    </tr>\n",
       "  </thead>\n",
       "  <tbody>\n",
       "    <tr>\n",
       "      <th>0</th>\n",
       "      <td>0.00632</td>\n",
       "      <td>18.0</td>\n",
       "      <td>2.31</td>\n",
       "      <td>0</td>\n",
       "      <td>0.538</td>\n",
       "      <td>6.575</td>\n",
       "      <td>65.2</td>\n",
       "      <td>4.0900</td>\n",
       "      <td>1</td>\n",
       "      <td>296.0</td>\n",
       "      <td>15.3</td>\n",
       "      <td>396.90</td>\n",
       "      <td>4.98</td>\n",
       "      <td>24.0</td>\n",
       "    </tr>\n",
       "    <tr>\n",
       "      <th>1</th>\n",
       "      <td>0.02731</td>\n",
       "      <td>0.0</td>\n",
       "      <td>7.07</td>\n",
       "      <td>0</td>\n",
       "      <td>0.469</td>\n",
       "      <td>6.421</td>\n",
       "      <td>78.9</td>\n",
       "      <td>4.9671</td>\n",
       "      <td>2</td>\n",
       "      <td>242.0</td>\n",
       "      <td>17.8</td>\n",
       "      <td>396.90</td>\n",
       "      <td>9.14</td>\n",
       "      <td>21.6</td>\n",
       "    </tr>\n",
       "    <tr>\n",
       "      <th>2</th>\n",
       "      <td>0.02729</td>\n",
       "      <td>0.0</td>\n",
       "      <td>7.07</td>\n",
       "      <td>0</td>\n",
       "      <td>0.469</td>\n",
       "      <td>7.185</td>\n",
       "      <td>61.1</td>\n",
       "      <td>4.9671</td>\n",
       "      <td>2</td>\n",
       "      <td>242.0</td>\n",
       "      <td>17.8</td>\n",
       "      <td>392.83</td>\n",
       "      <td>4.03</td>\n",
       "      <td>34.7</td>\n",
       "    </tr>\n",
       "    <tr>\n",
       "      <th>3</th>\n",
       "      <td>0.03237</td>\n",
       "      <td>0.0</td>\n",
       "      <td>2.18</td>\n",
       "      <td>0</td>\n",
       "      <td>0.458</td>\n",
       "      <td>6.998</td>\n",
       "      <td>45.8</td>\n",
       "      <td>6.0622</td>\n",
       "      <td>3</td>\n",
       "      <td>222.0</td>\n",
       "      <td>18.7</td>\n",
       "      <td>394.63</td>\n",
       "      <td>2.94</td>\n",
       "      <td>33.4</td>\n",
       "    </tr>\n",
       "    <tr>\n",
       "      <th>4</th>\n",
       "      <td>0.06905</td>\n",
       "      <td>0.0</td>\n",
       "      <td>2.18</td>\n",
       "      <td>0</td>\n",
       "      <td>0.458</td>\n",
       "      <td>7.147</td>\n",
       "      <td>54.2</td>\n",
       "      <td>6.0622</td>\n",
       "      <td>3</td>\n",
       "      <td>222.0</td>\n",
       "      <td>18.7</td>\n",
       "      <td>396.90</td>\n",
       "      <td>5.33</td>\n",
       "      <td>36.2</td>\n",
       "    </tr>\n",
       "    <tr>\n",
       "      <th>...</th>\n",
       "      <td>...</td>\n",
       "      <td>...</td>\n",
       "      <td>...</td>\n",
       "      <td>...</td>\n",
       "      <td>...</td>\n",
       "      <td>...</td>\n",
       "      <td>...</td>\n",
       "      <td>...</td>\n",
       "      <td>...</td>\n",
       "      <td>...</td>\n",
       "      <td>...</td>\n",
       "      <td>...</td>\n",
       "      <td>...</td>\n",
       "      <td>...</td>\n",
       "    </tr>\n",
       "    <tr>\n",
       "      <th>501</th>\n",
       "      <td>0.06263</td>\n",
       "      <td>0.0</td>\n",
       "      <td>11.93</td>\n",
       "      <td>0</td>\n",
       "      <td>0.573</td>\n",
       "      <td>6.593</td>\n",
       "      <td>69.1</td>\n",
       "      <td>2.4786</td>\n",
       "      <td>1</td>\n",
       "      <td>273.0</td>\n",
       "      <td>21.0</td>\n",
       "      <td>391.99</td>\n",
       "      <td>9.67</td>\n",
       "      <td>22.4</td>\n",
       "    </tr>\n",
       "    <tr>\n",
       "      <th>502</th>\n",
       "      <td>0.04527</td>\n",
       "      <td>0.0</td>\n",
       "      <td>11.93</td>\n",
       "      <td>0</td>\n",
       "      <td>0.573</td>\n",
       "      <td>6.120</td>\n",
       "      <td>76.7</td>\n",
       "      <td>2.2875</td>\n",
       "      <td>1</td>\n",
       "      <td>273.0</td>\n",
       "      <td>21.0</td>\n",
       "      <td>396.90</td>\n",
       "      <td>9.08</td>\n",
       "      <td>20.6</td>\n",
       "    </tr>\n",
       "    <tr>\n",
       "      <th>503</th>\n",
       "      <td>0.06076</td>\n",
       "      <td>0.0</td>\n",
       "      <td>11.93</td>\n",
       "      <td>0</td>\n",
       "      <td>0.573</td>\n",
       "      <td>6.976</td>\n",
       "      <td>91.0</td>\n",
       "      <td>2.1675</td>\n",
       "      <td>1</td>\n",
       "      <td>273.0</td>\n",
       "      <td>21.0</td>\n",
       "      <td>396.90</td>\n",
       "      <td>5.64</td>\n",
       "      <td>23.9</td>\n",
       "    </tr>\n",
       "    <tr>\n",
       "      <th>504</th>\n",
       "      <td>0.10959</td>\n",
       "      <td>0.0</td>\n",
       "      <td>11.93</td>\n",
       "      <td>0</td>\n",
       "      <td>0.573</td>\n",
       "      <td>6.794</td>\n",
       "      <td>89.3</td>\n",
       "      <td>2.3889</td>\n",
       "      <td>1</td>\n",
       "      <td>273.0</td>\n",
       "      <td>21.0</td>\n",
       "      <td>393.45</td>\n",
       "      <td>6.48</td>\n",
       "      <td>22.0</td>\n",
       "    </tr>\n",
       "    <tr>\n",
       "      <th>505</th>\n",
       "      <td>0.04741</td>\n",
       "      <td>0.0</td>\n",
       "      <td>11.93</td>\n",
       "      <td>0</td>\n",
       "      <td>0.573</td>\n",
       "      <td>6.030</td>\n",
       "      <td>80.8</td>\n",
       "      <td>2.5050</td>\n",
       "      <td>1</td>\n",
       "      <td>273.0</td>\n",
       "      <td>21.0</td>\n",
       "      <td>396.90</td>\n",
       "      <td>7.88</td>\n",
       "      <td>11.9</td>\n",
       "    </tr>\n",
       "  </tbody>\n",
       "</table>\n",
       "<p>506 rows × 14 columns</p>\n",
       "</div>"
      ],
      "text/plain": [
       "        CRIM    ZN  INDUS CHAS    NOX     RM   AGE     DIS RAD    TAX  \\\n",
       "0    0.00632  18.0   2.31    0  0.538  6.575  65.2  4.0900   1  296.0   \n",
       "1    0.02731   0.0   7.07    0  0.469  6.421  78.9  4.9671   2  242.0   \n",
       "2    0.02729   0.0   7.07    0  0.469  7.185  61.1  4.9671   2  242.0   \n",
       "3    0.03237   0.0   2.18    0  0.458  6.998  45.8  6.0622   3  222.0   \n",
       "4    0.06905   0.0   2.18    0  0.458  7.147  54.2  6.0622   3  222.0   \n",
       "..       ...   ...    ...  ...    ...    ...   ...     ...  ..    ...   \n",
       "501  0.06263   0.0  11.93    0  0.573  6.593  69.1  2.4786   1  273.0   \n",
       "502  0.04527   0.0  11.93    0  0.573  6.120  76.7  2.2875   1  273.0   \n",
       "503  0.06076   0.0  11.93    0  0.573  6.976  91.0  2.1675   1  273.0   \n",
       "504  0.10959   0.0  11.93    0  0.573  6.794  89.3  2.3889   1  273.0   \n",
       "505  0.04741   0.0  11.93    0  0.573  6.030  80.8  2.5050   1  273.0   \n",
       "\n",
       "     PTRATIO       B  LSTAT  MEDV  \n",
       "0       15.3  396.90   4.98  24.0  \n",
       "1       17.8  396.90   9.14  21.6  \n",
       "2       17.8  392.83   4.03  34.7  \n",
       "3       18.7  394.63   2.94  33.4  \n",
       "4       18.7  396.90   5.33  36.2  \n",
       "..       ...     ...    ...   ...  \n",
       "501     21.0  391.99   9.67  22.4  \n",
       "502     21.0  396.90   9.08  20.6  \n",
       "503     21.0  396.90   5.64  23.9  \n",
       "504     21.0  393.45   6.48  22.0  \n",
       "505     21.0  396.90   7.88  11.9  \n",
       "\n",
       "[506 rows x 14 columns]"
      ]
     },
     "execution_count": 16,
     "metadata": {},
     "output_type": "execute_result"
    }
   ],
   "source": [
    "boston_dataset.frame"
   ]
  },
  {
   "cell_type": "code",
   "execution_count": 18,
   "metadata": {},
   "outputs": [
    {
     "name": "stdout",
     "output_type": "stream",
     "text": [
      "**Author**:   \n",
      "**Source**: Unknown - Date unknown  \n",
      "**Please cite**:   \n",
      "\n",
      "The Boston house-price data of Harrison, D. and Rubinfeld, D.L. 'Hedonic\n",
      "prices and the demand for clean air', J. Environ. Economics & Management,\n",
      "vol.5, 81-102, 1978.   Used in Belsley, Kuh & Welsch, 'Regression diagnostics\n",
      "...', Wiley, 1980.   N.B. Various transformations are used in the table on\n",
      "pages 244-261 of the latter.\n",
      "Variables in order:\n",
      "CRIM     per capita crime rate by town\n",
      "ZN       proportion of residential land zoned for lots over 25,000 sq.ft.\n",
      "INDUS    proportion of non-retail business acres per town\n",
      "CHAS     Charles River dummy variable (= 1 if tract bounds river; 0 otherwise)\n",
      "NOX      nitric oxides concentration (parts per 10 million)\n",
      "RM       average number of rooms per dwelling\n",
      "AGE      proportion of owner-occupied units built prior to 1940\n",
      "DIS      weighted distances to five Boston employment centres\n",
      "RAD      index of accessibility to radial highways\n",
      "TAX      full-value property-tax rate per $10,000\n",
      "PTRATIO  pupil-teacher ratio by town\n",
      "B        1000(Bk - 0.63)^2 where Bk is the proportion of blacks by town\n",
      "LSTAT    % lower status of the population\n",
      "MEDV     Median value of owner-occupied homes in $1000's\n",
      "\n",
      "\n",
      "Information about the dataset\n",
      "CLASSTYPE: numeric\n",
      "CLASSINDEX: last\n",
      "\n",
      "Downloaded from openml.org.\n"
     ]
    }
   ],
   "source": [
    "print(boston_dataset.DESCR)"
   ]
  },
  {
   "cell_type": "code",
   "execution_count": 253,
   "metadata": {},
   "outputs": [
    {
     "name": "stdout",
     "output_type": "stream",
     "text": [
      "X shape: (506, 13), y shape: (506,)\n"
     ]
    }
   ],
   "source": [
    "X = boston_dataset.data\n",
    "y = boston_dataset.target\n",
    "print(f\"X shape: {X.shape}, y shape: {y.shape}\")\n"
   ]
  },
  {
   "cell_type": "code",
   "execution_count": 254,
   "metadata": {},
   "outputs": [
    {
     "name": "stdout",
     "output_type": "stream",
     "text": [
      "<class 'pandas.core.frame.DataFrame'>\n",
      "RangeIndex: 506 entries, 0 to 505\n",
      "Data columns (total 13 columns):\n",
      " #   Column   Non-Null Count  Dtype   \n",
      "---  ------   --------------  -----   \n",
      " 0   CRIM     506 non-null    float64 \n",
      " 1   ZN       506 non-null    float64 \n",
      " 2   INDUS    506 non-null    float64 \n",
      " 3   CHAS     506 non-null    category\n",
      " 4   NOX      506 non-null    float64 \n",
      " 5   RM       506 non-null    float64 \n",
      " 6   AGE      506 non-null    float64 \n",
      " 7   DIS      506 non-null    float64 \n",
      " 8   RAD      506 non-null    category\n",
      " 9   TAX      506 non-null    float64 \n",
      " 10  PTRATIO  506 non-null    float64 \n",
      " 11  B        506 non-null    float64 \n",
      " 12  LSTAT    506 non-null    float64 \n",
      "dtypes: category(2), float64(11)\n",
      "memory usage: 45.1 KB\n",
      "<class 'pandas.core.frame.DataFrame'>\n",
      "RangeIndex: 506 entries, 0 to 505\n",
      "Data columns (total 13 columns):\n",
      " #   Column   Non-Null Count  Dtype  \n",
      "---  ------   --------------  -----  \n",
      " 0   CRIM     506 non-null    float64\n",
      " 1   ZN       506 non-null    float64\n",
      " 2   INDUS    506 non-null    float64\n",
      " 3   CHAS     506 non-null    float64\n",
      " 4   NOX      506 non-null    float64\n",
      " 5   RM       506 non-null    float64\n",
      " 6   AGE      506 non-null    float64\n",
      " 7   DIS      506 non-null    float64\n",
      " 8   RAD      506 non-null    float64\n",
      " 9   TAX      506 non-null    float64\n",
      " 10  PTRATIO  506 non-null    float64\n",
      " 11  B        506 non-null    float64\n",
      " 12  LSTAT    506 non-null    float64\n",
      "dtypes: float64(13)\n",
      "memory usage: 51.5 KB\n"
     ]
    }
   ],
   "source": [
    "X.info()\n",
    "\n",
    "# 데이터 형 변환\n",
    "X = X.astype({\"CHAS\": \"float\", \"RAD\": \"float\"})\n",
    "X.info()"
   ]
  },
  {
   "cell_type": "code",
   "execution_count": 255,
   "metadata": {},
   "outputs": [
    {
     "name": "stdout",
     "output_type": "stream",
     "text": [
      "X shape: (506, 13), y shape: (506,)\n",
      "X_train shape: (404, 13), y_train shape: (404,)\n",
      "X_test shape: (102, 13), y_test shape: (102,)\n"
     ]
    }
   ],
   "source": [
    "from sklearn.model_selection import train_test_split\n",
    "\n",
    "X_train, X_test, y_train, y_test = train_test_split(\n",
    "    X, y, test_size=0.2, random_state=42\n",
    ")\n",
    "\n",
    "print(f\"X shape: {X.shape}, y shape: {y.shape}\")\n",
    "print(f\"X_train shape: {X_train.shape}, y_train shape: {y_train.shape}\")\n",
    "print(f\"X_test shape: {X_test.shape}, y_test shape: {y_test.shape}\")\n"
   ]
  },
  {
   "cell_type": "code",
   "execution_count": 256,
   "metadata": {},
   "outputs": [
    {
     "data": {
      "text/plain": [
       "Sequential(\n",
       "  (0): Linear(in_features=13, out_features=64, bias=True)\n",
       "  (1): ReLU()\n",
       "  (2): Linear(in_features=64, out_features=32, bias=True)\n",
       "  (3): ReLU()\n",
       "  (4): Linear(in_features=32, out_features=32, bias=True)\n",
       "  (5): ReLU()\n",
       "  (6): Linear(in_features=32, out_features=1, bias=True)\n",
       ")"
      ]
     },
     "execution_count": 256,
     "metadata": {},
     "output_type": "execute_result"
    }
   ],
   "source": [
    "from torch import nn, optim\n",
    "import matplotlib.pyplot as plt\n",
    "import numpy as np\n",
    "\n",
    "# 모델 생성\n",
    "model = nn.Sequential(\n",
    "    nn.Linear(13, 64),\n",
    "    nn.ReLU(),\n",
    "    nn.Linear(64, 32),\n",
    "    nn.ReLU(),\n",
    "    nn.Linear(32, 32),\n",
    "    nn.ReLU(),\n",
    "    nn.Linear(32, 1)\n",
    ")\n",
    "\n",
    "\n",
    "model"
   ]
  },
  {
   "cell_type": "code",
   "execution_count": 257,
   "metadata": {},
   "outputs": [
    {
     "name": "stdout",
     "output_type": "stream",
     "text": [
      "[tensor([ 0.2277,  0.1137, -0.1528, -0.2679,  0.1255, -0.1473,  0.0261,  0.0416,\n",
      "        -0.1789,  0.0401, -0.2318, -0.2062,  0.0294],\n",
      "       grad_fn=<SelectBackward0>), tensor(-0.2528, grad_fn=<SelectBackward0>), tensor([ 0.0893, -0.0368, -0.0652,  0.0044, -0.0352,  0.0934,  0.0695,  0.0534,\n",
      "        -0.0278, -0.0645, -0.0568,  0.0106,  0.1220,  0.0463,  0.0545, -0.0738,\n",
      "        -0.0931, -0.0749,  0.0367,  0.0417, -0.0641,  0.0423,  0.0649, -0.0047,\n",
      "         0.0100,  0.0843, -0.0943,  0.1226,  0.0211,  0.0239, -0.1085, -0.0613,\n",
      "        -0.0211, -0.0438,  0.0716, -0.0245, -0.0208, -0.0693, -0.0692,  0.0563,\n",
      "         0.0850,  0.0908,  0.0286,  0.0903,  0.0161, -0.0745, -0.0573, -0.0759,\n",
      "        -0.0341, -0.0031, -0.0396,  0.0313,  0.0618, -0.1164, -0.0966, -0.0564,\n",
      "        -0.0067,  0.1176,  0.0182,  0.0871,  0.0899, -0.0068,  0.1241, -0.0626],\n",
      "       grad_fn=<SelectBackward0>), tensor(-0.0264, grad_fn=<SelectBackward0>), tensor([-0.0584,  0.0081, -0.1307, -0.0307, -0.1136, -0.0607, -0.0196,  0.0617,\n",
      "         0.1515,  0.0769,  0.1041,  0.1629, -0.0136,  0.0480, -0.1195,  0.1090,\n",
      "        -0.0136,  0.0739,  0.1413,  0.0663,  0.0583, -0.0443, -0.0961, -0.0005,\n",
      "         0.0199,  0.0787,  0.0215, -0.1486,  0.0352, -0.1206,  0.1320,  0.1370],\n",
      "       grad_fn=<SelectBackward0>), tensor(0.1650, grad_fn=<SelectBackward0>), tensor([ 0.0985, -0.0574,  0.0508,  0.0398,  0.1337, -0.1218, -0.0530,  0.1220,\n",
      "         0.1634, -0.0920, -0.0231, -0.1192, -0.0958, -0.1226, -0.0831, -0.1527,\n",
      "        -0.1656,  0.0933, -0.0112, -0.1406,  0.0121,  0.1037, -0.0568, -0.0502,\n",
      "         0.1395, -0.1326,  0.1597, -0.0633, -0.0305, -0.1217, -0.0883,  0.0564],\n",
      "       grad_fn=<SelectBackward0>), tensor(-0.0837, grad_fn=<SelectBackward0>)]\n",
      "0.2277332842350006\n",
      "0.029446184635162354\n"
     ]
    }
   ],
   "source": [
    "print([p[0] for p in model.parameters()])\n",
    "print([p[0] for p in model.parameters()][0][0].item())\n",
    "print([p[0] for p in model.parameters()][0][-1].item())"
   ]
  },
  {
   "cell_type": "code",
   "execution_count": 258,
   "metadata": {},
   "outputs": [
    {
     "name": "stdout",
     "output_type": "stream",
     "text": [
      "torch.Size([404, 13]) torch.Size([404, 1])\n"
     ]
    }
   ],
   "source": [
    "# # 1. 숫자형 데이터로 변환\n",
    "# X_train = X_train.apply(pd.to_numeric, errors='coerce')\n",
    "\n",
    "# # 2. 결측치 처리\n",
    "# X_train = X_train.fillna(0)\n",
    "\n",
    "# 3. Tensor로 변환\n",
    "X_train_ts = torch.FloatTensor(X_train.values)\n",
    "y_train_ts = torch.FloatTensor(y_train.values)\n",
    "\n",
    "# 4. 차원 추가\n",
    "y_train_ts = y_train_ts.unsqueeze(1)\n",
    "\n",
    "print(X_train_ts.shape, y_train_ts.shape)\n",
    "x_tmp = list([float(x[0]) for x in X_train_ts])  # 시각화용 첫번째 피쳐\n",
    "x_tmp = np.array(x_tmp)\n",
    "# print(x_tmp)"
   ]
  },
  {
   "cell_type": "code",
   "execution_count": 129,
   "metadata": {},
   "outputs": [
    {
     "name": "stdout",
     "output_type": "stream",
     "text": [
      "0.16769471764564514 -0.11309439688920975\n"
     ]
    },
    {
     "data": {
      "image/png": "[encoded data removed]",
      "text/plain": [
       "<Figure size 640x480 with 1 Axes>"
      ]
     },
     "metadata": {},
     "output_type": "display_data"
    },
    {
     "name": "stdout",
     "output_type": "stream",
     "text": [
      "0.12954670190811157 -0.2772406041622162\n"
     ]
    },
    {
     "data": {
      "image/png": "[encoded data removed]",
      "text/plain": [
       "<Figure size 640x480 with 1 Axes>"
      ]
     },
     "metadata": {},
     "output_type": "display_data"
    }
   ],
   "source": [
    "epochs = 1000\n",
    "criterion = nn.MSELoss()\n",
    "optimizer = optim.Adam(model.parameters(), lr=5e-4)\n",
    "\n",
    "# 저장소 만들기\n",
    "loss_history = []\n",
    "ws = []\n",
    "bs = []\n",
    "\n",
    "for epoch in range(epochs):\n",
    "    optimizer.zero_grad()  # 초기화\n",
    "    yhat = model(X_train_ts)  # 예측값 구하기\n",
    "    loss = criterion(yhat, y_train_ts)  # 손실율 계산\n",
    "    \n",
    "    # # 조건에 다른 조기 학습 종료\n",
    "    # loss_diff = loss_history[-1] - loss if len(loss_history) > 1 else 1\n",
    "    # if loss_diff < 1e-10:\n",
    "    #     print(\"더 이상 업데이트 되지 않아 학습을 종료합니다.\", loss_diff.item())\n",
    "    #     break\n",
    "    \n",
    "    loss_history.append(loss.item())\n",
    "    loss.backward()  # 역전파\n",
    "    optimizer.step()  # 최적화함수로 파라미터 업데이트\n",
    "    \n",
    "    # 가중치와 절편 저장 (복사해서 저장해야 덮어쓰지 않음)\n",
    "    w = [p[0] for p in model.parameters()][0][0].item()\n",
    "    b = [p[0] for p in model.parameters()][0][-1].item()\n",
    "    # w, b = model.parameters()\n",
    "    ws.append(w)\n",
    "    bs.append(b)\n",
    "    \n",
    "    # 출력\n",
    "    if epoch % 500 == 0:\n",
    "        print(w, b)\n",
    "        # print(f\"Epoch : {epoch}, W : {w.item()}, b:{b.item()}, Loss:{loss.item()}\")\n",
    "\n",
    "        # 그림 그리기\n",
    "        plt.Figure(figsize=(5, 3))\n",
    "        plt.scatter(x_tmp, y_train)\n",
    "        plt.plot(x_tmp, w * x_tmp + b, color = \"red\")\n",
    "        plt.title(f\"Epoch:\" + str(epoch))\n",
    "        plt.show()"
   ]
  },
  {
   "cell_type": "code",
   "execution_count": 130,
   "metadata": {},
   "outputs": [
    {
     "data": {
      "image/png": "[encoded data removed]",
      "text/plain": [
       "<Figure size 600x400 with 1 Axes>"
      ]
     },
     "metadata": {},
     "output_type": "display_data"
    },
    {
     "data": {
      "image/png": "[encoded data removed]",
      "text/plain": [
       "<Figure size 1000x300 with 2 Axes>"
      ]
     },
     "metadata": {},
     "output_type": "display_data"
    }
   ],
   "source": [
    "# 최종 Loss 그래프\n",
    "plt.figure(figsize=(6, 4))\n",
    "plt.plot(loss_history, label=\"Loss\")\n",
    "plt.title(\"Loss Over Epochs\")\n",
    "plt.xlabel(\"Epoch\")\n",
    "plt.ylabel(\"Loss\")\n",
    "plt.legend()\n",
    "plt.show()\n",
    "\n",
    "# 가중치와 절편 그래프\n",
    "fig, ax = plt.subplots(1, 2, figsize=(10,3))\n",
    "ax[0].plot(ws)\n",
    "ax[0].set_title(\"w\")\n",
    "ax[1].plot(bs)\n",
    "ax[1].set_title(\"b\")\n",
    "plt.show()"
   ]
  },
  {
   "cell_type": "code",
   "execution_count": 131,
   "metadata": {},
   "outputs": [
    {
     "name": "stdout",
     "output_type": "stream",
     "text": [
      "X_test shape: torch.Size([102, 13]), y_test shape: torch.Size([102])\n"
     ]
    }
   ],
   "source": [
    "# 데이터를 텐서로 변경\n",
    "X_test_ts = torch.FloatTensor(X_test.values)\n",
    "y_test_ts = torch.FloatTensor(y_test.values)\n",
    "\n",
    "print(f\"X_test shape: {X_test_ts.shape}, y_test shape: {y_test_ts.shape}\")\n"
   ]
  },
  {
   "cell_type": "code",
   "execution_count": 132,
   "metadata": {},
   "outputs": [
    {
     "name": "stdout",
     "output_type": "stream",
     "text": [
      "136.28585815429688\n"
     ]
    },
    {
     "name": "stderr",
     "output_type": "stream",
     "text": [
      "c:\\Users\\user\\miniconda3\\envs\\deeplearning\\Lib\\site-packages\\torch\\nn\\modules\\loss.py:610: UserWarning: Using a target size (torch.Size([102])) that is different to the input size (torch.Size([102, 1])). This will likely lead to incorrect results due to broadcasting. Please ensure they have the same size.\n",
      "  return F.mse_loss(input, target, reduction=self.reduction)\n"
     ]
    }
   ],
   "source": [
    "# 테스트 평가\n",
    "model.eval()\n",
    "\n",
    "with torch.no_grad():\n",
    "    y_test_pred = model(X_test_ts)\n",
    "    MSE = criterion(y_test_pred, y_test_ts).item()\n",
    "    \n",
    "print(MSE)\n",
    "    "
   ]
  },
  {
   "cell_type": "markdown",
   "metadata": {},
   "source": [
    "### Validation set"
   ]
  },
  {
   "cell_type": "code",
   "execution_count": 138,
   "metadata": {},
   "outputs": [
    {
     "name": "stdout",
     "output_type": "stream",
     "text": [
      "X shape: (506, 13), y shape: (506,)\n",
      "X_train shape: (404, 13), y_train shape: (404,)\n",
      "X_test shape: (102, 13), y_test shape: (102,)\n"
     ]
    }
   ],
   "source": [
    "from sklearn.model_selection import train_test_split\n",
    "\n",
    "# train test\n",
    "X_train, X_test, y_train, y_test = train_test_split(\n",
    "    X, y, test_size=0.2, random_state=42\n",
    ")\n",
    "\n",
    "print(f\"X shape: {X.shape}, y shape: {y.shape}\")\n",
    "print(f\"X_train shape: {X_train.shape}, y_train shape: {y_train.shape}\")\n",
    "print(f\"X_test shape: {X_test.shape}, y_test shape: {y_test.shape}\")\n"
   ]
  },
  {
   "cell_type": "code",
   "execution_count": 139,
   "metadata": {},
   "outputs": [
    {
     "name": "stdout",
     "output_type": "stream",
     "text": [
      "X shape: (506, 13), y shape: (506,)\n",
      "X_train shape: (363, 13), y_train shape: (363,)\n",
      "X_val shape: (41, 13), y_val shape: (41,)\n",
      "X_test shape: (102, 13), y_test shape: (102,)\n"
     ]
    }
   ],
   "source": [
    "# train validation\n",
    "X_train, X_val, y_train, y_val = train_test_split(\n",
    "    X_train, y_train, test_size=0.1, random_state=42\n",
    ")\n",
    "\n",
    "print(f\"X shape: {X.shape}, y shape: {y.shape}\")\n",
    "print(f\"X_train shape: {X_train.shape}, y_train shape: {y_train.shape}\")\n",
    "print(f\"X_val shape: {X_val.shape}, y_val shape: {y_val.shape}\")\n",
    "print(f\"X_test shape: {X_test.shape}, y_test shape: {y_test.shape}\")"
   ]
  },
  {
   "cell_type": "code",
   "execution_count": 140,
   "metadata": {},
   "outputs": [],
   "source": [
    "# validation을 적용한 학습\n",
    "X_train_ts = torch.FloatTensor(X_train.values)\n",
    "y_train_ts = torch.FloatTensor(y_train.values).unsqueeze(1)\n",
    "\n",
    "X_val_ts = torch.FloatTensor(X_val.values)\n",
    "y_val_ts = torch.FloatTensor(y_val.values).unsqueeze(1)\n",
    "\n",
    "X_test_ts = torch.FloatTensor(X_test.values)\n",
    "y_test_ts = torch.FloatTensor(y_test.values).unsqueeze(1)"
   ]
  },
  {
   "cell_type": "code",
   "execution_count": 152,
   "metadata": {},
   "outputs": [],
   "source": [
    "# 모델 가중치 초기화\n",
    "for m in model:\n",
    "    if isinstance(m, nn.Linear):\n",
    "        m.reset_parameters()"
   ]
  },
  {
   "cell_type": "code",
   "execution_count": 153,
   "metadata": {},
   "outputs": [
    {
     "name": "stdout",
     "output_type": "stream",
     "text": [
      "Epoch: 0, Train Loss:  1098.9978, Validation Loss:  1101.8518\n",
      "Epoch: 1000, Train Loss:  70.0684, Validation Loss:  42.4794\n",
      "Epoch: 2000, Train Loss:  61.6252, Validation Loss:  35.4620\n",
      "Epoch: 3000, Train Loss:  45.1598, Validation Loss:  23.8900\n",
      "Epoch: 4000, Train Loss:  26.7314, Validation Loss:  14.8415\n",
      "Epoch: 5000, Train Loss:  19.9811, Validation Loss:  13.2594\n",
      "Epoch: 6000, Train Loss:  15.3941, Validation Loss:  13.3158\n",
      "Epoch: 7000, Train Loss:  12.0158, Validation Loss:  13.0184\n",
      "Epoch: 8000, Train Loss:  9.5063, Validation Loss:  11.9062\n",
      "Epoch: 9000, Train Loss:  7.7695, Validation Loss:  10.9770\n"
     ]
    }
   ],
   "source": [
    "epochs = 10000\n",
    "criterion = nn.MSELoss()\n",
    "optimizer = optim.Adam(model.parameters(), lr=5e-5)\n",
    "\n",
    "loss_history = {\n",
    "    \"train\": [],\n",
    "    \"validation\": []\n",
    "}\n",
    "\n",
    "for epoch in range(epochs):\n",
    "    # train\n",
    "    model.train()\n",
    "    optimizer.zero_grad()  # 최적화 함수 초기화\n",
    "    yhat = model(X_train_ts)  # 예측값 계산\n",
    "    loss = criterion(yhat, y_train_ts)  # 손실율 계산\n",
    "    loss.backward()  # 역전파\n",
    "    optimizer.step()  # 최적화 함수로 파라미터 업데이트\n",
    "    loss_history[\"train\"].append(loss.item())  # loss\n",
    "    \n",
    "    # validation\n",
    "    model.eval()\n",
    "    with torch.no_grad():\n",
    "        y_val_pred = model(X_val_ts)\n",
    "        val_loss = criterion(y_val_pred, y_val_ts)\n",
    "    loss_history[\"validation\"].append(val_loss.item())  # validation loss\n",
    "    \n",
    "    # learning curve 출력\n",
    "    if epoch % 1000 == 0:\n",
    "        print(f\"Epoch: {epoch}, Train Loss: {loss.item(): .4f}, Validation Loss: {val_loss.item(): .4f}\")\n",
    "    \n"
   ]
  },
  {
   "cell_type": "code",
   "execution_count": 163,
   "metadata": {},
   "outputs": [
    {
     "data": {
      "text/plain": [
       "<Figure size 600x400 with 0 Axes>"
      ]
     },
     "metadata": {},
     "output_type": "display_data"
    },
    {
     "data": {
      "image/png": "[encoded data removed]",
      "text/plain": [
       "<Figure size 640x480 with 1 Axes>"
      ]
     },
     "metadata": {},
     "output_type": "display_data"
    }
   ],
   "source": [
    "import matplotlib.pyplot as plt\n",
    "\n",
    "# 학습 곡선 시각화\n",
    "plt.figure(figsize=(6, 4))\n",
    "\n",
    "# # Train Loss와 Validation Loss 각각 그리기\n",
    "# plt.plot(loss_history[\"train\"][1000:], label=\"Train Loss\", linewidth=2)\n",
    "# plt.plot(loss_history[\"validation\"][1000:], label=\"Validation Loss\", linewidth=2)\n",
    "loss_data = pd.DataFrame(loss_history)\n",
    "loss_data[1000:].plot()\n",
    "\n",
    "# 그래프 제목 및 라벨 설정\n",
    "plt.title(\"Loss Over Epochs\")\n",
    "plt.xlabel(\"Epoch\")\n",
    "plt.ylabel(\"Loss\")\n",
    "# plt.legend()  # 범례 추가\n",
    "plt.grid()  # 그리드 추가\n",
    "\n",
    "plt.show()\n"
   ]
  },
  {
   "cell_type": "markdown",
   "metadata": {},
   "source": [
    "### Batch를 적용한 학습"
   ]
  },
  {
   "cell_type": "code",
   "execution_count": 173,
   "metadata": {},
   "outputs": [],
   "source": [
    "# batch가 필요한 이유\n",
    "# - 데이터가 너무 크면 연산비용이 매우 커지기 때문에 데이터를 쪼개서 학습 진행"
   ]
  },
  {
   "cell_type": "code",
   "execution_count": 223,
   "metadata": {},
   "outputs": [],
   "source": [
    "# 모델 가중치 초기화\n",
    "for m in model:\n",
    "    if isinstance(m, nn.Linear):\n",
    "        m.reset_parameters()"
   ]
  },
  {
   "cell_type": "code",
   "execution_count": 224,
   "metadata": {},
   "outputs": [
    {
     "name": "stdout",
     "output_type": "stream",
     "text": [
      "X shape: (506, 13), y shape: (506,)\n",
      "X_train shape: torch.Size([363, 13]), y_train shape: torch.Size([363, 1])\n",
      "X_val shape: torch.Size([41, 13]), y_val shape: torch.Size([41, 1])\n",
      "X_test shape: torch.Size([102, 13]), y_test shape: torch.Size([102, 1])\n"
     ]
    }
   ],
   "source": [
    "print(f\"X shape: {X.shape}, y shape: {y.shape}\")\n",
    "print(f\"X_train shape: {X_train_ts.shape}, y_train shape: {y_train_ts.shape}\")\n",
    "print(f\"X_val shape: {X_val_ts.shape}, y_val shape: {y_val_ts.shape}\")\n",
    "print(f\"X_test shape: {X_test_ts.shape}, y_test shape: {y_test_ts.shape}\")"
   ]
  },
  {
   "cell_type": "code",
   "execution_count": 225,
   "metadata": {},
   "outputs": [
    {
     "name": "stdout",
     "output_type": "stream",
     "text": [
      "Epoch: 0, Train Loss: 425.5435, Validation Loss: 484.9624\n",
      "Epoch: 1000, Train Loss: 9.7517, Validation Loss: 13.5304\n",
      "Epoch: 2000, Train Loss: 4.7830, Validation Loss: 12.6131\n",
      "Epoch: 3000, Train Loss: 3.3776, Validation Loss: 11.1265\n",
      "Epoch: 4000, Train Loss: 2.7708, Validation Loss: 9.8789\n",
      "Epoch: 5000, Train Loss: 2.4990, Validation Loss: 9.1120\n",
      "Epoch: 6000, Train Loss: 2.2052, Validation Loss: 8.6044\n",
      "Epoch: 7000, Train Loss: 2.2017, Validation Loss: 8.9474\n"
     ]
    }
   ],
   "source": [
    "epochs = 8000\n",
    "batch_size = 32\n",
    "batch_num = X_train_ts.shape[0] // batch_size\n",
    "val_batch_num = X_val_ts.shape[0] // batch_size\n",
    "\n",
    "criterion = nn.MSELoss()\n",
    "optimizer = optim.Adam(model.parameters(), lr=5e-5)\n",
    "\n",
    "loss_history = {\n",
    "    \"train\": [],\n",
    "    \"validation\": []\n",
    "}\n",
    "\n",
    "for epoch in range(epochs):\n",
    "    # train\n",
    "    model.train()\n",
    "    loss_tmp = []\n",
    "    for i in range(batch_num - 1):\n",
    "        start = i * batch_size\n",
    "        end = start + batch_size\n",
    "        X_batch = X_train_ts[start:end]\n",
    "        y_batch = y_train_ts[start:end]\n",
    "        \n",
    "        optimizer.zero_grad()  # 최적화 함수 초기화\n",
    "        yhat = model(X_batch)  # 예측값 계산\n",
    "        loss = criterion(yhat, y_batch)  # 손실율 계산\n",
    "        loss.backward()  # 역전파\n",
    "        optimizer.step()  # 최적화 함수로 파라미터 업데이트\n",
    "        loss_tmp.append(loss.item())\n",
    "        \n",
    "    loss_history[\"train\"].append(sum(loss_tmp) / len(loss_tmp))  # loss\n",
    "    \n",
    "    # validation\n",
    "    model.eval()\n",
    "    val_loss_tmp = []\n",
    "    for i in range(val_batch_num - 1):\n",
    "        start = i * batch_size\n",
    "        end = start + batch_size\n",
    "        X_batch = X_val_ts[start:end]\n",
    "        y_batch = y_val_ts[start:end]\n",
    "        with torch.no_grad():\n",
    "            y_val_pred = model(X_batch)\n",
    "            val_loss = criterion(y_val_pred, y_batch)\n",
    "        val_loss_tmp.append(val_loss.item())\n",
    "        \n",
    "    loss_history[\"validation\"].append(sum(val_loss_tmp) / len(val_loss_tmp))  # validation loss\n",
    "    \n",
    "    # learning curve 출력\n",
    "    if epoch % 1000 == 0:\n",
    "        print(f\"Epoch: {epoch}, Train Loss: {loss.item():.4f}, Validation Loss: {val_loss.item():.4f}\")\n",
    "    \n"
   ]
  },
  {
   "cell_type": "code",
   "execution_count": 226,
   "metadata": {},
   "outputs": [
    {
     "data": {
      "text/plain": [
       "<Figure size 600x400 with 0 Axes>"
      ]
     },
     "metadata": {},
     "output_type": "display_data"
    },
    {
     "data": {
      "image/png": "[encoded data removed]",
      "text/plain": [
       "<Figure size 640x480 with 1 Axes>"
      ]
     },
     "metadata": {},
     "output_type": "display_data"
    }
   ],
   "source": [
    "import matplotlib.pyplot as plt\n",
    "\n",
    "# 학습 곡선 시각화\n",
    "plt.figure(figsize=(6, 4))\n",
    "\n",
    "# Train Loss와 Validation Loss 각각 그리기\n",
    "loss_data = pd.DataFrame(loss_history)\n",
    "loss_data[100:].plot()\n",
    "\n",
    "# 그래프 제목 및 라벨 설정\n",
    "plt.title(\"Loss Over Epochs\")\n",
    "plt.xlabel(\"Epoch\")\n",
    "plt.ylabel(\"Loss\")\n",
    "plt.grid()  # 그리드 추가\n",
    "plt.show()\n"
   ]
  },
  {
   "cell_type": "code",
   "execution_count": 227,
   "metadata": {},
   "outputs": [
    {
     "name": "stdout",
     "output_type": "stream",
     "text": [
      "12.17562484741211\n"
     ]
    }
   ],
   "source": [
    "# 테스트 평가\n",
    "model.eval()\n",
    "\n",
    "with torch.no_grad():\n",
    "    y_test_pred = model(X_test_ts)\n",
    "    MSE = criterion(y_test_pred, y_test_ts).item()\n",
    "    \n",
    "print(MSE)"
   ]
  },
  {
   "cell_type": "markdown",
   "metadata": {},
   "source": [
    "### cuda 사용"
   ]
  },
  {
   "cell_type": "code",
   "execution_count": 240,
   "metadata": {},
   "outputs": [
    {
     "data": {
      "text/plain": [
       "True"
      ]
     },
     "execution_count": 240,
     "metadata": {},
     "output_type": "execute_result"
    }
   ],
   "source": [
    "torch.cuda.is_available()"
   ]
  },
  {
   "cell_type": "code",
   "execution_count": 248,
   "metadata": {},
   "outputs": [
    {
     "name": "stdout",
     "output_type": "stream",
     "text": [
      "사용 가능한 GPU 개수: 1\n",
      "GPU 0: NVIDIA GeForce RTX 4070 Laptop GPU\n"
     ]
    }
   ],
   "source": [
    "import torch\n",
    "\n",
    "# 사용 가능한 GPU 개수 확인\n",
    "print(f\"사용 가능한 GPU 개수: {torch.cuda.device_count()}\")\n",
    "\n",
    "# 각 GPU 이름 확인\n",
    "for i in range(torch.cuda.device_count()):\n",
    "    print(f\"GPU {i}: {torch.cuda.get_device_name(i)}\")\n"
   ]
  },
  {
   "cell_type": "code",
   "execution_count": 259,
   "metadata": {},
   "outputs": [],
   "source": [
    "device = \"cuda\" if torch.cuda.is_available() else \"cpu\"\n",
    "\n",
    "from torch import nn, optim\n",
    "import matplotlib.pyplot as plt\n",
    "import numpy as np\n",
    "\n",
    "# 모델 생성\n",
    "model = nn.Sequential(\n",
    "    nn.Linear(13, 64),\n",
    "    nn.ReLU(),\n",
    "    nn.Linear(64, 32),\n",
    "    nn.ReLU(),\n",
    "    nn.Linear(32, 32),\n",
    "    nn.ReLU(),\n",
    "    nn.Linear(32, 1)\n",
    ")\n",
    "\n",
    "model = model.to(device)"
   ]
  },
  {
   "cell_type": "code",
   "execution_count": 260,
   "metadata": {},
   "outputs": [
    {
     "name": "stdout",
     "output_type": "stream",
     "text": [
      "X shape: (506, 13), y shape: (506,)\n",
      "X_train shape: torch.Size([323, 13]), y_train shape: torch.Size([323, 1])\n",
      "X_val shape: torch.Size([81, 13]), y_val shape: torch.Size([81, 1])\n",
      "X_test shape: torch.Size([102, 13]), y_test shape: torch.Size([102, 1])\n"
     ]
    }
   ],
   "source": [
    "\n",
    "from sklearn.model_selection import train_test_split\n",
    "\n",
    "# train test\n",
    "X_train, X_test, y_train, y_test = train_test_split(\n",
    "    X, y, test_size=0.2, random_state=42\n",
    ")\n",
    "# train validation\n",
    "X_train, X_val, y_train, y_val = train_test_split(\n",
    "    X_train, y_train, test_size=0.2, random_state=42\n",
    ")\n",
    "\n",
    "X_train_ts = torch.FloatTensor(X_train.values)\n",
    "y_train_ts = torch.FloatTensor(y_train.values).unsqueeze(1)\n",
    "\n",
    "X_val_ts = torch.FloatTensor(X_val.values)\n",
    "y_val_ts = torch.FloatTensor(y_val.values).unsqueeze(1)\n",
    "\n",
    "X_test_ts = torch.FloatTensor(X_test.values)\n",
    "y_test_ts = torch.FloatTensor(y_test.values).unsqueeze(1)\n",
    "\n",
    "print(f\"X shape: {X.shape}, y shape: {y.shape}\")\n",
    "print(f\"X_train shape: {X_train_ts.shape}, y_train shape: {y_train_ts.shape}\")\n",
    "print(f\"X_val shape: {X_val_ts.shape}, y_val shape: {y_val_ts.shape}\")\n",
    "print(f\"X_test shape: {X_test_ts.shape}, y_test shape: {y_test_ts.shape}\")\n"
   ]
  },
  {
   "cell_type": "code",
   "execution_count": 261,
   "metadata": {},
   "outputs": [
    {
     "name": "stdout",
     "output_type": "stream",
     "text": [
      "Epoch: 0, Train Loss: 379.6535, Validation Loss: 606.8868\n",
      "Epoch: 100, Train Loss: 24.6172, Validation Loss: 86.2176\n",
      "Epoch: 200, Train Loss: 23.6020, Validation Loss: 79.5572\n",
      "Epoch: 300, Train Loss: 20.3797, Validation Loss: 68.7481\n",
      "Epoch: 400, Train Loss: 16.3239, Validation Loss: 56.1633\n",
      "Epoch: 500, Train Loss: 12.6180, Validation Loss: 44.8082\n",
      "Epoch: 600, Train Loss: 11.6877, Validation Loss: 38.4078\n",
      "Epoch: 700, Train Loss: 11.7446, Validation Loss: 33.9478\n",
      "Epoch: 800, Train Loss: 10.2801, Validation Loss: 32.3698\n",
      "Epoch: 900, Train Loss: 9.0306, Validation Loss: 31.3134\n"
     ]
    }
   ],
   "source": [
    "epochs = 1000\n",
    "batch_size = 20\n",
    "batch_num = X_train_ts.shape[0] // batch_size\n",
    "val_batch_num = X_val_ts.shape[0] // batch_size\n",
    "\n",
    "criterion = nn.MSELoss()\n",
    "optimizer = optim.Adam(model.parameters(), lr=5e-5)\n",
    "\n",
    "loss_history = {\n",
    "    \"train\": [],\n",
    "    \"validation\": []\n",
    "}\n",
    "\n",
    "for epoch in range(epochs):\n",
    "    # train\n",
    "    model.train()\n",
    "    loss_tmp = []\n",
    "    for i in range(batch_num - 1):\n",
    "        start = i * batch_size\n",
    "        end = start + batch_size\n",
    "        X_batch = X_train_ts[start:end].to(device)\n",
    "        y_batch = y_train_ts[start:end].to(device)\n",
    "        \n",
    "        optimizer.zero_grad()  # 최적화 함수 초기화\n",
    "        yhat = model(X_batch)  # 예측값 계산\n",
    "        loss = criterion(yhat, y_batch)  # 손실율 계산\n",
    "        loss.backward()  # 역전파\n",
    "        optimizer.step()  # 최적화 함수로 파라미터 업데이트\n",
    "        loss_tmp.append(loss.item())\n",
    "        \n",
    "    loss_history[\"train\"].append(sum(loss_tmp) / len(loss_tmp))  # loss\n",
    "    \n",
    "    # validation\n",
    "    model.eval()\n",
    "    val_loss_tmp = []\n",
    "    for i in range(val_batch_num - 1):\n",
    "        start = i * batch_size\n",
    "        end = start + batch_size\n",
    "        X_batch = X_val_ts[start:end].to(device)\n",
    "        y_batch = y_val_ts[start:end].to(device)\n",
    "        with torch.no_grad():\n",
    "            y_val_pred = model(X_batch)\n",
    "            val_loss = criterion(y_val_pred, y_batch)\n",
    "        val_loss_tmp.append(val_loss.item())\n",
    "        \n",
    "    loss_history[\"validation\"].append(sum(val_loss_tmp) / len(val_loss_tmp))  # validation loss\n",
    "    \n",
    "    # learning curve 출력\n",
    "    if epoch % 100 == 0:\n",
    "        print(f\"Epoch: {epoch}, Train Loss: {loss.item():.4f}, Validation Loss: {val_loss.item():.4f}\")\n",
    "    \n"
   ]
  },
  {
   "cell_type": "code",
   "execution_count": 262,
   "metadata": {},
   "outputs": [
    {
     "name": "stdout",
     "output_type": "stream",
     "text": [
      "----------------------------------------------------------------\n",
      "        Layer (type)               Output Shape         Param #\n",
      "================================================================\n",
      "            Linear-1               [-1, 32, 64]             896\n",
      "              ReLU-2               [-1, 32, 64]               0\n",
      "            Linear-3               [-1, 32, 32]           2,080\n",
      "              ReLU-4               [-1, 32, 32]               0\n",
      "            Linear-5               [-1, 32, 32]           1,056\n",
      "              ReLU-6               [-1, 32, 32]               0\n",
      "            Linear-7                [-1, 32, 1]              33\n",
      "================================================================\n",
      "Total params: 4,065\n",
      "Trainable params: 4,065\n",
      "Non-trainable params: 0\n",
      "----------------------------------------------------------------\n",
      "Input size (MB): 0.00\n",
      "Forward/backward pass size (MB): 0.06\n",
      "Params size (MB): 0.02\n",
      "Estimated Total Size (MB): 0.08\n",
      "----------------------------------------------------------------\n"
     ]
    }
   ],
   "source": [
    "from torchsummary import summary\n",
    "summary(model, input_size=(32,13))"
   ]
  },
  {
   "cell_type": "code",
   "execution_count": 269,
   "metadata": {},
   "outputs": [
    {
     "name": "stdout",
     "output_type": "stream",
     "text": [
      "896\n",
      "2080\n",
      "1056\n",
      "33\n"
     ]
    }
   ],
   "source": [
    "# 파라미터 개수 확인해보기\n",
    "print((13 + 1) * 64)\n",
    "print((64 + 1) * 32)\n",
    "print((32 + 1) * 32)\n",
    "print((32 + 1) * 1)\n"
   ]
  },
  {
   "cell_type": "code",
   "execution_count": 270,
   "metadata": {},
   "outputs": [
    {
     "data": {
      "text/plain": [
       "BostonNet(\n",
       "  (layer1): Linear(in_features=13, out_features=64, bias=True)\n",
       "  (layer2): Linear(in_features=64, out_features=32, bias=True)\n",
       "  (layer3): Linear(in_features=32, out_features=1, bias=True)\n",
       "  (relu): ReLU()\n",
       ")"
      ]
     },
     "execution_count": 270,
     "metadata": {},
     "output_type": "execute_result"
    }
   ],
   "source": [
    "# 클래스 활용\n",
    "\n",
    "class BostonNet(nn.Module):\n",
    "    def __init__(self):\n",
    "        super().__init__()\n",
    "        self.layer1 = nn.Linear(13, 64)\n",
    "        self.layer2 = nn.Linear(64, 32)\n",
    "        self.layer3 = nn.Linear(32, 1)\n",
    "        self.relu = nn.ReLU()\n",
    "        \n",
    "    def forward(self, x):\n",
    "        x = self.layer1(x)\n",
    "        x = self.relu(x)\n",
    "        x = self.layer2(x)\n",
    "        x = self.relu(x)\n",
    "        x = self.layer3(x)\n",
    "        return X\n",
    "    \n",
    "\n",
    "model = BostonNet()\n",
    "model"
   ]
  },
  {
   "cell_type": "code",
   "execution_count": null,
   "metadata": {},
   "outputs": [],
   "source": []
  }
 ],
 "metadata": {
  "kernelspec": {
   "display_name": "deeplearning",
   "language": "python",
   "name": "python3"
  },
  "language_info": {
   "codemirror_mode": {
    "name": "ipython",
    "version": 3
   },
   "file_extension": ".py",
   "mimetype": "text/x-python",
   "name": "python",
   "nbconvert_exporter": "python",
   "pygments_lexer": "ipython3",
   "version": "3.11.11"
  }
 },
 "nbformat": 4,
 "nbformat_minor": 2
}
