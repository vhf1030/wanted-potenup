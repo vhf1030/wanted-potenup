{
 "cells": [
  {
   "cell_type": "code",
   "execution_count": 1,
   "metadata": {},
   "outputs": [
    {
     "data": {
      "text/plain": [
       "True"
      ]
     },
     "execution_count": 1,
     "metadata": {},
     "output_type": "execute_result"
    }
   ],
   "source": [
    "from dotenv import load_dotenv\n",
    "load_dotenv()"
   ]
  },
  {
   "cell_type": "markdown",
   "metadata": {},
   "source": [
    "### retriever 생성 및 툴로 변환"
   ]
  },
  {
   "cell_type": "code",
   "execution_count": 2,
   "metadata": {},
   "outputs": [],
   "source": [
    "from langchain.text_splitter import RecursiveCharacterTextSplitter\n",
    "from langchain_community.vectorstores import FAISS\n",
    "from langchain_openai import OpenAIEmbeddings\n",
    "from langchain.document_loaders import PyPDFLoader\n",
    "\n",
    "loader = PyPDFLoader('data/car.pdf')\n",
    "\n",
    "text_splitter = RecursiveCharacterTextSplitter(chunk_size=1000, chunk_overlap=100)\n",
    "\n",
    "split_docs = loader.load_and_split(text_splitter)\n",
    "\n",
    "embedding = OpenAIEmbeddings()\n",
    "\n",
    "db = FAISS.from_documents(split_docs, embedding)\n",
    "\n",
    "retriever = db.as_retriever()\n",
    "\n"
   ]
  },
  {
   "cell_type": "code",
   "execution_count": 4,
   "metadata": {},
   "outputs": [],
   "source": [
    "from langchain.tools.retriever import create_retriever_tool  # 검색기를 툴로 만드는 기능\n",
    "\n",
    "retriever_tool = create_retriever_tool(\n",
    "    retriever,\n",
    "    name='car_pdf_search',\n",
    "    description='use this tool to search car information from the PDF document'\n",
    ")"
   ]
  },
  {
   "cell_type": "markdown",
   "metadata": {},
   "source": [
    "### 다른 툴과 연동한 Agent 생성"
   ]
  },
  {
   "cell_type": "code",
   "execution_count": 5,
   "metadata": {},
   "outputs": [],
   "source": [
    "from langchain_community.tools.tavily_search import TavilySearchResults\n",
    "\n",
    "search_tool = TavilySearchResults()"
   ]
  },
  {
   "cell_type": "code",
   "execution_count": 8,
   "metadata": {},
   "outputs": [],
   "source": [
    "from langchain_openai import ChatOpenAI\n",
    "\n",
    "llm = ChatOpenAI(model_name='gpt-4o-mini')"
   ]
  },
  {
   "cell_type": "code",
   "execution_count": 9,
   "metadata": {},
   "outputs": [],
   "source": [
    "tools = [search_tool, retriever_tool]"
   ]
  },
  {
   "cell_type": "code",
   "execution_count": 10,
   "metadata": {},
   "outputs": [],
   "source": [
    "from langchain_core.prompts import ChatPromptTemplate\n",
    "prompt = ChatPromptTemplate.from_messages(\n",
    "    [\n",
    "        (\n",
    "            \"system\",\n",
    "            \"You are a helpful assistant.\"\n",
    "            \"Make sure to use the 'car_pdf_search' toll for searching car information from the PDF document.\"\n",
    "            \"If you can't find the information from the PDF document, use the 'search_tool' tool for searching information from the web.\"\n",
    "        ),\n",
    "        (\n",
    "            \"placeholder\",\n",
    "            \"{chat_history}\"\n",
    "        ),\n",
    "        (\n",
    "            \"human\",\n",
    "            \"{input}\"\n",
    "        ),\n",
    "        (\n",
    "            \"placeholder\",\n",
    "            \"{agent_scratchpad}\"\n",
    "        ),\n",
    "    ]\n",
    ")\n"
   ]
  },
  {
   "cell_type": "code",
   "execution_count": 11,
   "metadata": {},
   "outputs": [],
   "source": [
    "from langchain.agents import create_tool_calling_agent\n",
    "\n",
    "agent = create_tool_calling_agent(llm, tools, prompt)"
   ]
  },
  {
   "cell_type": "code",
   "execution_count": 12,
   "metadata": {},
   "outputs": [
    {
     "name": "stdout",
     "output_type": "stream",
     "text": [
      "\n",
      "\n",
      "\u001b[1m> Entering new AgentExecutor chain...\u001b[0m\n",
      "\u001b[32;1m\u001b[1;3m\n",
      "Invoking: `tavily_search_results_json` with `{'query': '브래이크패드 교체 시기'}`\n",
      "\n",
      "\n",
      "\u001b[0m\u001b[36;1m\u001b[1;3m[{'title': '자동차 브레이크 라이닝 vs 패드, 교체시기 및 증상, 비용까지!', 'url': 'https://blog.naver.com/commodore11/223734722497', 'content': '브레이크 패드의 교체 주기는 2만km가 일반적이라고 할 수 있습니다. 참고로 브레이크 라이닝은 드럼 브레이크 시스템에서 주로 사용이 되지만 디스크', 'score': 0.8585411}, {'title': '브레이크 패드 교환주기? 라이닝 교환주기? 제동장치에 대한 모든 것!', 'url': 'https://makeittothee.tistory.com/entry/%EB%B8%8C%EB%A0%88%EC%9D%B4%ED%81%AC-%ED%8C%A8%EB%93%9C-%EA%B5%90%ED%99%98%EC%A3%BC%EA%B8%B0-%EB%9D%BC%EC%9D%B4%EB%8B%9D-%EA%B5%90%ED%99%98%EC%A3%BC%EA%B8%B0-%EC%A0%9C%EB%8F%99%EC%9E%A5%EC%B9%98%EC%97%90-%EB%8C%80%ED%95%9C-%EB%AA%A8%EB%93%A0-%EA%B2%83', 'content': '대체적으로 브레이크 패드는 패드 두께 3mm 이하일 때 교체를 하며, 약 20,000km 주행거리를 교체주기로 봅니다. 그리고 라이닝의 경우 라이닝 두께 1mm', 'score': 0.7142662362500001}, {'title': '브레이크 패드 라이닝 교체 시기 비용 직접 확인했습니다 feat.쏘나타', 'url': 'https://m.blog.naver.com/whdgus9640/223195880194', 'content': '보통 브레이크 라이닝은 6-7만 km, 브레이크 패드는 3-4만 km 주기로 교체를 하라고 말합니다. 이 정도만 간단히 알아도 자동차 관리에 큰 문제는 없는', 'score': 0.610373475}, {'title': '(업데이트) 브레이크 패드 교환 시기 - 마일모아 게시판', 'url': 'https://www.milemoa.com/bbs/board/5442690', 'content': '브레이크 액은 공기중 수분과 만나면 변하기 때문에 2-3년에 한번씩 바꾸는게 좋습니다만, 지금 브레이크 페달을 밟았을 때 밀리는 느낌이 없으시면 그냥', 'score': 0.478594625}, {'title': '브레이크패드 및 디스크로터 - 오일플레이스 동탄본점', 'url': 'https://oilplace1.modoo.at/?link=4gr1p071', 'content': '일반적으로 브레이크패드 점검은 10,000km에 한번씩(엔진오일 교체할때마다) 점검을 해주긴 하지만, 대부분 앞브레이크패드는 6만km마다 뒷브레이크패드는 13만km 마다', 'score': 0.3604498}]\u001b[0m\u001b[32;1m\u001b[1;3m브레이크 패드의 일반적인 교체 주기는 다음과 같습니다:\n",
      "\n",
      "- 보통 20,000km를 교체 주기로 보며, 패드 두께가 3mm 이하로 감소했을 때 교체하는 것이 좋습니다.\n",
      "- 일부 출처에서는 30,000km에서 40,000km 주기로 교체하는 것을 권장하기도 합니다.\n",
      "\n",
      "따라서 브레이크 패드는 보통 2만 km에서 4만 km 사이에 교체해주는 것이 바람직합니다. 추가적으로 정기적으로 10,000km마다 점검을 하는 것이 좋습니다. \n",
      "\n",
      "더 자세한 내용은 [이 링크](https://blog.naver.com/commodore11/223734722497)에서 확인할 수 있습니다.\u001b[0m\n",
      "\n",
      "\u001b[1m> Finished chain.\u001b[0m\n"
     ]
    },
    {
     "data": {
      "text/plain": [
       "{'input': '브래이크패드 교체 시기는?',\n",
       " 'output': '브레이크 패드의 일반적인 교체 주기는 다음과 같습니다:\\n\\n- 보통 20,000km를 교체 주기로 보며, 패드 두께가 3mm 이하로 감소했을 때 교체하는 것이 좋습니다.\\n- 일부 출처에서는 30,000km에서 40,000km 주기로 교체하는 것을 권장하기도 합니다.\\n\\n따라서 브레이크 패드는 보통 2만 km에서 4만 km 사이에 교체해주는 것이 바람직합니다. 추가적으로 정기적으로 10,000km마다 점검을 하는 것이 좋습니다. \\n\\n더 자세한 내용은 [이 링크](https://blog.naver.com/commodore11/223734722497)에서 확인할 수 있습니다.'}"
      ]
     },
     "execution_count": 12,
     "metadata": {},
     "output_type": "execute_result"
    }
   ],
   "source": [
    "from langchain.agents import AgentExecutor\n",
    "\n",
    "agent_exe = AgentExecutor(\n",
    "    agent=agent,\n",
    "    tools=tools,\n",
    "    verbose=True\n",
    ")\n",
    "\n",
    "result = agent_exe.invoke({'input': '브래이크패드 교체 시기는?'})\n",
    "result\n",
    "\n"
   ]
  },
  {
   "cell_type": "code",
   "execution_count": 13,
   "metadata": {},
   "outputs": [
    {
     "name": "stdout",
     "output_type": "stream",
     "text": [
      "\n",
      "\n",
      "\u001b[1m> Entering new AgentExecutor chain...\u001b[0m\n",
      "\u001b[32;1m\u001b[1;3m\n",
      "Invoking: `car_pdf_search` with `{'query': '브래이크패드 교체 시기'}`\n",
      "\n",
      "\n",
      "\u001b[0m\u001b[33;1m\u001b[1;3m시동 및 주행\n",
      "6-16\n",
      "다음 지시에 따라 차량을 안전하게 제동하십시\n",
      "오.\n",
      "ӝ\n",
      " \n",
      "날씨나 주행 조건에 따라 브레이크 페달을 밟을\n",
      "때 일시적인 소음이 발생할 수 있지만, 이는 정\n",
      "상적인 현상입니다.\n",
      " \n",
      "• 브레이크 페달을 여러 번 나누어 밟으십시\n",
      "오.\n",
      "- 브레이크를 2-3회에 걸쳐 나누어 밟으면\n",
      "브레이크 성능이 향상되며, 후방 차량에게\n",
      "제동 상황을 미리 알려 추돌 사고를 방지\n",
      "할 수 있습니다.\n",
      "• 감속이나 정차에 필요한 정도의 적절한 힘으\n",
      "로 브레이크 페달을 밟으십시오.\n",
      "• 내리막길에서 브레이크 페달을 장시간 밟으\n",
      "면 제동 성능이 저하되므로 반드시 엔진 브\n",
      "레이크와 함께 사용하십시오. \n",
      "• 브레이크에 제설제가 묻은 경우, 안전한 장\n",
      "소에서 브레이크를 밟아 브레이크 디스크와\n",
      "패드에 묻은 제설제를 제거하십시오. 제설제\n",
      "로 인해 소음이 발생하거나 타이어가 비정상\n",
      "적으로 마모될 수 있습니다.\n",
      "ӝ\n",
      " \n",
      "엔진 브레이크: 물리적인 브레이크는 아니지만\n",
      "엔진에 브레이크 작용을 하게 하는 것입니다.\n",
      "엔진의 압축 압력으로 바퀴의 회전을 억제해 제\n",
      "동력을 얻습니다.\n",
      " \n",
      "디스크 브레이크가 마모된 경우\n",
      "안전한 주행을 위해 정기적으로 브레이크 패드\n",
      "의 마모 상태를 점검하십시오.\n",
      "҃Ҋ\n",
      " \n",
      "• 브레이크 패드가 마모된 상태로 차량을 계속\n",
      "주행하지 마십시오. 차량의 제동 성능이 떨\n",
      "어져 심각한 사고가 발생할 수 있습니다.\n",
      "• 브레이크 패드 교체 시 디스크 안쪽과 바깥\n",
      "쪽의 패드를 동시에 교체하십시오.\n",
      " \n",
      "• 디스크 브레이크가 마모되어 교체가 필요하\n",
      "면 브레이크 페달을 밟을 때 쇠가 긁히는 듯\n",
      "한 소음이 발생합니다.\n",
      "• 필요한 경우 당사 직영 하이테크센터나 블루\n",
      "핸즈에서 브레이크 패드 상태를 점검하고 교\n",
      "체하십시오.\n",
      "주차 브레이크(EPB)\n",
      "주차 브레이크(Electronic Parking Brake,\n",
      "EPB)는 주차 중 차량이 이동하지 못하도록 바\n",
      "퀴를 고정하는 데 사용됩니다.\n",
      "҃Ҋ\n",
      " \n",
      "• 차량의 사용법을 모르는 사람이나 유아, 어\n",
      "린이, 애완동물이 EPB 스위치를 만지지 않\n",
      "도록 하십시오.\n",
      "\n",
      "차량의 유지보수\n",
      "9-30\n",
      "• 타이어를 교체하거나 위치를 교환할 때 브레\n",
      "이크 디스크와 브레이크 패드를 함께 점검하\n",
      "십시오.\n",
      "• 전륜과 후륜에 사양이 동일한 타이어 및 휠\n",
      "을 장착하십시오.\n",
      "• 비상시 예비 타이어를 장착한 경우, 80\n",
      "km/h 이하로만 주행하고, 최대한 빨리 규격\n",
      "타이어 및 휠로 교체하십시오.\n",
      " \n",
      "휠 교체하기\n",
      "출고 시 제공된 휠과 동일한 사양의 휠을 장착\n",
      "하십시오.\n",
      " ઱੄\n",
      " \n",
      "사양이 다른 휠을 장착하지 마십시오. 휠과 베\n",
      "어링의 수명이 단축될 수 있으며, 다음과 같은\n",
      "요소에도 영향을 미칠 수 있습니다.\n",
      "• 브레이크와 타이어의 간격, 차체와 타이어의\n",
      "간격, 타이어 체인 간격\n",
      "• 속도계 및 거리계 정밀도\n",
      "• 전조등 각도 및 범퍼 높이\n",
      " \n",
      "ӝ\n",
      " \n",
      "• 휠 사양은 다음과 같이 표시됩니다.\n",
      "예시: 8.0J X 18\n",
      "- 8.0: 휠폭(인치)\n",
      "- J: 휠 형상\n",
      "- 18: 휠 지름(인치)\n",
      "• 실제 휠 사양은 '타이어 및 휠 규격'을 참고하\n",
      "십시오.\n",
      " \n",
      "타이어 위치 교환하기\n",
      "2C_TireRotation\n",
      "정기 점검 주기에 따라 타이어 위치를 교환하면\n",
      "타이어의 편마모를 방지할 수 있습니다.\n",
      "• 위치를 교환할 때 타이어의 비정상적인 마모\n",
      "또는 손상 여부를 점검하십시오.\n",
      "• 타이어 위치를 교환하고 일정 거리를 주행한\n",
      "후 휠 너트의 조임 상태를 점검하십시오.\n",
      "ӝ\n",
      " \n",
      "타이어의 비정상적인 마모는 대개 부적절한 공\n",
      "기압, 휠 얼라인먼트 이상, 휠의 불균형, 급제\n",
      "동 등으로 인해 발생합니다.\n",
      " \n",
      "0LX3.book  Page 30\n",
      "\n",
      "6\n",
      "6-15\n",
      "• 어떤 변속 단에서든 브레이크 페달을 밟은\n",
      "상태에서 가속 페달을 밟지 마십시오.\n",
      "• 주정차 중 엔진을 지나치게 고속으로 회전시\n",
      "키지 마십시오.\n",
      "출발할 때\n",
      "҃Ҋ\n",
      " \n",
      "기어를 'N'(중립) 또는 'P'(주차) 상태에서 다른\n",
      "단으로 변속할 때는 반드시 브레이크 페달을 밟\n",
      "은 상태에서 변속하십시오.\n",
      "가속 페달을 밟은 상태로 변속하면 차량이 갑자\n",
      "기 움직여 사고가 날 수 있습니다.\n",
      " \n",
      "1. 브레이크 페달을 밟은 상태에서 변속 다이얼\n",
      "을 돌려 변속하십시오.\n",
      "2. 브레이크 페달에서 발을 떼면서 차량이 서서\n",
      "히 움직이는 것을 확인하고 가속 페달을 천\n",
      "천히 밟아 출발하십시오.\n",
      "기어가 'D'(주행), 'R'(후진) 상태이거나 패들 시\n",
      "프트로 î, ï 변속 시 가속 페달을 밟지 않아도\n",
      "차량이 전진하거나 후진할 수 있습니다. 특히\n",
      "엔진 회전수가 높을 때(외부 온도에 따라 약\n",
      "1,500~2,000 RPM 이상)는 차량이 갑자기 움\n",
      "직일 수 있습니다.\n",
      "주행 중 급가속을 원할 때\n",
      "'D'(주행) 상태에서 가속 페달을 끝까지 밟으면\n",
      "저단 변속하여 급가속하게 됩니다. 다른 차량\n",
      "을 추월할 때는 추돌을 방지하기 위해 앞차와의\n",
      "거리를 충분히 확보하십시오.\n",
      "정지했다가 언덕길로 주행하고자 할 때\n",
      "정지했다가 오르막길로 올라가려면 브레이크\n",
      "페달을 밟은 상태에서 적재량과 경사도에 따라\n",
      "기어를 'D'(주행) 또는 수동 변속 모드의 1단 상\n",
      "태에 놓은 후 주차 브레이크를 해제하십시오.\n",
      "브레이크 페달에서 발을 뗀 후 가속 페달을 서\n",
      "서히 밟으십시오.\n",
      "• 급한 오르막길에서 정차 후에 출발하면 차량\n",
      "이 뒤로 밀릴 수 있습니다.\n",
      "제동 장치 사용하기\n",
      "브레이크\n",
      "차량에 장착된 디스크 브레이크는 주행 중 차량\n",
      "을 감속하거나 제동하는 데 사용됩니다.\n",
      "바람직한 브레이크 사용법\n",
      "҃Ҋ\n",
      " \n",
      "• 주행 전 브레이크 페달 및 가속 페달의 위치\n",
      "를 확인하고 정확히 숙지하십시오.\n",
      "- 브레이크 페달 대신 가속 페달을 밟는 경\n",
      "우 심각한 사고가 발생해 재산 손실 및 인\n",
      "명피해가 발생할 수 있습니다.\n",
      "\n",
      "차량의 유지보수\n",
      "9-8\n",
      "*1:교체 주기와는 별도로 트랜스퍼 케이스 또는 디퍼렌셜이 물에 잠긴 경우는 즉시 오일을 교체하십시오.\n",
      "드라이브 샤프트와 부트 ○\n",
      "휠 너트의 조임상태 ○\n",
      "배기 파이프(머플러) 청\n",
      "소 및 조임 상태 ○\n",
      "브레이크 페달 유격 상태에 따라 수시 점검 및 수정\n",
      "현가 장치 점검\n",
      "(볼트 및 너트 조임 토크) ○\n",
      "로워암 볼 조인트 점검 ○\n",
      "도어 체커, 각 잠금장치, \n",
      "각 힌지부 점검주유○\n",
      "앞 바퀴 정렬상태 상태에 따라 수시 점검 및 수정\n",
      "공조 장치용 에어필터 매 12개월마다 점검 \n",
      "에어컨 냉매 점검 매 12개월마다 점검 \n",
      "작동 상태 점검 매 12개월마다 점검 \n",
      "리어 디퍼런셜 오일\n",
      "(4WD)*1 매 60,000km 또는 48개월마다 점검 \n",
      "트랜스퍼 케이스 오일\n",
      "(4WD)*1 매 60,000km 또는 48개월마다 점검\n",
      "프로펠러 샤프트 청소, \n",
      "그리스 점검 및 주유, \n",
      "볼트 재조임\n",
      "○\n",
      "점검항목\n",
      "점검 주기(km) \n",
      "일일 \n",
      "점검\n",
      "매 1\n",
      "만\n",
      "매 2\n",
      "만\n",
      "매 3\n",
      "만\n",
      "매 4\n",
      "만\n",
      "매 6\n",
      "만 \n",
      "매 8\n",
      "만\n",
      "매 10\n",
      "만\n",
      "매 12\n",
      "만\n",
      "매 14\n",
      "만\n",
      "0LX3.book  Page 8\u001b[0m\u001b[32;1m\u001b[1;3m브레이크 패드의 교체에 대한 정보는 다음과 같습니다:\n",
      "\n",
      "- 브레이크 패드가 마모된 상태로 차량을 계속 주행하지 말아야 하며, 이는 차량의 제동 성능을 떨어뜨려 심각한 사고를 발생시킬 수 있습니다.\n",
      "- 브레이크 패드 교체 시, 디스크 안쪽과 바깥쪽의 패드를 동시에 교체하는 것이 중요합니다.\n",
      "- 디스크 브레이크가 마모되면, 브레이크 페달을 밟을 때 쇠가 긁히는 소음이 발생할 수 있으므로 주의해야 합니다.\n",
      "- 필요시, 직영 하이테크센터나 블루 핸즈에서 브레이크 패드 상태를 점검하고 교체할 수 있습니다.\n",
      "\n",
      "정기적으로 브레이크 패드의 마모 상태를 점검하는 것이 매우 중요합니다.\u001b[0m\n",
      "\n",
      "\u001b[1m> Finished chain.\u001b[0m\n"
     ]
    },
    {
     "data": {
      "text/plain": [
       "{'input': '브래이크패드 교체 시기 pdf에서 찾아줘',\n",
       " 'output': '브레이크 패드의 교체에 대한 정보는 다음과 같습니다:\\n\\n- 브레이크 패드가 마모된 상태로 차량을 계속 주행하지 말아야 하며, 이는 차량의 제동 성능을 떨어뜨려 심각한 사고를 발생시킬 수 있습니다.\\n- 브레이크 패드 교체 시, 디스크 안쪽과 바깥쪽의 패드를 동시에 교체하는 것이 중요합니다.\\n- 디스크 브레이크가 마모되면, 브레이크 페달을 밟을 때 쇠가 긁히는 소음이 발생할 수 있으므로 주의해야 합니다.\\n- 필요시, 직영 하이테크센터나 블루 핸즈에서 브레이크 패드 상태를 점검하고 교체할 수 있습니다.\\n\\n정기적으로 브레이크 패드의 마모 상태를 점검하는 것이 매우 중요합니다.'}"
      ]
     },
     "execution_count": 13,
     "metadata": {},
     "output_type": "execute_result"
    }
   ],
   "source": [
    "result = agent_exe.invoke({'input': '브래이크패드 교체 시기 pdf에서 찾아줘'})\n",
    "result\n"
   ]
  },
  {
   "cell_type": "code",
   "execution_count": 14,
   "metadata": {},
   "outputs": [
    {
     "name": "stdout",
     "output_type": "stream",
     "text": [
      "\n",
      "\n",
      "\u001b[1m> Entering new AgentExecutor chain...\u001b[0m\n",
      "\u001b[32;1m\u001b[1;3m\n",
      "Invoking: `car_pdf_search` with `{'query': '카리나 본명'}`\n",
      "\n",
      "\n",
      "\u001b[0m\u001b[33;1m\u001b[1;3mI\n",
      "색인\n",
      "0LX3.book  Page 1\n",
      "\n",
      "지문 인증 \n",
      "대기 하얀색 -\n",
      "지문 인증 \n",
      "성공 파란색 '인증되었습니다. 시동\n",
      "을 걸 수 있습니다'\n",
      "지문 인증 \n",
      "실패 노란색 -\n",
      "누적 실패\n",
      "로 인한 \n",
      "지문 인증 \n",
      "제한\n",
      "빨간색\n",
      "'지문 인증이 제한되었\n",
      "습니다. X 분 후 다시 시\n",
      "도하십시오'\n",
      "ӝ\n",
      " \n",
      "지문 인증 5회 연속 실패 \n",
      "시의 인증 제한\n",
      " \n",
      "0LX3.book  Page 22\n",
      "\n",
      "능의 경고등이 켜집니다. 경고 내용은 클러스\n",
      "터 유틸리티 정보 뷰의 서비스 메시지에서 확인\n",
      "하실 수 있습니다. 당사 직영 하이테크센터나\n",
      "블루핸즈에서 점검을 받으십시오.\n",
      "0LX3.book  Page 5\n",
      "\n",
      "로운 파일이 생성되면 주차 중 상시와 주차\n",
      "중 동작감지 중 가장 오래된 파일이 자동 삭\n",
      "제됩니다.\n",
      " \n",
      "ӝ\n",
      " \n",
      "• 빌트인 캠 시스템에는 GPL, LGPL 및 그 외\n",
      "오픈소스 라이선스가 적용된 소프트웨어를\n",
      "포함하고 있습니다.\n",
      "• 이와 관련한 소스코드를 포함하여 모든 라이\n",
      "선스 고지사항은 홈페이지\n",
      "(https://yuracorp.co.kr)를 통해 제공받으\n",
      "실 수 있습니다.\n",
      "• 이 제품을 구매한 후 3년 내에 이메일\n",
      "(opensource@hyundai.com)로 이 제품\n",
      "에 탑재된 소프트웨어의 오픈소스 코드를 요\n",
      "청하면 저장 매체 비용, 운반비 등 제공에 필\n",
      "요한 최소한의 비용을 받고 CD-ROM 등의\n",
      "저장 매체에 담아 보내드립니다.\n",
      " \n",
      "0LX3.book  Page 82\u001b[0m\u001b[32;1m\u001b[1;3m\n",
      "Invoking: `tavily_search_results_json` with `{'query': '카리나 본명'}`\n",
      "responded: PDF 문서에서 \"카리나 본명\"에 대한 정보를 찾을 수 없습니다. 다른 방법으로 정보를 검색해보겠습니다. 잠시만 기다려 주세요.\n",
      "\n",
      "\u001b[0m\u001b[36;1m\u001b[1;3m[{'title': '카리나(동음이의어) - 나무위키', 'url': 'https://namu.wiki/w/%EC%B9%B4%EB%A6%AC%EB%82%98(%EB%8F%99%EC%9D%8C%EC%9D%B4%EC%9D%98%EC%96%B4)', 'content': \"카리나 - 걸그룹 aespa의 멤버, 본명 유지민. 안나 카리나 - 프랑스의 배우. 우에무라 아이 카리나 - 일본의 가수. 유가령 - 홍콩의 배우. 영어권에서는 'Carina Lau'이다.\", 'score': 0.8706085}, {'title': '카리나 - 나무위키', 'url': 'https://namu.wiki/w/%EC%B9%B4%EB%A6%AC%EB%82%98', 'content': '본명. 유지민 (劉知珉, Yu Jimin) ; 출생. 2000년 4월 11일 (24세) ; 출생 · 경기도 수원시 팔달구 지동[1] ; 출신. 경기도 성남시 분당구 정자동 ; 국적. 대한민국 국기.svg.', 'score': 0.8490022305882353}, {'title': \"“유지민은 봐라” 오늘(29일) SNS에서 '카리나 본명'이 계속 언급되는 이유\", 'url': 'https://www.wikitree.co.kr/articles/931215', 'content': \"그룹 에스파 멤버 카리나가 배우 이재욱과 열애를 인정한 가운데, SNS상에서 카리나의 본명 '유지민'이 언급되는 등 누리꾼들로부터 뜨거운 관심을 얻고\", 'score': 0.8280282129411765}, {'title': '에스파 카리나 (본명 유지민)는 신이예요 - 네이버 지식iN', 'url': 'https://m.kin.naver.com/qna/dirs/3021401/docs/461118840?d1id=3&qb=7Lm066as64KY&enc=utf8&section=kin.qna&rank=36&search_sort=0&spq=0', 'content': '에스파 카리나 (본명 유지민)는 신이예요.', 'score': 0.7307160564705881}, {'title': '에스파 카리나·배우 이재욱 열애 여파?...SM 주가 급락 - 매일경제', 'url': 'https://www.mk.co.kr/news/stock/10952196', 'content': '그룹 에스파 멤버 카리나(본명 유지민·23)와 배우 이재욱(25)의 열애 소식에 카리나가 속한 SM엔터테인먼트 주가가 하락 마감했다.', 'score': 0.7197165176470588}]\u001b[0m\u001b[32;1m\u001b[1;3m카리나의 본명은 \"유지민\"입니다. 그녀는 걸그룹 에스파의 멤버로, 2000년 4월 11일에 태어났습니다. 더 많은 정보는 [여기](https://namu.wiki/w/%EC%B9%B4%EB%A6%AC%EB%82%98)에서 확인하실 수 있습니다.\u001b[0m\n",
      "\n",
      "\u001b[1m> Finished chain.\u001b[0m\n"
     ]
    },
    {
     "data": {
      "text/plain": [
       "{'input': '카리나 본명 pdf에서 찾아줘',\n",
       " 'output': '카리나의 본명은 \"유지민\"입니다. 그녀는 걸그룹 에스파의 멤버로, 2000년 4월 11일에 태어났습니다. 더 많은 정보는 [여기](https://namu.wiki/w/%EC%B9%B4%EB%A6%AC%EB%82%98)에서 확인하실 수 있습니다.'}"
      ]
     },
     "execution_count": 14,
     "metadata": {},
     "output_type": "execute_result"
    }
   ],
   "source": [
    "result = agent_exe.invoke({'input': '카리나 본명 pdf에서 찾아줘'})\n",
    "result\n"
   ]
  },
  {
   "cell_type": "markdown",
   "metadata": {},
   "source": [
    "### 메모리 추가"
   ]
  },
  {
   "cell_type": "code",
   "execution_count": 15,
   "metadata": {},
   "outputs": [],
   "source": [
    "from langchain_community.chat_message_histories import ChatMessageHistory\n",
    "from langchain_core.runnables.history import RunnableWithMessageHistory\n",
    "\n",
    "store = {}\n",
    "def get_session_history(session_ids):\n",
    "    if session_ids not in store:\n",
    "        store[session_ids] = ChatMessageHistory()\n",
    "    return store[session_ids]\n",
    "\n",
    "agent_history = RunnableWithMessageHistory(\n",
    "    agent_exe,\n",
    "    get_session_history,\n",
    "    input_messages_key='input',\n",
    "    history_messages_key='chat_history'\n",
    ")\n"
   ]
  },
  {
   "cell_type": "code",
   "execution_count": 16,
   "metadata": {},
   "outputs": [
    {
     "name": "stdout",
     "output_type": "stream",
     "text": [
      "\n",
      "\n",
      "\u001b[1m> Entering new AgentExecutor chain...\u001b[0m\n",
      "\u001b[32;1m\u001b[1;3m\n",
      "Invoking: `tavily_search_results_json` with `{'query': '애플 최신 휴대폰 기종 2023'}`\n",
      "\n",
      "\n",
      "\u001b[0m\u001b[36;1m\u001b[1;3m[{'title': '애플, 2023년 고급 스마트폰 시장 점유율 장악 - Vietnam.vn', 'url': 'https://www.vietnam.vn/ko/apple-chiem-linh-thi-phan-smartphone-cao-cap-nam-2023/', 'content': 'Apple은 2023년 고급 스마트폰 시장 점유율을 장악했습니다. - 사진 2. 아이폰 15 프로와 화웨이 메이트 60 프로. 지난해 최고급 휴대폰을 가장 많이 소비', 'score': 0.75616}, {'title': '2023년, 기대되는 최신 스마트폰 7가지...애플, 삼성, 구글 등', 'url': 'https://www.aseandaily.co.kr/news/articleView.html?idxno=1003959', 'content': 'USB-C 포트가 있는 iPhone 15, 합리적인 가격으로 안드로이드를 실행하는 Pixel 7A, 최고의 야간 촬영 기능을 갖춘 Galaxy S23 Ultra가 올해 출시될', 'score': 0.678789045}, {'title': '2023년 1위는 아이폰14 프로맥스! 삼성 갤럭시S23은? - Naver Blog', 'url': 'https://blog.naver.com/bizzy78/223346760060', 'content': '2023년의 출하량 1~2위가 가장 고가라인업인 아이폰14프로맥스와 아이폰15프로맥스로 쏠린 것을 확인해볼 수 있기도 합니다. 이는 카메라 성능 및 기능성(', 'score': 0.571017072}, {'title': '2023년 출시 스마트폰 정리 - 세티즌', 'url': 'https://m.cetizen.com/review.php?pid=8180&q=view&&qv=rview&pno=8180', 'content': '2023년 국내 스마트폰 시장은 여전히 삼성과 애플이 전부입니다. iOS를 ... 이번 아이폰 15 시리즈는 일반 모델과 프로 모델 모두 적당한 변화가 있습니다.', 'score': 0.47805366}, {'title': '최신 5G 스마트폰: 2023년 하반기 이후 삼성, 애플, 샤오미의 고급형과 ...', 'url': 'https://luckygolferb.tistory.com/entry/%EC%B5%9C%EC%8B%A0-5G-%EC%8A%A4%EB%A7%88%ED%8A%B8%ED%8F%B0-2023%EB%85%84-%ED%95%98%EB%B0%98%EA%B8%B0-%EC%9D%B4%ED%9B%84-%EC%82%BC%EC%84%B1-%EC%95%A0%ED%94%8C-%EC%83%A4%EC%98%A4%EB%AF%B8%EC%9D%98-%EA%B3%A0%EA%B8%89%ED%98%95%EA%B3%BC-%EB%B3%B4%EA%B8%89%ED%98%95-%EB%AA%A8%EB%8D%B8-%EB%B9%84%EA%B5%90', 'content': '추천 최신 5G 스마트폰 모델 (고급형) · 삼성 갤럭시 S24 울트라 · 삼성 갤럭시 Z 폴드 4 · 애플 아이폰 15 프로 맥스 · 애플 아이폰 15 프로 · 샤오미 13', 'score': 0.39863304}]\u001b[0m\u001b[32;1m\u001b[1;3m애플의 최신 휴대폰 기종은 **아이폰 15 시리즈**입니다. 특히 **아이폰 15 프로**와 **아이폰 15 프로 맥스** 모델이 포함되어 있습니다. 이 시리즈는 USB-C 포트와 같은 새로운 기능을 도입하며, 고급 스마트폰 시장에서 상위 점유율을 차지하고 있습니다. 자세한 내용은 [여기](https://www.aseandaily.co.kr/news/articleView.html?idxno=1003959)에서 확인하실 수 있습니다.\u001b[0m\n",
      "\n",
      "\u001b[1m> Finished chain.\u001b[0m\n"
     ]
    },
    {
     "data": {
      "text/plain": [
       "{'input': '애플의 최신 휴대폰 기종은?',\n",
       " 'chat_history': [],\n",
       " 'output': '애플의 최신 휴대폰 기종은 **아이폰 15 시리즈**입니다. 특히 **아이폰 15 프로**와 **아이폰 15 프로 맥스** 모델이 포함되어 있습니다. 이 시리즈는 USB-C 포트와 같은 새로운 기능을 도입하며, 고급 스마트폰 시장에서 상위 점유율을 차지하고 있습니다. 자세한 내용은 [여기](https://www.aseandaily.co.kr/news/articleView.html?idxno=1003959)에서 확인하실 수 있습니다.'}"
      ]
     },
     "execution_count": 16,
     "metadata": {},
     "output_type": "execute_result"
    }
   ],
   "source": [
    "result = agent_history.invoke(\n",
    "    {'input': '애플의 최신 휴대폰 기종은?'},\n",
    "    config={'configurable': {'session_id': 'user123'}}\n",
    ")\n",
    "\n",
    "result"
   ]
  },
  {
   "cell_type": "code",
   "execution_count": 17,
   "metadata": {},
   "outputs": [
    {
     "name": "stdout",
     "output_type": "stream",
     "text": [
      "\n",
      "\n",
      "\u001b[1m> Entering new AgentExecutor chain...\u001b[0m\n",
      "\u001b[32;1m\u001b[1;3m\n",
      "Invoking: `tavily_search_results_json` with `{'query': '애플 최신 아이폰 기종 2025'}`\n",
      "\n",
      "\n",
      "\u001b[0m\u001b[36;1m\u001b[1;3m[{'title': '2025 Apple Iphone SE4는 apple 역사상 가장 아름답고 저렴한 제품 ...', 'url': 'https://lifeofbaek.tistory.com/485', 'content': '애플이 2025년 3월 말에서 4월 초 사이에 차세대 보급형 스마트폰 iPhone SE 4를 공식 출시할 것으로 예상된다. 이번 SE 4는 애플 역사상 가장 아름답고', 'score': 0.82728493}, {'title': '2025 애플 신제품 로드맵…아이폰17부터 맥북까지 - 네이트 뉴스', 'url': 'https://news.nate.com/view/20250113n22769', 'content': \"12일(현지시간) 모바일 매체 폰아레나에 따르면 우선 아이폰17 시리즈에 '에어'라는 새로운 모델이 추가될 예정이다. 아이폰17 에어는 역대 가장 얇은\", 'score': 0.6586169777777777}, {'title': '\"90Hz 적용 실화냐?!\" 아이폰17 & 아이폰 SE4! 2025년 애플의 충격적 ...', 'url': 'https://www.youtube.com/watch?v=QHY5BQSNfTU', 'content': '\"90Hz 적용 실화냐?!\" 아이폰17 & 아이폰 SE4! 2025년 애플의 충격적 변화 · Comments643.', 'score': 0.54285742}, {'title': 'iPhone 16 - 나무위키', 'url': 'https://namu.wiki/w/iPhone%2016', 'content': '2025년, 고환율이 계속되는데다 아이폰 17시리즈의 가격 인상이 유력하다는 루머가 계속되면서 반대로 아이폰 16의 가성비가 상당히 좋다는 이야기가 나오고 있다.', 'score': 0.44396959999999996}, {'title': \"기존의 SE는 잊어라··· 애플, 새로운 가성비 폰 '아이폰 16e' 출시 | CIO\", 'url': 'https://www.cio.com/article/3828879/%EA%B8%B0%EC%A1%B4%EC%9D%98-se%EB%8A%94-%EC%9E%8A%EC%96%B4%EB%9D%BC%C2%B7%C2%B7%C2%B7-%EC%95%A0%ED%94%8C-%EC%83%88%EB%A1%9C%EC%9A%B4-%EA%B0%80%EC%84%B1%EB%B9%84-%ED%8F%B0-%EC%95%84%EC%9D%B4.html', 'content': \"애플은 기존 429달러짜리 아이폰 SE를 단종하고, 새로운 '아이폰 16e' 모델을 출시했다. 이 제품은 단일 크기로 제공되며, 기존 SE보다 가격이 200\", 'score': 0.20504898333333335}]\u001b[0m\u001b[32;1m\u001b[1;3m2025년의 애플 최신 휴대폰 기종은 **아이폰 SE 4**와 **아이폰 17 시리즈**입니다. \n",
      "\n",
      "1. **아이폰 SE 4**는 2025년 3월 말에서 4월 초 사이에 출시될 것으로 예상됩니다. 이는 애플 역사상 가장 아름답고 저렴한 보급형 스마트폰으로 기대되고 있습니다. [자세한 내용](https://lifeofbaek.tistory.com/485)에서 확인할 수 있습니다.\n",
      "\n",
      "2. **아이폰 17** 시리즈도 곧 출시될 예정이며, 이 시리즈에는 '에어'라는 새로운 모델이 추가될 것으로 보입니다. [관련 기사](https://news.nate.com/view/20250113n22769)에서 더 많은 정보를 확인할 수 있습니다. \n",
      "\n",
      "아이폰 16 시리즈와 관련된 정보도 있으며, 이는 가성비 좋은 모델로 평가받고 있습니다.\u001b[0m\n",
      "\n",
      "\u001b[1m> Finished chain.\u001b[0m\n"
     ]
    },
    {
     "data": {
      "text/plain": [
       "{'input': '아니, 올해는 2025년이야.',\n",
       " 'chat_history': [HumanMessage(content='애플의 최신 휴대폰 기종은?', additional_kwargs={}, response_metadata={}),\n",
       "  AIMessage(content='애플의 최신 휴대폰 기종은 **아이폰 15 시리즈**입니다. 특히 **아이폰 15 프로**와 **아이폰 15 프로 맥스** 모델이 포함되어 있습니다. 이 시리즈는 USB-C 포트와 같은 새로운 기능을 도입하며, 고급 스마트폰 시장에서 상위 점유율을 차지하고 있습니다. 자세한 내용은 [여기](https://www.aseandaily.co.kr/news/articleView.html?idxno=1003959)에서 확인하실 수 있습니다.', additional_kwargs={}, response_metadata={})],\n",
       " 'output': \"2025년의 애플 최신 휴대폰 기종은 **아이폰 SE 4**와 **아이폰 17 시리즈**입니다. \\n\\n1. **아이폰 SE 4**는 2025년 3월 말에서 4월 초 사이에 출시될 것으로 예상됩니다. 이는 애플 역사상 가장 아름답고 저렴한 보급형 스마트폰으로 기대되고 있습니다. [자세한 내용](https://lifeofbaek.tistory.com/485)에서 확인할 수 있습니다.\\n\\n2. **아이폰 17** 시리즈도 곧 출시될 예정이며, 이 시리즈에는 '에어'라는 새로운 모델이 추가될 것으로 보입니다. [관련 기사](https://news.nate.com/view/20250113n22769)에서 더 많은 정보를 확인할 수 있습니다. \\n\\n아이폰 16 시리즈와 관련된 정보도 있으며, 이는 가성비 좋은 모델로 평가받고 있습니다.\"}"
      ]
     },
     "execution_count": 17,
     "metadata": {},
     "output_type": "execute_result"
    }
   ],
   "source": [
    "result = agent_history.invoke(\n",
    "    {'input': '아니, 올해는 2025년이야.'},\n",
    "    config={'configurable': {'session_id': 'user123'}}\n",
    ")\n",
    "\n",
    "result"
   ]
  }
 ],
 "metadata": {
  "kernelspec": {
   "display_name": "lang_311",
   "language": "python",
   "name": "python3"
  },
  "language_info": {
   "codemirror_mode": {
    "name": "ipython",
    "version": 3
   },
   "file_extension": ".py",
   "mimetype": "text/x-python",
   "name": "python",
   "nbconvert_exporter": "python",
   "pygments_lexer": "ipython3",
   "version": "3.11.11"
  }
 },
 "nbformat": 4,
 "nbformat_minor": 2
}
