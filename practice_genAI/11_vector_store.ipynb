{
 "cells": [
  {
   "cell_type": "markdown",
   "metadata": {},
   "source": [
    "### Vector DB - Chroma"
   ]
  },
  {
   "cell_type": "code",
   "execution_count": 1,
   "metadata": {},
   "outputs": [
    {
     "data": {
      "text/plain": [
       "True"
      ]
     },
     "execution_count": 1,
     "metadata": {},
     "output_type": "execute_result"
    }
   ],
   "source": [
    "from dotenv import load_dotenv\n",
    "load_dotenv()"
   ]
  },
  {
   "cell_type": "code",
   "execution_count": 2,
   "metadata": {},
   "outputs": [
    {
     "name": "stdout",
     "output_type": "stream",
     "text": [
      "1\n",
      "총 29개의 청크로 분할됨\n",
      "이 영상은 LangChain을 활용하여 Streamlit으로 ChatGPT 클론 서비스를 만드는 방법을 단계별로 설명합니다. 강사는 코드를 처음부터 끝까지 직접 작성하며, 기능을\n"
     ]
    },
    {
     "name": "stderr",
     "output_type": "stream",
     "text": [
      "C:\\Users\\user\\AppData\\Local\\Temp\\ipykernel_38376\\682720708.py:24: LangChainDeprecationWarning: The class `HuggingFaceEmbeddings` was deprecated in LangChain 0.2.2 and will be removed in 1.0. An updated version of the class exists in the :class:`~langchain-huggingface package and should be used instead. To use it run `pip install -U :class:`~langchain-huggingface` and import as `from :class:`~langchain_huggingface import HuggingFaceEmbeddings``.\n",
      "  embedding_model = HuggingFaceEmbeddings(model_name=embedding_model_name)\n"
     ]
    },
    {
     "name": "stdout",
     "output_type": "stream",
     "text": [
      "WARNING:tensorflow:From c:\\Users\\user\\miniconda3\\envs\\lang_311\\Lib\\site-packages\\tf_keras\\src\\losses.py:2976: The name tf.losses.sparse_softmax_cross_entropy is deprecated. Please use tf.compat.v1.losses.sparse_softmax_cross_entropy instead.\n",
      "\n",
      "ChromaDB에 텍스트 데이터 저장 완료!\n"
     ]
    }
   ],
   "source": [
    "from langchain.document_loaders import TextLoader\n",
    "from langchain.text_splitter import RecursiveCharacterTextSplitter\n",
    "from langchain.vectorstores import Chroma\n",
    "from langchain.embeddings import HuggingFaceEmbeddings\n",
    "\n",
    "loader = TextLoader(\"./data/langchain.txt\")\n",
    "docs = loader.load()\n",
    "print(len(docs))\n",
    "\n",
    "text_splitter = RecursiveCharacterTextSplitter(\n",
    "    chunk_size=100,\n",
    "    chunk_overlap=30\n",
    ")\n",
    "\n",
    "# 텍스트 분할 적용\n",
    "split_docs = text_splitter.split_documents(docs)\n",
    "\n",
    "# 결과 확인\n",
    "print(f\"총 {len(split_docs)}개의 청크로 분할됨\")\n",
    "print(split_docs[0].page_content)  # 첫 번째 청크 출력\n",
    "\n",
    "# embedding\n",
    "embedding_model_name = \"jhgan/ko-sbert-nli\"\n",
    "embedding_model = HuggingFaceEmbeddings(model_name=embedding_model_name)\n",
    "\n",
    "# ChromaDB 벡터 스토어 생성 및 문서 저장\n",
    "vectorstore = Chroma.from_documents(\n",
    "    split_docs,\n",
    "    embedding_model,\n",
    "    persist_directory=\"./db/chroma_db\",\n",
    "    collection_name='my_db',  # 테이블명\n",
    ")\n",
    "\n",
    "# 벡터 저장 완료 메시지\n",
    "print(\"ChromaDB에 텍스트 데이터 저장 완료!\")"
   ]
  },
  {
   "cell_type": "code",
   "execution_count": null,
   "metadata": {},
   "outputs": [
    {
     "data": {
      "text/plain": [
       "[Document(metadata={'source': './data/langchain.txt'}, page_content='이 영상은 LangChain을 활용하여 Streamlit으로 ChatGPT 클론 서비스를 만드는 방법을 단계별로 설명합니다. 강사는 코드를 처음부터 끝까지 직접 작성하며, 기능을 하나씩 추가하는 과정을 보여주어 초보자들이 코드를 이해하고 수정할 수 있도록 돕고자 합니다. 이 과정에서 기능 추가와 코드 관리의 중요성을 강조하며, 실습을 통해 학습할 수 있는 기회를 제공합니다.\\n\\n1. 영상 소개 및 목표'),\n",
       " Document(metadata={'source': './data/langchain.txt'}, page_content='오늘의 영상은 LML을 활용한 스트림 웹앱 서비스 제작에 대한 내용임.\\n이전 영상과 마찬가지로 백지에서 코드를 만들어 나가는 과정을 보여줄 예정임.\\n기능을 하나씩 추가하며 ChatGPT와 유사한 서비스를 만드는 것이 목표임.\\n레퍼런스 코드를 단순히 복사하여 붙여넣는 방식은 원하는 기능을 추가하기 어려움.\\n코딩에 익숙하지 않은 사람들을 위해 차근차근 과정을 설명할 것임.\\n\\n2. 기본 파일 구조'),\n",
       " Document(metadata={'source': './data/langchain.txt'}, page_content=\"'점 스트림'이라는 폴더를 만들고, 그 안에 'Secrets.toml' 파일을 생성함.\\n이 파일에는 오픈 AI 키를 넣어두고, 나중에 이를 가져와서 설정할 것임.\\n'메인.py' 파일 하나만 있으면 충분함.\\n\\n3. 단계적 개발 방법\\n\\n처음부터 완성형 서비스를 만들려고 하지 말고, 기본적인 수준부터 기능을 하나씩 추가하는 것이 좋음.\\n가장 쉬운 기능부터 시작하여 난이도를 높여가는 방식으로 진행함.\\n\\n4. 웹사이트 띄우기\"),\n",
       " Document(metadata={'source': './data/langchain.txt'}, page_content=\"웹사이트를 띄우기 위해 기본적인 코드를 작성함.\\n'stre'를 임포트하고, 페이지 타이틀을 설정하는 코드 작성\\n기터 코파일럿을 사용하여 코드 자동 완성을 추천함.\\n서버를 올리고 웹사이트가 잘 구동되는지 확인함.\\n\\n5. 채팅 기능 구현\\n\\n채팅 기능을 구현하기 위해 스트림릿에서 제공하는 컴포넌트를 사용함.\\n'챗 인풋'과 '챗 메시지' 요소를 활용하여 채팅 기능을 구현할 것임.\\n스트림릿 공식 웹사이트에서 API 레퍼런스를 확인하여 예시 코드를 참고할 것을 권장함.\\n\\n6. 사용자 입력 처리\"),\n",
       " Document(metadata={'source': './data/langchain.txt'}, page_content='사용자가 메시지를 입력할 수 있도록 지시문을 설정함.\\n입력된 메시지를 조건문을 통해 처리하고, 유저 아바타를 입혀서 출력함.\\n세션 스테이트를 사용하여 입력된 메시지를 기록하고, 페이지가 새로 고침되더라도 메시지를 유지할 수 있도록 함.\\n\\n7. AI 답변 처리\\n\\n사용자가 입력한 메시지에 대한 AI의 답변을 생성하는 로직을 구현함.\\n유저의 메시지를 출력한 후, AI의 답변을 추가로 출력하는 방식으로 진행함.\\n\\n8. 코드 정리 및 함수화'),\n",
       " Document(metadata={'source': './data/langchain.txt'}, page_content='출력하는 코드를 함수로 패키징하여 코드의 가독성을 높임.\\n챗 메시지를 튜플로 넣는 대신 객체화하여 가독성을 높이는 방법을 설명함.\\n\\n9. LLM 적용\\n\\nLLM을 적용하기 위해 필요한 코드와 설정을 설명함.\\n사용자가 입력한 내용을 기반으로 AI의 답변을 생성하는 과정을 구현함.\\n메모리 기능을 추가하여 대화 기록을 저장하고 활용할 수 있도록 함.\\n\\n10. 기능 추가 및 개선'),\n",
       " Document(metadata={'source': './data/langchain.txt'}, page_content='대화 기록을 로컬 DB에 저장하여 사용자가 다시 방문했을 때 이전 대화를 보여줄 수 있도록 함.\\n다양한 컴포넌트를 활용하여 기능을 추가하고 개선할 수 있는 방법을 제시함.\\n영상의 목적은 처음부터 구현하는 흐름을 보여주고, 기능 추가 및 오류 수정이 용이하도록 하는 것임.')]"
      ]
     },
     "execution_count": 11,
     "metadata": {},
     "output_type": "execute_result"
    }
   ],
   "source": [
    "from langchain_community.document_loaders import TextLoader\n",
    "from langchain_openai import OpenAIEmbeddings\n",
    "from langchain.text_splitter import RecursiveCharacterTextSplitter\n",
    "from langchain_chroma import Chroma\n",
    "\n",
    "loader = TextLoader(\"./data/langchain.txt\")\n",
    "splitter = RecursiveCharacterTextSplitter(chunk_size=300, chunk_overlap=0)\n",
    "\n",
    "docs = loader.load()\n",
    "chunks = splitter.split_documents(docs)\n",
    "\n",
    "# chunks = loader.load_and_split(splitter)\n",
    "\n",
    "chunks"
   ]
  },
  {
   "cell_type": "code",
   "execution_count": null,
   "metadata": {},
   "outputs": [],
   "source": [
    "db = Chroma.from_documents(\n",
    "    documents=chunks,\n",
    "    embedding=OpenAIEmbeddings(),\n",
    "    collection_name='my_db'  # 테이블명\n",
    ")\n"
   ]
  },
  {
   "cell_type": "code",
   "execution_count": null,
   "metadata": {},
   "outputs": [],
   "source": [
    "db = Chroma.from_documents(\n",
    "    documents=chunks,\n",
    "    embedding=OpenAIEmbeddings(),\n",
    "    persist_directory='./db/chroma_db',  # 저장 위치\n",
    "    collection_name='my_db',  # 테이블명\n",
    ")"
   ]
  },
  {
   "cell_type": "code",
   "execution_count": null,
   "metadata": {},
   "outputs": [],
   "source": [
    "# 불러오기\n",
    "db = Chroma(\n",
    "    persist_directory='./db/chroma_db',\n",
    "    embedding_function=OpenAIEmbeddings(),\n",
    "    collection_name='my_db'\n",
    ")"
   ]
  },
  {
   "cell_type": "code",
   "execution_count": 18,
   "metadata": {},
   "outputs": [
    {
     "data": {
      "text/plain": [
       "{'ids': ['eec4e347-fbb4-4e3e-a953-4f03380171d3',\n",
       "  'abeadd57-6544-4783-8721-4b67248527c4',\n",
       "  '208d6ec5-2b36-45bc-b566-d011ee9a0491',\n",
       "  'c08c722a-afd6-49a6-8b1a-92419c89e473',\n",
       "  'd27de79a-f331-4a2b-854f-de45ae164272',\n",
       "  '2cba05e5-7ab0-4dac-b9ca-cf5e40c7d62b',\n",
       "  'e9b93452-e3e5-4851-aff8-4eaa20d78125'],\n",
       " 'embeddings': None,\n",
       " 'documents': ['이 영상은 LangChain을 활용하여 Streamlit으로 ChatGPT 클론 서비스를 만드는 방법을 단계별로 설명합니다. 강사는 코드를 처음부터 끝까지 직접 작성하며, 기능을 하나씩 추가하는 과정을 보여주어 초보자들이 코드를 이해하고 수정할 수 있도록 돕고자 합니다. 이 과정에서 기능 추가와 코드 관리의 중요성을 강조하며, 실습을 통해 학습할 수 있는 기회를 제공합니다.\\n\\n1. 영상 소개 및 목표',\n",
       "  '오늘의 영상은 LML을 활용한 스트림 웹앱 서비스 제작에 대한 내용임.\\n이전 영상과 마찬가지로 백지에서 코드를 만들어 나가는 과정을 보여줄 예정임.\\n기능을 하나씩 추가하며 ChatGPT와 유사한 서비스를 만드는 것이 목표임.\\n레퍼런스 코드를 단순히 복사하여 붙여넣는 방식은 원하는 기능을 추가하기 어려움.\\n코딩에 익숙하지 않은 사람들을 위해 차근차근 과정을 설명할 것임.\\n\\n2. 기본 파일 구조',\n",
       "  \"'점 스트림'이라는 폴더를 만들고, 그 안에 'Secrets.toml' 파일을 생성함.\\n이 파일에는 오픈 AI 키를 넣어두고, 나중에 이를 가져와서 설정할 것임.\\n'메인.py' 파일 하나만 있으면 충분함.\\n\\n3. 단계적 개발 방법\\n\\n처음부터 완성형 서비스를 만들려고 하지 말고, 기본적인 수준부터 기능을 하나씩 추가하는 것이 좋음.\\n가장 쉬운 기능부터 시작하여 난이도를 높여가는 방식으로 진행함.\\n\\n4. 웹사이트 띄우기\",\n",
       "  \"웹사이트를 띄우기 위해 기본적인 코드를 작성함.\\n'stre'를 임포트하고, 페이지 타이틀을 설정하는 코드 작성\\n기터 코파일럿을 사용하여 코드 자동 완성을 추천함.\\n서버를 올리고 웹사이트가 잘 구동되는지 확인함.\\n\\n5. 채팅 기능 구현\\n\\n채팅 기능을 구현하기 위해 스트림릿에서 제공하는 컴포넌트를 사용함.\\n'챗 인풋'과 '챗 메시지' 요소를 활용하여 채팅 기능을 구현할 것임.\\n스트림릿 공식 웹사이트에서 API 레퍼런스를 확인하여 예시 코드를 참고할 것을 권장함.\\n\\n6. 사용자 입력 처리\",\n",
       "  '사용자가 메시지를 입력할 수 있도록 지시문을 설정함.\\n입력된 메시지를 조건문을 통해 처리하고, 유저 아바타를 입혀서 출력함.\\n세션 스테이트를 사용하여 입력된 메시지를 기록하고, 페이지가 새로 고침되더라도 메시지를 유지할 수 있도록 함.\\n\\n7. AI 답변 처리\\n\\n사용자가 입력한 메시지에 대한 AI의 답변을 생성하는 로직을 구현함.\\n유저의 메시지를 출력한 후, AI의 답변을 추가로 출력하는 방식으로 진행함.\\n\\n8. 코드 정리 및 함수화',\n",
       "  '출력하는 코드를 함수로 패키징하여 코드의 가독성을 높임.\\n챗 메시지를 튜플로 넣는 대신 객체화하여 가독성을 높이는 방법을 설명함.\\n\\n9. LLM 적용\\n\\nLLM을 적용하기 위해 필요한 코드와 설정을 설명함.\\n사용자가 입력한 내용을 기반으로 AI의 답변을 생성하는 과정을 구현함.\\n메모리 기능을 추가하여 대화 기록을 저장하고 활용할 수 있도록 함.\\n\\n10. 기능 추가 및 개선',\n",
       "  '대화 기록을 로컬 DB에 저장하여 사용자가 다시 방문했을 때 이전 대화를 보여줄 수 있도록 함.\\n다양한 컴포넌트를 활용하여 기능을 추가하고 개선할 수 있는 방법을 제시함.\\n영상의 목적은 처음부터 구현하는 흐름을 보여주고, 기능 추가 및 오류 수정이 용이하도록 하는 것임.'],\n",
       " 'uris': None,\n",
       " 'data': None,\n",
       " 'metadatas': [{'source': './data/langchain.txt'},\n",
       "  {'source': './data/langchain.txt'},\n",
       "  {'source': './data/langchain.txt'},\n",
       "  {'source': './data/langchain.txt'},\n",
       "  {'source': './data/langchain.txt'},\n",
       "  {'source': './data/langchain.txt'},\n",
       "  {'source': './data/langchain.txt'}],\n",
       " 'included': [<IncludeEnum.documents: 'documents'>,\n",
       "  <IncludeEnum.metadatas: 'metadatas'>]}"
      ]
     },
     "execution_count": 18,
     "metadata": {},
     "output_type": "execute_result"
    }
   ],
   "source": [
    "db.get()"
   ]
  },
  {
   "cell_type": "code",
   "execution_count": null,
   "metadata": {},
   "outputs": [
    {
     "name": "stderr",
     "output_type": "stream",
     "text": [
      "C:\\Users\\user\\AppData\\Local\\Temp\\ipykernel_5036\\1671412412.py:2: LangChainDeprecationWarning: The class `Chroma` was deprecated in LangChain 0.2.9 and will be removed in 1.0. An updated version of the class exists in the :class:`~langchain-chroma package and should be used instead. To use it run `pip install -U :class:`~langchain-chroma` and import as `from :class:`~langchain_chroma import Chroma``.\n",
      "  db2 = Chroma(\n"
     ]
    }
   ],
   "source": [
    "# 불러오기\n",
    "db2 = Chroma(\n",
    "    persist_directory='./db/chroma_db',\n",
    "    embedding_function=HuggingFaceEmbeddings(model_name=embedding_model_name),\n",
    "    collection_name='my_db2'\n",
    ")"
   ]
  },
  {
   "cell_type": "code",
   "execution_count": 21,
   "metadata": {},
   "outputs": [
    {
     "data": {
      "text/plain": [
       "{'ids': ['eec4e347-fbb4-4e3e-a953-4f03380171d3',\n",
       "  'abeadd57-6544-4783-8721-4b67248527c4',\n",
       "  '208d6ec5-2b36-45bc-b566-d011ee9a0491',\n",
       "  'c08c722a-afd6-49a6-8b1a-92419c89e473',\n",
       "  'd27de79a-f331-4a2b-854f-de45ae164272',\n",
       "  '2cba05e5-7ab0-4dac-b9ca-cf5e40c7d62b',\n",
       "  'e9b93452-e3e5-4851-aff8-4eaa20d78125'],\n",
       " 'embeddings': None,\n",
       " 'documents': ['이 영상은 LangChain을 활용하여 Streamlit으로 ChatGPT 클론 서비스를 만드는 방법을 단계별로 설명합니다. 강사는 코드를 처음부터 끝까지 직접 작성하며, 기능을 하나씩 추가하는 과정을 보여주어 초보자들이 코드를 이해하고 수정할 수 있도록 돕고자 합니다. 이 과정에서 기능 추가와 코드 관리의 중요성을 강조하며, 실습을 통해 학습할 수 있는 기회를 제공합니다.\\n\\n1. 영상 소개 및 목표',\n",
       "  '오늘의 영상은 LML을 활용한 스트림 웹앱 서비스 제작에 대한 내용임.\\n이전 영상과 마찬가지로 백지에서 코드를 만들어 나가는 과정을 보여줄 예정임.\\n기능을 하나씩 추가하며 ChatGPT와 유사한 서비스를 만드는 것이 목표임.\\n레퍼런스 코드를 단순히 복사하여 붙여넣는 방식은 원하는 기능을 추가하기 어려움.\\n코딩에 익숙하지 않은 사람들을 위해 차근차근 과정을 설명할 것임.\\n\\n2. 기본 파일 구조',\n",
       "  \"'점 스트림'이라는 폴더를 만들고, 그 안에 'Secrets.toml' 파일을 생성함.\\n이 파일에는 오픈 AI 키를 넣어두고, 나중에 이를 가져와서 설정할 것임.\\n'메인.py' 파일 하나만 있으면 충분함.\\n\\n3. 단계적 개발 방법\\n\\n처음부터 완성형 서비스를 만들려고 하지 말고, 기본적인 수준부터 기능을 하나씩 추가하는 것이 좋음.\\n가장 쉬운 기능부터 시작하여 난이도를 높여가는 방식으로 진행함.\\n\\n4. 웹사이트 띄우기\",\n",
       "  \"웹사이트를 띄우기 위해 기본적인 코드를 작성함.\\n'stre'를 임포트하고, 페이지 타이틀을 설정하는 코드 작성\\n기터 코파일럿을 사용하여 코드 자동 완성을 추천함.\\n서버를 올리고 웹사이트가 잘 구동되는지 확인함.\\n\\n5. 채팅 기능 구현\\n\\n채팅 기능을 구현하기 위해 스트림릿에서 제공하는 컴포넌트를 사용함.\\n'챗 인풋'과 '챗 메시지' 요소를 활용하여 채팅 기능을 구현할 것임.\\n스트림릿 공식 웹사이트에서 API 레퍼런스를 확인하여 예시 코드를 참고할 것을 권장함.\\n\\n6. 사용자 입력 처리\",\n",
       "  '사용자가 메시지를 입력할 수 있도록 지시문을 설정함.\\n입력된 메시지를 조건문을 통해 처리하고, 유저 아바타를 입혀서 출력함.\\n세션 스테이트를 사용하여 입력된 메시지를 기록하고, 페이지가 새로 고침되더라도 메시지를 유지할 수 있도록 함.\\n\\n7. AI 답변 처리\\n\\n사용자가 입력한 메시지에 대한 AI의 답변을 생성하는 로직을 구현함.\\n유저의 메시지를 출력한 후, AI의 답변을 추가로 출력하는 방식으로 진행함.\\n\\n8. 코드 정리 및 함수화',\n",
       "  '출력하는 코드를 함수로 패키징하여 코드의 가독성을 높임.\\n챗 메시지를 튜플로 넣는 대신 객체화하여 가독성을 높이는 방법을 설명함.\\n\\n9. LLM 적용\\n\\nLLM을 적용하기 위해 필요한 코드와 설정을 설명함.\\n사용자가 입력한 내용을 기반으로 AI의 답변을 생성하는 과정을 구현함.\\n메모리 기능을 추가하여 대화 기록을 저장하고 활용할 수 있도록 함.\\n\\n10. 기능 추가 및 개선',\n",
       "  '대화 기록을 로컬 DB에 저장하여 사용자가 다시 방문했을 때 이전 대화를 보여줄 수 있도록 함.\\n다양한 컴포넌트를 활용하여 기능을 추가하고 개선할 수 있는 방법을 제시함.\\n영상의 목적은 처음부터 구현하는 흐름을 보여주고, 기능 추가 및 오류 수정이 용이하도록 하는 것임.'],\n",
       " 'uris': None,\n",
       " 'data': None,\n",
       " 'metadatas': [{'source': './data/langchain.txt'},\n",
       "  {'source': './data/langchain.txt'},\n",
       "  {'source': './data/langchain.txt'},\n",
       "  {'source': './data/langchain.txt'},\n",
       "  {'source': './data/langchain.txt'},\n",
       "  {'source': './data/langchain.txt'},\n",
       "  {'source': './data/langchain.txt'}],\n",
       " 'included': [<IncludeEnum.documents: 'documents'>,\n",
       "  <IncludeEnum.metadatas: 'metadatas'>]}"
      ]
     },
     "execution_count": 21,
     "metadata": {},
     "output_type": "execute_result"
    }
   ],
   "source": [
    "db.get()"
   ]
  },
  {
   "cell_type": "code",
   "execution_count": 30,
   "metadata": {},
   "outputs": [
    {
     "data": {
      "text/plain": [
       "[Document(id='2cba05e5-7ab0-4dac-b9ca-cf5e40c7d62b', metadata={'source': './data/langchain.txt'}, page_content='출력하는 코드를 함수로 패키징하여 코드의 가독성을 높임.\\n챗 메시지를 튜플로 넣는 대신 객체화하여 가독성을 높이는 방법을 설명함.\\n\\n9. LLM 적용\\n\\nLLM을 적용하기 위해 필요한 코드와 설정을 설명함.\\n사용자가 입력한 내용을 기반으로 AI의 답변을 생성하는 과정을 구현함.\\n메모리 기능을 추가하여 대화 기록을 저장하고 활용할 수 있도록 함.\\n\\n10. 기능 추가 및 개선'),\n",
       " Document(id='abeadd57-6544-4783-8721-4b67248527c4', metadata={'source': './data/langchain.txt'}, page_content='오늘의 영상은 LML을 활용한 스트림 웹앱 서비스 제작에 대한 내용임.\\n이전 영상과 마찬가지로 백지에서 코드를 만들어 나가는 과정을 보여줄 예정임.\\n기능을 하나씩 추가하며 ChatGPT와 유사한 서비스를 만드는 것이 목표임.\\n레퍼런스 코드를 단순히 복사하여 붙여넣는 방식은 원하는 기능을 추가하기 어려움.\\n코딩에 익숙하지 않은 사람들을 위해 차근차근 과정을 설명할 것임.\\n\\n2. 기본 파일 구조')]"
      ]
     },
     "execution_count": 30,
     "metadata": {},
     "output_type": "execute_result"
    }
   ],
   "source": [
    "db.similarity_search(\n",
    "    query='LLM을 적용하기 위한 코드',\n",
    "    k=2,\n",
    "    filter={'source': './data/langchain.txt'}\n",
    ")"
   ]
  },
  {
   "cell_type": "code",
   "execution_count": 29,
   "metadata": {},
   "outputs": [
    {
     "data": {
      "text/plain": [
       "[Document(metadata={'source': './data/langchain.txt'}, page_content='LLM을 적용하기 위해 필요한 코드와 설정을 설명함.\\n사용자가 입력한 내용을 기반으로 AI의 답변을 생성하는 과정을 구현함.'),\n",
       " Document(metadata={'source': './data/langchain.txt'}, page_content='9. LLM 적용')]"
      ]
     },
     "execution_count": 29,
     "metadata": {},
     "output_type": "execute_result"
    }
   ],
   "source": [
    "db2.similarity_search(\n",
    "    query='LLM을 적용하기 위한 코드',\n",
    "    k=2,\n",
    "    filter={'source': './data/langchain.txt'}\n",
    ")"
   ]
  },
  {
   "cell_type": "code",
   "execution_count": 31,
   "metadata": {},
   "outputs": [
    {
     "data": {
      "text/plain": [
       "['eac4a01d-8dcc-4562-9d7b-f0be996d887d',\n",
       " '8568d357-f180-4001-a5cf-7865b67bea3f',\n",
       " '6eca4e18-e0cb-4a43-80e0-8179e94c0605',\n",
       " '25969814-3b05-4b1a-b5e0-4335c8a8244d',\n",
       " '1a3248a4-54a7-412d-9cb2-678917ece050',\n",
       " '974e8549-cfc7-478a-a757-371f67553a88',\n",
       " 'f1ca9b1d-229b-4b2f-9645-53d779068822']"
      ]
     },
     "execution_count": 31,
     "metadata": {},
     "output_type": "execute_result"
    }
   ],
   "source": [
    "db.add_documents(documents=chunks)"
   ]
  },
  {
   "cell_type": "code",
   "execution_count": 32,
   "metadata": {},
   "outputs": [
    {
     "data": {
      "text/plain": [
       "{'ids': ['eec4e347-fbb4-4e3e-a953-4f03380171d3',\n",
       "  'abeadd57-6544-4783-8721-4b67248527c4',\n",
       "  '208d6ec5-2b36-45bc-b566-d011ee9a0491',\n",
       "  'c08c722a-afd6-49a6-8b1a-92419c89e473',\n",
       "  'd27de79a-f331-4a2b-854f-de45ae164272',\n",
       "  '2cba05e5-7ab0-4dac-b9ca-cf5e40c7d62b',\n",
       "  'e9b93452-e3e5-4851-aff8-4eaa20d78125',\n",
       "  'eac4a01d-8dcc-4562-9d7b-f0be996d887d',\n",
       "  '8568d357-f180-4001-a5cf-7865b67bea3f',\n",
       "  '6eca4e18-e0cb-4a43-80e0-8179e94c0605',\n",
       "  '25969814-3b05-4b1a-b5e0-4335c8a8244d',\n",
       "  '1a3248a4-54a7-412d-9cb2-678917ece050',\n",
       "  '974e8549-cfc7-478a-a757-371f67553a88',\n",
       "  'f1ca9b1d-229b-4b2f-9645-53d779068822'],\n",
       " 'embeddings': None,\n",
       " 'documents': ['이 영상은 LangChain을 활용하여 Streamlit으로 ChatGPT 클론 서비스를 만드는 방법을 단계별로 설명합니다. 강사는 코드를 처음부터 끝까지 직접 작성하며, 기능을 하나씩 추가하는 과정을 보여주어 초보자들이 코드를 이해하고 수정할 수 있도록 돕고자 합니다. 이 과정에서 기능 추가와 코드 관리의 중요성을 강조하며, 실습을 통해 학습할 수 있는 기회를 제공합니다.\\n\\n1. 영상 소개 및 목표',\n",
       "  '오늘의 영상은 LML을 활용한 스트림 웹앱 서비스 제작에 대한 내용임.\\n이전 영상과 마찬가지로 백지에서 코드를 만들어 나가는 과정을 보여줄 예정임.\\n기능을 하나씩 추가하며 ChatGPT와 유사한 서비스를 만드는 것이 목표임.\\n레퍼런스 코드를 단순히 복사하여 붙여넣는 방식은 원하는 기능을 추가하기 어려움.\\n코딩에 익숙하지 않은 사람들을 위해 차근차근 과정을 설명할 것임.\\n\\n2. 기본 파일 구조',\n",
       "  \"'점 스트림'이라는 폴더를 만들고, 그 안에 'Secrets.toml' 파일을 생성함.\\n이 파일에는 오픈 AI 키를 넣어두고, 나중에 이를 가져와서 설정할 것임.\\n'메인.py' 파일 하나만 있으면 충분함.\\n\\n3. 단계적 개발 방법\\n\\n처음부터 완성형 서비스를 만들려고 하지 말고, 기본적인 수준부터 기능을 하나씩 추가하는 것이 좋음.\\n가장 쉬운 기능부터 시작하여 난이도를 높여가는 방식으로 진행함.\\n\\n4. 웹사이트 띄우기\",\n",
       "  \"웹사이트를 띄우기 위해 기본적인 코드를 작성함.\\n'stre'를 임포트하고, 페이지 타이틀을 설정하는 코드 작성\\n기터 코파일럿을 사용하여 코드 자동 완성을 추천함.\\n서버를 올리고 웹사이트가 잘 구동되는지 확인함.\\n\\n5. 채팅 기능 구현\\n\\n채팅 기능을 구현하기 위해 스트림릿에서 제공하는 컴포넌트를 사용함.\\n'챗 인풋'과 '챗 메시지' 요소를 활용하여 채팅 기능을 구현할 것임.\\n스트림릿 공식 웹사이트에서 API 레퍼런스를 확인하여 예시 코드를 참고할 것을 권장함.\\n\\n6. 사용자 입력 처리\",\n",
       "  '사용자가 메시지를 입력할 수 있도록 지시문을 설정함.\\n입력된 메시지를 조건문을 통해 처리하고, 유저 아바타를 입혀서 출력함.\\n세션 스테이트를 사용하여 입력된 메시지를 기록하고, 페이지가 새로 고침되더라도 메시지를 유지할 수 있도록 함.\\n\\n7. AI 답변 처리\\n\\n사용자가 입력한 메시지에 대한 AI의 답변을 생성하는 로직을 구현함.\\n유저의 메시지를 출력한 후, AI의 답변을 추가로 출력하는 방식으로 진행함.\\n\\n8. 코드 정리 및 함수화',\n",
       "  '출력하는 코드를 함수로 패키징하여 코드의 가독성을 높임.\\n챗 메시지를 튜플로 넣는 대신 객체화하여 가독성을 높이는 방법을 설명함.\\n\\n9. LLM 적용\\n\\nLLM을 적용하기 위해 필요한 코드와 설정을 설명함.\\n사용자가 입력한 내용을 기반으로 AI의 답변을 생성하는 과정을 구현함.\\n메모리 기능을 추가하여 대화 기록을 저장하고 활용할 수 있도록 함.\\n\\n10. 기능 추가 및 개선',\n",
       "  '대화 기록을 로컬 DB에 저장하여 사용자가 다시 방문했을 때 이전 대화를 보여줄 수 있도록 함.\\n다양한 컴포넌트를 활용하여 기능을 추가하고 개선할 수 있는 방법을 제시함.\\n영상의 목적은 처음부터 구현하는 흐름을 보여주고, 기능 추가 및 오류 수정이 용이하도록 하는 것임.',\n",
       "  '이 영상은 LangChain을 활용하여 Streamlit으로 ChatGPT 클론 서비스를 만드는 방법을 단계별로 설명합니다. 강사는 코드를 처음부터 끝까지 직접 작성하며, 기능을 하나씩 추가하는 과정을 보여주어 초보자들이 코드를 이해하고 수정할 수 있도록 돕고자 합니다. 이 과정에서 기능 추가와 코드 관리의 중요성을 강조하며, 실습을 통해 학습할 수 있는 기회를 제공합니다.\\n\\n1. 영상 소개 및 목표',\n",
       "  '오늘의 영상은 LML을 활용한 스트림 웹앱 서비스 제작에 대한 내용임.\\n이전 영상과 마찬가지로 백지에서 코드를 만들어 나가는 과정을 보여줄 예정임.\\n기능을 하나씩 추가하며 ChatGPT와 유사한 서비스를 만드는 것이 목표임.\\n레퍼런스 코드를 단순히 복사하여 붙여넣는 방식은 원하는 기능을 추가하기 어려움.\\n코딩에 익숙하지 않은 사람들을 위해 차근차근 과정을 설명할 것임.\\n\\n2. 기본 파일 구조',\n",
       "  \"'점 스트림'이라는 폴더를 만들고, 그 안에 'Secrets.toml' 파일을 생성함.\\n이 파일에는 오픈 AI 키를 넣어두고, 나중에 이를 가져와서 설정할 것임.\\n'메인.py' 파일 하나만 있으면 충분함.\\n\\n3. 단계적 개발 방법\\n\\n처음부터 완성형 서비스를 만들려고 하지 말고, 기본적인 수준부터 기능을 하나씩 추가하는 것이 좋음.\\n가장 쉬운 기능부터 시작하여 난이도를 높여가는 방식으로 진행함.\\n\\n4. 웹사이트 띄우기\",\n",
       "  \"웹사이트를 띄우기 위해 기본적인 코드를 작성함.\\n'stre'를 임포트하고, 페이지 타이틀을 설정하는 코드 작성\\n기터 코파일럿을 사용하여 코드 자동 완성을 추천함.\\n서버를 올리고 웹사이트가 잘 구동되는지 확인함.\\n\\n5. 채팅 기능 구현\\n\\n채팅 기능을 구현하기 위해 스트림릿에서 제공하는 컴포넌트를 사용함.\\n'챗 인풋'과 '챗 메시지' 요소를 활용하여 채팅 기능을 구현할 것임.\\n스트림릿 공식 웹사이트에서 API 레퍼런스를 확인하여 예시 코드를 참고할 것을 권장함.\\n\\n6. 사용자 입력 처리\",\n",
       "  '사용자가 메시지를 입력할 수 있도록 지시문을 설정함.\\n입력된 메시지를 조건문을 통해 처리하고, 유저 아바타를 입혀서 출력함.\\n세션 스테이트를 사용하여 입력된 메시지를 기록하고, 페이지가 새로 고침되더라도 메시지를 유지할 수 있도록 함.\\n\\n7. AI 답변 처리\\n\\n사용자가 입력한 메시지에 대한 AI의 답변을 생성하는 로직을 구현함.\\n유저의 메시지를 출력한 후, AI의 답변을 추가로 출력하는 방식으로 진행함.\\n\\n8. 코드 정리 및 함수화',\n",
       "  '출력하는 코드를 함수로 패키징하여 코드의 가독성을 높임.\\n챗 메시지를 튜플로 넣는 대신 객체화하여 가독성을 높이는 방법을 설명함.\\n\\n9. LLM 적용\\n\\nLLM을 적용하기 위해 필요한 코드와 설정을 설명함.\\n사용자가 입력한 내용을 기반으로 AI의 답변을 생성하는 과정을 구현함.\\n메모리 기능을 추가하여 대화 기록을 저장하고 활용할 수 있도록 함.\\n\\n10. 기능 추가 및 개선',\n",
       "  '대화 기록을 로컬 DB에 저장하여 사용자가 다시 방문했을 때 이전 대화를 보여줄 수 있도록 함.\\n다양한 컴포넌트를 활용하여 기능을 추가하고 개선할 수 있는 방법을 제시함.\\n영상의 목적은 처음부터 구현하는 흐름을 보여주고, 기능 추가 및 오류 수정이 용이하도록 하는 것임.'],\n",
       " 'uris': None,\n",
       " 'data': None,\n",
       " 'metadatas': [{'source': './data/langchain.txt'},\n",
       "  {'source': './data/langchain.txt'},\n",
       "  {'source': './data/langchain.txt'},\n",
       "  {'source': './data/langchain.txt'},\n",
       "  {'source': './data/langchain.txt'},\n",
       "  {'source': './data/langchain.txt'},\n",
       "  {'source': './data/langchain.txt'},\n",
       "  {'source': './data/langchain.txt'},\n",
       "  {'source': './data/langchain.txt'},\n",
       "  {'source': './data/langchain.txt'},\n",
       "  {'source': './data/langchain.txt'},\n",
       "  {'source': './data/langchain.txt'},\n",
       "  {'source': './data/langchain.txt'},\n",
       "  {'source': './data/langchain.txt'}],\n",
       " 'included': [<IncludeEnum.documents: 'documents'>,\n",
       "  <IncludeEnum.metadatas: 'metadatas'>]}"
      ]
     },
     "execution_count": 32,
     "metadata": {},
     "output_type": "execute_result"
    }
   ],
   "source": [
    "db.get()"
   ]
  },
  {
   "cell_type": "markdown",
   "metadata": {},
   "source": [
    "### 검색기로 만들기\n",
    "- LLM에서 편리하게 사용하기 위함"
   ]
  },
  {
   "cell_type": "code",
   "execution_count": null,
   "metadata": {},
   "outputs": [
    {
     "data": {
      "text/plain": [
       "[Document(id='eec4e347-fbb4-4e3e-a953-4f03380171d3', metadata={'source': './data/langchain.txt'}, page_content='이 영상은 LangChain을 활용하여 Streamlit으로 ChatGPT 클론 서비스를 만드는 방법을 단계별로 설명합니다. 강사는 코드를 처음부터 끝까지 직접 작성하며, 기능을 하나씩 추가하는 과정을 보여주어 초보자들이 코드를 이해하고 수정할 수 있도록 돕고자 합니다. 이 과정에서 기능 추가와 코드 관리의 중요성을 강조하며, 실습을 통해 학습할 수 있는 기회를 제공합니다.\\n\\n1. 영상 소개 및 목표'),\n",
       " Document(id='eac4a01d-8dcc-4562-9d7b-f0be996d887d', metadata={'source': './data/langchain.txt'}, page_content='이 영상은 LangChain을 활용하여 Streamlit으로 ChatGPT 클론 서비스를 만드는 방법을 단계별로 설명합니다. 강사는 코드를 처음부터 끝까지 직접 작성하며, 기능을 하나씩 추가하는 과정을 보여주어 초보자들이 코드를 이해하고 수정할 수 있도록 돕고자 합니다. 이 과정에서 기능 추가와 코드 관리의 중요성을 강조하며, 실습을 통해 학습할 수 있는 기회를 제공합니다.\\n\\n1. 영상 소개 및 목표'),\n",
       " Document(id='8568d357-f180-4001-a5cf-7865b67bea3f', metadata={'source': './data/langchain.txt'}, page_content='오늘의 영상은 LML을 활용한 스트림 웹앱 서비스 제작에 대한 내용임.\\n이전 영상과 마찬가지로 백지에서 코드를 만들어 나가는 과정을 보여줄 예정임.\\n기능을 하나씩 추가하며 ChatGPT와 유사한 서비스를 만드는 것이 목표임.\\n레퍼런스 코드를 단순히 복사하여 붙여넣는 방식은 원하는 기능을 추가하기 어려움.\\n코딩에 익숙하지 않은 사람들을 위해 차근차근 과정을 설명할 것임.\\n\\n2. 기본 파일 구조'),\n",
       " Document(id='abeadd57-6544-4783-8721-4b67248527c4', metadata={'source': './data/langchain.txt'}, page_content='오늘의 영상은 LML을 활용한 스트림 웹앱 서비스 제작에 대한 내용임.\\n이전 영상과 마찬가지로 백지에서 코드를 만들어 나가는 과정을 보여줄 예정임.\\n기능을 하나씩 추가하며 ChatGPT와 유사한 서비스를 만드는 것이 목표임.\\n레퍼런스 코드를 단순히 복사하여 붙여넣는 방식은 원하는 기능을 추가하기 어려움.\\n코딩에 익숙하지 않은 사람들을 위해 차근차근 과정을 설명할 것임.\\n\\n2. 기본 파일 구조')]"
      ]
     },
     "execution_count": 34,
     "metadata": {},
     "output_type": "execute_result"
    }
   ],
   "source": [
    "retriever = db.as_retriever()  # langchain에서 활용하는 검색기의 역할\n",
    "retriever.invoke('langchain이란?')\n"
   ]
  },
  {
   "cell_type": "code",
   "execution_count": null,
   "metadata": {},
   "outputs": [
    {
     "name": "stderr",
     "output_type": "stream",
     "text": [
      "Number of requested results 20 is greater than number of elements in index 14, updating n_results = 14\n"
     ]
    },
    {
     "data": {
      "text/plain": [
       "[Document(id='eec4e347-fbb4-4e3e-a953-4f03380171d3', metadata={'source': './data/langchain.txt'}, page_content='이 영상은 LangChain을 활용하여 Streamlit으로 ChatGPT 클론 서비스를 만드는 방법을 단계별로 설명합니다. 강사는 코드를 처음부터 끝까지 직접 작성하며, 기능을 하나씩 추가하는 과정을 보여주어 초보자들이 코드를 이해하고 수정할 수 있도록 돕고자 합니다. 이 과정에서 기능 추가와 코드 관리의 중요성을 강조하며, 실습을 통해 학습할 수 있는 기회를 제공합니다.\\n\\n1. 영상 소개 및 목표'),\n",
       " Document(id='eac4a01d-8dcc-4562-9d7b-f0be996d887d', metadata={'source': './data/langchain.txt'}, page_content='이 영상은 LangChain을 활용하여 Streamlit으로 ChatGPT 클론 서비스를 만드는 방법을 단계별로 설명합니다. 강사는 코드를 처음부터 끝까지 직접 작성하며, 기능을 하나씩 추가하는 과정을 보여주어 초보자들이 코드를 이해하고 수정할 수 있도록 돕고자 합니다. 이 과정에서 기능 추가와 코드 관리의 중요성을 강조하며, 실습을 통해 학습할 수 있는 기회를 제공합니다.\\n\\n1. 영상 소개 및 목표')]"
      ]
     },
     "execution_count": 41,
     "metadata": {},
     "output_type": "execute_result"
    }
   ],
   "source": [
    "retriever = db.as_retriever(\n",
    "    search_type='mmr',  # 검색 결과에 다양성을 부여\n",
    "    search_kwargs={\n",
    "        \"k\": 2,\n",
    "        \"lambda_mult\": 1,  # 1에 가까울 수록 정확도를 우선시하고, 0에 가까울 수록 다양성을 우선시 함\n",
    "        \"fatch_k\": 10  # 초기 후보 개수 설정\n",
    "    }\n",
    ")\n",
    "retriever.invoke('langchain이란?')"
   ]
  },
  {
   "cell_type": "code",
   "execution_count": 43,
   "metadata": {},
   "outputs": [
    {
     "data": {
      "text/plain": [
       "[Document(id='eec4e347-fbb4-4e3e-a953-4f03380171d3', metadata={'source': './data/langchain.txt'}, page_content='이 영상은 LangChain을 활용하여 Streamlit으로 ChatGPT 클론 서비스를 만드는 방법을 단계별로 설명합니다. 강사는 코드를 처음부터 끝까지 직접 작성하며, 기능을 하나씩 추가하는 과정을 보여주어 초보자들이 코드를 이해하고 수정할 수 있도록 돕고자 합니다. 이 과정에서 기능 추가와 코드 관리의 중요성을 강조하며, 실습을 통해 학습할 수 있는 기회를 제공합니다.\\n\\n1. 영상 소개 및 목표'),\n",
       " Document(id='eac4a01d-8dcc-4562-9d7b-f0be996d887d', metadata={'source': './data/langchain.txt'}, page_content='이 영상은 LangChain을 활용하여 Streamlit으로 ChatGPT 클론 서비스를 만드는 방법을 단계별로 설명합니다. 강사는 코드를 처음부터 끝까지 직접 작성하며, 기능을 하나씩 추가하는 과정을 보여주어 초보자들이 코드를 이해하고 수정할 수 있도록 돕고자 합니다. 이 과정에서 기능 추가와 코드 관리의 중요성을 강조하며, 실습을 통해 학습할 수 있는 기회를 제공합니다.\\n\\n1. 영상 소개 및 목표')]"
      ]
     },
     "execution_count": 43,
     "metadata": {},
     "output_type": "execute_result"
    }
   ],
   "source": [
    "retriever = db.as_retriever(\n",
    "    search_type='similarity_score_threshold',  # 검색 결과에 다양성을 부여\n",
    "    search_kwargs={\n",
    "        'score_threshold': 0.7\n",
    "    }\n",
    ")\n",
    "retriever.invoke('langchain이란?')"
   ]
  },
  {
   "cell_type": "markdown",
   "metadata": {},
   "source": [
    "### Vector DB - FAISS"
   ]
  },
  {
   "cell_type": "code",
   "execution_count": 9,
   "metadata": {},
   "outputs": [
    {
     "data": {
      "text/plain": [
       "[Document(metadata={'source': './data/langchain.txt'}, page_content='이 영상은 LangChain을 활용하여 Streamlit으로 ChatGPT 클론 서비스를 만드는 방법을 단계별로 설명합니다. 강사는 코드를 처음부터 끝까지 직접 작성하며, 기능을 하나씩 추가하는 과정을 보여주어 초보자들이 코드를 이해하고 수정할 수 있도록 돕고자 합니다. 이 과정에서 기능 추가와 코드 관리의 중요성을 강조하며, 실습을 통해 학습할 수 있는 기회를 제공합니다.\\n\\n1. 영상 소개 및 목표'),\n",
       " Document(metadata={'source': './data/langchain.txt'}, page_content='오늘의 영상은 LML을 활용한 스트림 웹앱 서비스 제작에 대한 내용임.\\n이전 영상과 마찬가지로 백지에서 코드를 만들어 나가는 과정을 보여줄 예정임.\\n기능을 하나씩 추가하며 ChatGPT와 유사한 서비스를 만드는 것이 목표임.\\n레퍼런스 코드를 단순히 복사하여 붙여넣는 방식은 원하는 기능을 추가하기 어려움.\\n코딩에 익숙하지 않은 사람들을 위해 차근차근 과정을 설명할 것임.\\n\\n2. 기본 파일 구조'),\n",
       " Document(metadata={'source': './data/langchain.txt'}, page_content=\"'점 스트림'이라는 폴더를 만들고, 그 안에 'Secrets.toml' 파일을 생성함.\\n이 파일에는 오픈 AI 키를 넣어두고, 나중에 이를 가져와서 설정할 것임.\\n'메인.py' 파일 하나만 있으면 충분함.\\n\\n3. 단계적 개발 방법\\n\\n처음부터 완성형 서비스를 만들려고 하지 말고, 기본적인 수준부터 기능을 하나씩 추가하는 것이 좋음.\\n가장 쉬운 기능부터 시작하여 난이도를 높여가는 방식으로 진행함.\\n\\n4. 웹사이트 띄우기\"),\n",
       " Document(metadata={'source': './data/langchain.txt'}, page_content=\"웹사이트를 띄우기 위해 기본적인 코드를 작성함.\\n'stre'를 임포트하고, 페이지 타이틀을 설정하는 코드 작성\\n기터 코파일럿을 사용하여 코드 자동 완성을 추천함.\\n서버를 올리고 웹사이트가 잘 구동되는지 확인함.\\n\\n5. 채팅 기능 구현\\n\\n채팅 기능을 구현하기 위해 스트림릿에서 제공하는 컴포넌트를 사용함.\\n'챗 인풋'과 '챗 메시지' 요소를 활용하여 채팅 기능을 구현할 것임.\\n스트림릿 공식 웹사이트에서 API 레퍼런스를 확인하여 예시 코드를 참고할 것을 권장함.\\n\\n6. 사용자 입력 처리\"),\n",
       " Document(metadata={'source': './data/langchain.txt'}, page_content='사용자가 메시지를 입력할 수 있도록 지시문을 설정함.\\n입력된 메시지를 조건문을 통해 처리하고, 유저 아바타를 입혀서 출력함.\\n세션 스테이트를 사용하여 입력된 메시지를 기록하고, 페이지가 새로 고침되더라도 메시지를 유지할 수 있도록 함.\\n\\n7. AI 답변 처리\\n\\n사용자가 입력한 메시지에 대한 AI의 답변을 생성하는 로직을 구현함.\\n유저의 메시지를 출력한 후, AI의 답변을 추가로 출력하는 방식으로 진행함.\\n\\n8. 코드 정리 및 함수화'),\n",
       " Document(metadata={'source': './data/langchain.txt'}, page_content='출력하는 코드를 함수로 패키징하여 코드의 가독성을 높임.\\n챗 메시지를 튜플로 넣는 대신 객체화하여 가독성을 높이는 방법을 설명함.\\n\\n9. LLM 적용\\n\\nLLM을 적용하기 위해 필요한 코드와 설정을 설명함.\\n사용자가 입력한 내용을 기반으로 AI의 답변을 생성하는 과정을 구현함.\\n메모리 기능을 추가하여 대화 기록을 저장하고 활용할 수 있도록 함.\\n\\n10. 기능 추가 및 개선'),\n",
       " Document(metadata={'source': './data/langchain.txt'}, page_content='대화 기록을 로컬 DB에 저장하여 사용자가 다시 방문했을 때 이전 대화를 보여줄 수 있도록 함.\\n다양한 컴포넌트를 활용하여 기능을 추가하고 개선할 수 있는 방법을 제시함.\\n영상의 목적은 처음부터 구현하는 흐름을 보여주고, 기능 추가 및 오류 수정이 용이하도록 하는 것임.')]"
      ]
     },
     "execution_count": 9,
     "metadata": {},
     "output_type": "execute_result"
    }
   ],
   "source": [
    "from langchain_community.document_loaders import TextLoader\n",
    "from langchain_openai import OpenAIEmbeddings\n",
    "from langchain.text_splitter import RecursiveCharacterTextSplitter\n",
    "import faiss\n",
    "from langchain_community.vectorstores import FAISS\n",
    "from langchain.docstore.in_memory import InMemoryDocstore\n",
    "\n",
    "loader = TextLoader(\"./data/langchain.txt\")\n",
    "splitter = RecursiveCharacterTextSplitter(chunk_size=300, chunk_overlap=0)\n",
    "\n",
    "docs = loader.load()\n",
    "chunks = splitter.split_documents(docs)\n",
    "\n",
    "# chunks = loader.load_and_split(splitter)\n",
    "\n",
    "chunks"
   ]
  },
  {
   "cell_type": "code",
   "execution_count": 10,
   "metadata": {},
   "outputs": [
    {
     "data": {
      "text/plain": [
       "[Document(id='b0e3f105-4841-4ec7-98b0-d48ca5b49b6b', metadata={'source': './data/langchain.txt'}, page_content='이 영상은 LangChain을 활용하여 Streamlit으로 ChatGPT 클론 서비스를 만드는 방법을 단계별로 설명합니다. 강사는 코드를 처음부터 끝까지 직접 작성하며, 기능을 하나씩 추가하는 과정을 보여주어 초보자들이 코드를 이해하고 수정할 수 있도록 돕고자 합니다. 이 과정에서 기능 추가와 코드 관리의 중요성을 강조하며, 실습을 통해 학습할 수 있는 기회를 제공합니다.\\n\\n1. 영상 소개 및 목표'),\n",
       " Document(id='3d38a532-6a36-4981-a683-e92236e5ad00', metadata={'source': './data/langchain.txt'}, page_content='오늘의 영상은 LML을 활용한 스트림 웹앱 서비스 제작에 대한 내용임.\\n이전 영상과 마찬가지로 백지에서 코드를 만들어 나가는 과정을 보여줄 예정임.\\n기능을 하나씩 추가하며 ChatGPT와 유사한 서비스를 만드는 것이 목표임.\\n레퍼런스 코드를 단순히 복사하여 붙여넣는 방식은 원하는 기능을 추가하기 어려움.\\n코딩에 익숙하지 않은 사람들을 위해 차근차근 과정을 설명할 것임.\\n\\n2. 기본 파일 구조'),\n",
       " Document(id='22079c7f-35e2-4f02-a97c-155e831f6ade', metadata={'source': './data/langchain.txt'}, page_content='대화 기록을 로컬 DB에 저장하여 사용자가 다시 방문했을 때 이전 대화를 보여줄 수 있도록 함.\\n다양한 컴포넌트를 활용하여 기능을 추가하고 개선할 수 있는 방법을 제시함.\\n영상의 목적은 처음부터 구현하는 흐름을 보여주고, 기능 추가 및 오류 수정이 용이하도록 하는 것임.'),\n",
       " Document(id='2f26940c-143c-4781-967c-de8a6b8d08e1', metadata={'source': './data/langchain.txt'}, page_content='출력하는 코드를 함수로 패키징하여 코드의 가독성을 높임.\\n챗 메시지를 튜플로 넣는 대신 객체화하여 가독성을 높이는 방법을 설명함.\\n\\n9. LLM 적용\\n\\nLLM을 적용하기 위해 필요한 코드와 설정을 설명함.\\n사용자가 입력한 내용을 기반으로 AI의 답변을 생성하는 과정을 구현함.\\n메모리 기능을 추가하여 대화 기록을 저장하고 활용할 수 있도록 함.\\n\\n10. 기능 추가 및 개선')]"
      ]
     },
     "execution_count": 10,
     "metadata": {},
     "output_type": "execute_result"
    }
   ],
   "source": [
    "dim_size = 512\n",
    "embeddings = OpenAIEmbeddings()\n",
    "\n",
    "db = FAISS(\n",
    "    embedding_function=embeddings,\n",
    "    index=faiss.IndexFlatL2(dim_size),\n",
    "    docstore=InMemoryDocstore(),\n",
    "    index_to_docstore_id={}\n",
    ")\n",
    "\n",
    "db = db.from_documents(\n",
    "    documents=chunks,\n",
    "    embedding=embeddings,\n",
    ")\n",
    "\n",
    "db.similarity_search('langchain이란?')"
   ]
  },
  {
   "cell_type": "code",
   "execution_count": 11,
   "metadata": {},
   "outputs": [
    {
     "data": {
      "text/plain": [
       "[Document(id='b0e3f105-4841-4ec7-98b0-d48ca5b49b6b', metadata={'source': './data/langchain.txt'}, page_content='이 영상은 LangChain을 활용하여 Streamlit으로 ChatGPT 클론 서비스를 만드는 방법을 단계별로 설명합니다. 강사는 코드를 처음부터 끝까지 직접 작성하며, 기능을 하나씩 추가하는 과정을 보여주어 초보자들이 코드를 이해하고 수정할 수 있도록 돕고자 합니다. 이 과정에서 기능 추가와 코드 관리의 중요성을 강조하며, 실습을 통해 학습할 수 있는 기회를 제공합니다.\\n\\n1. 영상 소개 및 목표'),\n",
       " Document(id='3d38a532-6a36-4981-a683-e92236e5ad00', metadata={'source': './data/langchain.txt'}, page_content='오늘의 영상은 LML을 활용한 스트림 웹앱 서비스 제작에 대한 내용임.\\n이전 영상과 마찬가지로 백지에서 코드를 만들어 나가는 과정을 보여줄 예정임.\\n기능을 하나씩 추가하며 ChatGPT와 유사한 서비스를 만드는 것이 목표임.\\n레퍼런스 코드를 단순히 복사하여 붙여넣는 방식은 원하는 기능을 추가하기 어려움.\\n코딩에 익숙하지 않은 사람들을 위해 차근차근 과정을 설명할 것임.\\n\\n2. 기본 파일 구조'),\n",
       " Document(id='22079c7f-35e2-4f02-a97c-155e831f6ade', metadata={'source': './data/langchain.txt'}, page_content='대화 기록을 로컬 DB에 저장하여 사용자가 다시 방문했을 때 이전 대화를 보여줄 수 있도록 함.\\n다양한 컴포넌트를 활용하여 기능을 추가하고 개선할 수 있는 방법을 제시함.\\n영상의 목적은 처음부터 구현하는 흐름을 보여주고, 기능 추가 및 오류 수정이 용이하도록 하는 것임.'),\n",
       " Document(id='2f26940c-143c-4781-967c-de8a6b8d08e1', metadata={'source': './data/langchain.txt'}, page_content='출력하는 코드를 함수로 패키징하여 코드의 가독성을 높임.\\n챗 메시지를 튜플로 넣는 대신 객체화하여 가독성을 높이는 방법을 설명함.\\n\\n9. LLM 적용\\n\\nLLM을 적용하기 위해 필요한 코드와 설정을 설명함.\\n사용자가 입력한 내용을 기반으로 AI의 답변을 생성하는 과정을 구현함.\\n메모리 기능을 추가하여 대화 기록을 저장하고 활용할 수 있도록 함.\\n\\n10. 기능 추가 및 개선')]"
      ]
     },
     "execution_count": 11,
     "metadata": {},
     "output_type": "execute_result"
    }
   ],
   "source": [
    "retriever_faiss = db.as_retriever()\n",
    "retriever_faiss.invoke('langchain이란?')"
   ]
  },
  {
   "cell_type": "code",
   "execution_count": 12,
   "metadata": {},
   "outputs": [],
   "source": [
    "db.save_local(folder_path='./db/faiss_db', index_name='faiss_index')"
   ]
  },
  {
   "cell_type": "code",
   "execution_count": 13,
   "metadata": {},
   "outputs": [],
   "source": [
    "db = FAISS.load_local(\n",
    "    folder_path = './db/faiss_db',\n",
    "    index_name='faiss_index',\n",
    "    embeddings=embeddings,\n",
    "    allow_dangerous_deserialization=True\n",
    ")\n"
   ]
  },
  {
   "cell_type": "code",
   "execution_count": 14,
   "metadata": {},
   "outputs": [
    {
     "data": {
      "text/plain": [
       "[Document(id='b0e3f105-4841-4ec7-98b0-d48ca5b49b6b', metadata={'source': './data/langchain.txt'}, page_content='이 영상은 LangChain을 활용하여 Streamlit으로 ChatGPT 클론 서비스를 만드는 방법을 단계별로 설명합니다. 강사는 코드를 처음부터 끝까지 직접 작성하며, 기능을 하나씩 추가하는 과정을 보여주어 초보자들이 코드를 이해하고 수정할 수 있도록 돕고자 합니다. 이 과정에서 기능 추가와 코드 관리의 중요성을 강조하며, 실습을 통해 학습할 수 있는 기회를 제공합니다.\\n\\n1. 영상 소개 및 목표'),\n",
       " Document(id='3d38a532-6a36-4981-a683-e92236e5ad00', metadata={'source': './data/langchain.txt'}, page_content='오늘의 영상은 LML을 활용한 스트림 웹앱 서비스 제작에 대한 내용임.\\n이전 영상과 마찬가지로 백지에서 코드를 만들어 나가는 과정을 보여줄 예정임.\\n기능을 하나씩 추가하며 ChatGPT와 유사한 서비스를 만드는 것이 목표임.\\n레퍼런스 코드를 단순히 복사하여 붙여넣는 방식은 원하는 기능을 추가하기 어려움.\\n코딩에 익숙하지 않은 사람들을 위해 차근차근 과정을 설명할 것임.\\n\\n2. 기본 파일 구조'),\n",
       " Document(id='22079c7f-35e2-4f02-a97c-155e831f6ade', metadata={'source': './data/langchain.txt'}, page_content='대화 기록을 로컬 DB에 저장하여 사용자가 다시 방문했을 때 이전 대화를 보여줄 수 있도록 함.\\n다양한 컴포넌트를 활용하여 기능을 추가하고 개선할 수 있는 방법을 제시함.\\n영상의 목적은 처음부터 구현하는 흐름을 보여주고, 기능 추가 및 오류 수정이 용이하도록 하는 것임.'),\n",
       " Document(id='2f26940c-143c-4781-967c-de8a6b8d08e1', metadata={'source': './data/langchain.txt'}, page_content='출력하는 코드를 함수로 패키징하여 코드의 가독성을 높임.\\n챗 메시지를 튜플로 넣는 대신 객체화하여 가독성을 높이는 방법을 설명함.\\n\\n9. LLM 적용\\n\\nLLM을 적용하기 위해 필요한 코드와 설정을 설명함.\\n사용자가 입력한 내용을 기반으로 AI의 답변을 생성하는 과정을 구현함.\\n메모리 기능을 추가하여 대화 기록을 저장하고 활용할 수 있도록 함.\\n\\n10. 기능 추가 및 개선')]"
      ]
     },
     "execution_count": 14,
     "metadata": {},
     "output_type": "execute_result"
    }
   ],
   "source": [
    "db.similarity_search('langchain이란?')"
   ]
  },
  {
   "cell_type": "markdown",
   "metadata": {},
   "source": [
    "### langchain / huggingface / ollama"
   ]
  },
  {
   "cell_type": "code",
   "execution_count": 17,
   "metadata": {},
   "outputs": [
    {
     "data": {
      "text/plain": [
       "[-0.0024854617659002542, -0.0613161139190197, -0.008378866128623486]"
      ]
     },
     "execution_count": 17,
     "metadata": {},
     "output_type": "execute_result"
    }
   ],
   "source": [
    "from langchain_openai import OpenAIEmbeddings\n",
    "\n",
    "embed = OpenAIEmbeddings(model='text-embedding-3-small')\n",
    "result = embed.embed_query('안녕하세요')\n",
    "result[:3]"
   ]
  },
  {
   "cell_type": "code",
   "execution_count": 20,
   "metadata": {},
   "outputs": [
    {
     "name": "stderr",
     "output_type": "stream",
     "text": [
      "c:\\Users\\user\\miniconda3\\envs\\lang_311\\Lib\\site-packages\\huggingface_hub\\utils\\_deprecation.py:131: FutureWarning: 'post' (from 'huggingface_hub.inference._client') is deprecated and will be removed from version '0.31.0'. Making direct POST requests to the inference server is not supported anymore. Please use task methods instead (e.g. `InferenceClient.chat_completion`). If your use case is not supported, please open an issue in https://github.com/huggingface/huggingface_hub.\n",
      "  warnings.warn(warning_message, FutureWarning)\n"
     ]
    },
    {
     "data": {
      "text/plain": [
       "[0.012227669358253479, 0.01514587365090847, 0.019981645047664642]"
      ]
     },
     "execution_count": 20,
     "metadata": {},
     "output_type": "execute_result"
    }
   ],
   "source": [
    "from langchain_huggingface.embeddings import HuggingFaceEndpointEmbeddings\n",
    "\n",
    "# model_name = 'intfloat/multilingual-e5-large'\n",
    "model_name = 'intfloat/multilingual-e5-large-instruct'\n",
    "task_name = 'feature-extraction'\n",
    "\n",
    "hf_emb = HuggingFaceEndpointEmbeddings(\n",
    "    model=model_name,\n",
    "    task=task_name\n",
    ")\n",
    "\n",
    "result = hf_emb.embed_query('안녕하세요')\n",
    "result[:3]\n"
   ]
  },
  {
   "cell_type": "code",
   "execution_count": 21,
   "metadata": {},
   "outputs": [
    {
     "name": "stderr",
     "output_type": "stream",
     "text": [
      "C:\\Users\\user\\AppData\\Local\\Temp\\ipykernel_38376\\201652508.py:7: LangChainDeprecationWarning: The class `OllamaEmbeddings` was deprecated in LangChain 0.3.1 and will be removed in 1.0.0. An updated version of the class exists in the :class:`~langchain-ollama package and should be used instead. To use it run `pip install -U :class:`~langchain-ollama` and import as `from :class:`~langchain_ollama import OllamaEmbeddings``.\n",
      "  ollama_emb = OllamaEmbeddings(\n"
     ]
    },
    {
     "data": {
      "text/plain": [
       "[0.18777593970298767, 0.005022969096899033, -3.0870871543884277]"
      ]
     },
     "execution_count": 21,
     "metadata": {},
     "output_type": "execute_result"
    }
   ],
   "source": [
    "# $ ollama pull nomic-embed-text\n",
    "\n",
    "from langchain_community.embeddings import OllamaEmbeddings\n",
    "\n",
    "model_name = 'nomic-embed-text'\n",
    "\n",
    "ollama_emb = OllamaEmbeddings(\n",
    "    model=model_name\n",
    ")\n",
    "\n",
    "result = ollama_emb.embed_query('안녕하세요')\n",
    "result[:3]"
   ]
  }
 ],
 "metadata": {
  "kernelspec": {
   "display_name": "lang_311",
   "language": "python",
   "name": "python3"
  },
  "language_info": {
   "codemirror_mode": {
    "name": "ipython",
    "version": 3
   },
   "file_extension": ".py",
   "mimetype": "text/x-python",
   "name": "python",
   "nbconvert_exporter": "python",
   "pygments_lexer": "ipython3",
   "version": "3.11.11"
  }
 },
 "nbformat": 4,
 "nbformat_minor": 2
}
