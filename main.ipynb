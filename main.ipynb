{
 "cells": [
  {
   "cell_type": "markdown",
   "id": "fa7dea3c-29bd-4ac0-b483-ed3ad069aa12",
   "metadata": {
    "jp-MarkdownHeadingCollapsed": true
   },
   "source": [
    "#### 데이터 분석\n",
    "- 오리엔테이션\n",
    "- 파이썬"
   ]
  },
  {
   "cell_type": "code",
   "execution_count": 10,
   "id": "0d468fb7-cc81-4943-9d7f-2eae5f0d153d",
   "metadata": {},
   "outputs": [
    {
     "name": "stdout",
     "output_type": "stream",
     "text": [
      "python\n"
     ]
    }
   ],
   "source": [
    "print(\"python\")"
   ]
  },
  {
   "cell_type": "code",
   "execution_count": 9,
   "id": "f45cc4b6-b879-475f-a133-90386061cde6",
   "metadata": {},
   "outputs": [
    {
     "name": "stdout",
     "output_type": "stream",
     "text": [
      "abcd\n"
     ]
    }
   ],
   "source": [
    "print(\"abcd\")"
   ]
  },
  {
   "cell_type": "code",
   "execution_count": 1,
   "id": "08da97ba",
   "metadata": {},
   "outputs": [
    {
     "ename": "ModuleNotFoundError",
     "evalue": "No module named 'numpy'",
     "output_type": "error",
     "traceback": [
      "\u001b[1;31m---------------------------------------------------------------------------\u001b[0m",
      "\u001b[1;31mModuleNotFoundError\u001b[0m                       Traceback (most recent call last)",
      "Cell \u001b[1;32mIn[1], line 1\u001b[0m\n\u001b[1;32m----> 1\u001b[0m \u001b[38;5;28;01mimport\u001b[39;00m \u001b[38;5;21;01mnumpy\u001b[39;00m\n",
      "\u001b[1;31mModuleNotFoundError\u001b[0m: No module named 'numpy'"
     ]
    }
   ],
   "source": [
    "import numpy"
   ]
  },
  {
   "cell_type": "code",
   "execution_count": null,
   "id": "7d53f72d",
   "metadata": {},
   "outputs": [
    {
     "name": "stdout",
     "output_type": "stream",
     "text": [
      "['안녕하세요', '.', '오늘', '도', '좋은', '하루', '되세요', '!']\n"
     ]
    }
   ],
   "source": [
    "# konlpy 설치 테스트\n",
    "from konlpy.tag import Okt\n",
    "\n",
    "text = \"안녕하세요. 오늘도 좋은 하루 되세요!\"\n",
    "kkma = Okt()\n",
    "\n",
    "result = kkma.morphs(text)\n",
    "print(result)\n"
   ]
  }
 ],
 "metadata": {
  "kernelspec": {
   "display_name": "analysis",
   "language": "python",
   "name": "python3"
  },
  "language_info": {
   "codemirror_mode": {
    "name": "ipython",
    "version": 3
   },
   "file_extension": ".py",
   "mimetype": "text/x-python",
   "name": "python",
   "nbconvert_exporter": "python",
   "pygments_lexer": "ipython3",
   "version": "3.13.0"
  }
 },
 "nbformat": 4,
 "nbformat_minor": 5
}
