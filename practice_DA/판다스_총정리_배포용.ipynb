{
 "cells": [
  {
   "cell_type": "markdown",
   "metadata": {},
   "source": [
    "# 판다스"
   ]
  },
  {
   "cell_type": "code",
   "execution_count": 1,
   "metadata": {},
   "outputs": [],
   "source": [
    "import pandas as pd"
   ]
  },
  {
   "cell_type": "markdown",
   "metadata": {},
   "source": [
    "# 1. 데이터 생성 또는 불러오기"
   ]
  },
  {
   "cell_type": "markdown",
   "metadata": {},
   "source": [
    "데이터 설명\n",
    "* customer_id: 고객 ID (정수형).\n",
    "* name: 고객 이름 (결측치 포함).\n",
    "* age: 고객 나이 (실수형으로 저장됨).\n",
    "* signup_date: 가입 날짜 (텍스트로 저장, 잘못된 값 포함).\n",
    "* purchase_amount: 구매 금액 (실수형).\n",
    "* is_active: 활성 상태 (다양한 형식의 값 포함)."
   ]
  },
  {
   "cell_type": "code",
   "execution_count": 2,
   "metadata": {},
   "outputs": [
    {
     "data": {
      "text/html": [
       "<div>\n",
       "<style scoped>\n",
       "    .dataframe tbody tr th:only-of-type {\n",
       "        vertical-align: middle;\n",
       "    }\n",
       "\n",
       "    .dataframe tbody tr th {\n",
       "        vertical-align: top;\n",
       "    }\n",
       "\n",
       "    .dataframe thead th {\n",
       "        text-align: right;\n",
       "    }\n",
       "</style>\n",
       "<table border=\"1\" class=\"dataframe\">\n",
       "  <thead>\n",
       "    <tr style=\"text-align: right;\">\n",
       "      <th></th>\n",
       "      <th>customer_id</th>\n",
       "      <th>name</th>\n",
       "      <th>age</th>\n",
       "      <th>signup_date</th>\n",
       "      <th>purchase_amount</th>\n",
       "      <th>is_active</th>\n",
       "      <th>group</th>\n",
       "    </tr>\n",
       "  </thead>\n",
       "  <tbody>\n",
       "    <tr>\n",
       "      <th>0</th>\n",
       "      <td>101</td>\n",
       "      <td>Alice</td>\n",
       "      <td>25.0</td>\n",
       "      <td>2023-01-15</td>\n",
       "      <td>120.50</td>\n",
       "      <td>True</td>\n",
       "      <td>A</td>\n",
       "    </tr>\n",
       "    <tr>\n",
       "      <th>1</th>\n",
       "      <td>102</td>\n",
       "      <td>Bob</td>\n",
       "      <td>30.0</td>\n",
       "      <td>2023-02-20</td>\n",
       "      <td>120.20</td>\n",
       "      <td>False</td>\n",
       "      <td>A</td>\n",
       "    </tr>\n",
       "    <tr>\n",
       "      <th>2</th>\n",
       "      <td>103</td>\n",
       "      <td>Charlie</td>\n",
       "      <td>28.0</td>\n",
       "      <td>2023-03-20</td>\n",
       "      <td>200.00</td>\n",
       "      <td>yes</td>\n",
       "      <td>B</td>\n",
       "    </tr>\n",
       "    <tr>\n",
       "      <th>3</th>\n",
       "      <td>104</td>\n",
       "      <td>None</td>\n",
       "      <td>40.0</td>\n",
       "      <td>2023-03-01</td>\n",
       "      <td>150.75</td>\n",
       "      <td>no</td>\n",
       "      <td>C</td>\n",
       "    </tr>\n",
       "    <tr>\n",
       "      <th>4</th>\n",
       "      <td>105</td>\n",
       "      <td>Eva</td>\n",
       "      <td>35.0</td>\n",
       "      <td>2023-04-10</td>\n",
       "      <td>300.40</td>\n",
       "      <td>True</td>\n",
       "      <td>C</td>\n",
       "    </tr>\n",
       "  </tbody>\n",
       "</table>\n",
       "</div>"
      ],
      "text/plain": [
       "   customer_id     name   age signup_date  purchase_amount is_active group\n",
       "0          101    Alice  25.0  2023-01-15           120.50      True     A\n",
       "1          102      Bob  30.0  2023-02-20           120.20     False     A\n",
       "2          103  Charlie  28.0  2023-03-20           200.00       yes     B\n",
       "3          104     None  40.0  2023-03-01           150.75        no     C\n",
       "4          105      Eva  35.0  2023-04-10           300.40      True     C"
      ]
     },
     "execution_count": 2,
     "metadata": {},
     "output_type": "execute_result"
    }
   ],
   "source": [
    "# 데이터 생성\n",
    "data_dict = {\n",
    "    \"customer_id\": [101, 102, 103, 104, 105],\n",
    "    \"name\": [\"Alice\", \"Bob\", \"Charlie\", None, \"Eva\"],\n",
    "    \"age\": [25.0, 30.0, 28.0, 40.0, 35.0],\n",
    "    \"signup_date\": [\"2023-01-15\", \"2023-02-20\", \"2023-03-20\", \"2023-03-01\", \"2023-04-10\"],\n",
    "    \"purchase_amount\": [120.50, 120.2, 200.00, 150.75, 300.40],\n",
    "    \"is_active\": [True, False, \"yes\", \"no\", True],\n",
    "    \"group\": [\"A\", \"A\", \"B\", \"C\", \"C\"]\n",
    "}\n",
    "\n",
    "# 데이터프레임 생성\n",
    "data = pd.DataFrame(data_dict)\n",
    "data\n"
   ]
  },
  {
   "cell_type": "code",
   "execution_count": 43,
   "metadata": {},
   "outputs": [],
   "source": [
    "# data.head(n)      # 처움부터 n개의 데이터를 출력\n",
    "# data.tail(n)      # 끝에서 n개의 데이터를 출력"
   ]
  },
  {
   "cell_type": "markdown",
   "metadata": {},
   "source": [
    "# 2. 전처리"
   ]
  },
  {
   "cell_type": "markdown",
   "metadata": {},
   "source": [
    "목표 \n",
    "* 결측치 처리: name에서 결측치 확인 및 처리.\n",
    "* signup_date를 datetime 형식으로 변환 (오류 처리 포함).\n",
    "* is_active를 논리형(bool)으로 통일.\n",
    "* customer_id를 인덱스로 설정."
   ]
  },
  {
   "cell_type": "code",
   "execution_count": 3,
   "metadata": {},
   "outputs": [
    {
     "name": "stdout",
     "output_type": "stream",
     "text": [
      "<class 'pandas.core.frame.DataFrame'>\n",
      "RangeIndex: 5 entries, 0 to 4\n",
      "Data columns (total 7 columns):\n",
      " #   Column           Non-Null Count  Dtype  \n",
      "---  ------           --------------  -----  \n",
      " 0   customer_id      5 non-null      int64  \n",
      " 1   name             4 non-null      object \n",
      " 2   age              5 non-null      float64\n",
      " 3   signup_date      5 non-null      object \n",
      " 4   purchase_amount  5 non-null      float64\n",
      " 5   is_active        5 non-null      object \n",
      " 6   group            5 non-null      object \n",
      "dtypes: float64(2), int64(1), object(4)\n",
      "memory usage: 412.0+ bytes\n"
     ]
    }
   ],
   "source": [
    "data.info()"
   ]
  },
  {
   "cell_type": "markdown",
   "metadata": {},
   "source": [
    "## 1) 결측치 처리"
   ]
  },
  {
   "cell_type": "code",
   "execution_count": 4,
   "metadata": {},
   "outputs": [
    {
     "data": {
      "text/html": [
       "<div>\n",
       "<style scoped>\n",
       "    .dataframe tbody tr th:only-of-type {\n",
       "        vertical-align: middle;\n",
       "    }\n",
       "\n",
       "    .dataframe tbody tr th {\n",
       "        vertical-align: top;\n",
       "    }\n",
       "\n",
       "    .dataframe thead th {\n",
       "        text-align: right;\n",
       "    }\n",
       "</style>\n",
       "<table border=\"1\" class=\"dataframe\">\n",
       "  <thead>\n",
       "    <tr style=\"text-align: right;\">\n",
       "      <th></th>\n",
       "      <th>customer_id</th>\n",
       "      <th>name</th>\n",
       "      <th>age</th>\n",
       "      <th>signup_date</th>\n",
       "      <th>purchase_amount</th>\n",
       "      <th>is_active</th>\n",
       "      <th>group</th>\n",
       "    </tr>\n",
       "  </thead>\n",
       "  <tbody>\n",
       "    <tr>\n",
       "      <th>0</th>\n",
       "      <td>101</td>\n",
       "      <td>Alice</td>\n",
       "      <td>25.0</td>\n",
       "      <td>2023-01-15</td>\n",
       "      <td>120.50</td>\n",
       "      <td>True</td>\n",
       "      <td>A</td>\n",
       "    </tr>\n",
       "    <tr>\n",
       "      <th>1</th>\n",
       "      <td>102</td>\n",
       "      <td>Bob</td>\n",
       "      <td>30.0</td>\n",
       "      <td>2023-02-20</td>\n",
       "      <td>120.20</td>\n",
       "      <td>False</td>\n",
       "      <td>A</td>\n",
       "    </tr>\n",
       "    <tr>\n",
       "      <th>2</th>\n",
       "      <td>103</td>\n",
       "      <td>Charlie</td>\n",
       "      <td>28.0</td>\n",
       "      <td>2023-03-20</td>\n",
       "      <td>200.00</td>\n",
       "      <td>yes</td>\n",
       "      <td>B</td>\n",
       "    </tr>\n",
       "    <tr>\n",
       "      <th>3</th>\n",
       "      <td>104</td>\n",
       "      <td>Unknown</td>\n",
       "      <td>40.0</td>\n",
       "      <td>2023-03-01</td>\n",
       "      <td>150.75</td>\n",
       "      <td>no</td>\n",
       "      <td>C</td>\n",
       "    </tr>\n",
       "    <tr>\n",
       "      <th>4</th>\n",
       "      <td>105</td>\n",
       "      <td>Eva</td>\n",
       "      <td>35.0</td>\n",
       "      <td>2023-04-10</td>\n",
       "      <td>300.40</td>\n",
       "      <td>True</td>\n",
       "      <td>C</td>\n",
       "    </tr>\n",
       "  </tbody>\n",
       "</table>\n",
       "</div>"
      ],
      "text/plain": [
       "   customer_id     name   age signup_date  purchase_amount is_active group\n",
       "0          101    Alice  25.0  2023-01-15           120.50      True     A\n",
       "1          102      Bob  30.0  2023-02-20           120.20     False     A\n",
       "2          103  Charlie  28.0  2023-03-20           200.00       yes     B\n",
       "3          104  Unknown  40.0  2023-03-01           150.75        no     C\n",
       "4          105      Eva  35.0  2023-04-10           300.40      True     C"
      ]
     },
     "execution_count": 4,
     "metadata": {},
     "output_type": "execute_result"
    }
   ],
   "source": [
    "# 이름에 결측치 있는 것을 확인. Unknown으로 변경\n",
    "data[\"name\"] = data[\"name\"].fillna(\"Unknown\")\n",
    "data"
   ]
  },
  {
   "cell_type": "code",
   "execution_count": 5,
   "metadata": {},
   "outputs": [
    {
     "data": {
      "text/plain": [
       "dtype('int64')"
      ]
     },
     "execution_count": 5,
     "metadata": {},
     "output_type": "execute_result"
    }
   ],
   "source": [
    "# 데이터 타입 변경\n",
    "data[\"age\"] = data[\"age\"].astype(int)\n",
    "data[\"age\"].dtype"
   ]
  },
  {
   "cell_type": "code",
   "execution_count": 6,
   "metadata": {},
   "outputs": [
    {
     "data": {
      "text/plain": [
       "dtype('<M8[ns]')"
      ]
     },
     "execution_count": 6,
     "metadata": {},
     "output_type": "execute_result"
    }
   ],
   "source": [
    "# 데이터 타입 변경\n",
    "data[\"signup_date\"] = pd.to_datetime(data[\"signup_date\"], errors=\"coerce\")      # errors 날짜형식이 맞지 않으면 NaT로 반환\n",
    "data[\"signup_date\"].dtype"
   ]
  },
  {
   "cell_type": "code",
   "execution_count": 9,
   "metadata": {},
   "outputs": [
    {
     "name": "stdout",
     "output_type": "stream",
     "text": [
      "bool\n"
     ]
    },
    {
     "data": {
      "text/html": [
       "<div>\n",
       "<style scoped>\n",
       "    .dataframe tbody tr th:only-of-type {\n",
       "        vertical-align: middle;\n",
       "    }\n",
       "\n",
       "    .dataframe tbody tr th {\n",
       "        vertical-align: top;\n",
       "    }\n",
       "\n",
       "    .dataframe thead th {\n",
       "        text-align: right;\n",
       "    }\n",
       "</style>\n",
       "<table border=\"1\" class=\"dataframe\">\n",
       "  <thead>\n",
       "    <tr style=\"text-align: right;\">\n",
       "      <th></th>\n",
       "      <th>customer_id</th>\n",
       "      <th>name</th>\n",
       "      <th>age</th>\n",
       "      <th>signup_date</th>\n",
       "      <th>purchase_amount</th>\n",
       "      <th>is_active</th>\n",
       "      <th>group</th>\n",
       "    </tr>\n",
       "  </thead>\n",
       "  <tbody>\n",
       "    <tr>\n",
       "      <th>0</th>\n",
       "      <td>101</td>\n",
       "      <td>Alice</td>\n",
       "      <td>25</td>\n",
       "      <td>2023-01-15</td>\n",
       "      <td>120.50</td>\n",
       "      <td>True</td>\n",
       "      <td>A</td>\n",
       "    </tr>\n",
       "    <tr>\n",
       "      <th>1</th>\n",
       "      <td>102</td>\n",
       "      <td>Bob</td>\n",
       "      <td>30</td>\n",
       "      <td>2023-02-20</td>\n",
       "      <td>120.20</td>\n",
       "      <td>False</td>\n",
       "      <td>A</td>\n",
       "    </tr>\n",
       "    <tr>\n",
       "      <th>2</th>\n",
       "      <td>103</td>\n",
       "      <td>Charlie</td>\n",
       "      <td>28</td>\n",
       "      <td>2023-03-20</td>\n",
       "      <td>200.00</td>\n",
       "      <td>True</td>\n",
       "      <td>B</td>\n",
       "    </tr>\n",
       "    <tr>\n",
       "      <th>3</th>\n",
       "      <td>104</td>\n",
       "      <td>Unknown</td>\n",
       "      <td>40</td>\n",
       "      <td>2023-03-01</td>\n",
       "      <td>150.75</td>\n",
       "      <td>True</td>\n",
       "      <td>C</td>\n",
       "    </tr>\n",
       "    <tr>\n",
       "      <th>4</th>\n",
       "      <td>105</td>\n",
       "      <td>Eva</td>\n",
       "      <td>35</td>\n",
       "      <td>2023-04-10</td>\n",
       "      <td>300.40</td>\n",
       "      <td>True</td>\n",
       "      <td>C</td>\n",
       "    </tr>\n",
       "  </tbody>\n",
       "</table>\n",
       "</div>"
      ],
      "text/plain": [
       "   customer_id     name  age signup_date  purchase_amount  is_active group\n",
       "0          101    Alice   25  2023-01-15           120.50       True     A\n",
       "1          102      Bob   30  2023-02-20           120.20      False     A\n",
       "2          103  Charlie   28  2023-03-20           200.00       True     B\n",
       "3          104  Unknown   40  2023-03-01           150.75       True     C\n",
       "4          105      Eva   35  2023-04-10           300.40       True     C"
      ]
     },
     "execution_count": 9,
     "metadata": {},
     "output_type": "execute_result"
    }
   ],
   "source": [
    "# 데이터 변경 후 타입 변경\n",
    "data[\"is_active\"] = data[\"is_active\"].replace({\"yes\":\"True\", \"no\":\"False\"})\n",
    "data[\"is_active\"] = data[\"is_active\"].astype(bool)\n",
    "print(data[\"is_active\"].dtype)\n",
    "data"
   ]
  },
  {
   "cell_type": "markdown",
   "metadata": {},
   "source": [
    "# 3. 조회"
   ]
  },
  {
   "cell_type": "markdown",
   "metadata": {},
   "source": [
    "1. 열 조회 `df[\"열\"]`, `df[[\"열1\",\"열2\",..]]`\n",
    "2. 행 조회 `df.loc[\"행\"]`, `df[[\"행1\",\"행2\",..]]`\n",
    "3. 셀조회 `df.loc[\"행\", \"열\"]`, `df[[\"열1\",\"열2\",..], [\"행1\",\"행2\",..]]`\n",
    "4. 조건부 조회 `df.loc[\"조건\"]` 또는 `df.loc[\"조건\",\"열\"]`, `df.loc[\"조건\",[\"열1\",\"열2\",..]]`\n"
   ]
  },
  {
   "cell_type": "markdown",
   "metadata": {},
   "source": [
    "## 1) age가 30 이상인 고객들의 정보를 선택하세요."
   ]
  },
  {
   "cell_type": "code",
   "execution_count": 10,
   "metadata": {},
   "outputs": [
    {
     "data": {
      "text/html": [
       "<div>\n",
       "<style scoped>\n",
       "    .dataframe tbody tr th:only-of-type {\n",
       "        vertical-align: middle;\n",
       "    }\n",
       "\n",
       "    .dataframe tbody tr th {\n",
       "        vertical-align: top;\n",
       "    }\n",
       "\n",
       "    .dataframe thead th {\n",
       "        text-align: right;\n",
       "    }\n",
       "</style>\n",
       "<table border=\"1\" class=\"dataframe\">\n",
       "  <thead>\n",
       "    <tr style=\"text-align: right;\">\n",
       "      <th></th>\n",
       "      <th>customer_id</th>\n",
       "      <th>name</th>\n",
       "      <th>age</th>\n",
       "      <th>signup_date</th>\n",
       "      <th>purchase_amount</th>\n",
       "      <th>is_active</th>\n",
       "      <th>group</th>\n",
       "    </tr>\n",
       "  </thead>\n",
       "  <tbody>\n",
       "    <tr>\n",
       "      <th>1</th>\n",
       "      <td>102</td>\n",
       "      <td>Bob</td>\n",
       "      <td>30</td>\n",
       "      <td>2023-02-20</td>\n",
       "      <td>120.20</td>\n",
       "      <td>False</td>\n",
       "      <td>A</td>\n",
       "    </tr>\n",
       "    <tr>\n",
       "      <th>3</th>\n",
       "      <td>104</td>\n",
       "      <td>Unknown</td>\n",
       "      <td>40</td>\n",
       "      <td>2023-03-01</td>\n",
       "      <td>150.75</td>\n",
       "      <td>True</td>\n",
       "      <td>C</td>\n",
       "    </tr>\n",
       "    <tr>\n",
       "      <th>4</th>\n",
       "      <td>105</td>\n",
       "      <td>Eva</td>\n",
       "      <td>35</td>\n",
       "      <td>2023-04-10</td>\n",
       "      <td>300.40</td>\n",
       "      <td>True</td>\n",
       "      <td>C</td>\n",
       "    </tr>\n",
       "  </tbody>\n",
       "</table>\n",
       "</div>"
      ],
      "text/plain": [
       "   customer_id     name  age signup_date  purchase_amount  is_active group\n",
       "1          102      Bob   30  2023-02-20           120.20      False     A\n",
       "3          104  Unknown   40  2023-03-01           150.75       True     C\n",
       "4          105      Eva   35  2023-04-10           300.40       True     C"
      ]
     },
     "execution_count": 10,
     "metadata": {},
     "output_type": "execute_result"
    }
   ],
   "source": [
    "data.loc[data[\"age\"] >= 30]"
   ]
  },
  {
   "cell_type": "markdown",
   "metadata": {},
   "source": [
    "## 2) purchase_amount가 150보다 큰 고객들의 이름과 구매 금액만 출력하세요."
   ]
  },
  {
   "cell_type": "code",
   "execution_count": 11,
   "metadata": {},
   "outputs": [
    {
     "data": {
      "text/html": [
       "<div>\n",
       "<style scoped>\n",
       "    .dataframe tbody tr th:only-of-type {\n",
       "        vertical-align: middle;\n",
       "    }\n",
       "\n",
       "    .dataframe tbody tr th {\n",
       "        vertical-align: top;\n",
       "    }\n",
       "\n",
       "    .dataframe thead th {\n",
       "        text-align: right;\n",
       "    }\n",
       "</style>\n",
       "<table border=\"1\" class=\"dataframe\">\n",
       "  <thead>\n",
       "    <tr style=\"text-align: right;\">\n",
       "      <th></th>\n",
       "      <th>name</th>\n",
       "      <th>purchase_amount</th>\n",
       "    </tr>\n",
       "  </thead>\n",
       "  <tbody>\n",
       "    <tr>\n",
       "      <th>2</th>\n",
       "      <td>Charlie</td>\n",
       "      <td>200.00</td>\n",
       "    </tr>\n",
       "    <tr>\n",
       "      <th>3</th>\n",
       "      <td>Unknown</td>\n",
       "      <td>150.75</td>\n",
       "    </tr>\n",
       "    <tr>\n",
       "      <th>4</th>\n",
       "      <td>Eva</td>\n",
       "      <td>300.40</td>\n",
       "    </tr>\n",
       "  </tbody>\n",
       "</table>\n",
       "</div>"
      ],
      "text/plain": [
       "      name  purchase_amount\n",
       "2  Charlie           200.00\n",
       "3  Unknown           150.75\n",
       "4      Eva           300.40"
      ]
     },
     "execution_count": 11,
     "metadata": {},
     "output_type": "execute_result"
    }
   ],
   "source": [
    "data.loc[data[\"purchase_amount\"] > 150, [\"name\", \"purchase_amount\"]]"
   ]
  },
  {
   "cell_type": "markdown",
   "metadata": {},
   "source": [
    "## 3) age가 30 이상이고, purchase_amount가 150 이하인 고객의 정보를 선택하세요."
   ]
  },
  {
   "cell_type": "code",
   "execution_count": 19,
   "metadata": {},
   "outputs": [
    {
     "name": "stdout",
     "output_type": "stream",
     "text": [
      "0     True\n",
      "1    False\n",
      "2     True\n",
      "3    False\n",
      "4    False\n",
      "Name: age, dtype: bool\n",
      "0    False\n",
      "1    False\n",
      "2     True\n",
      "3     True\n",
      "4     True\n",
      "Name: purchase_amount, dtype: bool\n",
      "   customer_id     name  age signup_date  purchase_amount  is_active group\n",
      "2          103  Charlie   28  2023-03-20            200.0       True     B\n",
      "   customer_id     name  age signup_date  purchase_amount  is_active group\n",
      "0          101    Alice   25  2023-01-15            120.5       True     A\n",
      "2          103  Charlie   28  2023-03-20            200.0       True     B\n",
      "   customer_id     name  age signup_date  purchase_amount  is_active group\n",
      "2          103  Charlie   28  2023-03-20            200.0       True     B\n"
     ]
    }
   ],
   "source": [
    "print(data[\"age\"] < 30)\n",
    "print(data[\"purchase_amount\"] > 150)\n",
    "print(data.loc[(data[\"age\"] < 30) & (data[\"purchase_amount\"] > 150)])\n",
    "print(data.loc[data[\"age\"] < 30])\n",
    "print(data.loc[data[\"age\"] < 30].loc[data[\"purchase_amount\"] > 150])"
   ]
  },
  {
   "cell_type": "markdown",
   "metadata": {},
   "source": [
    "## 4) 그룹이 A, C인 고객의 정보를 선택하세요"
   ]
  },
  {
   "cell_type": "code",
   "execution_count": 13,
   "metadata": {},
   "outputs": [
    {
     "data": {
      "text/html": [
       "<div>\n",
       "<style scoped>\n",
       "    .dataframe tbody tr th:only-of-type {\n",
       "        vertical-align: middle;\n",
       "    }\n",
       "\n",
       "    .dataframe tbody tr th {\n",
       "        vertical-align: top;\n",
       "    }\n",
       "\n",
       "    .dataframe thead th {\n",
       "        text-align: right;\n",
       "    }\n",
       "</style>\n",
       "<table border=\"1\" class=\"dataframe\">\n",
       "  <thead>\n",
       "    <tr style=\"text-align: right;\">\n",
       "      <th></th>\n",
       "      <th>customer_id</th>\n",
       "      <th>name</th>\n",
       "      <th>age</th>\n",
       "      <th>signup_date</th>\n",
       "      <th>purchase_amount</th>\n",
       "      <th>is_active</th>\n",
       "      <th>group</th>\n",
       "    </tr>\n",
       "  </thead>\n",
       "  <tbody>\n",
       "    <tr>\n",
       "      <th>0</th>\n",
       "      <td>101</td>\n",
       "      <td>Alice</td>\n",
       "      <td>25</td>\n",
       "      <td>2023-01-15</td>\n",
       "      <td>120.50</td>\n",
       "      <td>True</td>\n",
       "      <td>A</td>\n",
       "    </tr>\n",
       "    <tr>\n",
       "      <th>1</th>\n",
       "      <td>102</td>\n",
       "      <td>Bob</td>\n",
       "      <td>30</td>\n",
       "      <td>2023-02-20</td>\n",
       "      <td>120.20</td>\n",
       "      <td>False</td>\n",
       "      <td>A</td>\n",
       "    </tr>\n",
       "    <tr>\n",
       "      <th>3</th>\n",
       "      <td>104</td>\n",
       "      <td>Unknown</td>\n",
       "      <td>40</td>\n",
       "      <td>2023-03-01</td>\n",
       "      <td>150.75</td>\n",
       "      <td>True</td>\n",
       "      <td>C</td>\n",
       "    </tr>\n",
       "    <tr>\n",
       "      <th>4</th>\n",
       "      <td>105</td>\n",
       "      <td>Eva</td>\n",
       "      <td>35</td>\n",
       "      <td>2023-04-10</td>\n",
       "      <td>300.40</td>\n",
       "      <td>True</td>\n",
       "      <td>C</td>\n",
       "    </tr>\n",
       "  </tbody>\n",
       "</table>\n",
       "</div>"
      ],
      "text/plain": [
       "   customer_id     name  age signup_date  purchase_amount  is_active group\n",
       "0          101    Alice   25  2023-01-15           120.50       True     A\n",
       "1          102      Bob   30  2023-02-20           120.20      False     A\n",
       "3          104  Unknown   40  2023-03-01           150.75       True     C\n",
       "4          105      Eva   35  2023-04-10           300.40       True     C"
      ]
     },
     "execution_count": 13,
     "metadata": {},
     "output_type": "execute_result"
    }
   ],
   "source": [
    "data[data[\"group\"].isin([\"A\", \"C\"])]"
   ]
  },
  {
   "cell_type": "markdown",
   "metadata": {},
   "source": [
    "# 4. 편집"
   ]
  },
  {
   "cell_type": "markdown",
   "metadata": {},
   "source": [
    "* `np.where(조건, A, B)`: 조건에 만족하면 A, 아니면 B로 만든다.\n",
    "* `시리즈.apply(함수)`: 시리즈의 값들을 함수에 넣어 나온 출력값을 넣는다.\n",
    "* `데이터프레임.groupby(\"열1\")[\"열2\"].agg(func=\"함수명\")`: 열1 별로 열2에 대함 함수를 구한다(ex. 나이대 별로 수입의 평균을 구한다.)"
   ]
  },
  {
   "cell_type": "code",
   "execution_count": 20,
   "metadata": {},
   "outputs": [
    {
     "data": {
      "text/html": [
       "<div>\n",
       "<style scoped>\n",
       "    .dataframe tbody tr th:only-of-type {\n",
       "        vertical-align: middle;\n",
       "    }\n",
       "\n",
       "    .dataframe tbody tr th {\n",
       "        vertical-align: top;\n",
       "    }\n",
       "\n",
       "    .dataframe thead th {\n",
       "        text-align: right;\n",
       "    }\n",
       "</style>\n",
       "<table border=\"1\" class=\"dataframe\">\n",
       "  <thead>\n",
       "    <tr style=\"text-align: right;\">\n",
       "      <th></th>\n",
       "      <th>Age</th>\n",
       "      <th>Income</th>\n",
       "      <th>Age_Group</th>\n",
       "    </tr>\n",
       "  </thead>\n",
       "  <tbody>\n",
       "    <tr>\n",
       "      <th>0</th>\n",
       "      <td>23</td>\n",
       "      <td>40000</td>\n",
       "      <td>Young</td>\n",
       "    </tr>\n",
       "    <tr>\n",
       "      <th>1</th>\n",
       "      <td>45</td>\n",
       "      <td>50000</td>\n",
       "      <td>Adult</td>\n",
       "    </tr>\n",
       "    <tr>\n",
       "      <th>2</th>\n",
       "      <td>12</td>\n",
       "      <td>20000</td>\n",
       "      <td>Young</td>\n",
       "    </tr>\n",
       "    <tr>\n",
       "      <th>3</th>\n",
       "      <td>36</td>\n",
       "      <td>80000</td>\n",
       "      <td>Adult</td>\n",
       "    </tr>\n",
       "    <tr>\n",
       "      <th>4</th>\n",
       "      <td>28</td>\n",
       "      <td>45000</td>\n",
       "      <td>Young</td>\n",
       "    </tr>\n",
       "  </tbody>\n",
       "</table>\n",
       "</div>"
      ],
      "text/plain": [
       "   Age  Income Age_Group\n",
       "0   23   40000     Young\n",
       "1   45   50000     Adult\n",
       "2   12   20000     Young\n",
       "3   36   80000     Adult\n",
       "4   28   45000     Young"
      ]
     },
     "execution_count": 20,
     "metadata": {},
     "output_type": "execute_result"
    }
   ],
   "source": [
    "import pandas as pd\n",
    "import numpy as np\n",
    "\n",
    "# 데이터 생성\n",
    "data = pd.DataFrame({\n",
    "    \"Age\": [23, 45, 12, 36, 28],\n",
    "    \"Income\": [40000, 50000, 20000, 80000, 45000]\n",
    "})\n",
    "\n",
    "# np.where 사용\n",
    "data[\"Age_Group\"] = np.where(data[\"Age\"] >= 30, \"Adult\", \"Young\")\n",
    "data\n"
   ]
  },
  {
   "cell_type": "code",
   "execution_count": 24,
   "metadata": {},
   "outputs": [
    {
     "name": "stdout",
     "output_type": "stream",
     "text": [
      "   Age  Income Age_Group Income_Category\n",
      "0   23   40000     Young          Medium\n",
      "1   45   50000     Adult          Medium\n",
      "2   12   20000     Young             Low\n",
      "3   36   80000     Adult            High\n",
      "4   28   45000     Young          Medium\n",
      "   Age  Income Age_Group Income_Category\n",
      "0   23   40000     Young          Medium\n",
      "1   45   50000     Adult          Medium\n",
      "2   12   20000     Young             Low\n",
      "3   36   80000     Adult            High\n",
      "4   28   45000     Young          Medium\n"
     ]
    }
   ],
   "source": [
    "# 사용자 정의 함수\n",
    "def categorize_income(income):\n",
    "    if income < 30000:\n",
    "        return \"Low\"\n",
    "    elif income < 60000:\n",
    "        return \"Medium\"\n",
    "    else:\n",
    "        return \"High\"\n",
    "\n",
    "# apply 사용\n",
    "data[\"Income_Category\"] = data[\"Income\"].apply(categorize_income)\n",
    "print(data)\n",
    "\n",
    "data[\"Income_Category\"] = data[\"Income\"].apply(lambda x: 'Low' if x < 30000 else (\"Medium\" if x < 60000  else \"High\"))\n",
    "print(data)\n"
   ]
  },
  {
   "cell_type": "code",
   "execution_count": 25,
   "metadata": {},
   "outputs": [
    {
     "data": {
      "text/plain": [
       "Age_Group\n",
       "Adult    65000.0\n",
       "Young    35000.0\n",
       "Name: Income, dtype: float64"
      ]
     },
     "execution_count": 25,
     "metadata": {},
     "output_type": "execute_result"
    }
   ],
   "source": [
    "# 그룹화와 집계\n",
    "grouped_data = data.groupby(\"Age_Group\")[\"Income\"].agg(func=\"mean\")\n",
    "grouped_data"
   ]
  },
  {
   "cell_type": "code",
   "execution_count": null,
   "metadata": {},
   "outputs": [
    {
     "data": {
      "text/plain": [
       "Text(0, 0.5, '수입평균')"
      ]
     },
     "execution_count": 27,
     "metadata": {},
     "output_type": "execute_result"
    },
    {
     "data": {
      "image/png": "[encoded data removed]",
      "text/plain": [
       "<Figure size 300x200 with 1 Axes>"
      ]
     },
     "metadata": {},
     "output_type": "display_data"
    }
   ],
   "source": [
    "from matplotlib import pyplot as plt\n",
    "import koreanize_matplotlib\n",
    "\n",
    "grouped_data.plot(kind=\"bar\", figsize=(3, 2))\n",
    "plt.title(\"나이대별 수입 평균\")\n",
    "plt.xlabel(\"나이대\")\n",
    "plt.ylabel(\"수입평균\")\n",
    "\n",
    "\n"
   ]
  }
 ],
 "metadata": {
  "kernelspec": {
   "display_name": "analysis",
   "language": "python",
   "name": "python3"
  },
  "language_info": {
   "codemirror_mode": {
    "name": "ipython",
    "version": 3
   },
   "file_extension": ".py",
   "mimetype": "text/x-python",
   "name": "python",
   "nbconvert_exporter": "python",
   "pygments_lexer": "ipython3",
   "version": "3.13.0"
  }
 },
 "nbformat": 4,
 "nbformat_minor": 2
}
