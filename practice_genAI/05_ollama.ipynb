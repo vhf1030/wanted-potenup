{
 "cells": [
  {
   "cell_type": "code",
   "execution_count": 1,
   "metadata": {},
   "outputs": [
    {
     "name": "stderr",
     "output_type": "stream",
     "text": [
      "C:\\Users\\user\\AppData\\Local\\Temp\\ipykernel_50516\\1730109891.py:3: LangChainDeprecationWarning: The class `ChatOllama` was deprecated in LangChain 0.3.1 and will be removed in 1.0.0. An updated version of the class exists in the :class:`~langchain-ollama package and should be used instead. To use it run `pip install -U :class:`~langchain-ollama` and import as `from :class:`~langchain_ollama import ChatOllama``.\n",
      "  llm = ChatOllama(model=\"mistral:7b\")\n"
     ]
    },
    {
     "data": {
      "text/plain": [
       "AIMessage(content='대한민국의 수도는 서울입니다.', additional_kwargs={}, response_metadata={'model': 'mistral:7b', 'created_at': '2025-03-10T05:07:57.283823Z', 'message': {'role': 'assistant', 'content': ''}, 'done_reason': 'stop', 'done': True, 'total_duration': 2799637600, 'load_duration': 9491300, 'prompt_eval_count': 15, 'prompt_eval_duration': 144000000, 'eval_count': 17, 'eval_duration': 2645000000}, id='run-ff8c032c-9594-4ace-a673-aaccfb685f76-0')"
      ]
     },
     "execution_count": 1,
     "metadata": {},
     "output_type": "execute_result"
    }
   ],
   "source": [
    "from langchain_community.chat_models import ChatOllama\n",
    "\n",
    "llm = ChatOllama(model=\"mistral:7b\")\n",
    "llm.invoke(\"대한민국의 수도는?\")"
   ]
  },
  {
   "cell_type": "code",
   "execution_count": null,
   "metadata": {},
   "outputs": [
    {
     "data": {
      "text/plain": [
       "AIMessage(content='Quantum Computers, 일반적인 디지털 컴퓨터와 달리 양자성질을 활용하여 구현된 고급 컴퓨팅 시스템입니다. 일반 디지털 컴퓨터는 논리 0 또는 1의 두 가지 상태로만 작동합니다. 반면, Quantum Computers는 질량이나 단자의 양자성질을 활용하여 동시에 수많은 상태를 갖고 있을 수 있으며, 이러한 특성을 통해 대규모 데이터를 처리하거나 복잡한 암호화 문제 등에서 빠르고 효과적인 작업을 수행할 수 있습니다.\\n\\nQuantum Computers는 질자(Qubits)를 사용하여 동시에 여러 가지 상태를 갖게 되어, 일반 컴퓨터와의 성능 차이가 심각합니다. 일반적인 디지털 컴퓨터는 계산을 수행할 때 논리 0 또는 1로만 작업하며, 결과를 확인하기 위해서는 반복적으로 계산을 수행해야 합니다. Quantum Computers 즉, Quantum Gates(양자 게이트)를 사용하여 여러 Qubits의 상태를 동시에 조작할 수 있어서, 일반적인 디지털 컴퓨터보다 많은 양의 계산을 한번에 수행할 수 있습니다.\\n\\nQuantum Computers는 현재 개발 단계입니다. 향후 Quantum Computers는 일반적인 디지털 컴퓨터보다 대규모 데이터를 처리하거나 복잡한 암호화 문제에서 빠르고 효과적으로 작업할 수 있을 것으로 기대됩니다. Quantum Computers는 향후의 정보처리 기술 영역에서 중요한 위치를 차지할 것으로 기대됩니다.', additional_kwargs={}, response_metadata={'model': 'mistral:7b', 'created_at': '2025-03-10T05:11:33.7659563Z', 'message': {'role': 'assistant', 'content': ''}, 'done_reason': 'stop', 'done': True, 'total_duration': 31660159500, 'load_duration': 14725600, 'prompt_eval_count': 31, 'prompt_eval_duration': 155000000, 'eval_count': 652, 'eval_duration': 31488000000}, id='run-dc42b888-be49-4f2d-af97-8c1c049caca0-0')"
      ]
     },
     "execution_count": 2,
     "metadata": {},
     "output_type": "execute_result"
    }
   ],
   "source": [
    "from langchain_core.prompts import ChatPromptTemplate\n",
    "\n",
    "llm = ChatOllama(model=\"mistral:7b\")\n",
    "prompt = ChatPromptTemplate.from_template(\"{topic}에 대해서 요약해서 설명해줘\")\n",
    "\n",
    "chain = prompt | llm\n",
    "\n",
    "chain.invoke('양자컴퓨터')\n"
   ]
  },
  {
   "cell_type": "markdown",
   "metadata": {},
   "source": [
    "### 허깅페이스 모델을 올라마에 올리기\n",
    "1. ggml-model-Q4_K_M.gguf 다운로드\n",
    "\thttps://huggingface.co/heegyu/EEVE-Korean-Instruct-10.8B-v1.0-GGUF/tree/main\n",
    "2. Modelfile 작성\n",
    "3. ollama 모델 생성 \n",
    "    ollama create EEVE-Korean-10.8B -f EEVE-Korean-Instruct-10.8B-v1.0-GGUF/Modelfile"
   ]
  },
  {
   "cell_type": "code",
   "execution_count": 3,
   "metadata": {},
   "outputs": [
    {
     "data": {
      "text/plain": [
       "AIMessage(content=\"\\n양자컴퓨팅은 양자역학의 원리를 활용하여 정보를 처리하고 문제를 해결하는 새로운 형태의 컴퓨팅입니다. 이는 고전적인 디지털 컴퓨팅과 근본적으로 다른 접근법으로, 양자를 동시에 여러 상태에 놓아 병렬 처리를 가능하게 합니다. 이러한 독특한 특성으로 인해 복잡한 문제들을 빠르고 효율적으로 해결할 수 있어 다양한 분야에서 유망한 잠재력을 지니고 있습니다.\\n\\n양자컴퓨터는 비트 대신 큐비트를 사용합니다. 고전적 디지털 컴퓨터에서 정보는 0 또는 1로 표현되는 비트로 저장됩니다. 반면 양자컴퓨터에서는 하나의 입자를 동시에 여러 상태에 놓을 수 있어, 큐비트는 0과 1의 조합인 '중첩 상태'를 나타낼 수 있습니다. 이러한 중첩성은 양자얽힘이라고 불리는 현상을 만들어내는데, 이는 한 큐빗이 다른 큐빗에 즉시 영향을 줄 수 있는 것을 말합니다. 이 독특한 성질은 훨씬 빠른 정보 처리와 계산 능력 향상으로 이어집니다.\\n\\n양자컴퓨터는 암호학 분야에서의 보안 강화 및 새로운 약물 개발 탐색부터 재료 과학과 물리학의 이해 향상, 심지어 기후 변화 모델링 개선까지 다양한 응용 가능성을 가지고 있습니다. 그러나 양자컴퓨터가 고전적인 디지털 컴퓨터를 대체하기는 어렵습니다. 왜냐하면 여전히 효율성과 신뢰성이 더 우수한 분야가 있기 때문입니다.\\n\\n양자컴퓨팅이 현실로 나오기까지 아직 갈 길이 멀지만, 그 엄청난 잠재력은 부인할 수 없습니다. 연구자들이 이 혁신적인 기술을 계속해서 개발함에 따라, 양자 컴퓨터가 세계와 우리가 문제를 해결하는 방식에 미친 영향을 상상해보는 것은 흥미로운 일입니다.\", additional_kwargs={}, response_metadata={'model': 'EEVE-Korean-10.8B:latest', 'created_at': '2025-03-10T05:41:44.0124598Z', 'message': {'role': 'assistant', 'content': ''}, 'done_reason': 'stop', 'done': True, 'total_duration': 102568720400, 'load_duration': 7292200, 'prompt_eval_count': 34, 'prompt_eval_duration': 300000000, 'eval_count': 368, 'eval_duration': 102260000000}, id='run-025d88fe-2053-455e-824e-f4189507f6b1-0')"
      ]
     },
     "execution_count": 3,
     "metadata": {},
     "output_type": "execute_result"
    }
   ],
   "source": [
    "llm = ChatOllama(model=\"EEVE-Korean-10.8B:latest\")\n",
    "prompt = ChatPromptTemplate.from_template(\"{topic}에 대해서 요약해서 설명해줘\")\n",
    "\n",
    "chain = prompt | llm\n",
    "\n",
    "chain.invoke('양자컴퓨터')"
   ]
  },
  {
   "cell_type": "code",
   "execution_count": 7,
   "metadata": {},
   "outputs": [
    {
     "name": "stdout",
     "output_type": "stream",
     "text": [
      "양자컴퓨팅은 양자의 성질을 활용하여 계산 능력을 크게 향상시키는 신흥 기술 분야입니다. 현재 사용 중인 클래식(또는 전통적인) 컴퓨터와 달리, 양자 컴퓨터는 원자나 전자와 같은 미시적 입자들을 제어하여 계산을 수행합니다. 이러한 특성은 현존하는 컴퓨팅 능력으로는 해결할 수 없는 복잡한 문제들을 해결하는 데 잠재력이 있습니다.\n",
      "\n",
      "양자 시스템에서 중요한 개념은 양자 비트(qubit)입니다. 이는 클래식 컴퓨터에서의 비트와 유사하지만, 두 가지 상태를 동시에 가질 수 있는 '중첩'이라는 성질을 가지고 있으며, 서로 멀리 떨어져 있어도 연결되어 있습니다('얽힘'). 이러한 특성은 병렬 처리 및 얽힌 상태의 중첩을 통해 대량의 정보를 단일 qubit에 저장할 수 있게 하여, 양자 시스템이 클래식 컴퓨터보다 계산 효율성이 현저히 더 높아지게 합니다.\n",
      "\n",
      "양자 컴퓨터는 복잡한 최적화 문제, 암호학, 재료 과학 및 양자 화학 등 다양한 분야에서 큰 잠재력을 보입니다. 이들은 전통적인 방법을 사용해서는 해결할 수 없는 문제를 효율적으로 처리할 수 있습니다. 그러나 아직 해결해야 할 기술적 한계와 도전 과제들도 존재합니다. 주요한 어려움 중 하나는 시스템 내의 노이즈나 오류로부터 qubit을 보호하는 것입니다, 이는 결국 잘못된 결과를 초래할 수 있기 때문입니다.\n",
      "\n",
      "양자컴퓨팅은 금융, 헬스케어 및 과학 연구 등 다양한 분야에 혁명을 일으킬 것으로 기대됩니다. 그러나 양자 기술의 실용적 구현을 위해서는 광범위한 연구와 개발이 필요합니다. 이 분야는 최근 몇 년 동안 상당한 주목과 투자를 받고 있으며, 여러 회사들이 이 분야의 선두에 나서고 있습니다. IBM, 구글, 마이크로소프트 등은 양자컴퓨팅 분야에서 선도적인 역할을 하고 있는 기업들 중 일부입니다.\n",
      "\n",
      "결론적으로, 양자컴퓨팅은 클래식 컴퓨터의 한계를 극복하는 것을 목표로 하는 급성장하는 기술 분야입니다. 이 분야는 현존하는 해결책을 개선할 뿐만 아니라 다양한 산업과 분야에 새로운 가능성을 열어줄 수 있는 잠재력을 가지고 있습니다."
     ]
    }
   ],
   "source": [
    "for s in chain.stream('양자컴퓨터'):\n",
    "    print(s.content, sep='', end='')"
   ]
  }
 ],
 "metadata": {
  "kernelspec": {
   "display_name": "lang",
   "language": "python",
   "name": "python3"
  },
  "language_info": {
   "codemirror_mode": {
    "name": "ipython",
    "version": 3
   },
   "file_extension": ".py",
   "mimetype": "text/x-python",
   "name": "python",
   "nbconvert_exporter": "python",
   "pygments_lexer": "ipython3",
   "version": "3.13.2"
  }
 },
 "nbformat": 4,
 "nbformat_minor": 2
}
