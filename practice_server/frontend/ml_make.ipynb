{
 "cells": [
  {
   "cell_type": "code",
   "execution_count": 2,
   "metadata": {},
   "outputs": [],
   "source": [
    "\n",
    "import pandas as pd\n",
    "from sklearn.preprocessing import LabelEncoder\n",
    "from sklearn.ensemble import RandomForestClassifier\n",
    "from sklearn.model_selection import train_test_split\n",
    "import joblib\n"
   ]
  },
  {
   "cell_type": "code",
   "execution_count": 4,
   "metadata": {},
   "outputs": [
    {
     "name": "stdout",
     "output_type": "stream",
     "text": [
      "   PassengerId  Survived  Pclass  \\\n",
      "0            1         0       3   \n",
      "1            2         1       1   \n",
      "2            3         1       3   \n",
      "3            4         1       1   \n",
      "4            5         0       3   \n",
      "\n",
      "                                                Name     Sex   Age  SibSp  \\\n",
      "0                            Braund, Mr. Owen Harris    male  22.0      1   \n",
      "1  Cumings, Mrs. John Bradley (Florence Briggs Th...  female  38.0      1   \n",
      "2                             Heikkinen, Miss. Laina  female  26.0      0   \n",
      "3       Futrelle, Mrs. Jacques Heath (Lily May Peel)  female  35.0      1   \n",
      "4                           Allen, Mr. William Henry    male  35.0      0   \n",
      "\n",
      "   Parch            Ticket     Fare Cabin Embarked  \n",
      "0      0         A/5 21171   7.2500     N        S  \n",
      "1      0          PC 17599  71.2833   C85        C  \n",
      "2      0  STON/O2. 3101282   7.9250     N        S  \n",
      "3      0            113803  53.1000  C123        S  \n",
      "4      0            373450   8.0500     N        S  \n",
      "   PassengerId  Survived  Pclass  \\\n",
      "0            1         0       3   \n",
      "1            2         1       1   \n",
      "2            3         1       3   \n",
      "3            4         1       1   \n",
      "4            5         0       3   \n",
      "\n",
      "                                                Name  Sex   Age  SibSp  Parch  \\\n",
      "0                            Braund, Mr. Owen Harris    1  22.0      1      0   \n",
      "1  Cumings, Mrs. John Bradley (Florence Briggs Th...    0  38.0      1      0   \n",
      "2                             Heikkinen, Miss. Laina    0  26.0      0      0   \n",
      "3       Futrelle, Mrs. Jacques Heath (Lily May Peel)    0  35.0      1      0   \n",
      "4                           Allen, Mr. William Henry    1  35.0      0      0   \n",
      "\n",
      "             Ticket     Fare Cabin  Embarked  \n",
      "0         A/5 21171   7.2500     N         3  \n",
      "1          PC 17599  71.2833   C85         0  \n",
      "2  STON/O2. 3101282   7.9250     N         3  \n",
      "3            113803  53.1000  C123         3  \n",
      "4            373450   8.0500     N         3  \n"
     ]
    },
    {
     "data": {
      "text/plain": [
       "['titanic_model.pkl']"
      ]
     },
     "execution_count": 4,
     "metadata": {},
     "output_type": "execute_result"
    }
   ],
   "source": [
    "# 타이타닉 데이터 로드 및 전처리\n",
    "titanic_df = pd.read_csv(\"titanic_train.csv\")\n",
    "\n",
    "# 나이의 결측치를 평균값으로 대체하기\n",
    "titanic_df[\"Age\"] = titanic_df['Age'].fillna(titanic_df['Age'].mean())\n",
    "titanic_df[\"Cabin\"] = titanic_df['Cabin'].fillna(\"N\")\n",
    "titanic_df[\"Embarked\"] = titanic_df['Embarked'].fillna(\"N\")\n",
    "\n",
    "# 레이블 인코딩\n",
    "def encode_features(dataDF):\n",
    "    features = ['Sex', 'Embarked']\n",
    "    for feature in features:\n",
    "        le = LabelEncoder()\n",
    "        le = le.fit(dataDF[feature])\n",
    "        dataDF[feature] = le.transform(dataDF[feature])\n",
    "    return dataDF\n",
    "\n",
    "print(titanic_df.head())\n",
    "titanic_df = encode_features(titanic_df)\n",
    "print(titanic_df.head())\n",
    "\n",
    "# 불필요한 feature 제거\n",
    "drop_names = [\"PassengerId\", \"Name\", \"Ticket\", \"Cabin\"]\n",
    "titanic_df = titanic_df.drop(drop_names, axis=1)\n",
    "\n",
    "# 설명 변수(X)와 타겟 변수(y) 분리\n",
    "X = titanic_df.drop(\"Survived\", axis=1)\n",
    "y = titanic_df[\"Survived\"]\n",
    "\n",
    "# 학습 데이터와 테스트 데이터 분리\n",
    "X_train, X_test, y_train, y_test = train_test_split(X, y, test_size=0.2, random_state=11)\n",
    "model = RandomForestClassifier(random_state=11)\n",
    "model.fit(X_train, y_train)\n",
    "\n",
    "joblib.dump(model, \"titanic_model.pkl\")"
   ]
  }
 ],
 "metadata": {
  "kernelspec": {
   "display_name": "server_practice",
   "language": "python",
   "name": "python3"
  },
  "language_info": {
   "codemirror_mode": {
    "name": "ipython",
    "version": 3
   },
   "file_extension": ".py",
   "mimetype": "text/x-python",
   "name": "python",
   "nbconvert_exporter": "python",
   "pygments_lexer": "ipython3",
   "version": "3.11.9"
  }
 },
 "nbformat": 4,
 "nbformat_minor": 2
}
