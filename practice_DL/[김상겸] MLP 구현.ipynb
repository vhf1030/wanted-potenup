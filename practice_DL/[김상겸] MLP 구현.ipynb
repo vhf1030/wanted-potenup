{
 "cells": [
  {
   "cell_type": "code",
   "execution_count": 118,
   "metadata": {},
   "outputs": [
    {
     "name": "stdout",
     "output_type": "stream",
     "text": [
      "X shape: (506, 13), y shape: (506,)\n",
      "X_train shape: torch.Size([363, 13]), y_train shape: torch.Size([363, 1])\n",
      "X_val shape: torch.Size([41, 13]), y_val shape: torch.Size([41, 1])\n",
      "X_test shape: torch.Size([102, 13]), y_test shape: torch.Size([102, 1])\n"
     ]
    },
    {
     "name": "stderr",
     "output_type": "stream",
     "text": [
      "c:\\Users\\user\\miniconda3\\envs\\deeplearning\\Lib\\site-packages\\sklearn\\datasets\\_openml.py:323: UserWarning: Multiple active versions of the dataset matching the name boston exist. Versions may be fundamentally different, returning version 1. Available versions:\n",
      "- version 1, status: active\n",
      "  url: https://www.openml.org/search?type=data&id=531\n",
      "- version 2, status: active\n",
      "  url: https://www.openml.org/search?type=data&id=853\n",
      "\n",
      "  warn(warning_msg)\n"
     ]
    }
   ],
   "source": [
    "import torch\n",
    "import pandas as pd\n",
    "from sklearn.datasets import fetch_openml\n",
    "from sklearn.model_selection import train_test_split\n",
    "\n",
    "from torch import nn, optim\n",
    "import matplotlib.pyplot as plt\n",
    "import numpy as np\n",
    "import random\n",
    "\n",
    "SEED = 42\n",
    "\n",
    "# 데이터 준비\n",
    "boston_dataset = fetch_openml(name=\"boston\")\n",
    "X = boston_dataset.data.astype({\"CHAS\": \"float\", \"RAD\": \"float\"})\n",
    "# X = X.drop(columns=[\"CHAS\"])\n",
    "y = boston_dataset.target\n",
    "\n",
    "# train test\n",
    "X_train, X_test, y_train, y_test = train_test_split(\n",
    "    X, y, test_size=0.2, random_state=SEED\n",
    ")\n",
    "# train validation\n",
    "X_train, X_val, y_train, y_val = train_test_split(\n",
    "    X_train, y_train, test_size=0.1, random_state=SEED\n",
    ")\n",
    "\n",
    "# tensor로 변경\n",
    "X_train_ts = torch.FloatTensor(X_train.values)\n",
    "y_train_ts = torch.FloatTensor(y_train.values).unsqueeze(1)\n",
    "\n",
    "X_val_ts = torch.FloatTensor(X_val.values)\n",
    "y_val_ts = torch.FloatTensor(y_val.values).unsqueeze(1)\n",
    "\n",
    "X_test_ts = torch.FloatTensor(X_test.values)\n",
    "y_test_ts = torch.FloatTensor(y_test.values).unsqueeze(1)\n",
    "\n",
    "print(f\"X shape: {X.shape}, y shape: {y.shape}\")\n",
    "print(f\"X_train shape: {X_train_ts.shape}, y_train shape: {y_train_ts.shape}\")\n",
    "print(f\"X_val shape: {X_val_ts.shape}, y_val shape: {y_val_ts.shape}\")\n",
    "print(f\"X_test shape: {X_test_ts.shape}, y_test shape: {y_test_ts.shape}\")\n"
   ]
  },
  {
   "cell_type": "code",
   "execution_count": 119,
   "metadata": {},
   "outputs": [],
   "source": [
    "# 시드 고정\n",
    "random.seed(SEED)\n",
    "np.random.seed(SEED)\n",
    "torch.manual_seed(SEED)\n",
    "torch.cuda.manual_seed(SEED)\n",
    "# torch.backends.cudnn.deterministic = True\n",
    "# torch.backends.cudnn.benchmark = False"
   ]
  },
  {
   "cell_type": "code",
   "execution_count": 120,
   "metadata": {},
   "outputs": [
    {
     "name": "stdout",
     "output_type": "stream",
     "text": [
      "사용 가능한 GPU 개수: 1\n",
      "GPU 0: NVIDIA GeForce RTX 4070 Laptop GPU\n",
      "모델이 위치한 디바이스: cuda:0\n"
     ]
    }
   ],
   "source": [
    "\n",
    "# 모델 생성\n",
    "model = nn.Sequential(\n",
    "    nn.Linear(13, 64),\n",
    "    nn.ReLU(),\n",
    "    nn.Linear(64, 32),\n",
    "    nn.ReLU(),\n",
    "    nn.Linear(32, 32),\n",
    "    nn.ReLU(),\n",
    "    nn.Linear(32, 1)\n",
    ")\n",
    "\n",
    "\n",
    "device = torch.device(\"cuda:0\" if torch.cuda.is_available() else \"cpu\")\n",
    "# device = \"cpu\"\n",
    "model = model.to(device)  # 모델을 GPU로 이동\n",
    "\n",
    "# 데이터도 GPU로 이동\n",
    "X_train_ts = X_train_ts.to(device)\n",
    "y_train_ts = y_train_ts.to(device)\n",
    "X_test_ts = X_test_ts.to(device)\n",
    "y_test_ts = y_test_ts.to(device)\n",
    "X_val_ts = X_val_ts.to(device)\n",
    "y_val_ts = y_val_ts.to(device)\n",
    "\n",
    "# 디바이스 확인\n",
    "# 사용 가능한 GPU 개수 확인\n",
    "print(f\"사용 가능한 GPU 개수: {torch.cuda.device_count()}\")\n",
    "\n",
    "# 각 GPU 이름 확인\n",
    "for i in range(torch.cuda.device_count()):\n",
    "    print(f\"GPU {i}: {torch.cuda.get_device_name(i)}\")\n",
    "\n",
    "print(f\"모델이 위치한 디바이스: {next(model.parameters()).device}\")\n"
   ]
  },
  {
   "cell_type": "code",
   "execution_count": 121,
   "metadata": {},
   "outputs": [],
   "source": [
    "epochs = 10000\n",
    "batch_size = 64\n",
    "batch_num = X_train_ts.shape[0] // batch_size\n",
    "# val_batch_num = max(X_val_ts.shape[0] // batch_size, 1)\n",
    "\n",
    "criterion = nn.MSELoss()\n",
    "optimizer = optim.Adam(model.parameters(), lr=4e-5)\n",
    "scheduler = torch.optim.lr_scheduler.MultiStepLR(optimizer, milestones=[5000], gamma=0.5)  # 학습률 스케쥴러\n",
    "\n",
    "loss_history = {\n",
    "    \"train\": [],\n",
    "    \"validation\": []\n",
    "}\n"
   ]
  },
  {
   "cell_type": "code",
   "execution_count": 122,
   "metadata": {},
   "outputs": [
    {
     "name": "stdout",
     "output_type": "stream",
     "text": [
      "Epoch: 0, Train Loss: 207.1510, Validation Loss: 153.2120\n",
      "Epoch: 1000, Train Loss: 38.3956, Validation Loss: 16.4258\n",
      "Epoch: 2000, Train Loss: 18.3345, Validation Loss: 12.6360\n",
      "Epoch: 3000, Train Loss: 14.3282, Validation Loss: 10.7026\n",
      "Epoch: 4000, Train Loss: 11.9113, Validation Loss: 9.3562\n",
      "Epoch: 5000, Train Loss: 10.5631, Validation Loss: 8.1934\n",
      "Epoch: 6000, Train Loss: 10.0780, Validation Loss: 7.8212\n",
      "Epoch: 7000, Train Loss: 9.5634, Validation Loss: 7.7076\n",
      "Epoch: 8000, Train Loss: 9.1313, Validation Loss: 7.5832\n",
      "Epoch: 9000, Train Loss: 8.7248, Validation Loss: 7.5589\n"
     ]
    }
   ],
   "source": [
    "\n",
    "for epoch in range(epochs):\n",
    "    # train\n",
    "    model.train()\n",
    "    loss_tmp = []\n",
    "    for i in range(batch_num):\n",
    "        start = i * batch_size\n",
    "        end = start + batch_size\n",
    "        # X_batch = X_train_ts[start:end].to(device)\n",
    "        # y_batch = y_train_ts[start:end].to(device)\n",
    "        X_batch = X_train_ts[start:end]\n",
    "        y_batch = y_train_ts[start:end]\n",
    "        \n",
    "        optimizer.zero_grad()  # 최적화 함수 초기화\n",
    "        yhat = model(X_batch)  # 예측값 계산\n",
    "        loss = criterion(yhat, y_batch)  # 손실율 계산\n",
    "        loss.backward()  # 역전파\n",
    "        optimizer.step()  # 최적화 함수로 파라미터 업데이트\n",
    "        loss_tmp.append(loss.item())\n",
    "    \n",
    "    loss_mean = sum(loss_tmp) / len(loss_tmp)\n",
    "    loss_history[\"train\"].append(loss_mean)  # loss\n",
    "    \n",
    "    # validation\n",
    "    model.eval()\n",
    "    # val_loss_tmp = []\n",
    "    # with torch.no_grad():\n",
    "    #     for i in range(val_batch_num):\n",
    "    #         start = i * batch_size\n",
    "    #         end = start + batch_size\n",
    "    #         # X_batch = X_val_ts[start:end].to(device)\n",
    "    #         # y_batch = y_val_ts[start:end].to(device)\n",
    "    #         X_batch = X_val_ts[start:end]\n",
    "    #         y_batch = y_val_ts[start:end]\n",
    "    #         y_val_pred = model(X_batch)\n",
    "    #         val_loss = criterion(y_val_pred, y_batch)\n",
    "    #         val_loss_tmp.append(val_loss.item())\n",
    "    \n",
    "    # val_loss_mean = sum(val_loss_tmp) / len(val_loss_tmp)\n",
    "    # loss_history[\"validation\"].append(val_loss_mean)  # validation loss\n",
    "    with torch.no_grad():\n",
    "        y_val_pred = model(X_val_ts)\n",
    "        val_loss = criterion(y_val_pred, y_val_ts)\n",
    "    loss_history[\"validation\"].append(val_loss.item())\n",
    "    \n",
    "    # learning curve 출력\n",
    "    if epoch % 1000 == 0:\n",
    "        # print(f\"Epoch: {epoch}, Train Loss: {loss_mean:.4f}, Validation Loss: {val_loss_mean:.4f}\")\n",
    "        print(f\"Epoch: {epoch}, Train Loss: {loss_mean:.4f}, Validation Loss: {val_loss:.4f}\")\n",
    "    \n",
    "    scheduler.step()  # 학습률 스케줄링 적용\n",
    "    \n"
   ]
  },
  {
   "cell_type": "code",
   "execution_count": 123,
   "metadata": {},
   "outputs": [
    {
     "data": {
      "text/plain": [
       "<Figure size 600x400 with 0 Axes>"
      ]
     },
     "metadata": {},
     "output_type": "display_data"
    },
    {
     "data": {
      "image/png": "[encoded data removed]",
      "text/plain": [
       "<Figure size 640x480 with 1 Axes>"
      ]
     },
     "metadata": {},
     "output_type": "display_data"
    }
   ],
   "source": [
    "# 학습 곡선 시각화\n",
    "plt.figure(figsize=(6, 4))\n",
    "\n",
    "# Train Loss와 Validation Loss 각각 그리기\n",
    "loss_data = pd.DataFrame(loss_history)\n",
    "loss_data[100:].plot()\n",
    "\n",
    "# 그래프 제목 및 라벨 설정\n",
    "plt.title(\"Loss Over Epochs\")\n",
    "plt.xlabel(\"Epoch\")\n",
    "plt.ylabel(\"Loss\")\n",
    "plt.grid()  # 그리드 추가\n",
    "plt.show()\n"
   ]
  },
  {
   "cell_type": "code",
   "execution_count": 124,
   "metadata": {},
   "outputs": [
    {
     "name": "stdout",
     "output_type": "stream",
     "text": [
      "14.744071960449219\n"
     ]
    }
   ],
   "source": [
    "# 테스트 평가\n",
    "model.eval()\n",
    "\n",
    "with torch.no_grad():\n",
    "    y_test_pred = model(X_test_ts)\n",
    "    MSE = criterion(y_test_pred, y_test_ts).item()\n",
    "    \n",
    "print(MSE)"
   ]
  }
 ],
 "metadata": {
  "kernelspec": {
   "display_name": "deeplearning",
   "language": "python",
   "name": "python3"
  },
  "language_info": {
   "codemirror_mode": {
    "name": "ipython",
    "version": 3
   },
   "file_extension": ".py",
   "mimetype": "text/x-python",
   "name": "python",
   "nbconvert_exporter": "python",
   "pygments_lexer": "ipython3",
   "version": "3.11.11"
  }
 },
 "nbformat": 4,
 "nbformat_minor": 2
}
