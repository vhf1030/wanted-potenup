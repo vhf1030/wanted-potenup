{
 "cells": [
  {
   "cell_type": "markdown",
   "metadata": {},
   "source": [
    "### Pydantic output parser"
   ]
  },
  {
   "cell_type": "code",
   "execution_count": 2,
   "metadata": {},
   "outputs": [
    {
     "data": {
      "text/plain": [
       "True"
      ]
     },
     "execution_count": 2,
     "metadata": {},
     "output_type": "execute_result"
    }
   ],
   "source": [
    "# from config.api_keys import openai_key\n",
    "from dotenv import load_dotenv\n",
    "load_dotenv()\n"
   ]
  },
  {
   "cell_type": "code",
   "execution_count": 3,
   "metadata": {},
   "outputs": [],
   "source": [
    "from langchain_core.output_parsers import PydanticOutputParser\n",
    "from langchain_core.prompts import PromptTemplate\n",
    "from langchain_openai import ChatOpenAI\n",
    "from pydantic import BaseModel, Field\n",
    "\n",
    "class MovieInfo(BaseModel):\n",
    "    title: str = Field(description=\"영화 제목\")  # LLM이 description을 반영\n",
    "    director: str = Field(description=\"영화 감독\")\n",
    "    release_year: int = Field(description=\"개봉 연도\")\n",
    "    \n",
    "parser = PydanticOutputParser(pydantic_object=MovieInfo)\n",
    "llm = ChatOpenAI(\n",
    "    model_name='gpt-4o-mini',\n",
    "    # api_key=openai_key,  # load_dotenv로 API키 적용된 상태\n",
    "    temperature=0\n",
    ")\n",
    "prompt = PromptTemplate.from_template(\n",
    "    \"\"\"\n",
    "    사용자가 입력한 영화의 정보를 알려주세요\n",
    "    영화의 제목, 감독, 개봉년도를 알려주세요\n",
    "    영화 이름: {movie_name}\n",
    "    출력:{format}\n",
    "    \"\"\"\n",
    ")\n",
    "# partial varible: 사용자가 아닌 개발자가 접근하는 변수\n",
    "prompt = prompt.partial(format=parser.get_format_instructions())\n"
   ]
  },
  {
   "cell_type": "code",
   "execution_count": 4,
   "metadata": {},
   "outputs": [
    {
     "name": "stdout",
     "output_type": "stream",
     "text": [
      "title='극한직업' director='이병헌' release_year=2019\n"
     ]
    }
   ],
   "source": [
    "chain = (\n",
    "    prompt | llm | parser\n",
    ")\n",
    "\n",
    "output = chain.invoke(\"극한직업\")\n",
    "print(output)"
   ]
  },
  {
   "cell_type": "code",
   "execution_count": 5,
   "metadata": {},
   "outputs": [
    {
     "name": "stderr",
     "output_type": "stream",
     "text": [
      "C:\\Users\\user\\AppData\\Local\\Temp\\ipykernel_51428\\3742157523.py:1: PydanticDeprecatedSince20: The `json` method is deprecated; use `model_dump_json` instead. Deprecated in Pydantic V2.0 to be removed in V3.0. See Pydantic V2 Migration Guide at https://errors.pydantic.dev/2.10/migration/\n",
      "  output.json()\n"
     ]
    },
    {
     "data": {
      "text/plain": [
       "'{\"title\":\"극한직업\",\"director\":\"이병헌\",\"release_year\":2019}'"
      ]
     },
     "execution_count": 5,
     "metadata": {},
     "output_type": "execute_result"
    }
   ],
   "source": [
    "output.json()"
   ]
  },
  {
   "cell_type": "markdown",
   "metadata": {},
   "source": [
    "### comma separated list output parser"
   ]
  },
  {
   "cell_type": "code",
   "execution_count": 8,
   "metadata": {},
   "outputs": [
    {
     "data": {
      "text/plain": [
       "['사과', '딸기', '바나나', '당근']"
      ]
     },
     "execution_count": 8,
     "metadata": {},
     "output_type": "execute_result"
    }
   ],
   "source": [
    "from langchain_core.output_parsers import CommaSeparatedListOutputParser\n",
    "\n",
    "parser = CommaSeparatedListOutputParser()\n",
    "\n",
    "llm_response = '사과,딸기,바나나, 당근'\n",
    "\n",
    "parsed_output = parser.parse(llm_response)\n",
    "parsed_output\n",
    "\n"
   ]
  },
  {
   "cell_type": "code",
   "execution_count": 13,
   "metadata": {},
   "outputs": [
    {
     "name": "stdout",
     "output_type": "stream",
     "text": [
      "['사과', '바나나', '오렌지']\n",
      "['김치', '비빔밥', '불고기']\n",
      "['비빔밥', '불고기', '김치찌개']\n"
     ]
    }
   ],
   "source": [
    "from langchain_core.output_parsers import CommaSeparatedListOutputParser\n",
    "from langchain_core.prompts import PromptTemplate\n",
    "from langchain_openai import ChatOpenAI\n",
    "from pydantic import BaseModel, Field\n",
    "\n",
    "parser = CommaSeparatedListOutputParser()\n",
    "llm = ChatOpenAI(\n",
    "    model_name='gpt-4o-mini',\n",
    "    # api_key=openai_key,  # load_dotenv로 API키 적용된 상태\n",
    "    # temperature=0\n",
    ")\n",
    "prompt = PromptTemplate.from_template(\n",
    "    '다음 주제와 관련된 3가지 항목을 콤마(,)로 구분하여 나열하세요. 주제: {topic}'\n",
    ")\n",
    "\n",
    "chain = prompt | llm | parser\n",
    "\n",
    "output = chain.invoke('과일')\n",
    "print(output)\n",
    "\n",
    "output = chain.invoke('한식')\n",
    "print(output)\n",
    "\n",
    "output = chain.invoke('한식 메뉴')\n",
    "print(output)"
   ]
  },
  {
   "cell_type": "markdown",
   "metadata": {},
   "source": [
    "### structured output parser\n",
    "- pydantic output parser의 간단한 버전\n",
    "- data type을 설정하지 않음"
   ]
  },
  {
   "cell_type": "code",
   "execution_count": 15,
   "metadata": {},
   "outputs": [
    {
     "name": "stdout",
     "output_type": "stream",
     "text": [
      "{'title': 'Memento', 'director': 'Christopher Nolan', 'release_year': '2000'}\n"
     ]
    }
   ],
   "source": [
    "from langchain.output_parsers import ResponseSchema, StructuredOutputParser\n",
    "from langchain_core.prompts import PromptTemplate\n",
    "from langchain_openai import ChatOpenAI\n",
    "\n",
    "schemas = [\n",
    "    ResponseSchema(name='title', description='영화 제목'),\n",
    "    ResponseSchema(name='director', description='영화 감독'),\n",
    "    ResponseSchema(name='release_year', description='개봉 연도'),\n",
    "]\n",
    "\n",
    "parser = StructuredOutputParser.from_response_schemas(schemas)\n",
    "\n",
    "llm = ChatOpenAI(\n",
    "    model_name='gpt-4o-mini',\n",
    "    # api_key=openai_key,  # load_dotenv로 API키 적용된 상태\n",
    "    # temperature=0\n",
    ")\n",
    "\n",
    "prompt = PromptTemplate.from_template(\n",
    "    \"\"\"\n",
    "    사용자가 입력한 영화의 정보를 알려주세요\n",
    "    영화의 제목, 감독, 개봉년도를 알려주세요\n",
    "    영화 이름: {movie_name}\n",
    "    출력:{format}\n",
    "    \"\"\"\n",
    ")\n",
    "# partial varible: 사용자가 아닌 개발자가 접근하는 변수\n",
    "prompt = prompt.partial(format=parser.get_format_instructions())\n",
    "\n",
    "chain = (\n",
    "    prompt | llm | parser\n",
    ")\n",
    "\n",
    "output = chain.invoke(\"memento\")\n",
    "print(output)\n"
   ]
  },
  {
   "cell_type": "code",
   "execution_count": 20,
   "metadata": {},
   "outputs": [
    {
     "name": "stdout",
     "output_type": "stream",
     "text": [
      "title='이기적 유전자' author='리처드 도킨스' publication_year=1976 summary=\"이 책은 유전자의 관점에서 진화를 설명하며, 생물의 행동과 사회적 구조를 유전자의 생존과 복제를 중심으로 분석합니다. 도킨스는 '이기적 유전자'라는 개념을 통해 생물의 행동을 이해하는 새로운 시각을 제시합니다.\"\n",
      "title='해리포터' author='J.K. 롤링' publication_year=1997 summary='해리포터는 마법사 학교인 호그와트에 입학한 소년 해리 포터의 모험을 다룬 이야기로, 친구들과 함께 어둠의 마법사 볼드모트를 물리치기 위해 성장하는 과정을 그린 판타지 소설입니다.'\n",
      "<class '__main__.BookInfo'>\n"
     ]
    }
   ],
   "source": [
    "### 책의 정보를 알려주는 인공지능 에이전트를 만들어 보세요\n",
    "\n",
    "from langchain_core.output_parsers import PydanticOutputParser\n",
    "from langchain_core.prompts import PromptTemplate\n",
    "from langchain_openai import ChatOpenAI\n",
    "from pydantic import BaseModel, Field\n",
    "\n",
    "class BookInfo(BaseModel):\n",
    "    title: str = Field(description=\"도서 제목\")  # LLM이 description을 반영\n",
    "    author: str = Field(description=\"글쓴이\")\n",
    "    publication_year: int = Field(description=\"출판 연도\")\n",
    "    summary: str = Field(description=\"내용 요약\")\n",
    "\n",
    "parser = PydanticOutputParser(pydantic_object=BookInfo)\n",
    "llm = ChatOpenAI(\n",
    "    model_name='gpt-4o-mini',\n",
    "    # api_key=openai_key,  # load_dotenv로 API키 적용된 상태\n",
    "    temperature=0\n",
    ")\n",
    "prompt = PromptTemplate.from_template(\n",
    "    \"\"\"\n",
    "    사용자가 입력한 도서의 정보를 알려주세요\n",
    "    도서의 제목, 글쓴이, 출판 연도를 알려주세요\n",
    "    도서의 간단한 내용을 200자 이내로 요약하세요\n",
    "    도서 이름: {book_name}\n",
    "    출력:{format}\n",
    "    \"\"\"\n",
    ")\n",
    "# partial varible: 사용자가 아닌 개발자가 접근하는 변수\n",
    "prompt = prompt.partial(format=parser.get_format_instructions())\n",
    "\n",
    "chain = (\n",
    "    prompt | llm | parser\n",
    ")\n",
    "\n",
    "output = chain.invoke(\"이기적 유전자\")\n",
    "print(output)\n",
    "\n",
    "output = chain.invoke(\"해리포터\")\n",
    "print(output)\n",
    "\n",
    "print(type(output))\n"
   ]
  },
  {
   "cell_type": "code",
   "execution_count": 4,
   "metadata": {},
   "outputs": [
    {
     "name": "stdout",
     "output_type": "stream",
     "text": [
      "title='이기적 유전자' author='리처드 도킨스' publication_year=1976 summary='이 책은 유전자의 관점에서 진화론을 설명하며, 생물의 행동과 사회적 구조가 유전자에 의해 어떻게 형성되는지를 탐구합니다. 도킨스는 유전자가 생물의 진화에서 중심적인 역할을 한다고 주장합니다.'\n",
      "title='해리포터' author='J.K. 롤링' publication_year=1997 summary='해리포터는 마법사 학교에 다니는 소년 해리 포터의 모험을 그린 이야기로, 친구들과 함께 어둠의 마법사와 싸우며 성장하는 과정을 담고 있습니다.'\n",
      "input_variables=['book_name'] input_types={} partial_variables={'format': 'The output should be formatted as a JSON instance that conforms to the JSON schema below.\\n\\nAs an example, for the schema {\"properties\": {\"foo\": {\"title\": \"Foo\", \"description\": \"a list of strings\", \"type\": \"array\", \"items\": {\"type\": \"string\"}}}, \"required\": [\"foo\"]}\\nthe object {\"foo\": [\"bar\", \"baz\"]} is a well-formatted instance of the schema. The object {\"properties\": {\"foo\": [\"bar\", \"baz\"]}} is not well-formatted.\\n\\nHere is the output schema:\\n```\\n{\"properties\": {\"title\": {\"description\": \"도서 제목\", \"title\": \"Title\", \"type\": \"string\"}, \"author\": {\"description\": \"글쓴이\", \"title\": \"Author\", \"type\": \"string\"}, \"publication_year\": {\"description\": \"출판 연도\", \"title\": \"Publication Year\", \"type\": \"integer\"}, \"summary\": {\"description\": \"내용 요약\", \"title\": \"Summary\", \"type\": \"string\"}}, \"required\": [\"title\", \"author\", \"publication_year\", \"summary\"]}\\n```'} template='\\n    사용자가 입력한 도서의 정보를 알려주세요\\n    도서의 제목, 글쓴이, 출판 연도를 알려주세요\\n    도서의 간단한 내용을 200자 이내로 요약하세요\\n    도서 이름: {book_name}\\n    출력:{format}\\n    '\n"
     ]
    }
   ],
   "source": [
    "### 책의 정보를 알려주는 인공지능 에이전트를 만들어 보세요\n",
    "\n",
    "from langchain_core.output_parsers import PydanticOutputParser\n",
    "from langchain_core.prompts import PromptTemplate\n",
    "from langchain_openai import ChatOpenAI\n",
    "from pydantic import BaseModel, Field\n",
    "\n",
    "class BookInfo(BaseModel):\n",
    "    title: str = Field(description=\"도서 제목\")  # LLM이 description을 반영\n",
    "    author: str = Field(description=\"글쓴이\")\n",
    "    publication_year: int = Field(description=\"출판 연도\")\n",
    "    summary: str = Field(description=\"내용 요약\")\n",
    "\n",
    "parser = PydanticOutputParser(pydantic_object=BookInfo)\n",
    "llm = ChatOpenAI(\n",
    "    model_name='gpt-4o-mini',\n",
    "    # api_key=openai_key,  # load_dotenv로 API키 적용된 상태\n",
    "    temperature=0\n",
    ")\n",
    "prompt = PromptTemplate.from_template(\n",
    "    \"\"\"\n",
    "    사용자가 입력한 도서의 정보를 알려주세요\n",
    "    도서의 제목, 글쓴이, 출판 연도를 알려주세요\n",
    "    도서의 간단한 내용을 200자 이내로 요약하세요\n",
    "    도서 이름: {book_name}\n",
    "    출력:{format}\n",
    "    \"\"\"\n",
    ")\n",
    "# partial varible: 사용자가 아닌 개발자가 접근하는 변수\n",
    "prompt = prompt.partial(format=parser.get_format_instructions())\n",
    "\n",
    "chain = (\n",
    "    prompt | llm | parser\n",
    ")\n",
    "\n",
    "output = chain.invoke(\"이기적 유전자\")\n",
    "print(output)\n",
    "\n",
    "output = chain.invoke(\"해리포터\")\n",
    "print(output)\n",
    "\n",
    "print(prompt)"
   ]
  },
  {
   "cell_type": "markdown",
   "metadata": {},
   "source": [
    "### JSON output parser"
   ]
  },
  {
   "cell_type": "code",
   "execution_count": 23,
   "metadata": {},
   "outputs": [
    {
     "name": "stdout",
     "output_type": "stream",
     "text": [
      "{'title': '이기적 유전자', 'author': '리처드 도킨스'}\n",
      "<class 'dict'>\n"
     ]
    }
   ],
   "source": [
    "from langchain_core.output_parsers import JsonOutputParser\n",
    "\n",
    "parser = JsonOutputParser()\n",
    "\n",
    "llm_response = '{\"title\":\"이기적 유전자\", \"author\":\"리처드 도킨스\"}'\n",
    "\n",
    "output = parser.parse(llm_response)\n",
    "print(output)\n",
    "print(type(output))\n"
   ]
  },
  {
   "cell_type": "markdown",
   "metadata": {},
   "source": [
    "### 연습문제\n",
    "다음과 같은 LangChain Expression Language (LCEL) 체인을 작성하세요.\n",
    "사용자가 책 제목을 입력하면, LLM이 해당 책의 정보를 반환하고, 이를 PydanticOutputParser를 통해 구조화된 데이터로 변환해야 합니다.\n",
    "user_input = \"죄와 벌\"\n",
    "\n",
    "output = {\n",
    "  \"title\": \"죄와 벌\",\n",
    "  \"author\": \"표도르 도스토옙스키\",\n",
    "  \"publication_year\": 1866,\n",
    "  \"isbn\": \"978-89-374-2172-9\",\n",
    "  \"genre\": \"고전 문학\"\n",
    "}\n"
   ]
  },
  {
   "cell_type": "code",
   "execution_count": 32,
   "metadata": {},
   "outputs": [
    {
     "data": {
      "text/plain": [
       "BookInfo(title='죄와 벌', author='표도르 미하일로비치 도스토예프스키', publication_year=1866, isbn='978-89-01-00000-0', genre='소설')"
      ]
     },
     "execution_count": 32,
     "metadata": {},
     "output_type": "execute_result"
    }
   ],
   "source": [
    "from langchain_core.output_parsers import PydanticOutputParser\n",
    "from langchain_core.prompts import PromptTemplate\n",
    "from langchain_openai import ChatOpenAI\n",
    "from pydantic import BaseModel, Field\n",
    "\n",
    "class BookInfo(BaseModel):\n",
    "    title: str = Field(description=\"도서 제목\")  # LLM이 description을 반영\n",
    "    author: str = Field(description=\"글쓴이\")\n",
    "    publication_year: int = Field(description=\"출판 연도\")\n",
    "    isbn: str = Field(description=\"ISBN 코드\")\n",
    "    genre: str = Field(description=\"도서 장르\")\n",
    "\n",
    "parser = PydanticOutputParser(pydantic_object=BookInfo)\n",
    "llm = ChatOpenAI(\n",
    "    model_name='gpt-4o-mini',\n",
    "    # api_key=openai_key,  # load_dotenv로 API키 적용된 상태\n",
    "    temperature=0\n",
    ")\n",
    "prompt = PromptTemplate.from_template(\n",
    "    \"\"\"\n",
    "    사용자가 입력한 도서의 정보를 알려주세요\n",
    "    도서의 제목, 글쓴이, 출판 연도, ISBN 코드, 장르를 알려주세요\n",
    "    도서 이름: {book_name}\n",
    "    출력:{format}\n",
    "    \"\"\"\n",
    ")\n",
    "# partial varible: 사용자가 아닌 개발자가 접근하는 변수\n",
    "prompt = prompt.partial(format=parser.get_format_instructions())\n",
    "\n",
    "chain = (\n",
    "    prompt | llm | parser\n",
    ")\n",
    "\n",
    "output = chain.invoke(\"죄와 벌\")\n",
    "output"
   ]
  },
  {
   "cell_type": "markdown",
   "metadata": {},
   "source": [
    "### 연습문제\n",
    "고객 피드백 요약 (고객 지원 팀)\n",
    "문한 SaaS(소프트웨어 서비스) 회사에서 고객 지원 팀이 고객 피드백을 분석하여 주요 키워드를 추출하는 시스템을 만들고 있습니다.\n",
    "GPT 모델이 고객 리뷰를 분석하여 중요한 키워드를 콤마로 구분된 리스트로 출력하면,\n",
    "이를 CommaSeparatedListOutputParser 를 사용하여 변환하는 코드를 작성하세요.\n",
    "\n",
    "user_input = \"이 소프트웨어는 사용이 매우 직관적이며, 빠른 로딩 속도가 마음에 듭니다. 하지만 가\n",
    "격이 조금 비싼 것 같아요.\"\n",
    "\n",
    "output = [\"직관적\", \"빠른 속도\", \"사용자 친화적\", \"비싼 가격\"]"
   ]
  },
  {
   "cell_type": "code",
   "execution_count": null,
   "metadata": {},
   "outputs": [
    {
     "name": "stdout",
     "output_type": "stream",
     "text": [
      "['직관적', '빠른 속도', '비싼 가격']\n"
     ]
    }
   ],
   "source": [
    "from langchain_core.output_parsers import CommaSeparatedListOutputParser\n",
    "from langchain_core.prompts import PromptTemplate, FewShotPromptTemplate\n",
    "from langchain_openai import ChatOpenAI\n",
    "\n",
    "examples = [\n",
    "        {\n",
    "        'feeedback': '이 소프트웨어는 사용이 매우 주관적이며, 느린 로딩 속도가 별로입니다. 하지만 사용하기 쉽고 가격이 싸서 좋아요.',\n",
    "        'keyword': '주관적, 느린 속도, 쉬운 사용성, 싼 가격'\n",
    "    }\n",
    "]\n",
    "# prompt = PromptTemplate.from_template(\n",
    "#     '고객 피드백을 분석하여 장점 및 단점에 대한 주요 키워드를 추출하세요.\\n'\n",
    "#     '추출한 키워드를 콤마(,)로 구분하여 나열하세요.\\n고객 피드백: {feedback}'\n",
    "# )\n",
    "example_prompt = PromptTemplate(\n",
    "    input_variables=[\"feeedback\", \"keyword\"],\n",
    "    template=\"입력: {feeedback}\\n출력: {keyword}\"\n",
    ")\n",
    "\n",
    "few_shot_prompt = FewShotPromptTemplate(\n",
    "    examples=examples,  # 위에서 정의한 예제 데이터\n",
    "    example_prompt=example_prompt,  # 예제를 넣을 템플릿\n",
    "    prefix=\"고객 피드백을 분석하여 장점 및 단점에 대한 주요 키워드를 추출하세요.:\\n\",  # 프롬프트의 시작 부분\n",
    "    suffix=\"입력: {feeedback}\\n출력:\",  # 사용자 입력이 들어갈 부분\n",
    "    input_variables=[\"feeedback\"]  # 동적으로 입력될 변수\n",
    ")\n",
    "\n",
    "llm = ChatOpenAI(\n",
    "    model_name='gpt-4o-mini',\n",
    ")\n",
    "\n",
    "parser = CommaSeparatedListOutputParser()\n",
    "chain = few_shot_prompt | llm | parser\n",
    "\n",
    "output = chain.invoke('이 소프트웨어는 사용이 매우 직관적이며, 빠른 로딩 속도가 마음에 듭니다. 하지만 가격이 조금 비싼 것 같아요.')\n",
    "print(output)\n"
   ]
  }
 ],
 "metadata": {
  "kernelspec": {
   "display_name": "lang_311",
   "language": "python",
   "name": "python3"
  },
  "language_info": {
   "codemirror_mode": {
    "name": "ipython",
    "version": 3
   },
   "file_extension": ".py",
   "mimetype": "text/x-python",
   "name": "python",
   "nbconvert_exporter": "python",
   "pygments_lexer": "ipython3",
   "version": "3.11.11"
  }
 },
 "nbformat": 4,
 "nbformat_minor": 2
}
