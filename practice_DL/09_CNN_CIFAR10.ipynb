{
 "cells": [
  {
   "cell_type": "markdown",
   "metadata": {},
   "source": [
    "### 데이터 불러오기"
   ]
  },
  {
   "cell_type": "code",
   "execution_count": 1,
   "metadata": {},
   "outputs": [],
   "source": [
    "from torchvision import datasets\n",
    "import torchvision.transforms as transforms "
   ]
  },
  {
   "cell_type": "code",
   "execution_count": 2,
   "metadata": {},
   "outputs": [],
   "source": [
    "data_transform = transforms.Compose(\n",
    "    [\n",
    "        transforms.ToTensor()\n",
    "    ]\n",
    ")\n",
    "\n",
    "train_data = datasets.CIFAR10(root=\"./data\", train=True, download=True, transform=data_transform)\n",
    "test_data = datasets.CIFAR10(root=\"./data\", train=False, download=True, transform=data_transform)"
   ]
  },
  {
   "cell_type": "code",
   "execution_count": 3,
   "metadata": {},
   "outputs": [
    {
     "name": "stdout",
     "output_type": "stream",
     "text": [
      "Train Data - X: (50000, 32, 32, 3) Y: 50000\n",
      "Test Data - X: (10000, 32, 32, 3) Y: 10000\n"
     ]
    }
   ],
   "source": [
    "print(f\"Train Data - X: {train_data.data.shape} Y: {len(train_data.targets)}\")\n",
    "print(f\"Test Data - X: {test_data.data.shape} Y: {len(test_data.targets)}\")"
   ]
  },
  {
   "cell_type": "code",
   "execution_count": 4,
   "metadata": {},
   "outputs": [
    {
     "name": "stdout",
     "output_type": "stream",
     "text": [
      "['__add__', '__annotations__', '__class__', '__class_getitem__', '__delattr__', '__dict__', '__dir__', '__doc__', '__eq__', '__format__', '__ge__', '__getattribute__', '__getitem__', '__getstate__', '__gt__', '__hash__', '__init__', '__init_subclass__', '__le__', '__len__', '__lt__', '__module__', '__ne__', '__new__', '__orig_bases__', '__parameters__', '__reduce__', '__reduce_ex__', '__repr__', '__setattr__', '__sizeof__', '__slots__', '__str__', '__subclasshook__', '__weakref__', '_check_integrity', '_format_transform_repr', '_is_protocol', '_load_meta', '_repr_indent', 'base_folder', 'class_to_idx', 'classes', 'data', 'download', 'extra_repr', 'filename', 'meta', 'root', 'target_transform', 'targets', 'test_list', 'tgz_md5', 'train', 'train_list', 'transform', 'transforms', 'url']\n",
      "['airplane', 'automobile', 'bird', 'cat', 'deer', 'dog', 'frog', 'horse', 'ship', 'truck']\n"
     ]
    }
   ],
   "source": [
    "print(dir(train_data))\n",
    "categories = train_data.classes\n",
    "print(categories)"
   ]
  },
  {
   "cell_type": "code",
   "execution_count": 5,
   "metadata": {},
   "outputs": [
    {
     "name": "stdout",
     "output_type": "stream",
     "text": [
      "6\n"
     ]
    },
    {
     "data": {
      "image/png": "[encoded data removed]",
      "text/plain": [
       "<Figure size 300x300 with 1 Axes>"
      ]
     },
     "metadata": {},
     "output_type": "display_data"
    }
   ],
   "source": [
    "import matplotlib.pyplot as plt \n",
    "\n",
    "# 데이터 1개 그림 그리기 \n",
    "image = train_data.data[0]\n",
    "y = train_data.targets[0]\n",
    "print(y)\n",
    "\n",
    "plt.figure(figsize=(3,3))\n",
    "plt.imshow(image)\n",
    "plt.title(f\"{categories[y]}({y})\")\n",
    "plt.show()"
   ]
  },
  {
   "cell_type": "code",
   "execution_count": 6,
   "metadata": {},
   "outputs": [
    {
     "name": "stdout",
     "output_type": "stream",
     "text": [
      "Train Data 개수: 40000\n",
      "Validation Data 개수: 10000\n",
      "Test Data 개수: 10000\n"
     ]
    }
   ],
   "source": [
    "from torch.utils.data import random_split\n",
    "\n",
    "train_data, val_data = random_split(train_data, [0.8, 0.2])\n",
    "\n",
    "print(f\"Train Data 개수: {len(train_data)}\")\n",
    "print(f\"Validation Data 개수: {len(val_data)}\")\n",
    "print(f\"Test Data 개수: {len(test_data)}\")"
   ]
  },
  {
   "cell_type": "code",
   "execution_count": 7,
   "metadata": {},
   "outputs": [
    {
     "name": "stdout",
     "output_type": "stream",
     "text": [
      "Train Data 배치 개수: 1250\n",
      "Validation Data 배치 개수: 313\n",
      "Test Data 배치 개수: 313\n"
     ]
    }
   ],
   "source": [
    "from torch.utils.data.dataloader import DataLoader\n",
    "\n",
    "batch_size = 32\n",
    "\n",
    "train_loader = DataLoader(train_data, batch_size=batch_size, shuffle=True)\n",
    "val_loader = DataLoader(val_data, batch_size=batch_size, shuffle=True)\n",
    "test_loader = DataLoader(test_data, batch_size=batch_size, shuffle=True)\n",
    "\n",
    "print(f\"Train Data 배치 개수: {len(train_loader)}\")\n",
    "print(f\"Validation Data 배치 개수: {len(val_loader)}\")\n",
    "print(f\"Test Data 배치 개수: {len(test_loader)}\")"
   ]
  },
  {
   "cell_type": "markdown",
   "metadata": {},
   "source": [
    "### 모델 가져오기"
   ]
  },
  {
   "cell_type": "code",
   "execution_count": 8,
   "metadata": {},
   "outputs": [
    {
     "name": "stderr",
     "output_type": "stream",
     "text": [
      "c:\\Users\\user\\miniconda3\\envs\\deeplearning\\Lib\\site-packages\\torchvision\\models\\_utils.py:208: UserWarning: The parameter 'pretrained' is deprecated since 0.13 and may be removed in the future, please use 'weights' instead.\n",
      "  warnings.warn(\n",
      "c:\\Users\\user\\miniconda3\\envs\\deeplearning\\Lib\\site-packages\\torchvision\\models\\_utils.py:223: UserWarning: Arguments other than a weight enum or `None` for 'weights' are deprecated since 0.13 and may be removed in the future. The current behavior is equivalent to passing `weights=VGG16_Weights.IMAGENET1K_V1`. You can also use `weights=VGG16_Weights.DEFAULT` to get the most up-to-date weights.\n",
      "  warnings.warn(msg)\n"
     ]
    },
    {
     "data": {
      "text/plain": [
       "VGG(\n",
       "  (features): Sequential(\n",
       "    (0): Conv2d(3, 64, kernel_size=(3, 3), stride=(1, 1), padding=(1, 1))\n",
       "    (1): ReLU(inplace=True)\n",
       "    (2): Conv2d(64, 64, kernel_size=(3, 3), stride=(1, 1), padding=(1, 1))\n",
       "    (3): ReLU(inplace=True)\n",
       "    (4): MaxPool2d(kernel_size=2, stride=2, padding=0, dilation=1, ceil_mode=False)\n",
       "    (5): Conv2d(64, 128, kernel_size=(3, 3), stride=(1, 1), padding=(1, 1))\n",
       "    (6): ReLU(inplace=True)\n",
       "    (7): Conv2d(128, 128, kernel_size=(3, 3), stride=(1, 1), padding=(1, 1))\n",
       "    (8): ReLU(inplace=True)\n",
       "    (9): MaxPool2d(kernel_size=2, stride=2, padding=0, dilation=1, ceil_mode=False)\n",
       "    (10): Conv2d(128, 256, kernel_size=(3, 3), stride=(1, 1), padding=(1, 1))\n",
       "    (11): ReLU(inplace=True)\n",
       "    (12): Conv2d(256, 256, kernel_size=(3, 3), stride=(1, 1), padding=(1, 1))\n",
       "    (13): ReLU(inplace=True)\n",
       "    (14): Conv2d(256, 256, kernel_size=(3, 3), stride=(1, 1), padding=(1, 1))\n",
       "    (15): ReLU(inplace=True)\n",
       "    (16): MaxPool2d(kernel_size=2, stride=2, padding=0, dilation=1, ceil_mode=False)\n",
       "    (17): Conv2d(256, 512, kernel_size=(3, 3), stride=(1, 1), padding=(1, 1))\n",
       "    (18): ReLU(inplace=True)\n",
       "    (19): Conv2d(512, 512, kernel_size=(3, 3), stride=(1, 1), padding=(1, 1))\n",
       "    (20): ReLU(inplace=True)\n",
       "    (21): Conv2d(512, 512, kernel_size=(3, 3), stride=(1, 1), padding=(1, 1))\n",
       "    (22): ReLU(inplace=True)\n",
       "    (23): MaxPool2d(kernel_size=2, stride=2, padding=0, dilation=1, ceil_mode=False)\n",
       "    (24): Conv2d(512, 512, kernel_size=(3, 3), stride=(1, 1), padding=(1, 1))\n",
       "    (25): ReLU(inplace=True)\n",
       "    (26): Conv2d(512, 512, kernel_size=(3, 3), stride=(1, 1), padding=(1, 1))\n",
       "    (27): ReLU(inplace=True)\n",
       "    (28): Conv2d(512, 512, kernel_size=(3, 3), stride=(1, 1), padding=(1, 1))\n",
       "    (29): ReLU(inplace=True)\n",
       "    (30): MaxPool2d(kernel_size=2, stride=2, padding=0, dilation=1, ceil_mode=False)\n",
       "  )\n",
       "  (avgpool): AdaptiveAvgPool2d(output_size=(7, 7))\n",
       "  (classifier): Sequential(\n",
       "    (0): Linear(in_features=25088, out_features=4096, bias=True)\n",
       "    (1): ReLU(inplace=True)\n",
       "    (2): Dropout(p=0.5, inplace=False)\n",
       "    (3): Linear(in_features=4096, out_features=4096, bias=True)\n",
       "    (4): ReLU(inplace=True)\n",
       "    (5): Dropout(p=0.5, inplace=False)\n",
       "    (6): Linear(in_features=4096, out_features=1000, bias=True)\n",
       "  )\n",
       ")"
      ]
     },
     "execution_count": 8,
     "metadata": {},
     "output_type": "execute_result"
    }
   ],
   "source": [
    "from torchvision.models.vgg import vgg16\n",
    "\n",
    "model = vgg16(pretrained=True)\n",
    "model"
   ]
  },
  {
   "cell_type": "code",
   "execution_count": 9,
   "metadata": {},
   "outputs": [
    {
     "data": {
      "text/plain": [
       "VGG(\n",
       "  (features): Sequential(\n",
       "    (0): Conv2d(3, 64, kernel_size=(3, 3), stride=(1, 1), padding=(1, 1))\n",
       "    (1): ReLU(inplace=True)\n",
       "    (2): Conv2d(64, 64, kernel_size=(3, 3), stride=(1, 1), padding=(1, 1))\n",
       "    (3): ReLU(inplace=True)\n",
       "    (4): MaxPool2d(kernel_size=2, stride=2, padding=0, dilation=1, ceil_mode=False)\n",
       "    (5): Conv2d(64, 128, kernel_size=(3, 3), stride=(1, 1), padding=(1, 1))\n",
       "    (6): ReLU(inplace=True)\n",
       "    (7): Conv2d(128, 128, kernel_size=(3, 3), stride=(1, 1), padding=(1, 1))\n",
       "    (8): ReLU(inplace=True)\n",
       "    (9): MaxPool2d(kernel_size=2, stride=2, padding=0, dilation=1, ceil_mode=False)\n",
       "    (10): Conv2d(128, 256, kernel_size=(3, 3), stride=(1, 1), padding=(1, 1))\n",
       "    (11): ReLU(inplace=True)\n",
       "    (12): Conv2d(256, 256, kernel_size=(3, 3), stride=(1, 1), padding=(1, 1))\n",
       "    (13): ReLU(inplace=True)\n",
       "    (14): Conv2d(256, 256, kernel_size=(3, 3), stride=(1, 1), padding=(1, 1))\n",
       "    (15): ReLU(inplace=True)\n",
       "    (16): MaxPool2d(kernel_size=2, stride=2, padding=0, dilation=1, ceil_mode=False)\n",
       "    (17): Conv2d(256, 512, kernel_size=(3, 3), stride=(1, 1), padding=(1, 1))\n",
       "    (18): ReLU(inplace=True)\n",
       "    (19): Conv2d(512, 512, kernel_size=(3, 3), stride=(1, 1), padding=(1, 1))\n",
       "    (20): ReLU(inplace=True)\n",
       "    (21): Conv2d(512, 512, kernel_size=(3, 3), stride=(1, 1), padding=(1, 1))\n",
       "    (22): ReLU(inplace=True)\n",
       "    (23): MaxPool2d(kernel_size=2, stride=2, padding=0, dilation=1, ceil_mode=False)\n",
       "    (24): Conv2d(512, 512, kernel_size=(3, 3), stride=(1, 1), padding=(1, 1))\n",
       "    (25): ReLU(inplace=True)\n",
       "    (26): Conv2d(512, 512, kernel_size=(3, 3), stride=(1, 1), padding=(1, 1))\n",
       "    (27): ReLU(inplace=True)\n",
       "    (28): Conv2d(512, 512, kernel_size=(3, 3), stride=(1, 1), padding=(1, 1))\n",
       "    (29): ReLU(inplace=True)\n",
       "    (30): MaxPool2d(kernel_size=2, stride=2, padding=0, dilation=1, ceil_mode=False)\n",
       "  )\n",
       "  (avgpool): AdaptiveAvgPool2d(output_size=(7, 7))\n",
       "  (classifier): Sequential(\n",
       "    (0): Linear(in_features=25088, out_features=4096, bias=True)\n",
       "    (1): ReLU(inplace=True)\n",
       "    (2): Dropout(p=0.5, inplace=False)\n",
       "    (3): Linear(in_features=4096, out_features=4096, bias=True)\n",
       "    (4): ReLU(inplace=True)\n",
       "    (5): Dropout(p=0.5, inplace=False)\n",
       "    (6): Linear(in_features=4096, out_features=1000, bias=True)\n",
       "  )\n",
       ")"
      ]
     },
     "execution_count": 9,
     "metadata": {},
     "output_type": "execute_result"
    }
   ],
   "source": [
    "from torchvision.models.vgg import vgg16\n",
    "\n",
    "model = vgg16(weights='IMAGENET1K_V1')\n",
    "# model = vgg16(pretrained=False)\n",
    "model"
   ]
  },
  {
   "cell_type": "code",
   "execution_count": 10,
   "metadata": {},
   "outputs": [
    {
     "name": "stdout",
     "output_type": "stream",
     "text": [
      "----------------------------------------------------------------\n",
      "        Layer (type)               Output Shape         Param #\n",
      "================================================================\n",
      "            Conv2d-1           [-1, 64, 32, 32]           1,792\n",
      "              ReLU-2           [-1, 64, 32, 32]               0\n",
      "            Conv2d-3           [-1, 64, 32, 32]          36,928\n",
      "              ReLU-4           [-1, 64, 32, 32]               0\n",
      "         MaxPool2d-5           [-1, 64, 16, 16]               0\n",
      "            Conv2d-6          [-1, 128, 16, 16]          73,856\n",
      "              ReLU-7          [-1, 128, 16, 16]               0\n",
      "            Conv2d-8          [-1, 128, 16, 16]         147,584\n",
      "              ReLU-9          [-1, 128, 16, 16]               0\n",
      "        MaxPool2d-10            [-1, 128, 8, 8]               0\n",
      "           Conv2d-11            [-1, 256, 8, 8]         295,168\n",
      "             ReLU-12            [-1, 256, 8, 8]               0\n",
      "           Conv2d-13            [-1, 256, 8, 8]         590,080\n",
      "             ReLU-14            [-1, 256, 8, 8]               0\n",
      "           Conv2d-15            [-1, 256, 8, 8]         590,080\n",
      "             ReLU-16            [-1, 256, 8, 8]               0\n",
      "        MaxPool2d-17            [-1, 256, 4, 4]               0\n",
      "           Conv2d-18            [-1, 512, 4, 4]       1,180,160\n",
      "             ReLU-19            [-1, 512, 4, 4]               0\n",
      "           Conv2d-20            [-1, 512, 4, 4]       2,359,808\n",
      "             ReLU-21            [-1, 512, 4, 4]               0\n",
      "           Conv2d-22            [-1, 512, 4, 4]       2,359,808\n",
      "             ReLU-23            [-1, 512, 4, 4]               0\n",
      "        MaxPool2d-24            [-1, 512, 2, 2]               0\n",
      "           Conv2d-25            [-1, 512, 2, 2]       2,359,808\n",
      "             ReLU-26            [-1, 512, 2, 2]               0\n",
      "           Conv2d-27            [-1, 512, 2, 2]       2,359,808\n",
      "             ReLU-28            [-1, 512, 2, 2]               0\n",
      "           Conv2d-29            [-1, 512, 2, 2]       2,359,808\n",
      "             ReLU-30            [-1, 512, 2, 2]               0\n",
      "        MaxPool2d-31            [-1, 512, 1, 1]               0\n",
      "AdaptiveAvgPool2d-32            [-1, 512, 7, 7]               0\n",
      "           Linear-33                 [-1, 4096]     102,764,544\n",
      "             ReLU-34                 [-1, 4096]               0\n",
      "          Dropout-35                 [-1, 4096]               0\n",
      "           Linear-36                 [-1, 4096]      16,781,312\n",
      "             ReLU-37                 [-1, 4096]               0\n",
      "          Dropout-38                 [-1, 4096]               0\n",
      "           Linear-39                 [-1, 1000]       4,097,000\n",
      "================================================================\n",
      "Total params: 138,357,544\n",
      "Trainable params: 138,357,544\n",
      "Non-trainable params: 0\n",
      "----------------------------------------------------------------\n",
      "Input size (MB): 0.01\n",
      "Forward/backward pass size (MB): 4.84\n",
      "Params size (MB): 527.79\n",
      "Estimated Total Size (MB): 532.65\n",
      "----------------------------------------------------------------\n"
     ]
    }
   ],
   "source": [
    "import torch \n",
    "from torchsummary import summary \n",
    "\n",
    "device = \"cuda\" if torch.cuda.is_available() else \"cpu\"\n",
    "model = model.to(device)\n",
    "\n",
    "summary(model, (3, 32, 32))"
   ]
  },
  {
   "cell_type": "code",
   "execution_count": 11,
   "metadata": {},
   "outputs": [
    {
     "data": {
      "text/plain": [
       "Sequential(\n",
       "  (0): Conv2d(3, 64, kernel_size=(3, 3), stride=(1, 1), padding=(1, 1))\n",
       "  (1): ReLU(inplace=True)\n",
       "  (2): Conv2d(64, 64, kernel_size=(3, 3), stride=(1, 1), padding=(1, 1))\n",
       "  (3): ReLU(inplace=True)\n",
       "  (4): MaxPool2d(kernel_size=2, stride=2, padding=0, dilation=1, ceil_mode=False)\n",
       "  (5): Conv2d(64, 128, kernel_size=(3, 3), stride=(1, 1), padding=(1, 1))\n",
       "  (6): ReLU(inplace=True)\n",
       "  (7): Conv2d(128, 128, kernel_size=(3, 3), stride=(1, 1), padding=(1, 1))\n",
       "  (8): ReLU(inplace=True)\n",
       "  (9): MaxPool2d(kernel_size=2, stride=2, padding=0, dilation=1, ceil_mode=False)\n",
       "  (10): Conv2d(128, 256, kernel_size=(3, 3), stride=(1, 1), padding=(1, 1))\n",
       "  (11): ReLU(inplace=True)\n",
       "  (12): Conv2d(256, 256, kernel_size=(3, 3), stride=(1, 1), padding=(1, 1))\n",
       "  (13): ReLU(inplace=True)\n",
       "  (14): Conv2d(256, 256, kernel_size=(3, 3), stride=(1, 1), padding=(1, 1))\n",
       "  (15): ReLU(inplace=True)\n",
       "  (16): MaxPool2d(kernel_size=2, stride=2, padding=0, dilation=1, ceil_mode=False)\n",
       "  (17): Conv2d(256, 512, kernel_size=(3, 3), stride=(1, 1), padding=(1, 1))\n",
       "  (18): ReLU(inplace=True)\n",
       "  (19): Conv2d(512, 512, kernel_size=(3, 3), stride=(1, 1), padding=(1, 1))\n",
       "  (20): ReLU(inplace=True)\n",
       "  (21): Conv2d(512, 512, kernel_size=(3, 3), stride=(1, 1), padding=(1, 1))\n",
       "  (22): ReLU(inplace=True)\n",
       "  (23): MaxPool2d(kernel_size=2, stride=2, padding=0, dilation=1, ceil_mode=False)\n",
       "  (24): Conv2d(512, 512, kernel_size=(3, 3), stride=(1, 1), padding=(1, 1))\n",
       "  (25): ReLU(inplace=True)\n",
       "  (26): Conv2d(512, 512, kernel_size=(3, 3), stride=(1, 1), padding=(1, 1))\n",
       "  (27): ReLU(inplace=True)\n",
       "  (28): Conv2d(512, 512, kernel_size=(3, 3), stride=(1, 1), padding=(1, 1))\n",
       "  (29): ReLU(inplace=True)\n",
       "  (30): MaxPool2d(kernel_size=2, stride=2, padding=0, dilation=1, ceil_mode=False)\n",
       ")"
      ]
     },
     "execution_count": 11,
     "metadata": {},
     "output_type": "execute_result"
    }
   ],
   "source": [
    "model.features"
   ]
  },
  {
   "cell_type": "code",
   "execution_count": 12,
   "metadata": {},
   "outputs": [
    {
     "data": {
      "text/plain": [
       "Sequential(\n",
       "  (0): Linear(in_features=25088, out_features=4096, bias=True)\n",
       "  (1): ReLU(inplace=True)\n",
       "  (2): Dropout(p=0.5, inplace=False)\n",
       "  (3): Linear(in_features=4096, out_features=4096, bias=True)\n",
       "  (4): ReLU(inplace=True)\n",
       "  (5): Dropout(p=0.5, inplace=False)\n",
       "  (6): Linear(in_features=4096, out_features=1000, bias=True)\n",
       ")"
      ]
     },
     "execution_count": 12,
     "metadata": {},
     "output_type": "execute_result"
    }
   ],
   "source": [
    "model.classifier"
   ]
  },
  {
   "cell_type": "code",
   "execution_count": 13,
   "metadata": {},
   "outputs": [
    {
     "name": "stdout",
     "output_type": "stream",
     "text": [
      "----------------------------------------------------------------\n",
      "        Layer (type)               Output Shape         Param #\n",
      "================================================================\n",
      "            Conv2d-1           [-1, 64, 32, 32]           1,792\n",
      "              ReLU-2           [-1, 64, 32, 32]               0\n",
      "            Conv2d-3           [-1, 64, 32, 32]          36,928\n",
      "              ReLU-4           [-1, 64, 32, 32]               0\n",
      "         MaxPool2d-5           [-1, 64, 16, 16]               0\n",
      "            Conv2d-6          [-1, 128, 16, 16]          73,856\n",
      "              ReLU-7          [-1, 128, 16, 16]               0\n",
      "            Conv2d-8          [-1, 128, 16, 16]         147,584\n",
      "              ReLU-9          [-1, 128, 16, 16]               0\n",
      "        MaxPool2d-10            [-1, 128, 8, 8]               0\n",
      "           Conv2d-11            [-1, 256, 8, 8]         295,168\n",
      "             ReLU-12            [-1, 256, 8, 8]               0\n",
      "           Conv2d-13            [-1, 256, 8, 8]         590,080\n",
      "             ReLU-14            [-1, 256, 8, 8]               0\n",
      "           Conv2d-15            [-1, 256, 8, 8]         590,080\n",
      "             ReLU-16            [-1, 256, 8, 8]               0\n",
      "        MaxPool2d-17            [-1, 256, 4, 4]               0\n",
      "           Conv2d-18            [-1, 512, 4, 4]       1,180,160\n",
      "             ReLU-19            [-1, 512, 4, 4]               0\n",
      "           Conv2d-20            [-1, 512, 4, 4]       2,359,808\n",
      "             ReLU-21            [-1, 512, 4, 4]               0\n",
      "           Conv2d-22            [-1, 512, 4, 4]       2,359,808\n",
      "             ReLU-23            [-1, 512, 4, 4]               0\n",
      "        MaxPool2d-24            [-1, 512, 2, 2]               0\n",
      "           Conv2d-25            [-1, 512, 2, 2]       2,359,808\n",
      "             ReLU-26            [-1, 512, 2, 2]               0\n",
      "           Conv2d-27            [-1, 512, 2, 2]       2,359,808\n",
      "             ReLU-28            [-1, 512, 2, 2]               0\n",
      "           Conv2d-29            [-1, 512, 2, 2]       2,359,808\n",
      "             ReLU-30            [-1, 512, 2, 2]               0\n",
      "        MaxPool2d-31            [-1, 512, 1, 1]               0\n",
      "AdaptiveAvgPool2d-32            [-1, 512, 7, 7]               0\n",
      "           Linear-33                 [-1, 4096]     102,764,544\n",
      "             ReLU-34                 [-1, 4096]               0\n",
      "          Dropout-35                 [-1, 4096]               0\n",
      "           Linear-36                 [-1, 4096]      16,781,312\n",
      "             ReLU-37                 [-1, 4096]               0\n",
      "          Dropout-38                 [-1, 4096]               0\n",
      "           Linear-39                 [-1, 1000]       4,097,000\n",
      "================================================================\n",
      "Total params: 138,357,544\n",
      "Trainable params: 138,357,544\n",
      "Non-trainable params: 0\n",
      "----------------------------------------------------------------\n",
      "Input size (MB): 0.01\n",
      "Forward/backward pass size (MB): 4.84\n",
      "Params size (MB): 527.79\n",
      "Estimated Total Size (MB): 532.65\n",
      "----------------------------------------------------------------\n"
     ]
    }
   ],
   "source": [
    "import torch \n",
    "from torchsummary import summary \n",
    "\n",
    "device = \"cuda\" if torch.cuda.is_available() else \"cpu\"\n",
    "model = model.to(device)\n",
    "\n",
    "summary(model, (3, 32, 32))"
   ]
  },
  {
   "cell_type": "markdown",
   "metadata": {},
   "source": [
    "### 모델 수정"
   ]
  },
  {
   "cell_type": "code",
   "execution_count": 14,
   "metadata": {},
   "outputs": [],
   "source": [
    "import torch.nn as nn \n",
    "\n",
    "myclassifier = nn.Sequential(\n",
    "    nn.Linear(in_features=25088, out_features=4096, bias=True),\n",
    "    nn.ReLU(),\n",
    "    nn.Dropout(),\n",
    "    nn.Linear(in_features=4096, out_features=4096, bias=True),\n",
    "    nn.ReLU(),\n",
    "    nn.Linear(in_features=4096, out_features=10, bias=True)\n",
    ")"
   ]
  },
  {
   "cell_type": "code",
   "execution_count": 15,
   "metadata": {},
   "outputs": [],
   "source": [
    "model.classifier = myclassifier\n",
    "model = model.to(device)"
   ]
  },
  {
   "cell_type": "markdown",
   "metadata": {},
   "source": [
    "### 학습"
   ]
  },
  {
   "cell_type": "code",
   "execution_count": 16,
   "metadata": {},
   "outputs": [
    {
     "name": "stdout",
     "output_type": "stream",
     "text": [
      "Epoch: 0\tTrain Loss: 2.3589, Train Acc: 10.04% | Val Loss: 2.3064, Val Acc: 9.84%\n",
      "개선 없음 - Early Stopping 카운터: 1/10\n",
      "Epoch: 1\tTrain Loss: 2.3029, Train Acc: 9.80% | Val Loss: 2.3064, Val Acc: 10.03%\n",
      "개선 없음 - Early Stopping 카운터: 2/10\n",
      "Epoch: 2\tTrain Loss: 2.3028, Train Acc: 9.94% | Val Loss: 2.3064, Val Acc: 9.69%\n",
      "Epoch: 3\tTrain Loss: 2.3028, Train Acc: 9.93% | Val Loss: 2.3064, Val Acc: 9.80%\n",
      "개선 없음 - Early Stopping 카운터: 1/10\n",
      "Epoch: 4\tTrain Loss: 2.3028, Train Acc: 9.94% | Val Loss: 2.3065, Val Acc: 9.84%\n",
      "개선 없음 - Early Stopping 카운터: 2/10\n",
      "Epoch: 5\tTrain Loss: 2.3028, Train Acc: 9.74% | Val Loss: 2.3064, Val Acc: 9.69%\n",
      "개선 없음 - Early Stopping 카운터: 3/10\n",
      "Epoch: 6\tTrain Loss: 2.3028, Train Acc: 9.96% | Val Loss: 2.3064, Val Acc: 9.69%\n",
      "개선 없음 - Early Stopping 카운터: 4/10\n",
      "Epoch: 7\tTrain Loss: 2.3028, Train Acc: 9.67% | Val Loss: 2.3065, Val Acc: 9.91%\n",
      "개선 없음 - Early Stopping 카운터: 5/10\n",
      "Epoch: 8\tTrain Loss: 2.3028, Train Acc: 9.99% | Val Loss: 2.3065, Val Acc: 9.69%\n",
      "개선 없음 - Early Stopping 카운터: 6/10\n",
      "Epoch: 9\tTrain Loss: 2.3028, Train Acc: 10.10% | Val Loss: 2.3064, Val Acc: 9.80%\n",
      "개선 없음 - Early Stopping 카운터: 7/10\n",
      "Epoch: 10\tTrain Loss: 2.3028, Train Acc: 10.01% | Val Loss: 2.3065, Val Acc: 9.84%\n",
      "Epoch: 11\tTrain Loss: 2.3028, Train Acc: 9.45% | Val Loss: 2.3063, Val Acc: 10.03%\n",
      "개선 없음 - Early Stopping 카운터: 1/10\n",
      "Epoch: 12\tTrain Loss: 2.3028, Train Acc: 9.70% | Val Loss: 2.3065, Val Acc: 9.69%\n",
      "개선 없음 - Early Stopping 카운터: 2/10\n",
      "Epoch: 13\tTrain Loss: 2.3028, Train Acc: 9.81% | Val Loss: 2.3064, Val Acc: 9.69%\n",
      "개선 없음 - Early Stopping 카운터: 3/10\n",
      "Epoch: 14\tTrain Loss: 2.3028, Train Acc: 9.77% | Val Loss: 2.3065, Val Acc: 9.91%\n",
      "개선 없음 - Early Stopping 카운터: 4/10\n",
      "Epoch: 15\tTrain Loss: 2.3028, Train Acc: 9.73% | Val Loss: 2.3065, Val Acc: 9.84%\n",
      "개선 없음 - Early Stopping 카운터: 5/10\n",
      "Epoch: 16\tTrain Loss: 2.3028, Train Acc: 9.88% | Val Loss: 2.3065, Val Acc: 9.84%\n",
      "개선 없음 - Early Stopping 카운터: 6/10\n",
      "Epoch: 17\tTrain Loss: 2.3027, Train Acc: 9.87% | Val Loss: 2.3065, Val Acc: 9.91%\n",
      "개선 없음 - Early Stopping 카운터: 7/10\n",
      "Epoch: 18\tTrain Loss: 2.3028, Train Acc: 9.78% | Val Loss: 2.3064, Val Acc: 9.84%\n",
      "개선 없음 - Early Stopping 카운터: 8/10\n",
      "Epoch: 19\tTrain Loss: 2.3028, Train Acc: 9.98% | Val Loss: 2.3066, Val Acc: 9.84%\n",
      "개선 없음 - Early Stopping 카운터: 9/10\n",
      "Epoch: 20\tTrain Loss: 2.3028, Train Acc: 9.98% | Val Loss: 2.3066, Val Acc: 9.69%\n",
      "개선 없음 - Early Stopping 카운터: 10/10\n",
      "Early Stopping!\n"
     ]
    }
   ],
   "source": [
    "from torch.utils.tensorboard import SummaryWriter\n",
    "import time\n",
    "import torch.optim as optim \n",
    "\n",
    "epochs = 50\n",
    "batch_size = 32\n",
    "criterion = nn.CrossEntropyLoss()\n",
    "optimizer = optim.Adam(model.parameters(), lr=1e-3)\n",
    "\n",
    "loss_history = {\"train\": [], \"val\": []}\n",
    "acc_history = {\"train\": [], \"val\": []}\n",
    "\n",
    "best_loss_val = float('inf')\n",
    "patience = 10\n",
    "patience_cnt = 0\n",
    "\n",
    "log_dir = f\"log/cifar10/{time.strftime('%Y%m%d-%H%M%S')}\"\n",
    "writer = SummaryWriter(log_dir)\n",
    "\n",
    "for epoch in range(epochs):\n",
    "    #### train ####\n",
    "    model.train() \n",
    "\n",
    "    loss_train = 0.0\n",
    "    corr_train = 0\n",
    "    for data, target in train_loader:\n",
    "        # GPU 보내기\n",
    "        data = data.to(device)\n",
    "        target = target.to(device)\n",
    "\n",
    "        # 학습\n",
    "        optimizer.zero_grad()\n",
    "        yhat = model(data)\n",
    "        loss = criterion(yhat, target)\n",
    "        loss.backward()\n",
    "        optimizer.step()\n",
    "\n",
    "        # loss, correct 계산\n",
    "        loss_train += loss.item() * batch_size\n",
    "        corr_train += (yhat.argmax(dim=1) == target).sum().item()\n",
    "\n",
    "    # loss, acc 저장\n",
    "    train_loss = loss_train / len(train_data)\n",
    "    train_accuracy = corr_train / len(train_data)\n",
    "    \n",
    "    loss_history[\"train\"].append(train_loss)\n",
    "    acc_history[\"train\"].append(train_accuracy)\n",
    "\n",
    "    #### validation ####\n",
    "    model.eval()\n",
    "\n",
    "    loss_val = 0.0\n",
    "    corr_val = 0\n",
    "    for data, target in val_loader:\n",
    "        # GPU 보내기\n",
    "        data = data.to(device)\n",
    "        target = target.to(device)\n",
    "\n",
    "        # 예측\n",
    "        with torch.no_grad():\n",
    "            pred = model(data)\n",
    "            loss_val += criterion(pred, target).item() * batch_size\n",
    "            corr_val += (pred.argmax(dim=1) == target).sum().item()\n",
    "\n",
    "    # loss, acc 저장\n",
    "    val_loss = loss_val / len(val_data)\n",
    "    val_accuracy = corr_val / len(val_data)\n",
    "    \n",
    "    loss_history[\"val\"].append(val_loss)\n",
    "    acc_history[\"val\"].append(val_accuracy)\n",
    "    \n",
    "    writer.add_scalars(\"Loss\", {\n",
    "        \"Train\": train_loss,\n",
    "        \"Validation\": val_loss,\n",
    "        },\n",
    "        epoch\n",
    "    )\n",
    "    \n",
    "    writer.add_scalars(\"Accuracy\", {\n",
    "        \"Train\": train_accuracy,\n",
    "        \"Validation\": val_accuracy,\n",
    "        },\n",
    "        epoch\n",
    "    )\n",
    "\n",
    "    # Earlyl Stopping\n",
    "    if loss_val < best_loss_val:\n",
    "        patience_cnt = 0\n",
    "        best_loss_val = loss_val\n",
    "        torch.save(model.state_dict(), f\"vgg_16_{epoch}.pth\")\n",
    "    else:\n",
    "        patience_cnt += 1\n",
    "        print(f\"개선 없음 - Early Stopping 카운터: {patience_cnt}/{patience}\")\n",
    "        if patience_cnt == patience:\n",
    "            print(\"Early Stopping!\")\n",
    "            break\n",
    "    \n",
    "    # 출력\n",
    "    # if epoch % 1 == 0:\n",
    "        # print(f\"Epoch: {epoch}, Train Loss: {loss_train / len(train_data):.6f}, Train acc: {corr_train / len(train_data):.6f} Validation Loss: {loss_val / len(val_loader):.4f}, Validation acc: {corr_val / len(val_data):.4f}\")\n",
    "    print(\n",
    "        f\"Epoch: {epoch}\\t\"\n",
    "        f\"Train Loss: {train_loss:.4f}, Train Acc: {100 * train_accuracy:.2f}% | \"\n",
    "        f\"Val Loss: {val_loss:.4f}, Val Acc: {100 * val_accuracy:.2f}%\"\n",
    "    )\n",
    "\n",
    "\n",
    "writer.close()"
   ]
  },
  {
   "cell_type": "code",
   "execution_count": 18,
   "metadata": {},
   "outputs": [
    {
     "name": "stdout",
     "output_type": "stream",
     "text": [
      "{'images': [], 'audio': [], 'histograms': [], 'scalars': ['Accuracy'], 'distributions': [], 'tensors': [], 'graph': False, 'meta_graph': False, 'run_metadata': []}\n",
      "Epoch: 0, Accuracy: 0.10034999996423721\n",
      "Epoch: 1, Accuracy: 0.09799999743700027\n",
      "Epoch: 2, Accuracy: 0.09942500293254852\n",
      "Epoch: 3, Accuracy: 0.09925000369548798\n",
      "Epoch: 4, Accuracy: 0.09942500293254852\n",
      "Epoch: 5, Accuracy: 0.09740000218153\n",
      "Epoch: 6, Accuracy: 0.09965000301599503\n",
      "Epoch: 7, Accuracy: 0.09672500193119049\n",
      "Epoch: 8, Accuracy: 0.09992499649524689\n",
      "Epoch: 9, Accuracy: 0.10095000267028809\n",
      "Epoch: 10, Accuracy: 0.10007499903440475\n",
      "Epoch: 11, Accuracy: 0.09452500194311142\n",
      "Epoch: 12, Accuracy: 0.09702499955892563\n",
      "Epoch: 13, Accuracy: 0.09809999912977219\n",
      "Epoch: 14, Accuracy: 0.09767500311136246\n",
      "Epoch: 15, Accuracy: 0.09732499718666077\n",
      "Epoch: 16, Accuracy: 0.09884999692440033\n",
      "Epoch: 17, Accuracy: 0.09872499853372574\n",
      "Epoch: 18, Accuracy: 0.09782499819993973\n",
      "Epoch: 19, Accuracy: 0.09984999895095825\n",
      "Epoch: 20, Accuracy: 0.09984999895095825\n",
      "Epoch: 21, Accuracy: 0.09787499904632568\n"
     ]
    }
   ],
   "source": [
    "from tensorboard.backend.event_processing import event_accumulator\n",
    "\n",
    "event_file_path = \"./log/cifar10/20250214-103550/Accuracy_Train/events.out.tfevents.1739497051.BOOK-6IA5E1OIQJ.652.3\"\n",
    "ea = event_accumulator.EventAccumulator(event_file_path)\n",
    "ea.Reload()\n",
    "\n",
    "print(ea.Tags())\n",
    "\n",
    "scalars = ea.Scalars('Accuracy')\n",
    "for scalar in scalars:\n",
    "    print(f\"Epoch: {scalar.step}, Accuracy: {scalar.value}\")\n",
    "\n"
   ]
  },
  {
   "cell_type": "code",
   "execution_count": 59,
   "metadata": {},
   "outputs": [],
   "source": []
  },
  {
   "cell_type": "markdown",
   "metadata": {},
   "source": [
    "### 예측"
   ]
  },
  {
   "cell_type": "code",
   "execution_count": null,
   "metadata": {},
   "outputs": [],
   "source": [
    "# 예측 -- 이 모델의 성능을 평가하기 위한 코드\n",
    "device = \"cuda\" if torch.cuda.is_available() else \"cpu\"\n",
    "model = model.to(device)\n",
    "\n",
    "model.eval()\n",
    "\n",
    "corr_test = 0\n",
    "for data, target in test_loader:\n",
    "    # GPU 보내기\n",
    "    data = data.to(device)\n",
    "    target = target.to(device)\n",
    "\n",
    "    # 예측\n",
    "    with torch.no_grad():\n",
    "        pred = model(data)\n",
    "        corr_test += (pred.argmax(dim=1) == target).sum().item()\n",
    "\n",
    "print(corr_test / len(test_data))"
   ]
  }
 ],
 "metadata": {
  "kernelspec": {
   "display_name": "deeplearning",
   "language": "python",
   "name": "python3"
  },
  "language_info": {
   "codemirror_mode": {
    "name": "ipython",
    "version": 3
   },
   "file_extension": ".py",
   "mimetype": "text/x-python",
   "name": "python",
   "nbconvert_exporter": "python",
   "pygments_lexer": "ipython3",
   "version": "3.11.11"
  }
 },
 "nbformat": 4,
 "nbformat_minor": 2
}
