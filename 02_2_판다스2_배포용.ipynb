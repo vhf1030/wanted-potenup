{
 "cells": [
  {
   "cell_type": "markdown",
   "metadata": {},
   "source": [
    "# 판다스(Pandas)"
   ]
  },
  {
   "cell_type": "markdown",
   "metadata": {},
   "source": [
    "# 1. 판다스 불러오기"
   ]
  },
  {
   "cell_type": "code",
   "execution_count": 27,
   "metadata": {},
   "outputs": [],
   "source": [
    "import pandas as pd\n",
    "import numpy as np"
   ]
  },
  {
   "cell_type": "markdown",
   "metadata": {},
   "source": [
    "# 2. 데이터프레임(DataFrame)"
   ]
  },
  {
   "cell_type": "markdown",
   "metadata": {},
   "source": [
    "## 1) 생성"
   ]
  },
  {
   "cell_type": "markdown",
   "metadata": {},
   "source": [
    "<table>\n",
    "    <thead>\n",
    "        <tr>\n",
    "            <th>이름</th><th>성별</th><th>나이</th><th>키</th>\n",
    "        </tr>\n",
    "    </thead>\n",
    "    <tbody>\n",
    "        <tr><td>김영철</td><th>M</th><td>24</td><td>179.4</td></tr>\n",
    "        <tr><td>송윤지</td><th>F</th><td>31</td><td>161.0</td></tr>\n",
    "        <tr><td>임수현</td><th>F</th><td>26</td><td>174</td></tr>\n",
    "    </tbody>\n",
    "</table>"
   ]
  },
  {
   "cell_type": "code",
   "execution_count": 2,
   "metadata": {},
   "outputs": [
    {
     "name": "stdout",
     "output_type": "stream",
     "text": [
      "[['김영철', 'M', 24, 179.4], ['송윤지', 'F', 31, 161.0], ['임수현', 'F', 26, 174]]\n"
     ]
    }
   ],
   "source": [
    "# 표를 리스트로 만들기\n",
    "data_list = [\n",
    "    ['김영철', 'M', 24, 179.4],\n",
    "    ['송윤지', 'F', 31, 161.0],\n",
    "    ['임수현', 'F', 26, 174]\n",
    "]\n",
    "print(data_list)"
   ]
  },
  {
   "cell_type": "code",
   "execution_count": 42,
   "metadata": {},
   "outputs": [
    {
     "name": "stdout",
     "output_type": "stream",
     "text": [
      "     0  1   2      3\n",
      "0  김영철  M  24  179.4\n",
      "1  송윤지  F  31  161.0\n",
      "2  임수현  F  26  174.0\n"
     ]
    }
   ],
   "source": [
    "# 리스트로 데이터프레임 생성\n",
    "data1 = pd.DataFrame(data_list)\n",
    "print(data1)"
   ]
  },
  {
   "cell_type": "code",
   "execution_count": null,
   "metadata": {},
   "outputs": [
    {
     "name": "stdout",
     "output_type": "stream",
     "text": [
      "    이름 성별  나이      키\n",
      "0  김영철  M  24  179.4\n",
      "1  송윤지  F  31  161.0\n",
      "2  임수현  F  26  174.0\n"
     ]
    }
   ],
   "source": [
    "# 표를 딕셔너리로 만들기\n",
    "data_dict = {\n",
    "    '이름': ['김영철', '송윤지', '임수현'],\n",
    "    '성별': ['M', 'F', 'F'],\n",
    "    '나이': [24, 31, 26],\n",
    "    '키': [179.4, 161.0, 174]\n",
    "}\n"
   ]
  },
  {
   "cell_type": "code",
   "execution_count": null,
   "metadata": {},
   "outputs": [],
   "source": [
    "# 딕셔너리로 데이터프레임 생성\n",
    "data2 = pd.DataFrame(data_dict)\n",
    "print(data2)"
   ]
  },
  {
   "cell_type": "code",
   "execution_count": 43,
   "metadata": {},
   "outputs": [
    {
     "name": "stdout",
     "output_type": "stream",
     "text": [
      "     0  1   2      3\n",
      "0  김영철  M  24  179.4\n",
      "1  송윤지  F  31  161.0\n",
      "2  임수현  F  26  174.0\n",
      "    이름 성별  나이      키\n",
      "0  김영철  M  24  179.4\n",
      "1  송윤지  F  31  161.0\n",
      "2  임수현  F  26  174.0\n"
     ]
    }
   ],
   "source": [
    "# 리스트로 만든 데이터프레임에 컬럼 명 추가하기\n",
    "print(data1)\n",
    "data1.columns = ['이름', '성별', '나이', '키']\n",
    "print(data1)"
   ]
  },
  {
   "cell_type": "code",
   "execution_count": null,
   "metadata": {},
   "outputs": [],
   "source": [
    "# 데이터프레임 모든 정보를 담아 한번에 생성하기"
   ]
  },
  {
   "cell_type": "code",
   "execution_count": 109,
   "metadata": {},
   "outputs": [
    {
     "name": "stdout",
     "output_type": "stream",
     "text": [
      "{'이름': ['김영철', '송윤지', '임수현'], '성별': ['M', 'F', 'F'], '나이': [24, 31, 26], '키': [179.4, 161.0, 174]}\n",
      "    이름 성별  나이      키\n",
      "0  김영철  M  24  179.4\n",
      "1  송윤지  F  31  161.0\n",
      "2  임수현  F  26  174.0\n",
      "   index   이름 성별  나이      키\n",
      "0      0  김영철  M  24  179.4\n",
      "1      1  송윤지  F  31  161.0\n",
      "2      2  임수현  F  26  174.0\n",
      "        이름 성별  나이      키\n",
      "index                   \n",
      "0      김영철  M  24  179.4\n",
      "1      송윤지  F  31  161.0\n",
      "2      임수현  F  26  174.0\n",
      "    성별  나이      키\n",
      "이름               \n",
      "김영철  M  24  179.4\n",
      "송윤지  F  31  161.0\n",
      "임수현  F  26  174.0\n"
     ]
    }
   ],
   "source": [
    "print(data_dict)\n",
    "data0 = pd.DataFrame(data_dict)\n",
    "print(data0)\n",
    "\n",
    "# 이름을 인덱스로 바꾸기\n",
    "data1 = data0\n",
    "data1.reset_index(inplace=True)\n",
    "print(data1)\n",
    "\n",
    "data1.set_index('index', inplace=True)\n",
    "print(data1)\n",
    "\n",
    "data1.set_index('이름', inplace=True)\n",
    "print(data1)\n"
   ]
  },
  {
   "cell_type": "code",
   "execution_count": 108,
   "metadata": {},
   "outputs": [
    {
     "name": "stdout",
     "output_type": "stream",
     "text": [
      "   나이   이름 성별      키\n",
      "0  24  김영철  M  179.4\n",
      "1  31  송윤지  F  161.0\n",
      "2  26  임수현  F  174.0\n",
      "   index  나이   이름 성별      키\n",
      "0      0  24  김영철  M  179.4\n",
      "1      1  31  송윤지  F  161.0\n",
      "2      2  26  임수현  F  174.0\n",
      "    index   이름 성별      키\n",
      "나이                      \n",
      "24      0  김영철  M  179.4\n",
      "31      1  송윤지  F  161.0\n",
      "26      2  임수현  F  174.0\n"
     ]
    }
   ],
   "source": [
    "data1 = data0.reset_index()\n",
    "print(data1)\n",
    "\n",
    "data1.reset_index(inplace=True)\n",
    "print(data1)\n",
    "\n",
    "data1.set_index('나이', inplace=True)\n",
    "print(data1)"
   ]
  },
  {
   "cell_type": "code",
   "execution_count": 96,
   "metadata": {},
   "outputs": [
    {
     "name": "stdout",
     "output_type": "stream",
     "text": [
      "Index(['이름', '성별', '키'], dtype='object') Index([24, 31, 26], dtype='int64', name='나이')\n",
      "     이름 성별    키\n",
      "31  홍길동  M  177\n",
      "     이름 성별      키\n",
      "24  김영철  M  179.4\n",
      "31  송윤지  F  161.0\n",
      "26  임수현  F  174.0\n",
      "31  홍길동  M  177.0\n",
      "   index   이름 성별      키\n",
      "0     24  김영철  M  179.4\n",
      "1     31  송윤지  F  161.0\n",
      "2     26  임수현  F  174.0\n",
      "3     31  홍길동  M  177.0\n"
     ]
    }
   ],
   "source": [
    "data3 = pd.DataFrame([['홍길동', 'M', 177]])\n",
    "print(data1.columns, data1.index)\n",
    "data3.columns = data1.columns\n",
    "data3.index = [31]\n",
    "print(data3)\n",
    "\n",
    "data4 = pd.concat([data1, data3])\n",
    "print(data4)\n",
    "\n",
    "data4.reset_index(inplace=True)\n",
    "print(data4)"
   ]
  },
  {
   "cell_type": "markdown",
   "metadata": {},
   "source": [
    "## 2) 조회"
   ]
  },
  {
   "cell_type": "markdown",
   "metadata": {},
   "source": [
    "### (1) 이름으로 조회"
   ]
  },
  {
   "cell_type": "markdown",
   "metadata": {},
   "source": [
    "#### 열 조회"
   ]
  },
  {
   "cell_type": "code",
   "execution_count": 72,
   "metadata": {},
   "outputs": [
    {
     "name": "stdout",
     "output_type": "stream",
     "text": [
      "     이름 성별      키\n",
      "24  김영철  M  179.4\n",
      "31  송윤지  F  161.0\n",
      "26  임수현  F  174.0\n",
      "31  홍길동  M  177.0\n",
      "24    김영철\n",
      "31    송윤지\n",
      "26    임수현\n",
      "31    홍길동\n",
      "Name: 이름, dtype: object\n"
     ]
    }
   ],
   "source": [
    "# 나이 열을 조회\n",
    "print(data4)\n",
    "print(data4['이름'])"
   ]
  },
  {
   "cell_type": "code",
   "execution_count": 77,
   "metadata": {},
   "outputs": [
    {
     "name": "stdout",
     "output_type": "stream",
     "text": [
      "     이름 성별      키\n",
      "24  김영철  M  179.4\n",
      "31  송윤지  F  161.0\n",
      "26  임수현  F  174.0\n",
      "31  홍길동  M  177.0\n",
      "   성별      키\n",
      "24  M  179.4\n",
      "31  F  161.0\n",
      "26  F  174.0\n",
      "31  M  177.0\n"
     ]
    }
   ],
   "source": [
    "# 성별, 키 열 조회\n",
    "print(data4)\n",
    "print(data4[['성별', '키']])"
   ]
  },
  {
   "cell_type": "markdown",
   "metadata": {},
   "source": [
    "#### 행 조회"
   ]
  },
  {
   "cell_type": "code",
   "execution_count": 81,
   "metadata": {},
   "outputs": [
    {
     "name": "stdout",
     "output_type": "stream",
     "text": [
      "     이름 성별      키\n",
      "24  김영철  M  179.4\n",
      "31  송윤지  F  161.0\n",
      "26  임수현  F  174.0\n",
      "31  홍길동  M  177.0\n",
      "이름      송윤지\n",
      "성별        F\n",
      "키     161.0\n",
      "Name: 31, dtype: object\n"
     ]
    }
   ],
   "source": [
    "# 데이터 출력\n",
    "print(data4)\n",
    "print(data4.iloc[1])"
   ]
  },
  {
   "cell_type": "code",
   "execution_count": 85,
   "metadata": {},
   "outputs": [
    {
     "name": "stdout",
     "output_type": "stream",
     "text": [
      "     이름 성별      키\n",
      "24  김영철  M  179.4\n",
      "31  송윤지  F  161.0\n",
      "26  임수현  F  174.0\n",
      "31  홍길동  M  177.0\n",
      "     이름 성별      키\n",
      "31  송윤지  F  161.0\n",
      "31  홍길동  M  177.0\n",
      "    성별      키\n",
      "이름           \n",
      "김영철  M  179.4\n",
      "송윤지  F  161.0\n",
      "임수현  F  174.0\n",
      "홍길동  M  177.0\n",
      "성별        F\n",
      "키     161.0\n",
      "Name: 송윤지, dtype: object\n"
     ]
    }
   ],
   "source": [
    "# 송윤지 행 조회\n",
    "print(data4)\n",
    "print(data4.loc[31])\n",
    "\n",
    "data4.set_index('이름', inplace=True)\n",
    "print(data4)\n",
    "print(data4.loc['송윤지'])"
   ]
  },
  {
   "cell_type": "code",
   "execution_count": null,
   "metadata": {},
   "outputs": [],
   "source": [
    "# 김영철, 임수현 행 조회"
   ]
  },
  {
   "cell_type": "markdown",
   "metadata": {},
   "source": [
    "#### 셀 조회"
   ]
  },
  {
   "cell_type": "code",
   "execution_count": null,
   "metadata": {},
   "outputs": [],
   "source": [
    "# 임수현 학생의 키 조회"
   ]
  },
  {
   "cell_type": "code",
   "execution_count": null,
   "metadata": {},
   "outputs": [],
   "source": [
    "# 송윤지 학생의 성별 조회"
   ]
  },
  {
   "cell_type": "markdown",
   "metadata": {},
   "source": [
    "### (2) 인덱스로 조회"
   ]
  },
  {
   "cell_type": "code",
   "execution_count": null,
   "metadata": {},
   "outputs": [],
   "source": [
    "# 데이터 출력하기"
   ]
  },
  {
   "cell_type": "markdown",
   "metadata": {},
   "source": [
    "#### 열 조회"
   ]
  },
  {
   "cell_type": "code",
   "execution_count": null,
   "metadata": {},
   "outputs": [],
   "source": [
    "# 나이 열을 조회"
   ]
  },
  {
   "cell_type": "code",
   "execution_count": null,
   "metadata": {},
   "outputs": [],
   "source": [
    "# 성별, 키 열 조회"
   ]
  },
  {
   "cell_type": "markdown",
   "metadata": {},
   "source": [
    "#### 행 조회"
   ]
  },
  {
   "cell_type": "code",
   "execution_count": null,
   "metadata": {},
   "outputs": [],
   "source": [
    "# 데이터 출력"
   ]
  },
  {
   "cell_type": "code",
   "execution_count": null,
   "metadata": {},
   "outputs": [],
   "source": [
    "# 송윤지 행 조회"
   ]
  },
  {
   "cell_type": "code",
   "execution_count": null,
   "metadata": {},
   "outputs": [],
   "source": [
    "# 김영철, 임수현 행 조회"
   ]
  },
  {
   "cell_type": "markdown",
   "metadata": {},
   "source": [
    "#### 셀 조회"
   ]
  },
  {
   "cell_type": "code",
   "execution_count": null,
   "metadata": {},
   "outputs": [],
   "source": [
    "# 임수현 학생의 키 조회"
   ]
  },
  {
   "cell_type": "code",
   "execution_count": null,
   "metadata": {},
   "outputs": [],
   "source": [
    "# 송윤지 학생의 성별 조회"
   ]
  },
  {
   "cell_type": "markdown",
   "metadata": {},
   "source": [
    "### (3) 조건부 조회"
   ]
  },
  {
   "cell_type": "code",
   "execution_count": 21,
   "metadata": {},
   "outputs": [
    {
     "name": "stdout",
     "output_type": "stream",
     "text": [
      "나이\n",
      "24     True\n",
      "31    False\n",
      "26    False\n",
      "Name: 성별, dtype: bool\n",
      "     이름  index 성별      키\n",
      "나이                      \n",
      "24  김영철      0  M  179.4\n"
     ]
    }
   ],
   "source": [
    "# 성별이 M인 데이터 조회\n",
    "print(data1['성별'] == 'M')\n",
    "print(data1[data1['성별'] == 'M'])"
   ]
  },
  {
   "cell_type": "code",
   "execution_count": null,
   "metadata": {},
   "outputs": [],
   "source": [
    "# 키가 170이 넘는 사람들 조회"
   ]
  },
  {
   "cell_type": "markdown",
   "metadata": {},
   "source": [
    "## 3) 편집"
   ]
  },
  {
   "cell_type": "markdown",
   "metadata": {},
   "source": [
    "### (1) 인덱스 제거"
   ]
  },
  {
   "cell_type": "code",
   "execution_count": null,
   "metadata": {},
   "outputs": [],
   "source": [
    "# 데이터 출력하기"
   ]
  },
  {
   "cell_type": "code",
   "execution_count": null,
   "metadata": {},
   "outputs": [],
   "source": [
    "# 인덱스 제거"
   ]
  },
  {
   "cell_type": "markdown",
   "metadata": {},
   "source": [
    "### (2) 데이터 병합"
   ]
  },
  {
   "cell_type": "code",
   "execution_count": null,
   "metadata": {},
   "outputs": [],
   "source": []
  },
  {
   "cell_type": "code",
   "execution_count": null,
   "metadata": {},
   "outputs": [],
   "source": []
  },
  {
   "cell_type": "code",
   "execution_count": null,
   "metadata": {},
   "outputs": [],
   "source": [
    "# 연산으로 더해보기"
   ]
  },
  {
   "cell_type": "code",
   "execution_count": null,
   "metadata": {},
   "outputs": [],
   "source": [
    "# 병합"
   ]
  },
  {
   "cell_type": "markdown",
   "metadata": {},
   "source": [
    "### (3) 결측치 처리"
   ]
  },
  {
   "cell_type": "code",
   "execution_count": null,
   "metadata": {},
   "outputs": [],
   "source": [
    "# 전체 정보 조회로 파악하기"
   ]
  },
  {
   "cell_type": "code",
   "execution_count": null,
   "metadata": {},
   "outputs": [],
   "source": [
    "# 조건문으로 판단하기"
   ]
  },
  {
   "cell_type": "code",
   "execution_count": null,
   "metadata": {},
   "outputs": [],
   "source": [
    "# 조건문으로 판단하기"
   ]
  },
  {
   "cell_type": "code",
   "execution_count": null,
   "metadata": {},
   "outputs": [],
   "source": [
    "# 결측치 채우기"
   ]
  },
  {
   "cell_type": "code",
   "execution_count": null,
   "metadata": {},
   "outputs": [],
   "source": [
    "# 결측치 삭제"
   ]
  },
  {
   "cell_type": "code",
   "execution_count": null,
   "metadata": {},
   "outputs": [],
   "source": []
  },
  {
   "cell_type": "markdown",
   "metadata": {},
   "source": [
    "## 4) 통계"
   ]
  },
  {
   "cell_type": "code",
   "execution_count": null,
   "metadata": {},
   "outputs": [],
   "source": []
  },
  {
   "cell_type": "markdown",
   "metadata": {},
   "source": [
    "# 4. 실습"
   ]
  },
  {
   "cell_type": "markdown",
   "metadata": {},
   "source": [
    "## 예제 1. 'cdata.csv'"
   ]
  },
  {
   "cell_type": "markdown",
   "metadata": {},
   "source": [
    "## 예제 2. 'cdata.csv'"
   ]
  },
  {
   "cell_type": "markdown",
   "metadata": {},
   "source": [
    "## 예제 3. 자동차 회사의연비 데이터"
   ]
  },
  {
   "cell_type": "markdown",
   "metadata": {},
   "source": [
    "* manufacturer : 회사명\n",
    "* cty : 도심연비\n",
    "* hwy : 고속도로 연비"
   ]
  },
  {
   "cell_type": "markdown",
   "metadata": {},
   "source": [
    "### 데이터 불러오기"
   ]
  },
  {
   "cell_type": "code",
   "execution_count": null,
   "metadata": {},
   "outputs": [],
   "source": [
    "mpg = pd.read_csv('data/mpg.csv')\n",
    "\n",
    "mpg.head()"
   ]
  },
  {
   "cell_type": "code",
   "execution_count": null,
   "metadata": {},
   "outputs": [],
   "source": [
    "mpg.tail()"
   ]
  },
  {
   "cell_type": "markdown",
   "metadata": {},
   "source": [
    "### 데이터 파악하기"
   ]
  },
  {
   "cell_type": "code",
   "execution_count": null,
   "metadata": {},
   "outputs": [],
   "source": [
    "mpg.info()"
   ]
  },
  {
   "cell_type": "code",
   "execution_count": null,
   "metadata": {},
   "outputs": [],
   "source": [
    "# 결측치 확인\n",
    "mpg.isnull().sum()"
   ]
  },
  {
   "cell_type": "code",
   "execution_count": null,
   "metadata": {},
   "outputs": [],
   "source": [
    "# 데이터 요약\n",
    "mpg.describe()"
   ]
  },
  {
   "cell_type": "markdown",
   "metadata": {},
   "source": [
    "### Q1. 몇 개의 회사 데이터가 있나요?"
   ]
  },
  {
   "cell_type": "markdown",
   "metadata": {},
   "source": [
    "### Q2. 회사별로 참여한 자동차가 몇 대인지 파악하세요."
   ]
  },
  {
   "cell_type": "markdown",
   "metadata": {},
   "source": [
    "### Q3. 도심연비와 고속도로 연비를 평균낸 total 연비를 구하세요"
   ]
  },
  {
   "cell_type": "markdown",
   "metadata": {},
   "source": [
    "### Q4. total 연비 상위 10개 회사의 회사별 개수를 구하세요"
   ]
  },
  {
   "cell_type": "markdown",
   "metadata": {},
   "source": [
    "### +Quiz. 현대자동차의 평균 total 연비에 대한 평균값은?"
   ]
  },
  {
   "cell_type": "markdown",
   "metadata": {},
   "source": [
    "### Q5. 평균 total 연비보다 높은 자동차는 PASS, 낮은 자동차는 FAIL로 구분하세요."
   ]
  },
  {
   "cell_type": "markdown",
   "metadata": {},
   "source": [
    "### +Quiz. PASS인 자동차 중 가장 많은 숫자의 자동차 회사는?"
   ]
  }
 ],
 "metadata": {
  "kernelspec": {
   "display_name": "analysis",
   "language": "python",
   "name": "python3"
  },
  "language_info": {
   "codemirror_mode": {
    "name": "ipython",
    "version": 3
   },
   "file_extension": ".py",
   "mimetype": "text/x-python",
   "name": "python",
   "nbconvert_exporter": "python",
   "pygments_lexer": "ipython3",
   "version": "3.13.0"
  }
 },
 "nbformat": 4,
 "nbformat_minor": 2
}
