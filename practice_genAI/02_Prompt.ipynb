{
 "cells": [
  {
   "cell_type": "code",
   "execution_count": 2,
   "metadata": {},
   "outputs": [],
   "source": [
    "from config.api_keys import openai_key"
   ]
  },
  {
   "cell_type": "code",
   "execution_count": 3,
   "metadata": {},
   "outputs": [
    {
     "name": "stdout",
     "output_type": "stream",
     "text": [
      "content='대한민국의 수도는 서울입니다.' additional_kwargs={'refusal': None} response_metadata={'token_usage': {'completion_tokens': 9, 'prompt_tokens': 15, 'total_tokens': 24, 'completion_tokens_details': {'accepted_prediction_tokens': 0, 'audio_tokens': 0, 'reasoning_tokens': 0, 'rejected_prediction_tokens': 0}, 'prompt_tokens_details': {'audio_tokens': 0, 'cached_tokens': 0}}, 'model_name': 'gpt-4o-mini-2024-07-18', 'system_fingerprint': 'fp_06737a9306', 'finish_reason': 'stop', 'logprobs': None} id='run-3e712be6-74b6-4998-8ece-8db9e69b0b86-0' usage_metadata={'input_tokens': 15, 'output_tokens': 9, 'total_tokens': 24, 'input_token_details': {'audio': 0, 'cache_read': 0}, 'output_token_details': {'audio': 0, 'reasoning': 0}}\n",
      "대한민국의 수도는 서울입니다.\n"
     ]
    }
   ],
   "source": [
    "from langchain_openai import ChatOpenAI\n",
    "\n",
    "llm = ChatOpenAI(\n",
    "    model_name='gpt-4o-mini',\n",
    "    api_key=openai_key,\n",
    "    temperature=0.1\n",
    ")\n",
    "\n",
    "result = llm.invoke(\"대한민국의 수도는 어디야?\")\n",
    "print(result)\n",
    "print(result.content)"
   ]
  },
  {
   "cell_type": "code",
   "execution_count": 27,
   "metadata": {},
   "outputs": [
    {
     "name": "stdout",
     "output_type": "stream",
     "text": [
      "당신은 초등학교 2학년 학생들에게 정보를 제공하는 인공지능 도우미입니다. 학생들이 이해할 수 있도록 인공지능에 대해서 100자 내외로 짧게 요약해서 설명하세요.\n",
      "당신은 초등학교 5학년 학생들에게 정보를 제공하는 인공지능 도우미입니다. 학생들이 이해할 수 있도록 인공지능에 대해서 100자 내외로 짧게 요약해서 설명하세요.\n"
     ]
    }
   ],
   "source": [
    "from langchain_core.prompts import PromptTemplate\n",
    "\n",
    "template = '당신은 초등학교 {level}학년 학생들에게 정보를 제공하는 인공지능 도우미입니다. 학생들이 이해할 수 있도록 {topic}에 대해서 100자 내외로 짧게 요약해서 설명하세요.'\n",
    "prompt = PromptTemplate.from_template(template)\n",
    "\n",
    "prompt_data = prompt.format(level=2, topic=\"인공지능\")\n",
    "print(prompt_data)\n",
    "\n",
    "prompt_data = prompt.format(**{\"level\": 5, \"topic\": \"인공지능\"})\n",
    "print(prompt_data)"
   ]
  },
  {
   "cell_type": "code",
   "execution_count": 31,
   "metadata": {},
   "outputs": [
    {
     "name": "stdout",
     "output_type": "stream",
     "text": [
      "프롬프트 엔지니어링은 컴퓨터에게 질문이나 요청을 잘 전달하는 방법이에요. 좋은 질문을 하면 더 정확한 답을 받을 수 있어요!\n",
      "프롬프트 엔지니어링은 인공지능에게 원하는 답변을 잘 얻기 위해 질문이나 요청을 효과적으로 만드는 방법이에요. 좋은 질문을 하면 더 정확한 정보를 얻을 수 있어요!\n"
     ]
    }
   ],
   "source": [
    "chain = prompt | llm\n",
    "result = chain.invoke({\"level\": 1, \"topic\": \"프롬프트 엔지니어링\"})\n",
    "print(result.content)\n",
    "result = chain.invoke({\"level\": 6, \"topic\": \"프롬프트 엔지니어링\"})\n",
    "print(result.content)"
   ]
  },
  {
   "cell_type": "code",
   "execution_count": 34,
   "metadata": {},
   "outputs": [
    {
     "name": "stdout",
     "output_type": "stream",
     "text": [
      "\n",
      "당신은 다키스트 던전 분야의 전문 번역가입니다.\n",
      "다음 텍스트가 어느 나라 말인지 파악하고 한국어로 번역해주세요.\n",
      "asxxss\n",
      "\n"
     ]
    }
   ],
   "source": [
    "# 번역 에이전트\n",
    "\n",
    "template = \"\"\"\n",
    "당신은 {domain} 분야의 전문 번역가입니다.\n",
    "다음 텍스트가 어느 나라 말인지 파악하고 {translated}로 번역해주세요.\n",
    "{text}\n",
    "\"\"\"\n",
    "prompt = PromptTemplate.from_template(template)\n",
    "\n",
    "prompt_data = prompt.format(**{\"domain\": \"다키스트 던전\", \"translated\": \"한국어\", \"text\": \"asxxss\"})\n",
    "print(prompt_data)\n",
    "\n"
   ]
  },
  {
   "cell_type": "code",
   "execution_count": 36,
   "metadata": {},
   "outputs": [
    {
     "name": "stdout",
     "output_type": "stream",
     "text": [
      "이 텍스트는 영어로 작성된 것입니다. 아래는 한국어 번역입니다.\n",
      "\n",
      "---\n",
      "\n",
      "다키스트 던전은 플레이어가 영웅과 모험가의 명단을 관리하여 던전을 탐험하고 그 안의 생물들과 싸우는 로그라이크 롤플레잉 게임입니다. 던전에 들어가기 전에 플레이어는 맨션 근처의 게임 \"허브 타운\"인 햄릿의 시설을 이용하여 영웅 명단과 인벤토리를 관리할 수 있습니다. 이 시설은 스트레스를 줄이고, 새로운 영웅을 모집하며, 캐릭터 능력치를 업그레이드하고, 새로운 아이템을 구매하고, 치료하는 데 사용될 수 있습니다. 각 영웅은 15개의 캐릭터 클래스 중 하나에 속하며, 시간이 지남에 따라 업그레이드할 수 있는 고유한 통계와 기술을 가지고 있습니다. 탐험 중 영웅이 죽으면 그 영웅은 영원히 잃게 됩니다.\n",
      "\n",
      "플레이어가 준비를 마치면, 절차적으로 생성된 던전을 탐험하기 위해 네 명의 영웅을 선택합니다. 전투는 턴제 방식으로 진행됩니다. 다키스트 던전의 핵심 요소 중 하나는 영웅의 스트레스 수준이나 결단력을 나타내는 고통 시스템입니다. 던전 내에서 음식이나 빛의 원천 없이 모험을 하거나, 전투 중 동료가 죽거나 다치는 것을 목격하거나, 적이 그들에게 걸어놓은 재앙 등 여러 요인이 고통에 영향을 미칩니다. 스트레스 수준이 통제되지 않으면 캐릭터의 행동에 점차 간섭하게 되며, 예를 들어 두려워하거나 직접 싸울 수 없게 되거나 플레이어의 지시 없이 행동하게 됩니다. 영웅이 극도로 높은 스트레스 수준에 도달하면 심장마비를 일으킬 수 있으며, 즉시 치료하지 않으면 죽음의 문턱에 이를 수 있습니다. 스트레스는 특정 장소에서 제공되는 캠핑이나 기타 회복 아이템을 통해 던전 내에서 줄일 수 있으며, 근처 마을로 돌아가면 더욱 줄일 수 있습니다.\n"
     ]
    }
   ],
   "source": [
    "chain = prompt | llm\n",
    "\n",
    "text = \"\"\"\n",
    "Darkest Dungeon is a roguelike role-playing game in which the player manages a roster of heroes and adventurers to explore these dungeons and fight the creatures within.\n",
    "Prior to entering a dungeon, the player can use facilities in the Hamlet, the game's \"hub-town\" near the mansion to manage a roster of heroes and inventory.\n",
    "The facilities can be used to reduce stress, recruit new heroes, upgrading character stats, buying new items, and curing them.\n",
    "Each hero belongs to one of fifteen character classes, and has their own statistics and skills that can be upgraded over time.\n",
    "If a hero dies while exploring a dungeon, that hero is lost for good.[3]\n",
    "\n",
    "Once the player has completed preparations, they select four of their heroes to go explore a procedurally-generated dungeon.\n",
    "Combat encounters play out in a turn-based manner.\n",
    "A core element of Darkest Dungeon is its Affliction system, which indicates heroes' stress levels or resolves.\n",
    "A number of factors impact Affliction while in a dungeon, such as adventuring without food or light sources, witnessing the death or wounding of a fellow party member in battle, or from blights cast on them by enemies.\n",
    "Unchecked stress levels will gradually interfere with the behavior of the character, such as being frightened and unable to fight directly or acting without or against the player's direction.\n",
    "Allowing a hero to reach an extremely high stress level can cause them to have a heart attack, bringing them to the brink of death if not immediately tended to.\n",
    "Stress can be lowered while in a dungeon through camping offered at specific locations, or other restorative items, as well as when back in the nearby town.[3]\n",
    "\"\"\"\n",
    "\n",
    "result = chain.invoke({\"domain\": \"다키스트 던전\", \"translated\": \"한국어\", \"text\": text})\n",
    "print(result.content)"
   ]
  },
  {
   "cell_type": "code",
   "execution_count": 44,
   "metadata": {},
   "outputs": [
    {
     "name": "stdout",
     "output_type": "stream",
     "text": [
      "이 텍스트는 영어로 작성된 것입니다. 아래는 한국어 번역입니다.\n",
      "\n",
      "---\n",
      "\n",
      "다크니스 던전(Darkest Dungeon)은 플레이어가 영웅과 모험가의 명단을 관리하여 던전을 탐험하고 그 안의 생물들과 싸우는 로그라이크 롤플레잉 게임입니다. 던전에 들어가기 전에 플레이어는 맨션 근처에 있는 게임의 \"허브 타운\"인 햄릿의 시설을 이용하여 영웅 명단과 인벤토리를 관리할 수 있습니다. 이 시설은 스트레스를 줄이고, 새로운 영웅을 모집하며, 캐릭터 능력치를 업그레이드하고, 새로운 아이템을 구매하고, 치료하는 데 사용될 수 있습니다. 각 영웅은 15개의 캐릭터 클래스 중 하나에 속하며, 시간이 지남에 따라 업그레이드할 수 있는 고유한 통계와 기술을 가지고 있습니다. 던전을 탐험하는 동안 영웅이 죽으면 그 영웅은 영원히 잃게 됩니다.\n",
      "\n",
      "플레이어가 준비를 마치면, 프로시저리 생성된 던전을 탐험하기 위해 네 명의 영웅을 선택합니다. 전투는 턴제 방식으로 진행됩니다. 다크니스 던전의 핵심 요소 중 하나는 영웅의 스트레스 수준이나 결단력을 나타내는 고통(Affliction) 시스템입니다. 던전 내에서의 여러 요인이 고통에 영향을 미치며, 예를 들어 음식이나 빛이 없는 상태로 모험을 하거나, 전투 중 동료가 죽거나 다치는 것을 목격하거나, 적이 시전한 재앙(blight)으로 인해 영향을 받을 수 있습니다. 스트레스 수준이 통제되지 않으면 캐릭터의 행동에 점차 간섭하게 되며, 예를 들어 두려워하거나 직접 싸울 수 없게 되거나 플레이어의 지시 없이 행동하게 됩니다. 영웅이 극도로 높은 스트레스 수준에 도달하면 심장마비를 일으킬 수 있으며, 즉시 치료하지 않으면 죽음의 위기에 처할 수 있습니다. 던전 내에서는 특정 장소에서 제공되는 캠핑이나 기타 회복 아이템을 통해 스트레스를 줄일 수 있으며, 근처 마을로 돌아가면 스트레스를 줄일 수 있습니다.\n"
     ]
    }
   ],
   "source": [
    "prompt = PromptTemplate(\n",
    "    template=template,\n",
    "    input_variables=['domain', 'text'],\n",
    "    partial_variables={'translated':'한국어'}\n",
    ")\n",
    "\n",
    "prompt_partial = prompt.partial(translated=\"한국어\")\n",
    "chain = prompt_partial | llm\n",
    "result = chain.invoke({\"domain\": \"초등학교\", \"text\": text})\n",
    "print(result.content)"
   ]
  },
  {
   "cell_type": "markdown",
   "metadata": {},
   "source": [
    "### Chat prompt"
   ]
  },
  {
   "cell_type": "code",
   "execution_count": 47,
   "metadata": {},
   "outputs": [
    {
     "name": "stdout",
     "output_type": "stream",
     "text": [
      "[SystemMessage(content='당신은 초등학교 과학을 알려주는 인공지능 도우미 입니다.', additional_kwargs={}, response_metadata={}), HumanMessage(content='양자컴퓨터에 대해 쉽게 설명해 주세요.', additional_kwargs={}, response_metadata={})]\n"
     ]
    }
   ],
   "source": [
    "from langchain_core.prompts import ChatPromptTemplate\n",
    "\n",
    "prompt = ChatPromptTemplate.from_messages(\n",
    "    [\n",
    "        ('system', '당신은 초등학교 과학을 알려주는 인공지능 도우미 입니다.'),\n",
    "        ('user', '{topic}에 대해 쉽게 설명해 주세요.')\n",
    "    ]\n",
    ")\n",
    "\n",
    "formatted_prompt = prompt.format_messages(topic='양자컴퓨터')\n",
    "print(formatted_prompt)\n"
   ]
  },
  {
   "cell_type": "code",
   "execution_count": null,
   "metadata": {},
   "outputs": [
    {
     "name": "stdout",
     "output_type": "stream",
     "text": [
      "[SystemMessage(content='당신은 유능한 영어 선생님입니다.', additional_kwargs={}, response_metadata={}), HumanMessage(content='내 이름은 김상겸이야', additional_kwargs={}, response_metadata={}), AIMessage(content='그래서 어쩌라고', additional_kwargs={}, response_metadata={}), HumanMessage(content='인공지능을 영어로 설명해줘', additional_kwargs={}, response_metadata={})]\n"
     ]
    }
   ],
   "source": [
    "from langchain.prompts import ChatPromptTemplate, MessagesPlaceholder\n",
    "from langchain.schema import AIMessage, HumanMessage\n",
    "\n",
    "\n",
    "prompt = ChatPromptTemplate.from_messages(\n",
    "    [\n",
    "        ('system', '당신은 유능한 영어 선생님입니다.'),\n",
    "        MessagesPlaceholder(variable_name='chat_history'),\n",
    "        ('human', '{question}')\n",
    "    ]\n",
    ")\n",
    "\n",
    "chat_history = [\n",
    "    HumanMessage(content=\"내 이름은 김상겸이야\"),\n",
    "    AIMessage(content=\"그래서 어쩌라고\")    \n",
    "]\n",
    "\n",
    "formatted_prompt = prompt.format_messages(\n",
    "    chat_history=chat_history,\n",
    "    question='인공지능을 영어로 설명해줘'\n",
    ")\n",
    "\n",
    "print(formatted_prompt)\n",
    "\n",
    "chain = prompt | llm"
   ]
  },
  {
   "cell_type": "code",
   "execution_count": 62,
   "metadata": {},
   "outputs": [
    {
     "data": {
      "text/plain": [
       "[HumanMessage(content='내 이름은 김상겸이야', additional_kwargs={}, response_metadata={}),\n",
       " AIMessage(content='그래서 어쩌라고', additional_kwargs={}, response_metadata={}),\n",
       " HumanMessage(content='인공지능을 영어로 설명해주세요.', additional_kwargs={}, response_metadata={}),\n",
       " AIMessage(content='당신의 이름은 김상겸입니다. 맞나요?', additional_kwargs={}, response_metadata={}),\n",
       " HumanMessage(content='내 이름이 뭐라고?', additional_kwargs={}, response_metadata={}),\n",
       " AIMessage(content='당신의 이름은 김상겸입니다. 맞나요?', additional_kwargs={}, response_metadata={}),\n",
       " HumanMessage(content='인공지능을 영어로 설명해줘', additional_kwargs={}, response_metadata={}),\n",
       " AIMessage(content='Sure! Here’s a brief explanation of artificial intelligence (AI) in English:\\n\\nArtificial Intelligence (AI) refers to the simulation of human intelligence in machines that are programmed to think and learn like humans. AI systems can perform tasks such as problem-solving, understanding natural language, recognizing patterns, and making decisions. There are different types of AI, including narrow AI, which is designed for specific tasks (like virtual assistants), and general AI, which aims to perform any intellectual task that a human can do. AI technologies are used in various fields, including healthcare, finance, transportation, and entertainment, to improve efficiency and enhance user experiences.', additional_kwargs={}, response_metadata={}),\n",
       " HumanMessage(content='인공지능을 한글로 설명해줘', additional_kwargs={}, response_metadata={}),\n",
       " AIMessage(content='인공지능(Artificial Intelligence, AI)은 기계가 인간의 지능을 모방하여 사고하고 학습할 수 있도록 프로그래밍된 기술을 말합니다. 인공지능 시스템은 문제 해결, 자연어 이해, 패턴 인식, 의사 결정 등의 작업을 수행할 수 있습니다. 인공지능에는 특정 작업을 수행하도록 설계된 좁은 인공지능(narrow AI)과 인간이 할 수 있는 모든 지적 작업을 수행하는 것을 목표로 하는 일반 인공지능(general AI)이 있습니다. 인공지능 기술은 의료, 금융, 교통, 엔터테인먼트 등 다양한 분야에서 효율성을 높이고 사용자 경험을 향상시키기 위해 사용되고 있습니다.', additional_kwargs={}, response_metadata={}),\n",
       " HumanMessage(content='내 이름이 뭐라고?', additional_kwargs={}, response_metadata={}),\n",
       " AIMessage(content='당신의 이름은 김상겸입니다. 맞나요?', additional_kwargs={}, response_metadata={}),\n",
       " HumanMessage(content='아까 내 이름 소개할 때 왜이렇게 예의없이 굴었어?', additional_kwargs={}, response_metadata={}),\n",
       " AIMessage(content='죄송합니다. 그렇게 느끼셨다면 정말 죄송합니다. 제가 더 존중하는 방식으로 대화했어야 했습니다. 앞으로 더 주의하겠습니다. 어떻게 도와드릴까요?', additional_kwargs={}, response_metadata={}),\n",
       " HumanMessage(content='너가 뭐라고 했는지 기억해?', additional_kwargs={}, response_metadata={}),\n",
       " AIMessage(content='네, 처음에 당신의 이름을 소개할 때 \"그래서 어쩌라고\"라는 표현을 사용했습니다. 그 표현이 불쾌감을 드렸다면 정말 죄송합니다. 더 나은 대화를 위해 노력하겠습니다. 어떤 질문이나 요청이 있으신가요?', additional_kwargs={}, response_metadata={})]"
      ]
     },
     "execution_count": 62,
     "metadata": {},
     "output_type": "execute_result"
    }
   ],
   "source": [
    "human_message = \"너가 뭐라고 했는지 기억해?\"\n",
    "\n",
    "result = chain.invoke({\"question\": human_message, \"chat_history\": chat_history})\n",
    "chat_history.append(HumanMessage(content=human_message))\n",
    "chat_history.append(AIMessage(content=result.content))\n",
    "\n",
    "chat_history\n"
   ]
  },
  {
   "cell_type": "markdown",
   "metadata": {},
   "source": [
    "### Few-Shot prompt"
   ]
  },
  {
   "cell_type": "code",
   "execution_count": 67,
   "metadata": {},
   "outputs": [
    {
     "name": "stdout",
     "output_type": "stream",
     "text": [
      "입력 단어의 마지막 글자로 시작하는 단어를 출력하세요:\n",
      "\n",
      "\n",
      "입력: 사과\n",
      "출력: 과자\n",
      "\n",
      "입력: 과자\n",
      "출력: 자석\n",
      "\n",
      "입력: 자석\n",
      "출력: 석고\n",
      "\n",
      "입력: 석고\n",
      "출력: 고인돌\n",
      "\n",
      "입력: 돌맹이\n",
      "출력: 이사\n",
      "\n",
      "입력: 이사\n",
      "출력: 사과\n",
      "\n",
      "입력: 인공지능\n",
      "출력:\n"
     ]
    },
    {
     "data": {
      "text/plain": [
       "AIMessage(content='출력: 능력', additional_kwargs={'refusal': None}, response_metadata={'token_usage': {'completion_tokens': 6, 'prompt_tokens': 110, 'total_tokens': 116, 'completion_tokens_details': {'accepted_prediction_tokens': 0, 'audio_tokens': 0, 'reasoning_tokens': 0, 'rejected_prediction_tokens': 0}, 'prompt_tokens_details': {'audio_tokens': 0, 'cached_tokens': 0}}, 'model_name': 'gpt-4o-mini-2024-07-18', 'system_fingerprint': 'fp_06737a9306', 'finish_reason': 'stop', 'logprobs': None}, id='run-677365b9-0440-4060-b624-9101d73c0921-0', usage_metadata={'input_tokens': 110, 'output_tokens': 6, 'total_tokens': 116, 'input_token_details': {'audio': 0, 'cache_read': 0}, 'output_token_details': {'audio': 0, 'reasoning': 0}})"
      ]
     },
     "execution_count": 67,
     "metadata": {},
     "output_type": "execute_result"
    }
   ],
   "source": [
    "from langchain.prompts import FewShotPromptTemplate\n",
    "\n",
    "examples = [\n",
    "    {'word': '사과', 'nxt': '과자'},\n",
    "    {'word': '과자', 'nxt': '자석'},\n",
    "    {'word': '자석', 'nxt': '석고'},\n",
    "    {'word': '석고', 'nxt': '고인돌'},\n",
    "    {'word': '돌맹이', 'nxt': '이사'},\n",
    "    {'word': '이사', 'nxt': '사과'},\n",
    "]\n",
    "\n",
    "example_prompt = PromptTemplate(\n",
    "    input_variables=[\"word\", \"nxt\"],\n",
    "    template=\"입력: {word}\\n출력: {nxt}\"\n",
    ")\n",
    "\n",
    "few_shot_prompt = FewShotPromptTemplate(\n",
    "    examples=examples,  # 위에서 정의한 예제 데이터\n",
    "    example_prompt=example_prompt,  # 예제를 넣을 템플릿\n",
    "    prefix=\"입력 단어의 마지막 글자로 시작하는 단어를 출력하세요:\\n\",  # 프롬프트의 시작 부분\n",
    "    suffix=\"입력: {word}\\n출력:\",  # 사용자 입력이 들어갈 부분\n",
    "    input_variables=[\"word\"]  # 동적으로 입력될 변수\n",
    ")\n",
    "\n",
    "result_prompt = few_shot_prompt.format(word=\"인공지능\")\n",
    "\n",
    "print(result_prompt)\n",
    "\n",
    "llm.invoke(result_prompt)"
   ]
  },
  {
   "cell_type": "code",
   "execution_count": 85,
   "metadata": {},
   "outputs": [
    {
     "name": "stdout",
     "output_type": "stream",
     "text": [
      "당신은 고객의 취향에 맞는 한식을 추천해주는 인공지능 어시스턴트입니다.\n",
      "\n",
      "고객 취향: 매운 음식을 좋아하고 해산물을 선호합니다.\n",
      "추천 메뉴: 매운 해물 짬뽕, 낚지볶음\n",
      "\n",
      "고객 취향: 달콤한 디저트를 좋아하고 커피보다는 차를 선호합니다.\n",
      "추천 메뉴: 허니브레드, 레몬 허브티\n",
      "\n",
      "고객 취향: 건강식을 선호하고 채식을 합니다.\n",
      "추천 메뉴: 비건 샐러드, 두부 스테이크\n",
      "\n",
      "고객 취향: 매운것을 못먹고 짜고 단 음식을 좋아합니다.\n",
      "추천 메뉴:\n"
     ]
    },
    {
     "data": {
      "text/plain": [
       "AIMessage(content='추천 메뉴: 간장치킨, 달콤한 고구마 튀김', additional_kwargs={'refusal': None}, response_metadata={'token_usage': {'completion_tokens': 19, 'prompt_tokens': 163, 'total_tokens': 182, 'completion_tokens_details': {'accepted_prediction_tokens': 0, 'audio_tokens': 0, 'reasoning_tokens': 0, 'rejected_prediction_tokens': 0}, 'prompt_tokens_details': {'audio_tokens': 0, 'cached_tokens': 0}}, 'model_name': 'gpt-4o-mini-2024-07-18', 'system_fingerprint': 'fp_06737a9306', 'finish_reason': 'stop', 'logprobs': None}, id='run-5617143a-8bed-4c36-8234-b02c3cac829a-0', usage_metadata={'input_tokens': 163, 'output_tokens': 19, 'total_tokens': 182, 'input_token_details': {'audio': 0, 'cache_read': 0}, 'output_token_details': {'audio': 0, 'reasoning': 0}})"
      ]
     },
     "execution_count": 85,
     "metadata": {},
     "output_type": "execute_result"
    }
   ],
   "source": [
    "examples = [\n",
    "    {\n",
    "        'preference': '매운 음식을 좋아하고 해산물을 선호합니다.',\n",
    "        'recommendation': '매운 해물 짬뽕, 낚지볶음'\n",
    "    }, {\n",
    "        'preference': '달콤한 디저트를 좋아하고 커피보다는 차를 선호합니다.',\n",
    "        'recommendation': '허니브레드, 레몬 허브티'\n",
    "    }, {\n",
    "        'preference': '건강식을 선호하고 채식을 합니다.',\n",
    "        'recommendation': '비건 샐러드, 두부 스테이크'\n",
    "    },\n",
    "]\n",
    "\n",
    "# example_template = PromptTemplate.from_template(\"고객 취향: {preference}\\n추천 메뉴: {recommendation}\")\n",
    "example_prompt = PromptTemplate(\n",
    "    input_variables=[\"preference\", \"recommendation\"],\n",
    "    template=\"고객 취향: {preference}\\n추천 메뉴: {recommendation}\"\n",
    ")\n",
    "\n",
    "few_shot_prompt = FewShotPromptTemplate(\n",
    "    examples=examples,\n",
    "    # example_prompt=example_template,\n",
    "    example_prompt=example_prompt,\n",
    "    prefix=\"당신은 고객의 취향에 맞는 한식을 추천해주는 인공지능 어시스턴트입니다.\",\n",
    "    suffix=\"고객 취향: {preference}\\n추천 메뉴:\",  # 사용자 입력이 들어갈 부분\n",
    "    input_variables=[\"preference\"]  # 동적으로 입력될 변수\n",
    ")\n",
    "\n",
    "result_prompt = few_shot_prompt.format(preference=\"매운것을 못먹고 짜고 단 음식을 좋아합니다.\")\n",
    "\n",
    "print(result_prompt)\n",
    "\n",
    "llm.invoke(result_prompt)\n",
    "\n"
   ]
  },
  {
   "cell_type": "code",
   "execution_count": null,
   "metadata": {},
   "outputs": [
    {
     "name": "stdout",
     "output_type": "stream",
     "text": [
      "양평 두물머리, 양평 레일바이크, 세미원, 용문사, 양평 물소리길\n"
     ]
    }
   ],
   "source": [
    "examples = [\n",
    "    {\n",
    "        'destination': '가평',\n",
    "        'recommendation': '아침고요수목원, 남이섬, 쁘띠프랑스, 자라섬, 제이든가든 수목원'\n",
    "    }, {\n",
    "        'destination': '제주',\n",
    "        'recommendation': '성산 일출봉, 섭지코지, 협재해변, 우도, 새별오름'\n",
    "    }, {\n",
    "        'destination': '전주',\n",
    "        'recommendation': '전주 한옥마을, 객리단길, 전동성단, 경기전, 자만벽화마을'\n",
    "    }, {\n",
    "        'destination': '경주',\n",
    "        'recommendation': '첨성대, 황리단길, 동궁과월지, 대릉원, 불국사'\n",
    "    }\n",
    "]\n",
    "\n",
    "example_template = PromptTemplate.from_template(\"목적지: {destination}\\n추천 관광지: {recommendation}\")\n",
    "\n",
    "few_shot_prompt = FewShotPromptTemplate(\n",
    "    examples=examples,\n",
    "    example_prompt=example_template,\n",
    "    prefix=\"당신은 고객의 목적지에 맞는 관광지를 추천해주는 인공지능 어시스턴트입니다. 답변으로는 관광지만 출력하세요.\",\n",
    "    suffix=\"목적지: {destination}\\n추천 관광지:\",  # 사용자 입력이 들어갈 부분\n",
    "    input_variables=[\"destination\"]  # 동적으로 입력될 변수\n",
    ")\n",
    "\n",
    "result_prompt = few_shot_prompt.format(destination=\"양평\")\n",
    "\n",
    "# print(result_prompt)\n",
    "\n",
    "result = llm.invoke(result_prompt)\n",
    "print(result.content)"
   ]
  },
  {
   "cell_type": "markdown",
   "metadata": {},
   "source": [
    "### 연습문제\n",
    "1. 유튜브에서 사용할 수 있는 Few-Shot Prompting 문제\n",
    "- 유튜브의 유저 댓글을 보고 자동으로 답글을생성하는 AI를 만들어보세요"
   ]
  },
  {
   "cell_type": "code",
   "execution_count": 101,
   "metadata": {},
   "outputs": [
    {
     "name": "stdout",
     "output_type": "stream",
     "text": [
      "범이형은 진짜 웃기면서도 깊이가 있지ㅋㅋㅋ 그런 매력이 진짜 최고임!\n"
     ]
    }
   ],
   "source": [
    "examples_list = [\n",
    "    {\n",
    "        'comment': '아니 개봉중에 올려줘야지 다 내려간담에 올려주면 어떻게 해ㅋㅋㅋㅋㅋ\\n여기서 홍보됐으면 손익분기점은 넘었을텐데',\n",
    "        'reply': [\n",
    "            '포털이 동네에 안열렸잖슴~',\n",
    "            '그것까지가 만담의 완성이잖슴~~',\n",
    "            '글게 지금알았는데 보고싶다 ㅋㅋㅋ 이거 어디서볼수잇셈?',\n",
    "            '아, 못 넘겼어…?ㅋㅋㅋ'\n",
    "        ]\n",
    "    }, {\n",
    "        'comment': '정보: 영화 만담은 아쉽게도 손익분기점을 넘기지 못하고 상영종료되었다.',\n",
    "        'reply': [\n",
    "            '에?? 2500명 못넘음??',\n",
    "            '저런..',\n",
    "            '이거 진짜에요~?',\n",
    "            '놀랍게도 관객수 1834명!'\n",
    "        ]\n",
    "    }, {\n",
    "        'comment': '요즘 초대석 존나 재밌네 ㅋㅋㅋㅋ',\n",
    "        'reply': [\n",
    "            'TMI 놀랍게도 아직도 평점 10점이다',\n",
    "            '개그맨+초대석+설명회 치트키ㅋㅋ',\n",
    "            '진짜 개그맨들은 보법이 다름ㅋㅋㅋㅋㅋ',\n",
    "        ]\n",
    "    },\n",
    "]\n",
    "\n",
    "examples = [{'comment': e['comment'], 'reply': r} for e in examples_list for r in e['reply']]\n",
    "\n",
    "example_template = PromptTemplate.from_template(\n",
    "    \"댓글: {comment}\\n답글: {reply}\"\n",
    ")\n",
    "\n",
    "few_shot_prompt = FewShotPromptTemplate(\n",
    "    examples=examples, \n",
    "    example_prompt=example_template,\n",
    "    prefix=\"당신은 침착맨 유튜브 댓글에 적절한 답글을 생성하는 AI입니다.\\n다음은 예제입니다.\\n침착맨 시청자들의 말투와 최대한 비슷하게 작성해주세요.\",\n",
    "    suffix=\"댓글: {comment}\\n답글:\",\n",
    "    input_variables=[\"comment\"]\n",
    ")\n",
    "\n",
    "result_prompt = few_shot_prompt.format(comment=\"범이형 언제나처럼 너무 기분좋게 웃기지만 또 그안에서 나름 확고한 자기 철학 확실히 있는 것 같아서 너무 보기좋다\")\n",
    "\n",
    "# print(result_prompt)\n",
    "\n",
    "result = llm.invoke(result_prompt)\n",
    "print(result.content)\n",
    "\n"
   ]
  }
 ],
 "metadata": {
  "kernelspec": {
   "display_name": "lang",
   "language": "python",
   "name": "python3"
  },
  "language_info": {
   "codemirror_mode": {
    "name": "ipython",
    "version": 3
   },
   "file_extension": ".py",
   "mimetype": "text/x-python",
   "name": "python",
   "nbconvert_exporter": "python",
   "pygments_lexer": "ipython3",
   "version": "3.13.2"
  }
 },
 "nbformat": 4,
 "nbformat_minor": 2
}
