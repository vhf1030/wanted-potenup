{
 "cells": [
  {
   "cell_type": "markdown",
   "metadata": {},
   "source": [
    "### Pytorch Tutorial"
   ]
  },
  {
   "cell_type": "code",
   "execution_count": 4,
   "metadata": {},
   "outputs": [
    {
     "name": "stdout",
     "output_type": "stream",
     "text": [
      "2.6.0+cu124\n",
      "True\n"
     ]
    }
   ],
   "source": [
    "import torch\n",
    "\n",
    "print(torch.__version__)\n",
    "print(torch.cuda.is_available())"
   ]
  },
  {
   "cell_type": "code",
   "execution_count": 9,
   "metadata": {},
   "outputs": [
    {
     "name": "stdout",
     "output_type": "stream",
     "text": [
      "tensor(5)\n",
      "5\n"
     ]
    }
   ],
   "source": [
    "import numpy as np\n",
    "\n",
    "a_numpy = np.array([5, 3, 1])\n",
    "a = torch.tensor(a_numpy)\n",
    "\n",
    "print(a[0])\n",
    "print(a[0].item())"
   ]
  },
  {
   "cell_type": "code",
   "execution_count": 20,
   "metadata": {},
   "outputs": [
    {
     "name": "stdout",
     "output_type": "stream",
     "text": [
      "tensor([5, 3, 1])\n",
      "tensor(5)\n",
      "5\n",
      "tensor([[[2, 3],\n",
      "         [4, 6]],\n",
      "\n",
      "        [[1, 3],\n",
      "         [6, 2]],\n",
      "\n",
      "        [[5, 2],\n",
      "         [1, 3]]])\n",
      "3\n",
      "torch.Size([3, 2, 2])\n",
      "torch.int64\n"
     ]
    }
   ],
   "source": [
    "b = torch.tensor([5, 3, 1])\n",
    "c = torch.tensor([\n",
    "    [[2, 3], [4, 6]],\n",
    "    [[1, 3], [6, 2]],\n",
    "    [[5, 2], [1, 3]]\n",
    "])\n",
    "print(b)\n",
    "print(b[0])\n",
    "print(b[0].item())\n",
    "\n",
    "print(c)\n",
    "print(c.ndim)\n",
    "print(c.shape)\n",
    "print(c.dtype)"
   ]
  },
  {
   "cell_type": "code",
   "execution_count": 30,
   "metadata": {},
   "outputs": [
    {
     "name": "stdout",
     "output_type": "stream",
     "text": [
      "tensor([[[0., 0., 0., 0.],\n",
      "         [0., 0., 0., 0.]],\n",
      "\n",
      "        [[0., 0., 0., 0.],\n",
      "         [0., 0., 0., 0.]],\n",
      "\n",
      "        [[0., 0., 0., 0.],\n",
      "         [0., 0., 0., 0.]]])\n",
      "tensor([[[1., 1., 1., 1.],\n",
      "         [1., 1., 1., 1.],\n",
      "         [1., 1., 1., 1.]],\n",
      "\n",
      "        [[1., 1., 1., 1.],\n",
      "         [1., 1., 1., 1.],\n",
      "         [1., 1., 1., 1.]],\n",
      "\n",
      "        [[1., 1., 1., 1.],\n",
      "         [1., 1., 1., 1.],\n",
      "         [1., 1., 1., 1.]]])\n"
     ]
    }
   ],
   "source": [
    "# 모든 원소가 0인 텐서 만들기 zeros\n",
    "print(torch.zeros(3, 2, 4))\n",
    "\n",
    "# 모든 원소가 1인 텐서 만들기 ones\n",
    "print(torch.ones(3, 3, 4))"
   ]
  },
  {
   "cell_type": "code",
   "execution_count": 47,
   "metadata": {},
   "outputs": [
    {
     "name": "stdout",
     "output_type": "stream",
     "text": [
      "tensor([0, 1, 2, 3, 4, 5, 6, 7, 8, 9])\n",
      "tensor([[0, 1],\n",
      "        [2, 3],\n",
      "        [4, 5],\n",
      "        [6, 7],\n",
      "        [8, 9]])\n",
      "tensor([[0, 1, 2, 3, 4],\n",
      "        [5, 6, 7, 8, 9]])\n",
      "tensor([[0, 1, 2, 3, 4],\n",
      "        [5, 6, 7, 8, 9]])\n",
      "tensor([[0, 1, 2, 3, 4],\n",
      "        [5, 6, 7, 8, 9]])\n"
     ]
    }
   ],
   "source": [
    "# arange\n",
    "a = torch.arange(0, 10)\n",
    "print(a)\n",
    "a = a.reshape(5, 2)\n",
    "print(a)\n",
    "\n",
    "a = a.reshape(2, -1)\n",
    "print(a)\n",
    "\n",
    "a = a.reshape(-1, 5)\n",
    "print(a)\n",
    "\n",
    "a = a.view(2, 5)\n",
    "print(a)"
   ]
  },
  {
   "cell_type": "code",
   "execution_count": 57,
   "metadata": {},
   "outputs": [
    {
     "name": "stdout",
     "output_type": "stream",
     "text": [
      "tensor([0.0000, 0.1111, 0.2222, 0.3333, 0.4444, 0.5556, 0.6667, 0.7778, 0.8889,\n",
      "        1.0000])\n",
      "tensor([0.4771, 0.2343, 0.4423, 0.2613, 0.7313, 0.7407, 0.5298, 0.7221, 0.0588,\n",
      "        0.7160])\n",
      "tensor([-0.7057,  0.9663,  0.8445,  1.1460,  0.2819, -1.4766, -0.1627,  0.4917,\n",
      "        -0.4338, -0.1205])\n"
     ]
    }
   ],
   "source": [
    "# 0에서 1까지를 10등분하고 싶을 때\n",
    "a = torch.linspace(0, 1, 10)\n",
    "print(a)\n",
    "\n",
    "# 난수 만들기(rand, randn)\n",
    "a = torch.rand(10)  # 0 ~ 1 사이 값\n",
    "print(a)\n",
    "a = torch.randn(10)  # normalization - 평균이 0이고 표준편차가 1인 값\n",
    "print(a)"
   ]
  },
  {
   "cell_type": "code",
   "execution_count": 62,
   "metadata": {},
   "outputs": [
    {
     "name": "stdout",
     "output_type": "stream",
     "text": [
      "tensor(2., requires_grad=True)\n",
      "tensor(8., grad_fn=<PowBackward0>)\n",
      "tensor(12.)\n"
     ]
    }
   ],
   "source": [
    "# 미분하기\n",
    "x = torch.tensor(2.0, requires_grad=True)  # requires_grad의 의미: 이 x는 변수입니다\n",
    "y = x**3\n",
    "print(x)\n",
    "print(y)\n",
    "\n",
    "y.backward()  # 미분해주세요 (dy/dx)\n",
    "print(x.grad)\n"
   ]
  },
  {
   "cell_type": "code",
   "execution_count": 64,
   "metadata": {},
   "outputs": [
    {
     "name": "stdout",
     "output_type": "stream",
     "text": [
      "tensor(-2., requires_grad=True)\n",
      "tensor(-11., grad_fn=<AddBackward0>)\n",
      "tensor(14.)\n"
     ]
    }
   ],
   "source": [
    "# 미션: y = x^3 + 2x + 1, x=-2 일때의 미분값을 구하시오\n",
    "x = torch.tensor(-2.0, requires_grad=True)\n",
    "y = x**3 + 2*x + 1\n",
    "\n",
    "print(x)\n",
    "print(y)\n",
    "\n",
    "y.backward()  # 미분해주세요\n",
    "print(x.grad)"
   ]
  },
  {
   "cell_type": "code",
   "execution_count": 66,
   "metadata": {},
   "outputs": [
    {
     "name": "stdout",
     "output_type": "stream",
     "text": [
      "tensor(60.)\n"
     ]
    }
   ],
   "source": [
    "x = torch.tensor(2.0, requires_grad=True)\n",
    "y = 3 * x**2\n",
    "z = 5 * y\n",
    "\n",
    "z.backward()\n",
    "print(x.grad)\n"
   ]
  }
 ],
 "metadata": {
  "kernelspec": {
   "display_name": "deeplearning",
   "language": "python",
   "name": "python3"
  },
  "language_info": {
   "codemirror_mode": {
    "name": "ipython",
    "version": 3
   },
   "file_extension": ".py",
   "mimetype": "text/x-python",
   "name": "python",
   "nbconvert_exporter": "python",
   "pygments_lexer": "ipython3",
   "version": "3.11.11"
  }
 },
 "nbformat": 4,
 "nbformat_minor": 2
}
