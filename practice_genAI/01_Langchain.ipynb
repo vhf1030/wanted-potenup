{
 "cells": [
  {
   "cell_type": "code",
   "execution_count": 1,
   "metadata": {},
   "outputs": [],
   "source": [
    "from config.api_keys import openai_key"
   ]
  },
  {
   "cell_type": "code",
   "execution_count": 4,
   "metadata": {},
   "outputs": [
    {
     "name": "stdout",
     "output_type": "stream",
     "text": [
      "content='대한민국의 수도는 서울입니다.' additional_kwargs={'refusal': None} response_metadata={'token_usage': {'completion_tokens': 9, 'prompt_tokens': 15, 'total_tokens': 24, 'completion_tokens_details': {'accepted_prediction_tokens': 0, 'audio_tokens': 0, 'reasoning_tokens': 0, 'rejected_prediction_tokens': 0}, 'prompt_tokens_details': {'audio_tokens': 0, 'cached_tokens': 0}}, 'model_name': 'gpt-4o-mini-2024-07-18', 'system_fingerprint': 'fp_06737a9306', 'finish_reason': 'stop', 'logprobs': None} id='run-aaca7765-b991-408f-b4dd-5e2cac7d409f-0' usage_metadata={'input_tokens': 15, 'output_tokens': 9, 'total_tokens': 24, 'input_token_details': {'audio': 0, 'cache_read': 0}, 'output_token_details': {'audio': 0, 'reasoning': 0}}\n",
      "대한민국의 수도는 서울입니다.\n"
     ]
    }
   ],
   "source": [
    "from langchain_openai import ChatOpenAI\n",
    "\n",
    "llm = ChatOpenAI(\n",
    "    model_name='gpt-4o-mini',\n",
    "    api_key=openai_key,\n",
    "    temperature=0.1\n",
    ")\n",
    "\n",
    "result = llm.invoke(\"대한민국의 수도는 어디야?\")\n",
    "print(result)\n",
    "print(result.content)\n"
   ]
  },
  {
   "cell_type": "markdown",
   "metadata": {},
   "source": [
    "### Chain"
   ]
  },
  {
   "cell_type": "code",
   "execution_count": null,
   "metadata": {},
   "outputs": [
    {
     "name": "stdout",
     "output_type": "stream",
     "text": [
      "content='인공지능(Artificial Intelligence, AI)은 컴퓨터 시스템이나 기계가 인간의 지능을 모방하여 학습, 추론, 문제 해결, 이해, 언어 처리 등의 작업을 수행할 수 있도록 하는 기술입니다. 인공지능은 크게 두 가지로 나눌 수 있습니다.\\n\\n1. **약한 인공지능(Weak AI)**: 특정 작업을 수행하도록 설계된 인공지능으로, 예를 들어 음성 인식, 이미지 인식, 추천 시스템 등이 이에 해당합니다. 이러한 시스템은 특정한 문제를 해결하는 데 특화되어 있으며, 일반적인 지능을 갖추고 있지 않습니다.\\n\\n2. **강한 인공지능(Strong AI)**: 인간과 유사한 수준의 지능을 갖춘 인공지능으로, 다양한 문제를 이해하고 해결할 수 있는 능력을 지니고 있습니다. 현재로서는 강한 인공지능은 이론적인 개념에 가까우며, 실제로 구현된 사례는 없습니다.\\n\\n인공지능의 발전은 머신러닝(기계 학습)과 딥러닝(심층 학습) 기술의 발전에 크게 의존하고 있습니다. 머신러닝은 데이터에서 패턴을 학습하여 예측이나 결정을 내리는 알고리즘을 개발하는 분야이며, 딥러닝은 인공신경망을 활용하여 더욱 복잡한 데이터의 패턴을 학습하는 방법입니다.\\n\\n인공지능은 의료, 금융, 제조업, 자율주행차, 고객 서비스 등 다양한 분야에서 활용되고 있으며, 우리의 일상생활에 점점 더 많은 영향을 미치고 있습니다. 하지만 인공지능의 발전과 함께 윤리적 문제, 일자리 대체, 개인정보 보호 등의 이슈도 함께 논의되고 있습니다.' additional_kwargs={'refusal': None} response_metadata={'token_usage': {'completion_tokens': 373, 'prompt_tokens': 18, 'total_tokens': 391, 'completion_tokens_details': {'accepted_prediction_tokens': 0, 'audio_tokens': 0, 'reasoning_tokens': 0, 'rejected_prediction_tokens': 0}, 'prompt_tokens_details': {'audio_tokens': 0, 'cached_tokens': 0}}, 'model_name': 'gpt-4o-mini-2024-07-18', 'system_fingerprint': 'fp_06737a9306', 'finish_reason': 'stop', 'logprobs': None} id='run-8000b35d-771d-4b24-b162-8ae8c721e6ed-0' usage_metadata={'input_tokens': 18, 'output_tokens': 373, 'total_tokens': 391, 'input_token_details': {'audio': 0, 'cache_read': 0}, 'output_token_details': {'audio': 0, 'reasoning': 0}}\n"
     ]
    }
   ],
   "source": [
    "from langchain_core.prompts import PromptTemplate\n",
    "\n",
    "llm = ChatOpenAI(\n",
    "    model_name='gpt-4o-mini',\n",
    "    api_key=openai_key,\n",
    "    temperature=0.1\n",
    ")\n",
    "\n",
    "prompt = PromptTemplate.from_template(\"{question}에 대해 한글로 설명해줘\")\n",
    "\n",
    "chain = prompt | llm\n"
   ]
  },
  {
   "cell_type": "code",
   "execution_count": null,
   "metadata": {},
   "outputs": [
    {
     "name": "stdout",
     "output_type": "stream",
     "text": [
      "content='인공지능(Artificial Intelligence, AI)은 컴퓨터 시스템이나 기계가 인간의 지능을 모방하여 학습, 추론, 문제 해결, 이해, 언어 처리 등의 작업을 수행할 수 있도록 하는 기술입니다. 인공지능은 크게 두 가지로 나눌 수 있습니다.\\n\\n1. **약한 인공지능(Weak AI)**: 특정 작업을 수행하도록 설계된 인공지능으로, 예를 들어 음성 인식, 이미지 인식, 추천 시스템 등이 이에 해당합니다. 이러한 시스템은 특정한 문제를 해결하는 데 특화되어 있으며, 일반적인 지능을 갖추고 있지 않습니다.\\n\\n2. **강한 인공지능(Strong AI)**: 인간과 유사한 수준의 지능을 갖춘 인공지능으로, 다양한 문제를 이해하고 해결할 수 있는 능력을 가지고 있습니다. 현재로서는 강한 인공지능은 이론적인 개념에 가까우며, 실제로 구현된 사례는 없습니다.\\n\\n인공지능의 발전은 머신러닝(기계 학습)과 딥러닝(심층 학습) 기술에 크게 의존하고 있습니다. 머신러닝은 데이터에서 패턴을 학습하여 예측이나 결정을 내리는 알고리즘을 개발하는 분야이며, 딥러닝은 인공신경망을 활용하여 더 복잡한 데이터 구조를 처리하는 기술입니다.\\n\\n인공지능은 의료, 금융, 제조업, 자율주행차, 고객 서비스 등 다양한 분야에서 활용되고 있으며, 우리의 일상생활에 점점 더 많은 영향을 미치고 있습니다. 그러나 인공지능의 발전과 함께 윤리적, 사회적 문제도 제기되고 있어, 이에 대한 논의와 연구가 필요합니다.' additional_kwargs={'refusal': None} response_metadata={'token_usage': {'completion_tokens': 367, 'prompt_tokens': 18, 'total_tokens': 385, 'completion_tokens_details': {'accepted_prediction_tokens': 0, 'audio_tokens': 0, 'reasoning_tokens': 0, 'rejected_prediction_tokens': 0}, 'prompt_tokens_details': {'audio_tokens': 0, 'cached_tokens': 0}}, 'model_name': 'gpt-4o-mini-2024-07-18', 'system_fingerprint': 'fp_06737a9306', 'finish_reason': 'stop', 'logprobs': None} id='run-da9985b3-53c5-4cc7-93fe-9eac26c17521-0' usage_metadata={'input_tokens': 18, 'output_tokens': 367, 'total_tokens': 385, 'input_token_details': {'audio': 0, 'cache_read': 0}, 'output_token_details': {'audio': 0, 'reasoning': 0}}\n"
     ]
    }
   ],
   "source": [
    "result = chain.invoke(\"인공지능\")\n",
    "print(result)\n"
   ]
  },
  {
   "cell_type": "code",
   "execution_count": null,
   "metadata": {},
   "outputs": [
    {
     "name": "stdout",
     "output_type": "stream",
     "text": [
      "content='서울은 대한민국의 수도이자 가장 큰 도시로, 한반도의 북서부에 위치하고 있습니다. 서울은 정치, 경제, 문화의 중심지로서, 약 1000만 명 이상의 인구가 거주하고 있습니다. \\n\\n서울은 오랜 역사와 현대적인 도시가 조화를 이루고 있는 곳입니다. 고궁, 사찰, 전통 시장 등 역사적인 명소가 많으며, 대표적으로 경복궁, 창덕궁, 북촌 한옥마을 등이 있습니다. 또한, 현대적인 건축물과 고층 빌딩이 즐비한 강남, 명동, 홍대와 같은 지역은 쇼핑과 문화, 예술의 중심지로 유명합니다.\\n\\n서울은 교통이 발달해 있어 지하철, 버스, 택시 등 다양한 대중교통 수단을 이용할 수 있습니다. 한강이 도시를 가로지르며, 시민들이 여가를 즐길 수 있는 공원과 자전거 도로가 잘 조성되어 있습니다.\\n\\n서울은 또한 다양한 음식 문화로 유명합니다. 김치, 불고기, 비빔밥 등 한국 전통 음식뿐만 아니라, 세계 각국의 다양한 요리를 맛볼 수 있는 레스토랑과 카페가 많습니다.\\n\\n서울은 매년 많은 관광객이 방문하는 도시로, 다양한 축제와 문화 행사도 열립니다. 이러한 요소들이 어우러져 서울은 역동적이고 매력적인 도시로 자리 잡고 있습니다.' additional_kwargs={'refusal': None} response_metadata={'token_usage': {'completion_tokens': 317, 'prompt_tokens': 16, 'total_tokens': 333, 'completion_tokens_details': {'accepted_prediction_tokens': 0, 'audio_tokens': 0, 'reasoning_tokens': 0, 'rejected_prediction_tokens': 0}, 'prompt_tokens_details': {'audio_tokens': 0, 'cached_tokens': 0}}, 'model_name': 'gpt-4o-mini-2024-07-18', 'system_fingerprint': 'fp_06737a9306', 'finish_reason': 'stop', 'logprobs': None} id='run-271bbf5e-b1e1-4fdf-bdea-55ede692c1f2-0' usage_metadata={'input_tokens': 16, 'output_tokens': 317, 'total_tokens': 333, 'input_token_details': {'audio': 0, 'cache_read': 0}, 'output_token_details': {'audio': 0, 'reasoning': 0}}\n"
     ]
    }
   ],
   "source": [
    "result = chain.invoke({\"question\": \"서울\"})\n",
    "print(result)\n"
   ]
  },
  {
   "cell_type": "code",
   "execution_count": 8,
   "metadata": {},
   "outputs": [
    {
     "name": "stdout",
     "output_type": "stream",
     "text": [
      "서울은 대한민국의 수도이자 가장 큰 도시로, 한반도의 북서부에 위치하고 있습니다. 서울은 정치, 경제, 문화의 중심지로, 약 1000만 명 이상의 인구가 거주하고 있습니다. \n",
      "\n",
      "서울은 오랜 역사와 현대적인 도시가 조화를 이루고 있는 곳입니다. 고궁, 사찰, 전통 시장 등 역사적인 명소가 많으며, 대표적으로 경복궁, 창덕궁, 북촌 한옥마을 등이 있습니다. 또한, 현대적인 건축물과 고층 빌딩이 즐비한 강남, 명동, 홍대와 같은 지역은 쇼핑과 문화 활동의 중심지로 유명합니다.\n",
      "\n",
      "서울은 교통이 발달해 있어 지하철, 버스, 택시 등을 통해 편리하게 이동할 수 있습니다. 한강이 도시를 가로지르며, 시민들이 여가를 즐길 수 있는 공원과 자전거 도로가 잘 조성되어 있습니다.\n",
      "\n",
      "서울은 다양한 문화 행사와 축제가 열리는 곳으로, K-pop, 한국 영화, 음식 등 한국의 현대 문화를 세계에 알리는 중요한 역할을 하고 있습니다. 또한, 서울은 국제적인 도시로서 외국인 관광객들에게도 인기 있는 여행지입니다."
     ]
    }
   ],
   "source": [
    "for token in chain.stream({\"question\": \"서울\"}):\n",
    "    print(token.content, end='')"
   ]
  },
  {
   "cell_type": "markdown",
   "metadata": {},
   "source": [
    "### 비동기 처리"
   ]
  },
  {
   "cell_type": "code",
   "execution_count": 9,
   "metadata": {},
   "outputs": [
    {
     "name": "stdout",
     "output_type": "stream",
     "text": [
      "0:00:12.906894\n"
     ]
    }
   ],
   "source": [
    "from datetime import datetime\n",
    "\n",
    "start = datetime.now()\n",
    "chain.invoke(\"서울\")\n",
    "chain.invoke(\"부산\")\n",
    "chain.invoke(\"대전\")\n",
    "\n",
    "print(datetime.now() - start)"
   ]
  },
  {
   "cell_type": "code",
   "execution_count": 12,
   "metadata": {},
   "outputs": [
    {
     "name": "stdout",
     "output_type": "stream",
     "text": [
      "0:00:04.347294\n"
     ]
    }
   ],
   "source": [
    "import asyncio\n",
    "\n",
    "start = datetime.now()\n",
    "task1 = chain.ainvoke(\"서울\")\n",
    "task2 = chain.ainvoke(\"부산\")\n",
    "task3 = chain.ainvoke(\"대전\")\n",
    "\n",
    "result = await asyncio.gather(task1, task2, task3)\n",
    "\n",
    "print(datetime.now() - start)"
   ]
  },
  {
   "cell_type": "code",
   "execution_count": 13,
   "metadata": {},
   "outputs": [
    {
     "data": {
      "text/plain": [
       "[AIMessage(content='서울은 대한민국의 수도이자 가장 큰 도시로, 한반도의 북서부에 위치하고 있습니다. 서울은 정치, 경제, 문화, 교육의 중심지로서, 약 1000만 명 이상의 인구가 거주하고 있습니다. \\n\\n서울은 오랜 역사와 현대적인 도시가 조화를 이루고 있는 곳입니다. 고궁, 사찰, 전통 시장 등 역사적인 명소가 많으며, 대표적으로 경복궁, 창덕궁, 북촌 한옥마을 등이 있습니다. 또한, 현대적인 건축물과 쇼핑몰, 고급 레스토랑이 즐비한 강남, 명동, 홍대와 같은 지역도 유명합니다.\\n\\n서울은 교통이 발달해 있어 지하철, 버스, 택시 등을 통해 쉽게 이동할 수 있습니다. 또한, 한강이 도시를 가로지르며, 시민들이 여가를 즐길 수 있는 공간으로 활용되고 있습니다.\\n\\n서울은 다양한 문화 행사와 축제가 열리는 곳으로, K-pop, 한국 드라마, 음식 등 한국의 현대 문화를 세계에 알리는 중요한 역할을 하고 있습니다. 이러한 이유로 서울은 많은 관광객들이 방문하는 인기 있는 도시입니다.', additional_kwargs={'refusal': None}, response_metadata={'token_usage': {'completion_tokens': 254, 'prompt_tokens': 16, 'total_tokens': 270, 'completion_tokens_details': {'accepted_prediction_tokens': 0, 'audio_tokens': 0, 'reasoning_tokens': 0, 'rejected_prediction_tokens': 0}, 'prompt_tokens_details': {'audio_tokens': 0, 'cached_tokens': 0}}, 'model_name': 'gpt-4o-mini-2024-07-18', 'system_fingerprint': 'fp_06737a9306', 'finish_reason': 'stop', 'logprobs': None}, id='run-bce808ea-27ff-4b94-8256-8c4102b7f58a-0', usage_metadata={'input_tokens': 16, 'output_tokens': 254, 'total_tokens': 270, 'input_token_details': {'audio': 0, 'cache_read': 0}, 'output_token_details': {'audio': 0, 'reasoning': 0}}),\n",
       " AIMessage(content='부산은 대한민국의 제2의 도시이자, 가장 큰 항구 도시입니다. 경상남도 남동부에 위치하고 있으며, 동쪽으로는 동해, 서쪽으로는 낙동강이 흐릅니다. 부산은 아름다운 해변, 풍부한 해산물, 그리고 다양한 문화유산으로 유명합니다.\\n\\n부산의 대표적인 관광지로는 해운대 해수욕장, 광안리 해수욕장, 태종대, 그리고 부산타워가 있습니다. 해운대는 특히 여름철에 많은 관광객이 찾는 명소로, 깨끗한 백사장과 다양한 해양 스포츠를 즐길 수 있습니다. 광안리 해수욕장은 광안대교의 야경이 아름다워 저녁 시간에 많은 사람들이 찾습니다.\\n\\n부산은 또한 국제적인 영화제인 부산국제영화제가 열리는 도시로, 매년 많은 영화 팬들과 감독들이 모입니다. 이 외에도 자갈치 시장, 국제시장 등 다양한 전통 시장이 있어 신선한 해산물과 지역 특산물을 맛볼 수 있습니다.\\n\\n부산은 교통이 편리하여 KTX를 이용해 서울과 빠르게 연결되며, 다양한 문화와 역사를 가진 도시로 많은 사람들에게 사랑받고 있습니다.', additional_kwargs={'refusal': None}, response_metadata={'token_usage': {'completion_tokens': 277, 'prompt_tokens': 17, 'total_tokens': 294, 'completion_tokens_details': {'accepted_prediction_tokens': 0, 'audio_tokens': 0, 'reasoning_tokens': 0, 'rejected_prediction_tokens': 0}, 'prompt_tokens_details': {'audio_tokens': 0, 'cached_tokens': 0}}, 'model_name': 'gpt-4o-mini-2024-07-18', 'system_fingerprint': 'fp_06737a9306', 'finish_reason': 'stop', 'logprobs': None}, id='run-aef4cf68-d144-4d01-8bc0-0bca01b6fcdb-0', usage_metadata={'input_tokens': 17, 'output_tokens': 277, 'total_tokens': 294, 'input_token_details': {'audio': 0, 'cache_read': 0}, 'output_token_details': {'audio': 0, 'reasoning': 0}}),\n",
       " AIMessage(content='대전(大田)은 대한민국의 중부 지역에 위치한 도시로, 대전광역시의 행정 중심지입니다. 대전은 1893년에 개항된 이후로 발전해왔으며, 현재는 과학과 교육의 도시로 알려져 있습니다. \\n\\n대전은 여러 대학과 연구 기관이 밀집해 있어, 특히 과학기술 분야에서 중요한 역할을 하고 있습니다. 대전에는 한국과학기술원(KAIST), 충남대학교, 한남대학교 등 여러 유명 대학이 있으며, 대전시의 대덕연구개발특구에는 다양한 연구소와 기업들이 위치해 있습니다.\\n\\n또한, 대전은 교통의 요지로서 KTX와 고속도로가 연결되어 있어 다른 지역과의 접근성이 좋습니다. 대전의 주요 관광지로는 한밭수목원, 대전엑스포 과학공원, 유성온천 등이 있습니다. \\n\\n대전은 문화와 예술도 활발하게 이루어지고 있으며, 매년 다양한 축제와 행사들이 열립니다. 이러한 요소들 덕분에 대전은 살기 좋은 도시로 평가받고 있습니다.', additional_kwargs={'refusal': None}, response_metadata={'token_usage': {'completion_tokens': 251, 'prompt_tokens': 16, 'total_tokens': 267, 'completion_tokens_details': {'accepted_prediction_tokens': 0, 'audio_tokens': 0, 'reasoning_tokens': 0, 'rejected_prediction_tokens': 0}, 'prompt_tokens_details': {'audio_tokens': 0, 'cached_tokens': 0}}, 'model_name': 'gpt-4o-mini-2024-07-18', 'system_fingerprint': 'fp_06737a9306', 'finish_reason': 'stop', 'logprobs': None}, id='run-5ecfbcb5-ca85-4cba-a0b8-0b5afa5fb7c5-0', usage_metadata={'input_tokens': 16, 'output_tokens': 251, 'total_tokens': 267, 'input_token_details': {'audio': 0, 'cache_read': 0}, 'output_token_details': {'audio': 0, 'reasoning': 0}})]"
      ]
     },
     "execution_count": 13,
     "metadata": {},
     "output_type": "execute_result"
    }
   ],
   "source": [
    "result"
   ]
  },
  {
   "cell_type": "code",
   "execution_count": null,
   "metadata": {},
   "outputs": [],
   "source": []
  }
 ],
 "metadata": {
  "kernelspec": {
   "display_name": "lang",
   "language": "python",
   "name": "python3"
  },
  "language_info": {
   "codemirror_mode": {
    "name": "ipython",
    "version": 3
   },
   "file_extension": ".py",
   "mimetype": "text/x-python",
   "name": "python",
   "nbconvert_exporter": "python",
   "pygments_lexer": "ipython3",
   "version": "3.13.2"
  }
 },
 "nbformat": 4,
 "nbformat_minor": 2
}
