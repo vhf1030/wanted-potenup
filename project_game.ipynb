{
 "cells": [
  {
   "cell_type": "markdown",
   "metadata": {
    "vscode": {
     "languageId": "plaintext"
    }
   },
   "source": [
    "### 연령에 따른 유저 이탈 현상분석을 기반으로 한 이후 차기작 게임 개발 방향성 제안\n",
    "- 분석 결과의 대상자: 어린 연령층의 유저가 많은 게임을 보유하고 있는 게임사"
   ]
  },
  {
   "cell_type": "code",
   "execution_count": null,
   "metadata": {},
   "outputs": [],
   "source": [
    "\n",
    "\n"
   ]
  }
 ],
 "metadata": {
  "language_info": {
   "name": "python"
  }
 },
 "nbformat": 4,
 "nbformat_minor": 2
}
