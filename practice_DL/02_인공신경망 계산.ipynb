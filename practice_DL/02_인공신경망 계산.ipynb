{
 "cells": [
  {
   "cell_type": "markdown",
   "metadata": {},
   "source": [
    "### 인공신경망 직접 계산해보기"
   ]
  },
  {
   "cell_type": "code",
   "execution_count": 6,
   "metadata": {},
   "outputs": [],
   "source": [
    "x1, x2, y = 0.5, 0.3, 1\n",
    "w1, w2, w3, w4, w5, w6 = 0.7, 0.3, 0.4, 0.6, 0.55, 0.45  # 초기 가중치"
   ]
  },
  {
   "cell_type": "code",
   "execution_count": 8,
   "metadata": {},
   "outputs": [
    {
     "name": "stdout",
     "output_type": "stream",
     "text": [
      "0.47 0.32999999999999996 0.6153837563911821 0.5817593768418363\n",
      "0.6002527855939765 0.6457141374562685\n"
     ]
    }
   ],
   "source": [
    "# 순전파 계산\n",
    "import numpy as np\n",
    "\n",
    "def sigmoid(x):\n",
    "    return 1 / (1 + np.exp(-x))\n",
    "\n",
    "z1 = x1 * w1 + x2 * w3\n",
    "z2 = x1 * w2 + x2 * w4\n",
    "h1, h2 = sigmoid(z1), sigmoid(z2)\n",
    "print(z1, z2, h1, h2)\n",
    "\n",
    "z3 = h1 * w5 + h2 * w6\n",
    "o1 = sigmoid(z3)\n",
    "print(z3, o1)\n",
    "    "
   ]
  },
  {
   "cell_type": "code",
   "execution_count": 18,
   "metadata": {},
   "outputs": [
    {
     "name": "stdout",
     "output_type": "stream",
     "text": [
      "0.1255184723983558\n"
     ]
    }
   ],
   "source": [
    "# 손실함수(MSE)\n",
    "def loss_function(y_list, yhat_list):\n",
    "    return sum([(y - yhat) ** 2 for y, yhat in zip(y_list, yhat_list)]) / len(y_list)\n",
    "\n",
    "loss = loss_function([y], [o1])\n",
    "print(loss)"
   ]
  },
  {
   "cell_type": "code",
   "execution_count": 17,
   "metadata": {},
   "outputs": [
    {
     "name": "stdout",
     "output_type": "stream",
     "text": [
      "-0.708571725087463\n"
     ]
    }
   ],
   "source": [
    "# 역전파 계산\n",
    "lr = 0.1  # learning rate\n",
    "\n",
    "# 활성화 함수의 미분\n",
    "def partial_sigmoid(x):\n",
    "    return sigmoid(x) * (1 - sigmoid(x))\n",
    "\n",
    "# 손실함수의 미분\n",
    "def partial_loss(y, yhat, n):\n",
    "    return -2 * (y - yhat) / n\n",
    "\n",
    "# 가중치 w5의 미분값 구하는 과정\n",
    "pL_po1 = partial_loss(y, o1)  # 손실함수 미분값\n",
    "print(pL_po1)\n",
    "# po1_pz3 = partial_sigmoid\n",
    "\n",
    "\n",
    "# w5_new = w5 - lr * partial_sigmoid(w5)\n",
    "# print(w5_new)\n",
    "\n",
    "\n"
   ]
  },
  {
   "cell_type": "code",
   "execution_count": 14,
   "metadata": {},
   "outputs": [
    {
     "data": {
      "text/plain": [
       "np.float64(0.23200764322418319)"
      ]
     },
     "execution_count": 14,
     "metadata": {},
     "output_type": "execute_result"
    }
   ],
   "source": []
  }
 ],
 "metadata": {
  "kernelspec": {
   "display_name": "ml",
   "language": "python",
   "name": "python3"
  },
  "language_info": {
   "codemirror_mode": {
    "name": "ipython",
    "version": 3
   },
   "file_extension": ".py",
   "mimetype": "text/x-python",
   "name": "python",
   "nbconvert_exporter": "python",
   "pygments_lexer": "ipython3",
   "version": "3.12.8"
  }
 },
 "nbformat": 4,
 "nbformat_minor": 2
}
