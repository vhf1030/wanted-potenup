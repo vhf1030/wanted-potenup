{
 "cells": [
  {
   "cell_type": "code",
   "execution_count": 6,
   "metadata": {},
   "outputs": [
    {
     "name": "stdout",
     "output_type": "stream",
     "text": [
      "3\n"
     ]
    }
   ],
   "source": [
    "from langchain.text_splitter import CharacterTextSplitter\n",
    "\n",
    "text = \"\"\"\n",
    "SKA 망원경은 영국, 중국, 호주, 독일 등이 지난 2022년부터 오는 2029년까지 2조9000억원을 투자해 호주 머치슨 사막과 남아프리카공화국 카루 지역에 건설중인 망원경이다. 기존 전파망원경보다 해상도, 관측속도, 감도 등이 뛰어난 성능으로 우주 초기의 희미한 전파 신호까지 관측할 수 있다. 우주의 기원, 외계 생명체 탐색 등 우주에 대한 근본적인 질문 등에 답할 수 있을 것으로 기대된다.\n",
    "우주항공청은 국내 산업체 참여와 SKA 데이터 우선 확보 등을 위해 최종 정회원 자격 획득을 목표로 하고 있다. 이번 공식 참여 의사 표명을 계기로 국내외 절차를 진행할 계획이다.\n",
    "강경인 우주항공청 우주과학탐사부문장은 “우주항공청은 이번 참여를 통해 국내 천문학 연구자들이 세계적인 연구 성과를 창출하고, 우주 강국으로 도약하는 데 이바지할 수 있도록 적극 지원할 것”이라며 “SKA 데이터를 활용한 연구를 통해 우주의 기원, 외계 생명체 탐색 등 현대 천문학 핵심 난제를 해결하는 데 이바지하기를 기대한다”고 말했다.\"\"\"\n",
    "\n",
    "text_splitter = CharacterTextSplitter(\n",
    "    separator='. ',\n",
    "    chunk_size=200,\n",
    "    chunk_overlap=10\n",
    ")\n",
    "\n",
    "chunks = text_splitter.split_text(text)\n",
    "\n",
    "print(len(chunks))\n"
   ]
  },
  {
   "cell_type": "code",
   "execution_count": 5,
   "metadata": {},
   "outputs": [
    {
     "data": {
      "text/plain": [
       "['SKA 망원경은 영국, 중국, 호주, 독일 등이 지난 2022년부터 오는 2029년까지 2조9000억원을 투자해 호주 머치슨 사막과 남아프리카공화국 카루 지역에 건설중인 망원경이다',\n",
       " '기존 전파망원경보다 해상도, 관측속도, 감도 등이 뛰어난 성능으로 우주 초기의 희미한 전파 신호까지 관측할 수 있다',\n",
       " '우주의 기원, 외계 생명체 탐색 등 우주에 대한 근본적인 질문 등에 답할 수 있을 것으로 기대된다.\\n우주항공청은 국내 산업체 참여와 SKA 데이터 우선 확보 등을 위해 최종 정회원 자격 획득을 목표로 하고 있다',\n",
       " '이번 공식 참여 의사 표명을 계기로 국내외 절차를 진행할 계획이다.\\n강경인 우주항공청 우주과학탐사부문장은 “우주항공청은 이번 참여를 통해 국내 천문학 연구자들이 세계적인 연구 성과를 창출하고, 우주 강국으로 도약하는 데 이바지할 수 있도록 적극 지원할 것”이라며 “SKA 데이터를 활용한 연구를 통해 우주의 기원, 외계 생명체 탐색 등 현대 천문학 핵심 난제를 해결하는 데 이바지하기를 기대한다”고 말했다.']"
      ]
     },
     "execution_count": 5,
     "metadata": {},
     "output_type": "execute_result"
    }
   ],
   "source": [
    "chunks"
   ]
  },
  {
   "cell_type": "code",
   "execution_count": null,
   "metadata": {},
   "outputs": [
    {
     "data": {
      "text/plain": [
       "['SKA 망원경은 영국, 중국, 호주, 독일 등이 지난 2022년부터 오는 2029년까지',\n",
       " '2029년까지 2조9000억원을 투자해 호주 머치슨 사막과 남아프리카공화국 카루 지역에',\n",
       " '카루 지역에 건설중인 망원경이다',\n",
       " '. 기존 전파망원경보다 해상도, 관측속도, 감도 등이 뛰어난 성능으로 우주 초기의 희미한',\n",
       " '초기의 희미한 전파 신호까지 관측할 수 있다',\n",
       " '. 우주의 기원, 외계 생명체 탐색 등 우주에 대한 근본적인 질문 등에 답할 수 있을',\n",
       " '답할 수 있을 것으로 기대된다',\n",
       " '.',\n",
       " '우주항공청은 국내 산업체 참여와 SKA 데이터 우선 확보 등을 위해 최종 정회원 자격',\n",
       " '최종 정회원 자격 획득을 목표로 하고 있다',\n",
       " '. 이번 공식 참여 의사 표명을 계기로 국내외 절차를 진행할 계획이다.',\n",
       " '강경인 우주항공청 우주과학탐사부문장은 “우주항공청은 이번 참여를 통해 국내 천문학',\n",
       " '통해 국내 천문학 연구자들이 세계적인 연구 성과를 창출하고, 우주 강국으로 도약하는 데',\n",
       " '도약하는 데 이바지할 수 있도록 적극 지원할 것”이라며 “SKA 데이터를 활용한 연구를',\n",
       " '활용한 연구를 통해 우주의 기원, 외계 생명체 탐색 등 현대 천문학 핵심 난제를 해결하는',\n",
       " '난제를 해결하는 데 이바지하기를 기대한다”고 말했다',\n",
       " '.']"
      ]
     },
     "execution_count": 7,
     "metadata": {},
     "output_type": "execute_result"
    }
   ],
   "source": [
    "from langchain.text_splitter import RecursiveCharacterTextSplitter\n",
    "\n",
    "text = \"\"\"\n",
    "SKA 망원경은 영국, 중국, 호주, 독일 등이 지난 2022년부터 오는 2029년까지 2조9000억원을 투자해 호주 머치슨 사막과 남아프리카공화국 카루 지역에 건설중인 망원경이다. 기존 전파망원경보다 해상도, 관측속도, 감도 등이 뛰어난 성능으로 우주 초기의 희미한 전파 신호까지 관측할 수 있다. 우주의 기원, 외계 생명체 탐색 등 우주에 대한 근본적인 질문 등에 답할 수 있을 것으로 기대된다.\n",
    "우주항공청은 국내 산업체 참여와 SKA 데이터 우선 확보 등을 위해 최종 정회원 자격 획득을 목표로 하고 있다. 이번 공식 참여 의사 표명을 계기로 국내외 절차를 진행할 계획이다.\n",
    "강경인 우주항공청 우주과학탐사부문장은 “우주항공청은 이번 참여를 통해 국내 천문학 연구자들이 세계적인 연구 성과를 창출하고, 우주 강국으로 도약하는 데 이바지할 수 있도록 적극 지원할 것”이라며 “SKA 데이터를 활용한 연구를 통해 우주의 기원, 외계 생명체 탐색 등 현대 천문학 핵심 난제를 해결하는 데 이바지하기를 기대한다”고 말했다.\"\"\"\n",
    "\n",
    "\n",
    "text_splitter = RecursiveCharacterTextSplitter(\n",
    "    chunk_size = 50,\n",
    "    chunk_overlap=10,\n",
    "    separators=['\\n\\n','\\n','.',' ']\n",
    ")\n",
    "\n",
    "chunks = text_splitter.split_text(text)\n",
    "\n",
    "chunks"
   ]
  },
  {
   "cell_type": "code",
   "execution_count": null,
   "metadata": {},
   "outputs": [],
   "source": []
  }
 ],
 "metadata": {
  "kernelspec": {
   "display_name": "lang",
   "language": "python",
   "name": "python3"
  },
  "language_info": {
   "codemirror_mode": {
    "name": "ipython",
    "version": 3
   },
   "file_extension": ".py",
   "mimetype": "text/x-python",
   "name": "python",
   "nbconvert_exporter": "python",
   "pygments_lexer": "ipython3",
   "version": "3.12.8"
  }
 },
 "nbformat": 4,
 "nbformat_minor": 2
}
