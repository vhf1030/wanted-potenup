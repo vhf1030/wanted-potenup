{
 "cells": [
  {
   "cell_type": "code",
   "execution_count": 7,
   "metadata": {},
   "outputs": [
    {
     "name": "stdout",
     "output_type": "stream",
     "text": [
      "deepseek-ai/DeepSeek-R1\n",
      "deepseek-ai/Janus-Pro-7B\n",
      "deepseek-ai/DeepSeek-V3\n",
      "unsloth/DeepSeek-R1-GGUF\n",
      "deepseek-ai/DeepSeek-R1-Distill-Qwen-32B\n",
      "deepseek-ai/DeepSeek-R1-Distill-Qwen-1.5B\n",
      "deepseek-ai/DeepSeek-R1-Distill-Llama-8B\n",
      "deepseek-ai/deepseek-vl2\n",
      "deepseek-ai/DeepSeek-R1-Zero\n",
      "deepseek-ai/DeepSeek-R1-Distill-Qwen-7B\n"
     ]
    }
   ],
   "source": [
    "from huggingface_hub import HfApi\n",
    "\n",
    "# API 인스턴스 생성\n",
    "api = HfApi()\n",
    "\n",
    "# 모델 검색 (예: 'deepseek' 관련 모델 찾기)\n",
    "models = api.list_models(search=\"deepseek\", limit=10)\n",
    "\n",
    "# 결과 출력\n",
    "for model in models:\n",
    "    print(model.modelId)"
   ]
  },
  {
   "cell_type": "code",
   "execution_count": 17,
   "metadata": {},
   "outputs": [],
   "source": [
    "from transformers import AutoModelForCausalLM, AutoTokenizer\n",
    "import torch\n",
    "\n",
    "# 모델과 토크나이저 로드\n",
    "# # model_name = \"deepseek-ai/deepseek-llm-7b-base\"\n",
    "# model_name = \"deepseek-ai/DeepSeek-R1-Distill-Qwen-1.5B\"\n",
    "# tokenizer = AutoTokenizer.from_pretrained(model_name)\n",
    "# model = AutoModelForCausalLM.from_pretrained(model_name)\n",
    "\n",
    "\n",
    "# 모델 다운로드\n",
    "# $ huggingface-cli download deepseek-ai/DeepSeek-R1-Distill-Qwen-1.5B --local-dir ./models/DeepSeek-R1-Distill-Qwen-1.5B\n",
    "\n",
    "# 로컬 모델 경로 지정\n",
    "local_model_path = \"../models/\"\n",
    "model_name = \"DeepSeek-R1-Distill-Qwen-1.5B\"\n",
    "\n",
    "# 로컬에서 토크나이저와 모델 로드\n",
    "tokenizer = AutoTokenizer.from_pretrained(local_model_path + model_name)\n",
    "model = AutoModelForCausalLM.from_pretrained(local_model_path + model_name)\n",
    "\n"
   ]
  },
  {
   "cell_type": "code",
   "execution_count": 18,
   "metadata": {},
   "outputs": [
    {
     "name": "stdout",
     "output_type": "stream",
     "text": [
      "사용 중인 디바이스: cuda\n"
     ]
    }
   ],
   "source": [
    "# GPU 사용 가능 여부 확인\n",
    "device = torch.device(\"cuda\" if torch.cuda.is_available() else \"cpu\")\n",
    "print(f\"사용 중인 디바이스: {device}\")\n",
    "\n",
    "# 모델을 GPU로 이동\n",
    "model = model.to(device)"
   ]
  },
  {
   "cell_type": "code",
   "execution_count": 19,
   "metadata": {},
   "outputs": [
    {
     "name": "stderr",
     "output_type": "stream",
     "text": [
      "The attention mask and the pad token id were not set. As a consequence, you may observe unexpected behavior. Please pass your input's `attention_mask` to obtain reliable results.\n",
      "Setting `pad_token_id` to `eos_token_id`:151643 for open-end generation.\n"
     ]
    },
    {
     "name": "stdout",
     "output_type": "stream",
     "text": [
      "Today's weather is going to be tricky. You have a weather app that you need to check. You have a weather app that you need to check. You have a weather app that you need to check. You have a weather app that you\n"
     ]
    }
   ],
   "source": [
    "# 입력 텍스트 준비\n",
    "prompt = \"Today's weather is\"\n",
    "inputs = tokenizer(prompt, return_tensors=\"pt\").to(device)  # 입력 데이터도 GPU로 이동\n",
    "\n",
    "# 모델을 이용한 텍스트 생성\n",
    "with torch.no_grad():\n",
    "    outputs = model.generate(\n",
    "        input_ids=inputs[\"input_ids\"],\n",
    "        max_length=50,  # 생성할 최대 토큰 길이\n",
    "        num_return_sequences=1,  # 생성할 문장 수\n",
    "        do_sample=True,  # 샘플링 여부\n",
    "        top_p=0.95,  # nucleus sampling\n",
    "        top_k=50     # top-k 샘플링\n",
    "    )\n",
    "\n",
    "# 결과 디코딩 및 출력\n",
    "result = tokenizer.decode(outputs[0], skip_special_tokens=True)\n",
    "print(result)"
   ]
  },
  {
   "cell_type": "code",
   "execution_count": 11,
   "metadata": {},
   "outputs": [
    {
     "data": {
      "text/plain": [
       "\"Today's weather is unpredictable. You are given a two-dimensional array of integers representing the weather data for each day. Each element in the array is either 0, 1, or 2. You are given a target sum S. You\""
      ]
     },
     "execution_count": 11,
     "metadata": {},
     "output_type": "execute_result"
    }
   ],
   "source": [
    "tokenizer.decode(outputs[0], skip_special_tokens=True)"
   ]
  }
 ],
 "metadata": {
  "kernelspec": {
   "display_name": "deeplearning",
   "language": "python",
   "name": "python3"
  },
  "language_info": {
   "codemirror_mode": {
    "name": "ipython",
    "version": 3
   },
   "file_extension": ".py",
   "mimetype": "text/x-python",
   "name": "python",
   "nbconvert_exporter": "python",
   "pygments_lexer": "ipython3",
   "version": "3.11.11"
  }
 },
 "nbformat": 4,
 "nbformat_minor": 2
}
