{
 "cells": [
  {
   "cell_type": "markdown",
   "metadata": {},
   "source": [
    "# 판다스(Pandas)"
   ]
  },
  {
   "cell_type": "markdown",
   "metadata": {},
   "source": [
    "# 1. 판다스 불러오기"
   ]
  },
  {
   "cell_type": "code",
   "execution_count": 2,
   "metadata": {},
   "outputs": [
    {
     "name": "stdout",
     "output_type": "stream",
     "text": [
      "2.2.3\n",
      "2.1.3\n"
     ]
    }
   ],
   "source": [
    "import pandas as pd\n",
    "import numpy as np\n",
    "\n",
    "print(pd.__version__)\n",
    "print(np.__version__)"
   ]
  },
  {
   "cell_type": "markdown",
   "metadata": {},
   "source": [
    "# 2. 데이터프레임(DataFrame)"
   ]
  },
  {
   "cell_type": "markdown",
   "metadata": {},
   "source": [
    "## 1) 생성"
   ]
  },
  {
   "cell_type": "markdown",
   "metadata": {},
   "source": [
    "<table>\n",
    "    <thead>\n",
    "        <tr>\n",
    "            <th>이름</th><th>성별</th><th>나이</th><th>키</th>\n",
    "        </tr>\n",
    "    </thead>\n",
    "    <tbody>\n",
    "        <tr><td>김영철</td><th>M</th><td>24</td><td>179.4</td></tr>\n",
    "        <tr><td>송윤지</td><th>F</th><td>31</td><td>161.0</td></tr>\n",
    "        <tr><td>임수현</td><th>F</th><td>26</td><td>174</td></tr>\n",
    "    </tbody>\n",
    "</table>"
   ]
  },
  {
   "cell_type": "code",
   "execution_count": 2,
   "metadata": {},
   "outputs": [
    {
     "name": "stdout",
     "output_type": "stream",
     "text": [
      "[['김영철', 'M', 24, 179.4], ['송윤지', 'F', 31, 161.0], ['임수현', 'F', 26, 174]]\n"
     ]
    }
   ],
   "source": [
    "# 표를 리스트로 만들기\n",
    "data_list = [\n",
    "    ['김영철', 'M', 24, 179.4],\n",
    "    ['송윤지', 'F', 31, 161.0],\n",
    "    ['임수현', 'F', 26, 174]\n",
    "]\n",
    "print(data_list)"
   ]
  },
  {
   "cell_type": "code",
   "execution_count": 42,
   "metadata": {},
   "outputs": [
    {
     "name": "stdout",
     "output_type": "stream",
     "text": [
      "     0  1   2      3\n",
      "0  김영철  M  24  179.4\n",
      "1  송윤지  F  31  161.0\n",
      "2  임수현  F  26  174.0\n"
     ]
    }
   ],
   "source": [
    "# 리스트로 데이터프레임 생성\n",
    "data1 = pd.DataFrame(data_list)\n",
    "print(data1)"
   ]
  },
  {
   "cell_type": "code",
   "execution_count": null,
   "metadata": {},
   "outputs": [
    {
     "name": "stdout",
     "output_type": "stream",
     "text": [
      "    이름 성별  나이      키\n",
      "0  김영철  M  24  179.4\n",
      "1  송윤지  F  31  161.0\n",
      "2  임수현  F  26  174.0\n"
     ]
    }
   ],
   "source": [
    "# 표를 딕셔너리로 만들기\n",
    "data_dict = {\n",
    "    '이름': ['김영철', '송윤지', '임수현'],\n",
    "    '성별': ['M', 'F', 'F'],\n",
    "    '나이': [24, 31, 26],\n",
    "    '키': [179.4, 161.0, 174]\n",
    "}\n"
   ]
  },
  {
   "cell_type": "code",
   "execution_count": null,
   "metadata": {},
   "outputs": [],
   "source": [
    "# 딕셔너리로 데이터프레임 생성\n",
    "data2 = pd.DataFrame(data_dict)\n",
    "print(data2)"
   ]
  },
  {
   "cell_type": "code",
   "execution_count": 43,
   "metadata": {},
   "outputs": [
    {
     "name": "stdout",
     "output_type": "stream",
     "text": [
      "     0  1   2      3\n",
      "0  김영철  M  24  179.4\n",
      "1  송윤지  F  31  161.0\n",
      "2  임수현  F  26  174.0\n",
      "    이름 성별  나이      키\n",
      "0  김영철  M  24  179.4\n",
      "1  송윤지  F  31  161.0\n",
      "2  임수현  F  26  174.0\n"
     ]
    }
   ],
   "source": [
    "# 리스트로 만든 데이터프레임에 컬럼 명 추가하기\n",
    "print(data1)\n",
    "data1.columns = ['이름', '성별', '나이', '키']\n",
    "print(data1)"
   ]
  },
  {
   "cell_type": "code",
   "execution_count": null,
   "metadata": {},
   "outputs": [],
   "source": [
    "# 데이터프레임 모든 정보를 담아 한번에 생성하기"
   ]
  },
  {
   "cell_type": "code",
   "execution_count": 109,
   "metadata": {},
   "outputs": [
    {
     "name": "stdout",
     "output_type": "stream",
     "text": [
      "{'이름': ['김영철', '송윤지', '임수현'], '성별': ['M', 'F', 'F'], '나이': [24, 31, 26], '키': [179.4, 161.0, 174]}\n",
      "    이름 성별  나이      키\n",
      "0  김영철  M  24  179.4\n",
      "1  송윤지  F  31  161.0\n",
      "2  임수현  F  26  174.0\n",
      "   index   이름 성별  나이      키\n",
      "0      0  김영철  M  24  179.4\n",
      "1      1  송윤지  F  31  161.0\n",
      "2      2  임수현  F  26  174.0\n",
      "        이름 성별  나이      키\n",
      "index                   \n",
      "0      김영철  M  24  179.4\n",
      "1      송윤지  F  31  161.0\n",
      "2      임수현  F  26  174.0\n",
      "    성별  나이      키\n",
      "이름               \n",
      "김영철  M  24  179.4\n",
      "송윤지  F  31  161.0\n",
      "임수현  F  26  174.0\n"
     ]
    }
   ],
   "source": [
    "print(data_dict)\n",
    "data0 = pd.DataFrame(data_dict)\n",
    "print(data0)\n",
    "\n",
    "# 이름을 인덱스로 바꾸기\n",
    "data1 = data0\n",
    "data1.reset_index(inplace=True)\n",
    "print(data1)\n",
    "\n",
    "data1.set_index('index', inplace=True)\n",
    "print(data1)\n",
    "\n",
    "data1.set_index('이름', inplace=True)\n",
    "print(data1)\n"
   ]
  },
  {
   "cell_type": "code",
   "execution_count": 108,
   "metadata": {},
   "outputs": [
    {
     "name": "stdout",
     "output_type": "stream",
     "text": [
      "   나이   이름 성별      키\n",
      "0  24  김영철  M  179.4\n",
      "1  31  송윤지  F  161.0\n",
      "2  26  임수현  F  174.0\n",
      "   index  나이   이름 성별      키\n",
      "0      0  24  김영철  M  179.4\n",
      "1      1  31  송윤지  F  161.0\n",
      "2      2  26  임수현  F  174.0\n",
      "    index   이름 성별      키\n",
      "나이                      \n",
      "24      0  김영철  M  179.4\n",
      "31      1  송윤지  F  161.0\n",
      "26      2  임수현  F  174.0\n"
     ]
    }
   ],
   "source": [
    "data1 = data0.reset_index()\n",
    "print(data1)\n",
    "\n",
    "data1.reset_index(inplace=True)\n",
    "print(data1)\n",
    "\n",
    "data1.set_index('나이', inplace=True)\n",
    "print(data1)"
   ]
  },
  {
   "cell_type": "code",
   "execution_count": 96,
   "metadata": {},
   "outputs": [
    {
     "name": "stdout",
     "output_type": "stream",
     "text": [
      "Index(['이름', '성별', '키'], dtype='object') Index([24, 31, 26], dtype='int64', name='나이')\n",
      "     이름 성별    키\n",
      "31  홍길동  M  177\n",
      "     이름 성별      키\n",
      "24  김영철  M  179.4\n",
      "31  송윤지  F  161.0\n",
      "26  임수현  F  174.0\n",
      "31  홍길동  M  177.0\n",
      "   index   이름 성별      키\n",
      "0     24  김영철  M  179.4\n",
      "1     31  송윤지  F  161.0\n",
      "2     26  임수현  F  174.0\n",
      "3     31  홍길동  M  177.0\n"
     ]
    }
   ],
   "source": [
    "data3 = pd.DataFrame([['홍길동', 'M', 177]])\n",
    "print(data1.columns, data1.index)\n",
    "data3.columns = data1.columns\n",
    "data3.index = [31]\n",
    "print(data3)\n",
    "\n",
    "data4 = pd.concat([data1, data3])\n",
    "print(data4)\n",
    "\n",
    "data4.reset_index(inplace=True)\n",
    "print(data4)"
   ]
  },
  {
   "cell_type": "markdown",
   "metadata": {},
   "source": [
    "## 2) 조회"
   ]
  },
  {
   "cell_type": "markdown",
   "metadata": {},
   "source": [
    "### (1) 이름으로 조회"
   ]
  },
  {
   "cell_type": "markdown",
   "metadata": {},
   "source": [
    "#### 열 조회"
   ]
  },
  {
   "cell_type": "code",
   "execution_count": 72,
   "metadata": {},
   "outputs": [
    {
     "name": "stdout",
     "output_type": "stream",
     "text": [
      "     이름 성별      키\n",
      "24  김영철  M  179.4\n",
      "31  송윤지  F  161.0\n",
      "26  임수현  F  174.0\n",
      "31  홍길동  M  177.0\n",
      "24    김영철\n",
      "31    송윤지\n",
      "26    임수현\n",
      "31    홍길동\n",
      "Name: 이름, dtype: object\n"
     ]
    }
   ],
   "source": [
    "# 나이 열을 조회\n",
    "print(data4)\n",
    "print(data4['이름'])"
   ]
  },
  {
   "cell_type": "code",
   "execution_count": 77,
   "metadata": {},
   "outputs": [
    {
     "name": "stdout",
     "output_type": "stream",
     "text": [
      "     이름 성별      키\n",
      "24  김영철  M  179.4\n",
      "31  송윤지  F  161.0\n",
      "26  임수현  F  174.0\n",
      "31  홍길동  M  177.0\n",
      "   성별      키\n",
      "24  M  179.4\n",
      "31  F  161.0\n",
      "26  F  174.0\n",
      "31  M  177.0\n"
     ]
    }
   ],
   "source": [
    "# 성별, 키 열 조회\n",
    "print(data4)\n",
    "print(data4[['성별', '키']])"
   ]
  },
  {
   "cell_type": "markdown",
   "metadata": {},
   "source": [
    "#### 행 조회"
   ]
  },
  {
   "cell_type": "code",
   "execution_count": 81,
   "metadata": {},
   "outputs": [
    {
     "name": "stdout",
     "output_type": "stream",
     "text": [
      "     이름 성별      키\n",
      "24  김영철  M  179.4\n",
      "31  송윤지  F  161.0\n",
      "26  임수현  F  174.0\n",
      "31  홍길동  M  177.0\n",
      "이름      송윤지\n",
      "성별        F\n",
      "키     161.0\n",
      "Name: 31, dtype: object\n"
     ]
    }
   ],
   "source": [
    "# 데이터 출력\n",
    "print(data4)\n",
    "print(data4.iloc[1])"
   ]
  },
  {
   "cell_type": "code",
   "execution_count": 85,
   "metadata": {},
   "outputs": [
    {
     "name": "stdout",
     "output_type": "stream",
     "text": [
      "     이름 성별      키\n",
      "24  김영철  M  179.4\n",
      "31  송윤지  F  161.0\n",
      "26  임수현  F  174.0\n",
      "31  홍길동  M  177.0\n",
      "     이름 성별      키\n",
      "31  송윤지  F  161.0\n",
      "31  홍길동  M  177.0\n",
      "    성별      키\n",
      "이름           \n",
      "김영철  M  179.4\n",
      "송윤지  F  161.0\n",
      "임수현  F  174.0\n",
      "홍길동  M  177.0\n",
      "성별        F\n",
      "키     161.0\n",
      "Name: 송윤지, dtype: object\n"
     ]
    }
   ],
   "source": [
    "# 송윤지 행 조회\n",
    "print(data4)\n",
    "print(data4.loc[31])\n",
    "\n",
    "data4.set_index('이름', inplace=True)\n",
    "print(data4)\n",
    "print(data4.loc['송윤지'])"
   ]
  },
  {
   "cell_type": "code",
   "execution_count": null,
   "metadata": {},
   "outputs": [],
   "source": [
    "# 김영철, 임수현 행 조회"
   ]
  },
  {
   "cell_type": "markdown",
   "metadata": {},
   "source": [
    "#### 셀 조회"
   ]
  },
  {
   "cell_type": "code",
   "execution_count": null,
   "metadata": {},
   "outputs": [],
   "source": [
    "# 임수현 학생의 키 조회"
   ]
  },
  {
   "cell_type": "code",
   "execution_count": null,
   "metadata": {},
   "outputs": [],
   "source": [
    "# 송윤지 학생의 성별 조회"
   ]
  },
  {
   "cell_type": "markdown",
   "metadata": {},
   "source": [
    "### (2) 인덱스로 조회"
   ]
  },
  {
   "cell_type": "code",
   "execution_count": null,
   "metadata": {},
   "outputs": [],
   "source": [
    "# 데이터 출력하기"
   ]
  },
  {
   "cell_type": "markdown",
   "metadata": {},
   "source": [
    "#### 열 조회"
   ]
  },
  {
   "cell_type": "code",
   "execution_count": null,
   "metadata": {},
   "outputs": [],
   "source": [
    "# 나이 열을 조회"
   ]
  },
  {
   "cell_type": "code",
   "execution_count": null,
   "metadata": {},
   "outputs": [],
   "source": [
    "# 성별, 키 열 조회"
   ]
  },
  {
   "cell_type": "markdown",
   "metadata": {},
   "source": [
    "#### 행 조회"
   ]
  },
  {
   "cell_type": "code",
   "execution_count": null,
   "metadata": {},
   "outputs": [],
   "source": [
    "# 데이터 출력"
   ]
  },
  {
   "cell_type": "code",
   "execution_count": null,
   "metadata": {},
   "outputs": [],
   "source": [
    "# 송윤지 행 조회"
   ]
  },
  {
   "cell_type": "code",
   "execution_count": null,
   "metadata": {},
   "outputs": [],
   "source": [
    "# 김영철, 임수현 행 조회"
   ]
  },
  {
   "cell_type": "markdown",
   "metadata": {},
   "source": [
    "#### 셀 조회"
   ]
  },
  {
   "cell_type": "code",
   "execution_count": null,
   "metadata": {},
   "outputs": [],
   "source": [
    "# 임수현 학생의 키 조회"
   ]
  },
  {
   "cell_type": "code",
   "execution_count": null,
   "metadata": {},
   "outputs": [],
   "source": [
    "# 송윤지 학생의 성별 조회"
   ]
  },
  {
   "cell_type": "markdown",
   "metadata": {},
   "source": [
    "### (3) 조건부 조회"
   ]
  },
  {
   "cell_type": "code",
   "execution_count": 21,
   "metadata": {},
   "outputs": [
    {
     "name": "stdout",
     "output_type": "stream",
     "text": [
      "나이\n",
      "24     True\n",
      "31    False\n",
      "26    False\n",
      "Name: 성별, dtype: bool\n",
      "     이름  index 성별      키\n",
      "나이                      \n",
      "24  김영철      0  M  179.4\n"
     ]
    }
   ],
   "source": [
    "# 성별이 M인 데이터 조회\n",
    "print(data1['성별'] == 'M')\n",
    "print(data1[data1['성별'] == 'M'])"
   ]
  },
  {
   "cell_type": "code",
   "execution_count": null,
   "metadata": {},
   "outputs": [],
   "source": [
    "# 키가 170이 넘는 사람들 조회"
   ]
  },
  {
   "cell_type": "markdown",
   "metadata": {},
   "source": [
    "## 3) 편집"
   ]
  },
  {
   "cell_type": "markdown",
   "metadata": {},
   "source": [
    "### (1) 인덱스 제거"
   ]
  },
  {
   "cell_type": "code",
   "execution_count": null,
   "metadata": {},
   "outputs": [],
   "source": [
    "# 데이터 출력하기"
   ]
  },
  {
   "cell_type": "code",
   "execution_count": null,
   "metadata": {},
   "outputs": [],
   "source": [
    "# 인덱스 제거"
   ]
  },
  {
   "cell_type": "markdown",
   "metadata": {},
   "source": [
    "### (2) 데이터 병합"
   ]
  },
  {
   "cell_type": "code",
   "execution_count": null,
   "metadata": {},
   "outputs": [],
   "source": []
  },
  {
   "cell_type": "code",
   "execution_count": null,
   "metadata": {},
   "outputs": [],
   "source": []
  },
  {
   "cell_type": "code",
   "execution_count": null,
   "metadata": {},
   "outputs": [],
   "source": [
    "# 연산으로 더해보기"
   ]
  },
  {
   "cell_type": "code",
   "execution_count": null,
   "metadata": {},
   "outputs": [],
   "source": [
    "# 병합"
   ]
  },
  {
   "cell_type": "markdown",
   "metadata": {},
   "source": [
    "### (3) 결측치 처리"
   ]
  },
  {
   "cell_type": "code",
   "execution_count": null,
   "metadata": {},
   "outputs": [],
   "source": [
    "# 전체 정보 조회로 파악하기"
   ]
  },
  {
   "cell_type": "code",
   "execution_count": null,
   "metadata": {},
   "outputs": [],
   "source": [
    "# 조건문으로 판단하기"
   ]
  },
  {
   "cell_type": "code",
   "execution_count": null,
   "metadata": {},
   "outputs": [],
   "source": [
    "# 조건문으로 판단하기"
   ]
  },
  {
   "cell_type": "code",
   "execution_count": null,
   "metadata": {},
   "outputs": [],
   "source": [
    "# 결측치 채우기"
   ]
  },
  {
   "cell_type": "code",
   "execution_count": null,
   "metadata": {},
   "outputs": [],
   "source": [
    "# 결측치 삭제"
   ]
  },
  {
   "cell_type": "code",
   "execution_count": null,
   "metadata": {},
   "outputs": [],
   "source": []
  },
  {
   "cell_type": "markdown",
   "metadata": {},
   "source": [
    "## 4) 통계"
   ]
  },
  {
   "cell_type": "code",
   "execution_count": null,
   "metadata": {},
   "outputs": [],
   "source": []
  },
  {
   "cell_type": "markdown",
   "metadata": {},
   "source": [
    "# 4. 실습"
   ]
  },
  {
   "cell_type": "markdown",
   "metadata": {},
   "source": [
    "## 예제 1. 'cdata.csv'"
   ]
  },
  {
   "cell_type": "markdown",
   "metadata": {},
   "source": [
    "## 예제 2. 'cdata.csv'"
   ]
  },
  {
   "cell_type": "markdown",
   "metadata": {},
   "source": [
    "## 예제 3. 자동차 회사의연비 데이터"
   ]
  },
  {
   "cell_type": "markdown",
   "metadata": {},
   "source": [
    "* manufacturer : 회사명\n",
    "* cty : 도심연비\n",
    "* hwy : 고속도로 연비"
   ]
  },
  {
   "cell_type": "markdown",
   "metadata": {},
   "source": [
    "### 데이터 불러오기"
   ]
  },
  {
   "cell_type": "code",
   "execution_count": 3,
   "metadata": {},
   "outputs": [
    {
     "name": "stdout",
     "output_type": "stream",
     "text": [
      "c:\\wanted\n"
     ]
    },
    {
     "data": {
      "text/html": [
       "<div>\n",
       "<style scoped>\n",
       "    .dataframe tbody tr th:only-of-type {\n",
       "        vertical-align: middle;\n",
       "    }\n",
       "\n",
       "    .dataframe tbody tr th {\n",
       "        vertical-align: top;\n",
       "    }\n",
       "\n",
       "    .dataframe thead th {\n",
       "        text-align: right;\n",
       "    }\n",
       "</style>\n",
       "<table border=\"1\" class=\"dataframe\">\n",
       "  <thead>\n",
       "    <tr style=\"text-align: right;\">\n",
       "      <th></th>\n",
       "      <th>manufacturer</th>\n",
       "      <th>model</th>\n",
       "      <th>displ</th>\n",
       "      <th>year</th>\n",
       "      <th>cyl</th>\n",
       "      <th>trans</th>\n",
       "      <th>drv</th>\n",
       "      <th>cty</th>\n",
       "      <th>hwy</th>\n",
       "      <th>fl</th>\n",
       "      <th>category</th>\n",
       "    </tr>\n",
       "  </thead>\n",
       "  <tbody>\n",
       "    <tr>\n",
       "      <th>0</th>\n",
       "      <td>audi</td>\n",
       "      <td>a4</td>\n",
       "      <td>1.8</td>\n",
       "      <td>1999</td>\n",
       "      <td>4</td>\n",
       "      <td>auto(l5)</td>\n",
       "      <td>f</td>\n",
       "      <td>18</td>\n",
       "      <td>29</td>\n",
       "      <td>p</td>\n",
       "      <td>compact</td>\n",
       "    </tr>\n",
       "    <tr>\n",
       "      <th>1</th>\n",
       "      <td>audi</td>\n",
       "      <td>a4</td>\n",
       "      <td>1.8</td>\n",
       "      <td>1999</td>\n",
       "      <td>4</td>\n",
       "      <td>manual(m5)</td>\n",
       "      <td>f</td>\n",
       "      <td>21</td>\n",
       "      <td>29</td>\n",
       "      <td>p</td>\n",
       "      <td>compact</td>\n",
       "    </tr>\n",
       "    <tr>\n",
       "      <th>2</th>\n",
       "      <td>audi</td>\n",
       "      <td>a4</td>\n",
       "      <td>2.0</td>\n",
       "      <td>2008</td>\n",
       "      <td>4</td>\n",
       "      <td>manual(m6)</td>\n",
       "      <td>f</td>\n",
       "      <td>20</td>\n",
       "      <td>31</td>\n",
       "      <td>p</td>\n",
       "      <td>compact</td>\n",
       "    </tr>\n",
       "    <tr>\n",
       "      <th>3</th>\n",
       "      <td>audi</td>\n",
       "      <td>a4</td>\n",
       "      <td>2.0</td>\n",
       "      <td>2008</td>\n",
       "      <td>4</td>\n",
       "      <td>auto(av)</td>\n",
       "      <td>f</td>\n",
       "      <td>21</td>\n",
       "      <td>30</td>\n",
       "      <td>p</td>\n",
       "      <td>compact</td>\n",
       "    </tr>\n",
       "    <tr>\n",
       "      <th>4</th>\n",
       "      <td>audi</td>\n",
       "      <td>a4</td>\n",
       "      <td>2.8</td>\n",
       "      <td>1999</td>\n",
       "      <td>6</td>\n",
       "      <td>auto(l5)</td>\n",
       "      <td>f</td>\n",
       "      <td>16</td>\n",
       "      <td>26</td>\n",
       "      <td>p</td>\n",
       "      <td>compact</td>\n",
       "    </tr>\n",
       "  </tbody>\n",
       "</table>\n",
       "</div>"
      ],
      "text/plain": [
       "  manufacturer model  displ  year  cyl       trans drv  cty  hwy fl category\n",
       "0         audi    a4    1.8  1999    4    auto(l5)   f   18   29  p  compact\n",
       "1         audi    a4    1.8  1999    4  manual(m5)   f   21   29  p  compact\n",
       "2         audi    a4    2.0  2008    4  manual(m6)   f   20   31  p  compact\n",
       "3         audi    a4    2.0  2008    4    auto(av)   f   21   30  p  compact\n",
       "4         audi    a4    2.8  1999    6    auto(l5)   f   16   26  p  compact"
      ]
     },
     "execution_count": 3,
     "metadata": {},
     "output_type": "execute_result"
    }
   ],
   "source": [
    "import os\n",
    "print(os.getcwd())\n",
    "\n",
    "mpg = pd.read_csv('data/mpg.csv')\n",
    "\n",
    "mpg.head()"
   ]
  },
  {
   "cell_type": "code",
   "execution_count": 4,
   "metadata": {},
   "outputs": [
    {
     "data": {
      "text/html": [
       "<div>\n",
       "<style scoped>\n",
       "    .dataframe tbody tr th:only-of-type {\n",
       "        vertical-align: middle;\n",
       "    }\n",
       "\n",
       "    .dataframe tbody tr th {\n",
       "        vertical-align: top;\n",
       "    }\n",
       "\n",
       "    .dataframe thead th {\n",
       "        text-align: right;\n",
       "    }\n",
       "</style>\n",
       "<table border=\"1\" class=\"dataframe\">\n",
       "  <thead>\n",
       "    <tr style=\"text-align: right;\">\n",
       "      <th></th>\n",
       "      <th>manufacturer</th>\n",
       "      <th>model</th>\n",
       "      <th>displ</th>\n",
       "      <th>year</th>\n",
       "      <th>cyl</th>\n",
       "      <th>trans</th>\n",
       "      <th>drv</th>\n",
       "      <th>cty</th>\n",
       "      <th>hwy</th>\n",
       "      <th>fl</th>\n",
       "      <th>category</th>\n",
       "    </tr>\n",
       "  </thead>\n",
       "  <tbody>\n",
       "    <tr>\n",
       "      <th>229</th>\n",
       "      <td>volkswagen</td>\n",
       "      <td>passat</td>\n",
       "      <td>2.0</td>\n",
       "      <td>2008</td>\n",
       "      <td>4</td>\n",
       "      <td>auto(s6)</td>\n",
       "      <td>f</td>\n",
       "      <td>19</td>\n",
       "      <td>28</td>\n",
       "      <td>p</td>\n",
       "      <td>midsize</td>\n",
       "    </tr>\n",
       "    <tr>\n",
       "      <th>230</th>\n",
       "      <td>volkswagen</td>\n",
       "      <td>passat</td>\n",
       "      <td>2.0</td>\n",
       "      <td>2008</td>\n",
       "      <td>4</td>\n",
       "      <td>manual(m6)</td>\n",
       "      <td>f</td>\n",
       "      <td>21</td>\n",
       "      <td>29</td>\n",
       "      <td>p</td>\n",
       "      <td>midsize</td>\n",
       "    </tr>\n",
       "    <tr>\n",
       "      <th>231</th>\n",
       "      <td>volkswagen</td>\n",
       "      <td>passat</td>\n",
       "      <td>2.8</td>\n",
       "      <td>1999</td>\n",
       "      <td>6</td>\n",
       "      <td>auto(l5)</td>\n",
       "      <td>f</td>\n",
       "      <td>16</td>\n",
       "      <td>26</td>\n",
       "      <td>p</td>\n",
       "      <td>midsize</td>\n",
       "    </tr>\n",
       "    <tr>\n",
       "      <th>232</th>\n",
       "      <td>volkswagen</td>\n",
       "      <td>passat</td>\n",
       "      <td>2.8</td>\n",
       "      <td>1999</td>\n",
       "      <td>6</td>\n",
       "      <td>manual(m5)</td>\n",
       "      <td>f</td>\n",
       "      <td>18</td>\n",
       "      <td>26</td>\n",
       "      <td>p</td>\n",
       "      <td>midsize</td>\n",
       "    </tr>\n",
       "    <tr>\n",
       "      <th>233</th>\n",
       "      <td>volkswagen</td>\n",
       "      <td>passat</td>\n",
       "      <td>3.6</td>\n",
       "      <td>2008</td>\n",
       "      <td>6</td>\n",
       "      <td>auto(s6)</td>\n",
       "      <td>f</td>\n",
       "      <td>17</td>\n",
       "      <td>26</td>\n",
       "      <td>p</td>\n",
       "      <td>midsize</td>\n",
       "    </tr>\n",
       "  </tbody>\n",
       "</table>\n",
       "</div>"
      ],
      "text/plain": [
       "    manufacturer   model  displ  year  cyl       trans drv  cty  hwy fl  \\\n",
       "229   volkswagen  passat    2.0  2008    4    auto(s6)   f   19   28  p   \n",
       "230   volkswagen  passat    2.0  2008    4  manual(m6)   f   21   29  p   \n",
       "231   volkswagen  passat    2.8  1999    6    auto(l5)   f   16   26  p   \n",
       "232   volkswagen  passat    2.8  1999    6  manual(m5)   f   18   26  p   \n",
       "233   volkswagen  passat    3.6  2008    6    auto(s6)   f   17   26  p   \n",
       "\n",
       "    category  \n",
       "229  midsize  \n",
       "230  midsize  \n",
       "231  midsize  \n",
       "232  midsize  \n",
       "233  midsize  "
      ]
     },
     "execution_count": 4,
     "metadata": {},
     "output_type": "execute_result"
    }
   ],
   "source": [
    "mpg.tail()"
   ]
  },
  {
   "cell_type": "markdown",
   "metadata": {},
   "source": [
    "### 데이터 파악하기"
   ]
  },
  {
   "cell_type": "code",
   "execution_count": 6,
   "metadata": {},
   "outputs": [
    {
     "name": "stdout",
     "output_type": "stream",
     "text": [
      "<class 'pandas.core.frame.DataFrame'>\n",
      "RangeIndex: 234 entries, 0 to 233\n",
      "Data columns (total 11 columns):\n",
      " #   Column        Non-Null Count  Dtype  \n",
      "---  ------        --------------  -----  \n",
      " 0   manufacturer  234 non-null    object \n",
      " 1   model         234 non-null    object \n",
      " 2   displ         234 non-null    float64\n",
      " 3   year          234 non-null    int64  \n",
      " 4   cyl           234 non-null    int64  \n",
      " 5   trans         234 non-null    object \n",
      " 6   drv           234 non-null    object \n",
      " 7   cty           234 non-null    int64  \n",
      " 8   hwy           234 non-null    int64  \n",
      " 9   fl            234 non-null    object \n",
      " 10  category      234 non-null    object \n",
      "dtypes: float64(1), int64(4), object(6)\n",
      "memory usage: 20.2+ KB\n",
      "None\n",
      "(234, 11)\n",
      "Index(['manufacturer', 'model', 'displ', 'year', 'cyl', 'trans', 'drv', 'cty',\n",
      "       'hwy', 'fl', 'category'],\n",
      "      dtype='object')\n"
     ]
    }
   ],
   "source": [
    "print(mpg.info())\n",
    "print(mpg.shape)\n",
    "print(mpg.columns)"
   ]
  },
  {
   "cell_type": "code",
   "execution_count": 7,
   "metadata": {},
   "outputs": [
    {
     "data": {
      "text/plain": [
       "manufacturer    0\n",
       "model           0\n",
       "displ           0\n",
       "year            0\n",
       "cyl             0\n",
       "trans           0\n",
       "drv             0\n",
       "cty             0\n",
       "hwy             0\n",
       "fl              0\n",
       "category        0\n",
       "dtype: int64"
      ]
     },
     "execution_count": 7,
     "metadata": {},
     "output_type": "execute_result"
    }
   ],
   "source": [
    "# 결측치 확인\n",
    "mpg.isnull().sum(axis=0)"
   ]
  },
  {
   "cell_type": "code",
   "execution_count": 8,
   "metadata": {},
   "outputs": [
    {
     "name": "stdout",
     "output_type": "stream",
     "text": [
      "  manufacturer model  displ  year  cyl       trans drv  cty  hwy fl category\n",
      "0         audi    a4    1.8  1999    4    auto(l5)   f   18   29  p  compact\n",
      "1         audi    a4    1.8  1999    4  manual(m5)   f   21   29  p  compact\n",
      "2         audi    a4    2.0  2008    4  manual(m6)   f   20   31  p  compact\n",
      "3         audi    a4    2.0  2008    4    auto(av)   f   21   30  p  compact\n",
      "4         audi    a4    2.8  1999    6    auto(l5)   f   16   26  p  compact\n",
      "    manufacturer   model  displ  year  cyl       trans drv  cty  hwy fl  \\\n",
      "229   volkswagen  passat    2.0  2008    4    auto(s6)   f   19   28  p   \n",
      "230   volkswagen  passat    2.0  2008    4  manual(m6)   f   21   29  p   \n",
      "231   volkswagen  passat    2.8  1999    6    auto(l5)   f   16   26  p   \n",
      "232   volkswagen  passat    2.8  1999    6  manual(m5)   f   18   26  p   \n",
      "233   volkswagen  passat    3.6  2008    6    auto(s6)   f   17   26  p   \n",
      "\n",
      "    category  \n",
      "229  midsize  \n",
      "230  midsize  \n",
      "231  midsize  \n",
      "232  midsize  \n",
      "233  midsize  \n"
     ]
    }
   ],
   "source": [
    "# 데이터 요약\n",
    "print(mpg.head())\n",
    "print(mpg.tail())"
   ]
  },
  {
   "cell_type": "code",
   "execution_count": 5,
   "metadata": {},
   "outputs": [
    {
     "name": "stdout",
     "output_type": "stream",
     "text": [
      "\n",
      "             displ         year         cyl         cty         hwy\n",
      "count  234.000000   234.000000  234.000000  234.000000  234.000000\n",
      "mean     3.471795  2003.500000    5.888889   16.858974   23.440171\n",
      "std      1.291959     4.509646    1.611534    4.255946    5.954643\n",
      "min      1.600000  1999.000000    4.000000    9.000000   12.000000\n",
      "25%      2.400000  1999.000000    4.000000   14.000000   18.000000\n",
      "50%      3.300000  2003.500000    6.000000   17.000000   24.000000\n",
      "75%      4.600000  2008.000000    8.000000   19.000000   27.000000\n",
      "max      7.000000  2008.000000    8.000000   35.000000   44.000000\n",
      "\n",
      "        manufacturer        model     trans  drv   fl category\n",
      "count           234          234       234  234  234      234\n",
      "unique           15           38        10    3    5        7\n",
      "top           dodge  caravan 2wd  auto(l4)    f    r      suv\n",
      "freq             37           11        83  106  168       62\n"
     ]
    }
   ],
   "source": [
    "print('\\n', mpg.describe())\n",
    "print('\\n', mpg.describe(include='object'))"
   ]
  },
  {
   "cell_type": "markdown",
   "metadata": {},
   "source": [
    "### Q1. 몇 개의 회사 데이터가 있나요?"
   ]
  },
  {
   "cell_type": "code",
   "execution_count": 6,
   "metadata": {},
   "outputs": [
    {
     "name": "stdout",
     "output_type": "stream",
     "text": [
      "['audi' 'chevrolet' 'dodge' 'ford' 'honda' 'hyundai' 'jeep' 'land rover'\n",
      " 'lincoln' 'mercury' 'nissan' 'pontiac' 'subaru' 'toyota' 'volkswagen']\n",
      "15\n",
      "15\n"
     ]
    }
   ],
   "source": [
    "uniq_manufacturer = mpg['manufacturer'].unique()\n",
    "print(uniq_manufacturer)\n",
    "print(len(uniq_manufacturer))\n",
    "print(mpg['manufacturer'].nunique())"
   ]
  },
  {
   "cell_type": "code",
   "execution_count": 11,
   "metadata": {},
   "outputs": [
    {
     "name": "stdout",
     "output_type": "stream",
     "text": [
      "manufacturer\n",
      "dodge         37\n",
      "toyota        34\n",
      "volkswagen    27\n",
      "ford          25\n",
      "chevrolet     19\n",
      "audi          18\n",
      "hyundai       14\n",
      "subaru        14\n",
      "nissan        13\n",
      "honda          9\n",
      "jeep           8\n",
      "pontiac        5\n",
      "land rover     4\n",
      "mercury        4\n",
      "lincoln        3\n",
      "Name: count, dtype: int64 <class 'pandas.core.series.Series'>\n",
      "Index(['dodge', 'toyota', 'volkswagen', 'ford', 'chevrolet', 'audi', 'hyundai',\n",
      "       'subaru', 'nissan', 'honda'],\n",
      "      dtype='object', name='manufacturer')\n"
     ]
    }
   ],
   "source": [
    "print(mpg.value_counts('manufacturer'), type(mpg.value_counts('manufacturer')))\n",
    "print(mpg.value_counts('manufacturer')[:10].index)"
   ]
  },
  {
   "cell_type": "markdown",
   "metadata": {},
   "source": [
    "### Q2. 회사별로 참여한 자동차가 몇 대인지 파악하세요."
   ]
  },
  {
   "cell_type": "code",
   "execution_count": 7,
   "metadata": {},
   "outputs": [
    {
     "name": "stdout",
     "output_type": "stream",
     "text": [
      "manufacturer\n",
      "audi          18\n",
      "chevrolet     19\n",
      "dodge         37\n",
      "ford          25\n",
      "honda          9\n",
      "hyundai       14\n",
      "jeep           8\n",
      "land rover     4\n",
      "lincoln        3\n",
      "mercury        4\n",
      "nissan        13\n",
      "pontiac        5\n",
      "subaru        14\n",
      "toyota        34\n",
      "volkswagen    27\n",
      "Name: model, dtype: int64\n",
      "manufacturer\n",
      "dodge         37\n",
      "toyota        34\n",
      "volkswagen    27\n",
      "ford          25\n",
      "chevrolet     19\n",
      "audi          18\n",
      "hyundai       14\n",
      "subaru        14\n",
      "nissan        13\n",
      "honda          9\n",
      "jeep           8\n",
      "pontiac        5\n",
      "land rover     4\n",
      "mercury        4\n",
      "lincoln        3\n",
      "Name: count, dtype: int64\n"
     ]
    }
   ],
   "source": [
    "print(mpg.groupby(['manufacturer']).count()['model'])\n",
    "print(mpg.value_counts('manufacturer'))"
   ]
  },
  {
   "cell_type": "markdown",
   "metadata": {},
   "source": [
    "### Q3. 도심연비와 고속도로 연비를 평균낸 total 연비를 구하세요"
   ]
  },
  {
   "cell_type": "code",
   "execution_count": 8,
   "metadata": {},
   "outputs": [
    {
     "name": "stdout",
     "output_type": "stream",
     "text": [
      "      model  cty  hwy\n",
      "0        a4   18   29\n",
      "1        a4   21   29\n",
      "2        a4   20   31\n",
      "3        a4   21   30\n",
      "4        a4   16   26\n",
      "..      ...  ...  ...\n",
      "229  passat   19   28\n",
      "230  passat   21   29\n",
      "231  passat   16   26\n",
      "232  passat   18   26\n",
      "233  passat   17   26\n",
      "\n",
      "[234 rows x 3 columns]\n",
      "<class 'pandas.core.series.Series'> 0      23.5\n",
      "1      25.0\n",
      "2      25.5\n",
      "3      25.5\n",
      "4      21.0\n",
      "       ... \n",
      "229    23.5\n",
      "230    25.0\n",
      "231    21.0\n",
      "232    22.0\n",
      "233    21.5\n",
      "Name: fe_mean, Length: 234, dtype: float64\n",
      "  manufacturer model  displ  year  cyl       trans drv  cty  hwy fl category  \\\n",
      "0         audi    a4    1.8  1999    4    auto(l5)   f   18   29  p  compact   \n",
      "1         audi    a4    1.8  1999    4  manual(m5)   f   21   29  p  compact   \n",
      "2         audi    a4    2.0  2008    4  manual(m6)   f   20   31  p  compact   \n",
      "3         audi    a4    2.0  2008    4    auto(av)   f   21   30  p  compact   \n",
      "4         audi    a4    2.8  1999    6    auto(l5)   f   16   26  p  compact   \n",
      "\n",
      "   fe_mean  \n",
      "0     23.5  \n",
      "1     25.0  \n",
      "2     25.5  \n",
      "3     25.5  \n",
      "4     21.0  \n"
     ]
    }
   ],
   "source": [
    "print(mpg[['model', 'cty', 'hwy']])\n",
    "fe_mean = mpg[['cty', 'hwy']].mean(axis=1)\n",
    "fe_mean.name = 'fe_mean'\n",
    "print(type(fe_mean), fe_mean)\n",
    "mpg_new = pd.concat([mpg, fe_mean], axis=1)\n",
    "print(mpg_new.head())"
   ]
  },
  {
   "cell_type": "markdown",
   "metadata": {},
   "source": [
    "### Q4. total 연비 상위 10개 회사의 회사별 개수를 구하세요"
   ]
  },
  {
   "cell_type": "code",
   "execution_count": 9,
   "metadata": {},
   "outputs": [
    {
     "name": "stdout",
     "output_type": "stream",
     "text": [
      "    manufacturer       model  displ  year  cyl       trans drv  cty  hwy fl  \\\n",
      "221   volkswagen  new beetle    1.9  1999    4  manual(m5)   f   35   44  d   \n",
      "212   volkswagen       jetta    1.9  1999    4  manual(m5)   f   33   44  d   \n",
      "222   volkswagen  new beetle    1.9  1999    4    auto(l4)   f   29   41  d   \n",
      "196       toyota     corolla    1.8  2008    4  manual(m5)   f   28   37  r   \n",
      "197       toyota     corolla    1.8  2008    4    auto(l4)   f   26   35  r   \n",
      "195       toyota     corolla    1.8  1999    4  manual(m5)   f   26   35  r   \n",
      "99         honda       civic    1.6  1999    4  manual(m5)   f   28   33  r   \n",
      "105        honda       civic    1.8  2008    4    auto(l5)   f   25   36  r   \n",
      "104        honda       civic    1.8  2008    4  manual(m5)   f   26   34  r   \n",
      "106        honda       civic    1.8  2008    4    auto(l5)   f   24   36  c   \n",
      "\n",
      "       category  fe_mean  \n",
      "221  subcompact     39.5  \n",
      "212     compact     38.5  \n",
      "222  subcompact     35.0  \n",
      "196     compact     32.5  \n",
      "197     compact     30.5  \n",
      "195     compact     30.5  \n",
      "99   subcompact     30.5  \n",
      "105  subcompact     30.5  \n",
      "104  subcompact     30.0  \n",
      "106  subcompact     30.0  \n",
      "manufacturer\n",
      "honda         4\n",
      "toyota        3\n",
      "volkswagen    3\n",
      "Name: count, dtype: int64\n"
     ]
    }
   ],
   "source": [
    "data_fe_top10 = mpg_new.sort_values('fe_mean', ascending=False).head(10)\n",
    "print(data_fe_top10)\n",
    "print(data_fe_top10.value_counts('manufacturer'))"
   ]
  },
  {
   "cell_type": "code",
   "execution_count": 10,
   "metadata": {},
   "outputs": [
    {
     "name": "stdout",
     "output_type": "stream",
     "text": [
      "  manufacturer model  displ  year  cyl       trans drv  cty  hwy fl category  \\\n",
      "0         audi    a4    1.8  1999    4    auto(l5)   f   18   29  p  compact   \n",
      "1         audi    a4    1.8  1999    4  manual(m5)   f   21   29  p  compact   \n",
      "2         audi    a4    2.0  2008    4  manual(m6)   f   20   31  p  compact   \n",
      "3         audi    a4    2.0  2008    4    auto(av)   f   21   30  p  compact   \n",
      "4         audi    a4    2.8  1999    6    auto(l5)   f   16   26  p  compact   \n",
      "\n",
      "   fe_mean  \n",
      "0     23.5  \n",
      "1     25.0  \n",
      "2     25.5  \n",
      "3     25.5  \n",
      "4     21.0  \n",
      "['honda' 'volkswagen' 'hyundai' 'subaru' 'audi' 'toyota' 'pontiac'\n",
      " 'nissan' 'chevrolet' 'ford']\n",
      "manufacturer\n",
      "audi          18\n",
      "chevrolet     19\n",
      "ford          25\n",
      "honda          9\n",
      "hyundai       14\n",
      "nissan        13\n",
      "pontiac        5\n",
      "subaru        14\n",
      "toyota        34\n",
      "volkswagen    27\n",
      "Name: model, dtype: int64\n"
     ]
    }
   ],
   "source": [
    "print(mpg_new.head())\n",
    "\n",
    "tmp = mpg_new.groupby(['manufacturer']).mean(numeric_only=True).sort_values('fe_mean', ascending=False)\n",
    "# print(tmp[:10])\n",
    "print(tmp[:10].index.values)\n",
    "\n",
    "# mpg_new.loc[mpg_new['manufacturer'].isin(tmp[:10].index)]\n",
    "print(mpg_new.loc[mpg_new['manufacturer'].isin(tmp[:10].index)].groupby(['manufacturer']).count()['model'])"
   ]
  },
  {
   "cell_type": "code",
   "execution_count": 19,
   "metadata": {},
   "outputs": [
    {
     "name": "stdout",
     "output_type": "stream",
     "text": [
      "['honda' 'volkswagen' 'hyundai' 'subaru' 'audi' 'toyota' 'pontiac'\n",
      " 'nissan' 'chevrolet' 'ford']\n",
      "0      True\n",
      "1      True\n",
      "2      True\n",
      "3      True\n",
      "4      True\n",
      "       ... \n",
      "229    True\n",
      "230    True\n",
      "231    True\n",
      "232    True\n",
      "233    True\n",
      "Name: manufacturer, Length: 234, dtype: bool\n",
      "manufacturer\n",
      "toyota        34\n",
      "volkswagen    27\n",
      "ford          25\n",
      "chevrolet     19\n",
      "audi          18\n",
      "hyundai       14\n",
      "subaru        14\n",
      "nissan        13\n",
      "honda          9\n",
      "pontiac        5\n",
      "Name: count, dtype: int64\n"
     ]
    }
   ],
   "source": [
    "tmp = mpg_new.groupby(['manufacturer']).mean(numeric_only=True).sort_values('fe_mean', ascending=False)\n",
    "# print(tmp[:10])\n",
    "print(tmp[:10].index.values)\n",
    "cond = mpg_new['manufacturer'].isin(tmp[:10].index.values)\n",
    "print(cond)\n",
    "\n",
    "print(mpg_new[cond].value_counts('manufacturer'))\n"
   ]
  },
  {
   "cell_type": "markdown",
   "metadata": {},
   "source": [
    "### +Quiz. 현대자동차의 평균 total 연비에 대한 평균값은?"
   ]
  },
  {
   "cell_type": "code",
   "execution_count": 12,
   "metadata": {},
   "outputs": [
    {
     "name": "stdout",
     "output_type": "stream",
     "text": [
      "0            audi\n",
      "1            audi\n",
      "2            audi\n",
      "3            audi\n",
      "4            audi\n",
      "          ...    \n",
      "229    volkswagen\n",
      "230    volkswagen\n",
      "231    volkswagen\n",
      "232    volkswagen\n",
      "233    volkswagen\n",
      "Name: manufacturer, Length: 234, dtype: object\n",
      "22.75\n"
     ]
    }
   ],
   "source": [
    "print(mpg_new.loc[:, 'manufacturer'])\n",
    "\n",
    "total_fe_mean = mpg_new.loc[mpg_new['manufacturer'] == 'hyundai', 'fe_mean'].mean()\n",
    "print(total_fe_mean)"
   ]
  },
  {
   "cell_type": "markdown",
   "metadata": {},
   "source": [
    "### Q5. 평균 total 연비보다 높은 자동차는 PASS, 낮은 자동차는 FAIL로 구분하세요."
   ]
  },
  {
   "cell_type": "code",
   "execution_count": 14,
   "metadata": {},
   "outputs": [
    {
     "name": "stderr",
     "output_type": "stream",
     "text": [
      "C:\\Users\\user\\AppData\\Local\\Temp\\ipykernel_29600\\1264754593.py:4: FutureWarning: Setting an item of incompatible dtype is deprecated and will raise an error in a future version of pandas. Value 'PASS' has dtype incompatible with bool, please explicitly cast to a compatible dtype first.\n",
      "  mpg_new.loc[mpg_new['ispass'] == True, 'ispass'] = 'PASS'\n"
     ]
    },
    {
     "data": {
      "text/html": [
       "<div>\n",
       "<style scoped>\n",
       "    .dataframe tbody tr th:only-of-type {\n",
       "        vertical-align: middle;\n",
       "    }\n",
       "\n",
       "    .dataframe tbody tr th {\n",
       "        vertical-align: top;\n",
       "    }\n",
       "\n",
       "    .dataframe thead th {\n",
       "        text-align: right;\n",
       "    }\n",
       "</style>\n",
       "<table border=\"1\" class=\"dataframe\">\n",
       "  <thead>\n",
       "    <tr style=\"text-align: right;\">\n",
       "      <th></th>\n",
       "      <th>manufacturer</th>\n",
       "      <th>model</th>\n",
       "      <th>displ</th>\n",
       "      <th>year</th>\n",
       "      <th>cyl</th>\n",
       "      <th>trans</th>\n",
       "      <th>drv</th>\n",
       "      <th>cty</th>\n",
       "      <th>hwy</th>\n",
       "      <th>fl</th>\n",
       "      <th>category</th>\n",
       "      <th>fe_mean</th>\n",
       "      <th>ispass</th>\n",
       "    </tr>\n",
       "  </thead>\n",
       "  <tbody>\n",
       "    <tr>\n",
       "      <th>0</th>\n",
       "      <td>audi</td>\n",
       "      <td>a4</td>\n",
       "      <td>1.8</td>\n",
       "      <td>1999</td>\n",
       "      <td>4</td>\n",
       "      <td>auto(l5)</td>\n",
       "      <td>f</td>\n",
       "      <td>18</td>\n",
       "      <td>29</td>\n",
       "      <td>p</td>\n",
       "      <td>compact</td>\n",
       "      <td>23.5</td>\n",
       "      <td>PASS</td>\n",
       "    </tr>\n",
       "    <tr>\n",
       "      <th>1</th>\n",
       "      <td>audi</td>\n",
       "      <td>a4</td>\n",
       "      <td>1.8</td>\n",
       "      <td>1999</td>\n",
       "      <td>4</td>\n",
       "      <td>manual(m5)</td>\n",
       "      <td>f</td>\n",
       "      <td>21</td>\n",
       "      <td>29</td>\n",
       "      <td>p</td>\n",
       "      <td>compact</td>\n",
       "      <td>25.0</td>\n",
       "      <td>PASS</td>\n",
       "    </tr>\n",
       "    <tr>\n",
       "      <th>2</th>\n",
       "      <td>audi</td>\n",
       "      <td>a4</td>\n",
       "      <td>2.0</td>\n",
       "      <td>2008</td>\n",
       "      <td>4</td>\n",
       "      <td>manual(m6)</td>\n",
       "      <td>f</td>\n",
       "      <td>20</td>\n",
       "      <td>31</td>\n",
       "      <td>p</td>\n",
       "      <td>compact</td>\n",
       "      <td>25.5</td>\n",
       "      <td>PASS</td>\n",
       "    </tr>\n",
       "    <tr>\n",
       "      <th>3</th>\n",
       "      <td>audi</td>\n",
       "      <td>a4</td>\n",
       "      <td>2.0</td>\n",
       "      <td>2008</td>\n",
       "      <td>4</td>\n",
       "      <td>auto(av)</td>\n",
       "      <td>f</td>\n",
       "      <td>21</td>\n",
       "      <td>30</td>\n",
       "      <td>p</td>\n",
       "      <td>compact</td>\n",
       "      <td>25.5</td>\n",
       "      <td>PASS</td>\n",
       "    </tr>\n",
       "    <tr>\n",
       "      <th>4</th>\n",
       "      <td>audi</td>\n",
       "      <td>a4</td>\n",
       "      <td>2.8</td>\n",
       "      <td>1999</td>\n",
       "      <td>6</td>\n",
       "      <td>auto(l5)</td>\n",
       "      <td>f</td>\n",
       "      <td>16</td>\n",
       "      <td>26</td>\n",
       "      <td>p</td>\n",
       "      <td>compact</td>\n",
       "      <td>21.0</td>\n",
       "      <td>FAIL</td>\n",
       "    </tr>\n",
       "  </tbody>\n",
       "</table>\n",
       "</div>"
      ],
      "text/plain": [
       "  manufacturer model  displ  year  cyl       trans drv  cty  hwy fl category  \\\n",
       "0         audi    a4    1.8  1999    4    auto(l5)   f   18   29  p  compact   \n",
       "1         audi    a4    1.8  1999    4  manual(m5)   f   21   29  p  compact   \n",
       "2         audi    a4    2.0  2008    4  manual(m6)   f   20   31  p  compact   \n",
       "3         audi    a4    2.0  2008    4    auto(av)   f   21   30  p  compact   \n",
       "4         audi    a4    2.8  1999    6    auto(l5)   f   16   26  p  compact   \n",
       "\n",
       "   fe_mean ispass  \n",
       "0     23.5   PASS  \n",
       "1     25.0   PASS  \n",
       "2     25.5   PASS  \n",
       "3     25.5   PASS  \n",
       "4     21.0   FAIL  "
      ]
     },
     "execution_count": 14,
     "metadata": {},
     "output_type": "execute_result"
    }
   ],
   "source": [
    "mpg_new['ispass'] = mpg_new['fe_mean'] > total_fe_mean\n",
    "mpg_new.head()\n",
    "\n",
    "mpg_new.loc[mpg_new['ispass'] == True, 'ispass'] = 'PASS'\n",
    "mpg_new.loc[mpg_new['ispass'] == False, 'ispass'] = 'FAIL'\n",
    "mpg_new.head()"
   ]
  },
  {
   "cell_type": "code",
   "execution_count": 15,
   "metadata": {},
   "outputs": [
    {
     "name": "stdout",
     "output_type": "stream",
     "text": [
      "(array([  0,   1,   2,   3,   9,  10,  32,  33,  35,  99, 100, 101, 102,\n",
      "       103, 104, 105, 106, 107, 110, 111, 114, 116, 117, 118, 141, 142,\n",
      "       143, 144, 145, 157, 161, 163, 165, 170, 172, 179, 180, 181, 182,\n",
      "       185, 186, 187, 188, 189, 193, 194, 195, 196, 197, 207, 209, 210,\n",
      "       212, 213, 215, 216, 217, 218, 221, 222, 223, 225, 226, 227, 228,\n",
      "       229, 230]),)\n"
     ]
    },
    {
     "data": {
      "text/html": [
       "<div>\n",
       "<style scoped>\n",
       "    .dataframe tbody tr th:only-of-type {\n",
       "        vertical-align: middle;\n",
       "    }\n",
       "\n",
       "    .dataframe tbody tr th {\n",
       "        vertical-align: top;\n",
       "    }\n",
       "\n",
       "    .dataframe thead th {\n",
       "        text-align: right;\n",
       "    }\n",
       "</style>\n",
       "<table border=\"1\" class=\"dataframe\">\n",
       "  <thead>\n",
       "    <tr style=\"text-align: right;\">\n",
       "      <th></th>\n",
       "      <th>manufacturer</th>\n",
       "      <th>model</th>\n",
       "      <th>displ</th>\n",
       "      <th>year</th>\n",
       "      <th>cyl</th>\n",
       "      <th>trans</th>\n",
       "      <th>drv</th>\n",
       "      <th>cty</th>\n",
       "      <th>hwy</th>\n",
       "      <th>fl</th>\n",
       "      <th>category</th>\n",
       "      <th>fe_mean</th>\n",
       "      <th>ispass</th>\n",
       "    </tr>\n",
       "  </thead>\n",
       "  <tbody>\n",
       "    <tr>\n",
       "      <th>0</th>\n",
       "      <td>audi</td>\n",
       "      <td>a4</td>\n",
       "      <td>1.8</td>\n",
       "      <td>1999</td>\n",
       "      <td>4</td>\n",
       "      <td>auto(l5)</td>\n",
       "      <td>f</td>\n",
       "      <td>18</td>\n",
       "      <td>29</td>\n",
       "      <td>p</td>\n",
       "      <td>compact</td>\n",
       "      <td>23.5</td>\n",
       "      <td>PASS</td>\n",
       "    </tr>\n",
       "    <tr>\n",
       "      <th>1</th>\n",
       "      <td>audi</td>\n",
       "      <td>a4</td>\n",
       "      <td>1.8</td>\n",
       "      <td>1999</td>\n",
       "      <td>4</td>\n",
       "      <td>manual(m5)</td>\n",
       "      <td>f</td>\n",
       "      <td>21</td>\n",
       "      <td>29</td>\n",
       "      <td>p</td>\n",
       "      <td>compact</td>\n",
       "      <td>25.0</td>\n",
       "      <td>PASS</td>\n",
       "    </tr>\n",
       "    <tr>\n",
       "      <th>2</th>\n",
       "      <td>audi</td>\n",
       "      <td>a4</td>\n",
       "      <td>2.0</td>\n",
       "      <td>2008</td>\n",
       "      <td>4</td>\n",
       "      <td>manual(m6)</td>\n",
       "      <td>f</td>\n",
       "      <td>20</td>\n",
       "      <td>31</td>\n",
       "      <td>p</td>\n",
       "      <td>compact</td>\n",
       "      <td>25.5</td>\n",
       "      <td>PASS</td>\n",
       "    </tr>\n",
       "    <tr>\n",
       "      <th>3</th>\n",
       "      <td>audi</td>\n",
       "      <td>a4</td>\n",
       "      <td>2.0</td>\n",
       "      <td>2008</td>\n",
       "      <td>4</td>\n",
       "      <td>auto(av)</td>\n",
       "      <td>f</td>\n",
       "      <td>21</td>\n",
       "      <td>30</td>\n",
       "      <td>p</td>\n",
       "      <td>compact</td>\n",
       "      <td>25.5</td>\n",
       "      <td>PASS</td>\n",
       "    </tr>\n",
       "    <tr>\n",
       "      <th>4</th>\n",
       "      <td>audi</td>\n",
       "      <td>a4</td>\n",
       "      <td>2.8</td>\n",
       "      <td>1999</td>\n",
       "      <td>6</td>\n",
       "      <td>auto(l5)</td>\n",
       "      <td>f</td>\n",
       "      <td>16</td>\n",
       "      <td>26</td>\n",
       "      <td>p</td>\n",
       "      <td>compact</td>\n",
       "      <td>21.0</td>\n",
       "      <td>FAIL</td>\n",
       "    </tr>\n",
       "  </tbody>\n",
       "</table>\n",
       "</div>"
      ],
      "text/plain": [
       "  manufacturer model  displ  year  cyl       trans drv  cty  hwy fl category  \\\n",
       "0         audi    a4    1.8  1999    4    auto(l5)   f   18   29  p  compact   \n",
       "1         audi    a4    1.8  1999    4  manual(m5)   f   21   29  p  compact   \n",
       "2         audi    a4    2.0  2008    4  manual(m6)   f   20   31  p  compact   \n",
       "3         audi    a4    2.0  2008    4    auto(av)   f   21   30  p  compact   \n",
       "4         audi    a4    2.8  1999    6    auto(l5)   f   16   26  p  compact   \n",
       "\n",
       "   fe_mean ispass  \n",
       "0     23.5   PASS  \n",
       "1     25.0   PASS  \n",
       "2     25.5   PASS  \n",
       "3     25.5   PASS  \n",
       "4     21.0   FAIL  "
      ]
     },
     "execution_count": 15,
     "metadata": {},
     "output_type": "execute_result"
    }
   ],
   "source": [
    "mpg_new['ispass'] = mpg_new['fe_mean'] > total_fe_mean\n",
    "mpg_new.head()\n",
    "\n",
    "print(np.where(mpg_new['fe_mean'] > total_fe_mean))\n",
    "mpg_new['ispass'] = np.where(mpg_new['fe_mean'] > total_fe_mean, \"PASS\", \"FAIL\")\n",
    "mpg_new.head()"
   ]
  },
  {
   "cell_type": "markdown",
   "metadata": {},
   "source": [
    "### +Quiz. PASS인 자동차 중 가장 많은 숫자의 자동차 회사는?"
   ]
  },
  {
   "cell_type": "code",
   "execution_count": 16,
   "metadata": {},
   "outputs": [
    {
     "name": "stdout",
     "output_type": "stream",
     "text": [
      "  manufacturer       model  displ  year  cyl       trans drv  cty  hwy fl  \\\n",
      "0         audi          a4    1.8  1999    4    auto(l5)   f   18   29  p   \n",
      "1         audi          a4    1.8  1999    4  manual(m5)   f   21   29  p   \n",
      "2         audi          a4    2.0  2008    4  manual(m6)   f   20   31  p   \n",
      "3         audi          a4    2.0  2008    4    auto(av)   f   21   30  p   \n",
      "9         audi  a4 quattro    2.0  2008    4  manual(m6)   4   20   28  p   \n",
      "\n",
      "  category  fe_mean ispass  \n",
      "0  compact     23.5   PASS  \n",
      "1  compact     25.0   PASS  \n",
      "2  compact     25.5   PASS  \n",
      "3  compact     25.5   PASS  \n",
      "9  compact     24.0   PASS  \n",
      "manufacturer\n",
      "volkswagen    18\n",
      "toyota        14\n",
      "honda          9\n",
      "audi           6\n",
      "hyundai        6\n",
      "subaru         5\n",
      "nissan         5\n",
      "chevrolet      3\n",
      "pontiac        1\n",
      "Name: count, dtype: int64\n"
     ]
    }
   ],
   "source": [
    "mpg_pass = mpg_new.loc[mpg_new[\"ispass\"] == 'PASS', :]\n",
    "print(mpg_pass.head())\n",
    "print(mpg_pass.value_counts(\"manufacturer\"))"
   ]
  },
  {
   "cell_type": "code",
   "execution_count": 17,
   "metadata": {},
   "outputs": [
    {
     "name": "stdout",
     "output_type": "stream",
     "text": [
      "  manufacturer       model  displ  year  cyl       trans drv  cty  hwy fl  \\\n",
      "0         audi          a4    1.8  1999    4    auto(l5)   f   18   29  p   \n",
      "1         audi          a4    1.8  1999    4  manual(m5)   f   21   29  p   \n",
      "2         audi          a4    2.0  2008    4  manual(m6)   f   20   31  p   \n",
      "3         audi          a4    2.0  2008    4    auto(av)   f   21   30  p   \n",
      "9         audi  a4 quattro    2.0  2008    4  manual(m6)   4   20   28  p   \n",
      "\n",
      "  category  fe_mean ispass  \n",
      "0  compact     23.5   PASS  \n",
      "1  compact     25.0   PASS  \n",
      "2  compact     25.5   PASS  \n",
      "3  compact     25.5   PASS  \n",
      "9  compact     24.0   PASS  \n",
      "manufacturer\n",
      "volkswagen    18\n",
      "toyota        14\n",
      "honda          9\n",
      "audi           6\n",
      "hyundai        6\n",
      "subaru         5\n",
      "nissan         5\n",
      "chevrolet      3\n",
      "pontiac        1\n",
      "Name: count, dtype: int64\n"
     ]
    }
   ],
   "source": [
    "mpg_pass = mpg_new.loc[mpg_new[\"fe_mean\"] > 22.75, :]\n",
    "print(mpg_pass.head())\n",
    "print(mpg_pass.value_counts(\"manufacturer\"))"
   ]
  },
  {
   "cell_type": "code",
   "execution_count": 3,
   "metadata": {},
   "outputs": [
    {
     "data": {
      "text/html": [
       "<div>\n",
       "<style scoped>\n",
       "    .dataframe tbody tr th:only-of-type {\n",
       "        vertical-align: middle;\n",
       "    }\n",
       "\n",
       "    .dataframe tbody tr th {\n",
       "        vertical-align: top;\n",
       "    }\n",
       "\n",
       "    .dataframe thead th {\n",
       "        text-align: right;\n",
       "    }\n",
       "</style>\n",
       "<table border=\"1\" class=\"dataframe\">\n",
       "  <thead>\n",
       "    <tr style=\"text-align: right;\">\n",
       "      <th></th>\n",
       "      <th>manufacturer</th>\n",
       "      <th>model</th>\n",
       "      <th>displ</th>\n",
       "      <th>year</th>\n",
       "      <th>cyl</th>\n",
       "      <th>trans</th>\n",
       "      <th>drv</th>\n",
       "      <th>cty</th>\n",
       "      <th>hwy</th>\n",
       "      <th>fl</th>\n",
       "      <th>category</th>\n",
       "    </tr>\n",
       "  </thead>\n",
       "  <tbody>\n",
       "    <tr>\n",
       "      <th>0</th>\n",
       "      <td>audi</td>\n",
       "      <td>a4</td>\n",
       "      <td>1.8</td>\n",
       "      <td>1999</td>\n",
       "      <td>4</td>\n",
       "      <td>auto(l5)</td>\n",
       "      <td>f</td>\n",
       "      <td>18</td>\n",
       "      <td>29</td>\n",
       "      <td>p</td>\n",
       "      <td>compact</td>\n",
       "    </tr>\n",
       "    <tr>\n",
       "      <th>1</th>\n",
       "      <td>audi</td>\n",
       "      <td>a4</td>\n",
       "      <td>1.8</td>\n",
       "      <td>1999</td>\n",
       "      <td>4</td>\n",
       "      <td>manual(m5)</td>\n",
       "      <td>f</td>\n",
       "      <td>21</td>\n",
       "      <td>29</td>\n",
       "      <td>p</td>\n",
       "      <td>compact</td>\n",
       "    </tr>\n",
       "    <tr>\n",
       "      <th>2</th>\n",
       "      <td>audi</td>\n",
       "      <td>a4</td>\n",
       "      <td>2.0</td>\n",
       "      <td>2008</td>\n",
       "      <td>4</td>\n",
       "      <td>manual(m6)</td>\n",
       "      <td>f</td>\n",
       "      <td>20</td>\n",
       "      <td>31</td>\n",
       "      <td>p</td>\n",
       "      <td>compact</td>\n",
       "    </tr>\n",
       "    <tr>\n",
       "      <th>3</th>\n",
       "      <td>audi</td>\n",
       "      <td>a4</td>\n",
       "      <td>2.0</td>\n",
       "      <td>2008</td>\n",
       "      <td>4</td>\n",
       "      <td>auto(av)</td>\n",
       "      <td>f</td>\n",
       "      <td>21</td>\n",
       "      <td>30</td>\n",
       "      <td>p</td>\n",
       "      <td>compact</td>\n",
       "    </tr>\n",
       "    <tr>\n",
       "      <th>4</th>\n",
       "      <td>audi</td>\n",
       "      <td>a4</td>\n",
       "      <td>2.8</td>\n",
       "      <td>1999</td>\n",
       "      <td>6</td>\n",
       "      <td>auto(l5)</td>\n",
       "      <td>f</td>\n",
       "      <td>16</td>\n",
       "      <td>26</td>\n",
       "      <td>p</td>\n",
       "      <td>compact</td>\n",
       "    </tr>\n",
       "  </tbody>\n",
       "</table>\n",
       "</div>"
      ],
      "text/plain": [
       "  manufacturer model  displ  year  cyl       trans drv  cty  hwy fl category\n",
       "0         audi    a4    1.8  1999    4    auto(l5)   f   18   29  p  compact\n",
       "1         audi    a4    1.8  1999    4  manual(m5)   f   21   29  p  compact\n",
       "2         audi    a4    2.0  2008    4  manual(m6)   f   20   31  p  compact\n",
       "3         audi    a4    2.0  2008    4    auto(av)   f   21   30  p  compact\n",
       "4         audi    a4    2.8  1999    6    auto(l5)   f   16   26  p  compact"
      ]
     },
     "execution_count": 3,
     "metadata": {},
     "output_type": "execute_result"
    }
   ],
   "source": [
    "import pandas as pd\n",
    "from matplotlib import pyplot as plt\n",
    "import koreanize_matplotlib\n",
    "\n",
    "mpg = pd.read_csv('data/mpg.csv')\n",
    "mpg.head()"
   ]
  },
  {
   "cell_type": "code",
   "execution_count": 23,
   "metadata": {},
   "outputs": [
    {
     "name": "stdout",
     "output_type": "stream",
     "text": [
      "manufacturer\n",
      "dodge         37\n",
      "toyota        34\n",
      "volkswagen    27\n",
      "ford          25\n",
      "chevrolet     19\n",
      "audi          18\n",
      "hyundai       14\n",
      "subaru        14\n",
      "nissan        13\n",
      "honda          9\n",
      "jeep           8\n",
      "pontiac        5\n",
      "land rover     4\n",
      "mercury        4\n",
      "lincoln        3\n",
      "Name: count, dtype: int64\n",
      "manufacturer\n",
      "audi          18\n",
      "chevrolet     19\n",
      "dodge         37\n",
      "ford          25\n",
      "honda          9\n",
      "hyundai       14\n",
      "jeep           8\n",
      "land rover     4\n",
      "lincoln        3\n",
      "mercury        4\n",
      "nissan        13\n",
      "pontiac        5\n",
      "subaru        14\n",
      "toyota        34\n",
      "volkswagen    27\n",
      "Name: model, dtype: int64\n"
     ]
    }
   ],
   "source": [
    "# manufacturer 종류별 빈도수를 bar plot으로 만들기 \n",
    "\n",
    "print(mpg.value_counts('manufacturer'))\n",
    "\n",
    "print(mpg.groupby(['manufacturer']).count()['model'])\n"
   ]
  },
  {
   "cell_type": "code",
   "execution_count": 35,
   "metadata": {},
   "outputs": [
    {
     "name": "stdout",
     "output_type": "stream",
     "text": [
      "Index(['audi', 'chevrolet', 'dodge', 'ford', 'honda', 'hyundai', 'jeep',\n",
      "       'land rover', 'lincoln', 'mercury', 'nissan', 'pontiac', 'subaru',\n",
      "       'toyota', 'volkswagen'],\n",
      "      dtype='object', name='manufacturer')\n"
     ]
    },
    {
     "data": {
      "image/png": "[encoded data removed]",
      "text/plain": [
       "<Figure size 640x480 with 1 Axes>"
      ]
     },
     "metadata": {},
     "output_type": "display_data"
    }
   ],
   "source": [
    "# 바 그래프 - 명목형 변수에 대한 카운트\n",
    "\n",
    "man_cnt = mpg.groupby(['manufacturer']).count()['model']\n",
    "print(man_cnt.index)\n",
    "plt.bar(man_cnt.index, man_cnt)\n",
    "plt.xticks(rotation=45)\n",
    "plt.xlabel = 'manufacturer'\n",
    "plt.show()"
   ]
  },
  {
   "cell_type": "code",
   "execution_count": 46,
   "metadata": {},
   "outputs": [
    {
     "data": {
      "text/plain": [
       "Text(0.5, 1.0, '제조사별 자동차 수')"
      ]
     },
     "execution_count": 46,
     "metadata": {},
     "output_type": "execute_result"
    },
    {
     "data": {
      "image/png": "[encoded data removed]",
      "text/plain": [
       "<Figure size 500x500 with 1 Axes>"
      ]
     },
     "metadata": {},
     "output_type": "display_data"
    }
   ],
   "source": [
    "man_cnt.plot(kind='barh', figsize=(5, 5))\n",
    "plt.title(\"제조사별 자동차 수\")\n",
    "# plt.xlabel(\"제조사\")\n",
    "# plt.ylabel(\"개수\")"
   ]
  },
  {
   "cell_type": "code",
   "execution_count": 1,
   "metadata": {},
   "outputs": [
    {
     "ename": "NameError",
     "evalue": "name 'mpg' is not defined",
     "output_type": "error",
     "traceback": [
      "\u001b[1;31m---------------------------------------------------------------------------\u001b[0m",
      "\u001b[1;31mNameError\u001b[0m                                 Traceback (most recent call last)",
      "Cell \u001b[1;32mIn[1], line 1\u001b[0m\n\u001b[1;32m----> 1\u001b[0m counts_by_name \u001b[38;5;241m=\u001b[39m \u001b[43mmpg\u001b[49m\u001b[38;5;241m.\u001b[39mvalue_counts(\u001b[38;5;124m\"\u001b[39m\u001b[38;5;124mmanufacturer\u001b[39m\u001b[38;5;124m\"\u001b[39m)\n\u001b[0;32m      2\u001b[0m counts_by_name\u001b[38;5;241m.\u001b[39mplot(kind\u001b[38;5;241m=\u001b[39m\u001b[38;5;124m'\u001b[39m\u001b[38;5;124mbarh\u001b[39m\u001b[38;5;124m'\u001b[39m)\n\u001b[0;32m      3\u001b[0m plt\u001b[38;5;241m.\u001b[39mtitle(\u001b[38;5;124m\"\u001b[39m\u001b[38;5;124m제조사별 자동차 수\u001b[39m\u001b[38;5;124m\"\u001b[39m)\n",
      "\u001b[1;31mNameError\u001b[0m: name 'mpg' is not defined"
     ]
    }
   ],
   "source": [
    "counts_by_name = mpg.value_counts(\"manufacturer\")\n",
    "counts_by_name.plot(kind='barh')\n",
    "plt.title(\"제조사별 자동차 수\")\n",
    "plt.xlabel(\"개수\")"
   ]
  },
  {
   "cell_type": "code",
   "execution_count": null,
   "metadata": {},
   "outputs": [],
   "source": [
    "# 히스토그램 - 연속형 자료의 범위에 대한 빈도수\n"
   ]
  },
  {
   "cell_type": "code",
   "execution_count": null,
   "metadata": {},
   "outputs": [],
   "source": [
    "# dot plot - ex)시계열 데이터"
   ]
  }
 ],
 "metadata": {
  "kernelspec": {
   "display_name": "analysis",
   "language": "python",
   "name": "python3"
  },
  "language_info": {
   "codemirror_mode": {
    "name": "ipython",
    "version": 3
   },
   "file_extension": ".py",
   "mimetype": "text/x-python",
   "name": "python",
   "nbconvert_exporter": "python",
   "pygments_lexer": "ipython3",
   "version": "3.13.0"
  }
 },
 "nbformat": 4,
 "nbformat_minor": 2
}
