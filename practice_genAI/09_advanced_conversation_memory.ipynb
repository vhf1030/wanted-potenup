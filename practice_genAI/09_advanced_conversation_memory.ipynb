{
 "cells": [
  {
   "cell_type": "code",
   "execution_count": 3,
   "metadata": {},
   "outputs": [
    {
     "data": {
      "text/plain": [
       "True"
      ]
     },
     "execution_count": 3,
     "metadata": {},
     "output_type": "execute_result"
    }
   ],
   "source": [
    "from dotenv import load_dotenv\n",
    "load_dotenv()"
   ]
  },
  {
   "cell_type": "markdown",
   "metadata": {},
   "source": [
    "### Knowledge Graph Memory"
   ]
  },
  {
   "cell_type": "code",
   "execution_count": 45,
   "metadata": {},
   "outputs": [
    {
     "name": "stdout",
     "output_type": "stream",
     "text": [
      "{'input': '안녕 내 이름은 김상겸이야.', 'history': '', 'response': '안녕하세요, 김상겸님! 만나서 반갑습니다. 저는 여기서 대화하고 도움을 드리기 위해 존재하는 AI입니다. 요즘 어떻게 지내고 계신가요? 어떤 주제로 이야기하고 싶으신지 궁금하네요!'}\n"
     ]
    }
   ],
   "source": [
    "from langchain.chat_models import ChatOpenAI\n",
    "from langchain.memory import ConversationKGMemory\n",
    "from langchain.chains import ConversationChain\n",
    "\n",
    "llm = ChatOpenAI(model_name='gpt-4o-mini', temperature=0.7)\n",
    "memory = ConversationKGMemory(llm=llm, k=10)\n",
    "conv_chain = ConversationChain(\n",
    "    llm=llm,\n",
    "    memory=memory\n",
    ")\n",
    "\n",
    "response = conv_chain.invoke('안녕 내 이름은 김상겸이야.')\n",
    "print(response)\n",
    "\n",
    "# response = conv_chain.predict(input='안녕 내 이름은 김상겸이야.')\n",
    "# print(response)\n",
    "\n",
    "# print(memory.load_memory_variables({}))"
   ]
  },
  {
   "cell_type": "code",
   "execution_count": 46,
   "metadata": {},
   "outputs": [
    {
     "name": "stdout",
     "output_type": "stream",
     "text": [
      "{'input': '구영이는 내 친구야.', 'history': '', 'response': '구영이와 정말 좋은 친구구나! 구영이와 어떤 활동을 함께 즐기나요? 예를 들어, 운동을 하거나 영화나 음악을 좋아하는지 궁금해. 친구와의 소중한 추억이 있다면 나누어 줄 수 있어?'}\n",
      "{'input': '구영이는 멋진 고양이를 가지고 있어.', 'history': 'On 구영이: 구영이 is 내 친구.', 'response': '정말요? 구영이의 고양이는 어떤 모습인가요? 혹시 이름도 있나요? 고양이는 어떤 성격을 가지고 있을까요? 고양이에 대한 이야기 듣는 걸 정말 좋아해요!'}\n",
      "{'input': '내 친구에 대해 알고 있어?', 'history': '', 'response': 'AI: 친구에 대해 구체적으로 어떤 정보를 알고 싶어? 이름이나 취미, 또는 어떤 일들을 함께 했는지 등 다양한 이야기를 나눌 수 있어! 친구에 대한 이야기를 듣는 것도 재미있을 것 같아.'}\n",
      "{'input': '내 친구에 대해 알고 있는 정보를 알려줘', 'history': '', 'response': '죄송하지만, 당신의 친구에 대한 구체적인 정보는 알지 못해요. 하지만 그 친구에 대해 제가 도와줄 수 있는 부분이 있다면 말씀해 주세요! 어떤 점이 궁금한가요?'}\n",
      "{'input': '구영이에 대해 알고 있어?', 'history': 'On 구영이: 구영이 is 내 친구. 구영이 가지고 있다 멋진 고양이.', 'response': '구영이에 대해 조금 알고 있어! 구영이는 당신의 친구이고, 멋진 고양이를 가지고 있다고 하셨죠. 그 고양이는 어떤 종류인가요? 이름은 무엇인가요? 고양이는 어떤 성격을 가지고 있나요? 고양이에 대한 이야기를 듣는 게 정말 재미있을 것 같아요!'}\n"
     ]
    }
   ],
   "source": [
    "response = conv_chain.invoke('구영이는 내 친구야.')\n",
    "print(response)\n",
    "\n",
    "response = conv_chain.invoke('구영이는 멋진 고양이를 가지고 있어.')\n",
    "print(response)\n",
    "response = conv_chain.invoke('내 친구에 대해 알고 있어?')\n",
    "print(response)\n",
    "response = conv_chain.invoke('내 친구에 대해 알고 있는 정보를 알려줘')\n",
    "print(response)\n",
    "response = conv_chain.invoke('구영이에 대해 알고 있어?')\n",
    "print(response)"
   ]
  },
  {
   "cell_type": "markdown",
   "metadata": {},
   "source": [
    "### Entity Memory"
   ]
  },
  {
   "cell_type": "code",
   "execution_count": 47,
   "metadata": {},
   "outputs": [
    {
     "name": "stdout",
     "output_type": "stream",
     "text": [
      "{'input': '안녕 내 이름은 김상겸이야.', 'history': '', 'entities': {'김상겸': ''}, 'response': '안녕하세요, 김상겸님! 만나서 반가워요. 어떻게 도와드릴까요?'}\n"
     ]
    }
   ],
   "source": [
    "from langchain.chat_models import ChatOpenAI\n",
    "from langchain.memory import ConversationEntityMemory\n",
    "from langchain.chains import ConversationChain\n",
    "from langchain.memory.prompt import ENTITY_MEMORY_CONVERSATION_TEMPLATE\n",
    "\n",
    "llm = ChatOpenAI(model_name='gpt-4o-mini', temperature=0.7)\n",
    "memory = ConversationEntityMemory(llm=llm, k=10)\n",
    "conv_chain = ConversationChain(\n",
    "    llm=llm,\n",
    "    prompt=ENTITY_MEMORY_CONVERSATION_TEMPLATE,\n",
    "    memory=memory\n",
    ")\n",
    "\n",
    "response = conv_chain.invoke('안녕 내 이름은 김상겸이야.')\n",
    "print(response)"
   ]
  },
  {
   "cell_type": "code",
   "execution_count": 48,
   "metadata": {},
   "outputs": [
    {
     "name": "stdout",
     "output_type": "stream",
     "text": [
      "{'input': '구영이는 내 친구야.', 'history': 'Human: 안녕 내 이름은 김상겸이야.\\nAI: 안녕하세요, 김상겸님! 만나서 반가워요. 어떻게 도와드릴까요?', 'entities': {'구영': ''}, 'response': '구영이란 친구가 있으시군요! 그 친구와 함께 어떤 활동을 즐기시나요?'}\n",
      "구영이란 친구가 있으시군요! 그 친구와 함께 어떤 활동을 즐기시나요?\n",
      "{'input': '구영이는 멋진 고양이를 가지고 있어.', 'history': 'Human: 안녕 내 이름은 김상겸이야.\\nAI: 안녕하세요, 김상겸님! 만나서 반가워요. 어떻게 도와드릴까요?\\nHuman: 구영이는 내 친구야.\\nAI: 구영이란 친구가 있으시군요! 그 친구와 함께 어떤 활동을 즐기시나요?', 'entities': {'구영이': ''}, 'response': '고양이를 키우는구나! 그 고양이의 이름이 뭐예요? 혹시 어떤 품종인지도 궁금해요. 고양이는 정말 귀엽고 매력적인 반려동물이죠!'}\n",
      "고양이를 키우는구나! 그 고양이의 이름이 뭐예요? 혹시 어떤 품종인지도 궁금해요. 고양이는 정말 귀엽고 매력적인 반려동물이죠!\n",
      "{'input': '내 친구에 대해 알고 있어?', 'history': 'Human: 안녕 내 이름은 김상겸이야.\\nAI: 안녕하세요, 김상겸님! 만나서 반가워요. 어떻게 도와드릴까요?\\nHuman: 구영이는 내 친구야.\\nAI: 구영이란 친구가 있으시군요! 그 친구와 함께 어떤 활동을 즐기시나요?\\nHuman: 구영이는 멋진 고양이를 가지고 있어.\\nAI: 고양이를 키우는구나! 그 고양이의 이름이 뭐예요? 혹시 어떤 품종인지도 궁금해요. 고양이는 정말 귀엽고 매력적인 반려동물이죠!', 'entities': {}, 'response': '구영이 친구에 대해 조금 알고 있어요. 구영이는 멋진 고양이를 가지고 있다고 하셨죠. 구영이와의 관계나 고양이에 대한 더 많은 이야기를 들려주시면 좋겠어요! 어떤 특별한 순간이나 에피소드가 있나요?'}\n",
      "구영이 친구에 대해 조금 알고 있어요. 구영이는 멋진 고양이를 가지고 있다고 하셨죠. 구영이와의 관계나 고양이에 대한 더 많은 이야기를 들려주시면 좋겠어요! 어떤 특별한 순간이나 에피소드가 있나요?\n",
      "{'input': '내 친구에 대해 알고 있는 정보를 알려줘', 'history': 'Human: 안녕 내 이름은 김상겸이야.\\nAI: 안녕하세요, 김상겸님! 만나서 반가워요. 어떻게 도와드릴까요?\\nHuman: 구영이는 내 친구야.\\nAI: 구영이란 친구가 있으시군요! 그 친구와 함께 어떤 활동을 즐기시나요?\\nHuman: 구영이는 멋진 고양이를 가지고 있어.\\nAI: 고양이를 키우는구나! 그 고양이의 이름이 뭐예요? 혹시 어떤 품종인지도 궁금해요. 고양이는 정말 귀엽고 매력적인 반려동물이죠!\\nHuman: 내 친구에 대해 알고 있어?\\nAI: 구영이 친구에 대해 조금 알고 있어요. 구영이는 멋진 고양이를 가지고 있다고 하셨죠. 구영이와의 관계나 고양이에 대한 더 많은 이야기를 들려주시면 좋겠어요! 어떤 특별한 순간이나 에피소드가 있나요?', 'entities': {}, 'response': '구영이에 대한 정보는 제가 알고 있는 것이 많지 않아요. 제가 아는 것은 당신이 구영이라는 친구가 있고, 그 친구가 멋진 고양이를 가지고 있다는 것뿐이에요. 구영이와의 관계나 고양이에 대한 더 많은 이야기나 에피소드가 있다면 들려주시면 좋겠어요! 어떤 점이 구영이를 특별하게 만드는 건가요?'}\n",
      "구영이에 대한 정보는 제가 알고 있는 것이 많지 않아요. 제가 아는 것은 당신이 구영이라는 친구가 있고, 그 친구가 멋진 고양이를 가지고 있다는 것뿐이에요. 구영이와의 관계나 고양이에 대한 더 많은 이야기나 에피소드가 있다면 들려주시면 좋겠어요! 어떤 점이 구영이를 특별하게 만드는 건가요?\n",
      "{'input': '구영이에 대해 알고 있어?', 'history': 'Human: 안녕 내 이름은 김상겸이야.\\nAI: 안녕하세요, 김상겸님! 만나서 반가워요. 어떻게 도와드릴까요?\\nHuman: 구영이는 내 친구야.\\nAI: 구영이란 친구가 있으시군요! 그 친구와 함께 어떤 활동을 즐기시나요?\\nHuman: 구영이는 멋진 고양이를 가지고 있어.\\nAI: 고양이를 키우는구나! 그 고양이의 이름이 뭐예요? 혹시 어떤 품종인지도 궁금해요. 고양이는 정말 귀엽고 매력적인 반려동물이죠!\\nHuman: 내 친구에 대해 알고 있어?\\nAI: 구영이 친구에 대해 조금 알고 있어요. 구영이는 멋진 고양이를 가지고 있다고 하셨죠. 구영이와의 관계나 고양이에 대한 더 많은 이야기를 들려주시면 좋겠어요! 어떤 특별한 순간이나 에피소드가 있나요?\\nHuman: 내 친구에 대해 알고 있는 정보를 알려줘\\nAI: 구영이에 대한 정보는 제가 알고 있는 것이 많지 않아요. 제가 아는 것은 당신이 구영이라는 친구가 있고, 그 친구가 멋진 고양이를 가지고 있다는 것뿐이에요. 구영이와의 관계나 고양이에 대한 더 많은 이야기나 에피소드가 있다면 들려주시면 좋겠어요! 어떤 점이 구영이를 특별하게 만드는 건가요?', 'entities': {'구영이': '구영이는 멋진 고양이를 가지고 있다.'}, 'response': '구영이에 대한 정보는 제가 알고 있는 것이 많지 않아요. 당신이 구영이라는 친구가 있고, 그 친구가 멋진 고양이를 가지고 있다는 것 외에는 잘 모르고 있습니다. 구영이와의 관계나 그 고양이에 대한 더 많은 이야기를 들려주시면 좋겠어요! 구영이가 어떤 사람인지, 혹은 고양이에 대한 특별한 에피소드가 있다면 궁금합니다.'}\n",
      "구영이에 대한 정보는 제가 알고 있는 것이 많지 않아요. 당신이 구영이라는 친구가 있고, 그 친구가 멋진 고양이를 가지고 있다는 것 외에는 잘 모르고 있습니다. 구영이와의 관계나 그 고양이에 대한 더 많은 이야기를 들려주시면 좋겠어요! 구영이가 어떤 사람인지, 혹은 고양이에 대한 특별한 에피소드가 있다면 궁금합니다.\n"
     ]
    }
   ],
   "source": [
    "response = conv_chain.invoke('구영이는 내 친구야.')\n",
    "print(response, response[\"response\"], sep=\"\\n\")\n",
    "response = conv_chain.invoke('구영이는 멋진 고양이를 가지고 있어.')\n",
    "print(response, response[\"response\"], sep=\"\\n\")\n",
    "response = conv_chain.invoke('내 친구에 대해 알고 있어?')\n",
    "print(response, response[\"response\"], sep=\"\\n\")\n",
    "response = conv_chain.invoke('내 친구에 대해 알고 있는 정보를 알려줘')\n",
    "print(response, response[\"response\"], sep=\"\\n\")\n",
    "response = conv_chain.invoke('구영이에 대해 알고 있어?')\n",
    "print(response, response[\"response\"], sep=\"\\n\")\n"
   ]
  },
  {
   "cell_type": "markdown",
   "metadata": {},
   "source": [
    "### Summary Buffer Memory"
   ]
  },
  {
   "cell_type": "code",
   "execution_count": 49,
   "metadata": {},
   "outputs": [],
   "source": [
    "from langchain.chat_models import ChatOpenAI\n",
    "from langchain.memory import ConversationSummaryBufferMemory\n",
    "from langchain.chains import ConversationChain"
   ]
  },
  {
   "cell_type": "code",
   "execution_count": 50,
   "metadata": {},
   "outputs": [
    {
     "name": "stdout",
     "output_type": "stream",
     "text": [
      "{'input': '안녕 내 이름은 김상겸이야.', 'history': '', 'entities': {'김상겸': ''}, 'response': '안녕하세요, 김상겸님! 만나서 반갑습니다. 오늘 어떤 이야기를 나눠볼까요?'}\n"
     ]
    }
   ],
   "source": [
    "llm = ChatOpenAI(model_name='gpt-4o-mini', temperature=0.7)\n",
    "memory = ConversationEntityMemory(\n",
    "    llm=llm,\n",
    "    max_token_limit=200,  # 200 토큰 이상인 경우 요약 진행\n",
    "    return_messages=False\n",
    ")\n",
    "\n",
    "conv_chain = ConversationChain(\n",
    "    llm=llm,\n",
    "    prompt=ENTITY_MEMORY_CONVERSATION_TEMPLATE,\n",
    "    memory=memory,\n",
    "    # verbose = True\n",
    ")\n",
    "\n",
    "response = conv_chain.invoke('안녕 내 이름은 김상겸이야.')\n",
    "print(response)"
   ]
  },
  {
   "cell_type": "code",
   "execution_count": 52,
   "metadata": {},
   "outputs": [
    {
     "name": "stdout",
     "output_type": "stream",
     "text": [
      "{'input': '구영이는 내 친구야.', 'history': 'Human: 내 친구에 대해 알고 있어?\\nAI: 구영이에 대해 조금 알고 있네요! 구영이는 당신의 친구이고 멋진 고양이를 가지고 있다고 하셨죠. 그 외에 구영이에 대해 더 이야기해주실 수 있나요? 예를 들어, 구영이의 취미나 성격은 어떤지 궁금합니다!\\nHuman: 내 친구에 대해 알고 있는 정보를 알려줘\\nAI: 현재 구영이에 대한 정보는 당신이 말씀해주신 것뿐입니다. 구영이는 당신의 친구이고 멋진 고양이를 가지고 있다고 하셨습니다. 구영이의 취미나 성격, 또는 여러분이 함께한 특별한 기억에 대해 더 이야기해주시면, 더 많은 정보를 바탕으로 대화를 이어갈 수 있을 것 같아요!\\nHuman: 구영이에 대해 알고 있어?\\nAI: 구영이에 대해 알고 있는 정보는 그가 당신의 친구이며 멋진 고양이를 가지고 있다는 것입니다. 구영이에 대한 더 많은 정보를 알고 싶다면, 그의 취미, 성격, 또는 함께한 특별한 경험에 대해 공유해 주시면 좋을 것 같아요!', 'entities': {'구영이': '구영이는 김상겸님의 친구이며, 멋진 고양이를 가지고 있다.'}, 'response': '구영이가 당신의 친구라는 것을 알고 있습니다! 그 외에 구영이와의 좋은 추억이나 그에 대한 더 많은 이야기가 있다면 들려주실 수 있나요? 어떤 점이 구영이를 특별하게 만들까요?'}\n",
      "구영이가 당신의 친구라는 것을 알고 있습니다! 그 외에 구영이와의 좋은 추억이나 그에 대한 더 많은 이야기가 있다면 들려주실 수 있나요? 어떤 점이 구영이를 특별하게 만들까요?\n",
      "{'input': '구영이는 멋진 고양이를 가지고 있어.', 'history': 'Human: 내 친구에 대해 알고 있는 정보를 알려줘\\nAI: 현재 구영이에 대한 정보는 당신이 말씀해주신 것뿐입니다. 구영이는 당신의 친구이고 멋진 고양이를 가지고 있다고 하셨습니다. 구영이의 취미나 성격, 또는 여러분이 함께한 특별한 기억에 대해 더 이야기해주시면, 더 많은 정보를 바탕으로 대화를 이어갈 수 있을 것 같아요!\\nHuman: 구영이에 대해 알고 있어?\\nAI: 구영이에 대해 알고 있는 정보는 그가 당신의 친구이며 멋진 고양이를 가지고 있다는 것입니다. 구영이에 대한 더 많은 정보를 알고 싶다면, 그의 취미, 성격, 또는 함께한 특별한 경험에 대해 공유해 주시면 좋을 것 같아요!\\nHuman: 구영이는 내 친구야.\\nAI: 구영이가 당신의 친구라는 것을 알고 있습니다! 그 외에 구영이와의 좋은 추억이나 그에 대한 더 많은 이야기가 있다면 들려주실 수 있나요? 어떤 점이 구영이를 특별하게 만들까요?', 'entities': {'구영이': '구영이는 김상겸님의 친구이며, 멋진 고양이를 가지고 있다.'}, 'response': '구영이가 멋진 고양이를 가지고 있다고 하셨네요! 그 고양이는 어떤 종류이고, 이름은 무엇인가요? 구영이와 그 고양이와의 특별한 순간이나 재미있는 에피소드가 있다면 공유해 주시면 좋을 것 같아요!'}\n",
      "구영이가 멋진 고양이를 가지고 있다고 하셨네요! 그 고양이는 어떤 종류이고, 이름은 무엇인가요? 구영이와 그 고양이와의 특별한 순간이나 재미있는 에피소드가 있다면 공유해 주시면 좋을 것 같아요!\n",
      "{'input': '내 친구에 대해 알고 있어?', 'history': 'Human: 구영이에 대해 알고 있어?\\nAI: 구영이에 대해 알고 있는 정보는 그가 당신의 친구이며 멋진 고양이를 가지고 있다는 것입니다. 구영이에 대한 더 많은 정보를 알고 싶다면, 그의 취미, 성격, 또는 함께한 특별한 경험에 대해 공유해 주시면 좋을 것 같아요!\\nHuman: 구영이는 내 친구야.\\nAI: 구영이가 당신의 친구라는 것을 알고 있습니다! 그 외에 구영이와의 좋은 추억이나 그에 대한 더 많은 이야기가 있다면 들려주실 수 있나요? 어떤 점이 구영이를 특별하게 만들까요?\\nHuman: 구영이는 멋진 고양이를 가지고 있어.\\nAI: 구영이가 멋진 고양이를 가지고 있다고 하셨네요! 그 고양이는 어떤 종류이고, 이름은 무엇인가요? 구영이와 그 고양이와의 특별한 순간이나 재미있는 에피소드가 있다면 공유해 주시면 좋을 것 같아요!', 'entities': {}, 'response': '당신의 친구에 대해 더 알고 싶어요! 구영이 외에 다른 친구가 있나요? 그들에 대한 특별한 이야기가 있다면 듣고 싶습니다. 친구들 간의 추억이나 그들의 성격에 대해 공유해 주시면 좋을 것 같아요!'}\n",
      "당신의 친구에 대해 더 알고 싶어요! 구영이 외에 다른 친구가 있나요? 그들에 대한 특별한 이야기가 있다면 듣고 싶습니다. 친구들 간의 추억이나 그들의 성격에 대해 공유해 주시면 좋을 것 같아요!\n",
      "{'input': '내 친구에 대해 알고 있는 정보를 알려줘', 'history': 'Human: 구영이는 내 친구야.\\nAI: 구영이가 당신의 친구라는 것을 알고 있습니다! 그 외에 구영이와의 좋은 추억이나 그에 대한 더 많은 이야기가 있다면 들려주실 수 있나요? 어떤 점이 구영이를 특별하게 만들까요?\\nHuman: 구영이는 멋진 고양이를 가지고 있어.\\nAI: 구영이가 멋진 고양이를 가지고 있다고 하셨네요! 그 고양이는 어떤 종류이고, 이름은 무엇인가요? 구영이와 그 고양이와의 특별한 순간이나 재미있는 에피소드가 있다면 공유해 주시면 좋을 것 같아요!\\nHuman: 내 친구에 대해 알고 있어?\\nAI: 당신의 친구에 대해 더 알고 싶어요! 구영이 외에 다른 친구가 있나요? 그들에 대한 특별한 이야기가 있다면 듣고 싶습니다. 친구들 간의 추억이나 그들의 성격에 대해 공유해 주시면 좋을 것 같아요!', 'entities': {}, 'response': '현재로서는 구영이와 그의 고양이에 대한 정보만 알고 있습니다. 구영이가 멋진 고양이를 가지고 있다는 것과 당신이 그에 대해 이야기하고 싶어 한다는 것도 알고 있죠. 다른 친구들에 대한 정보나 특별한 이야기가 있다면 공유해 주시면 좋을 것 같습니다! 그러면 더 많은 이야기를 나눌 수 있을 것 같아요.'}\n",
      "현재로서는 구영이와 그의 고양이에 대한 정보만 알고 있습니다. 구영이가 멋진 고양이를 가지고 있다는 것과 당신이 그에 대해 이야기하고 싶어 한다는 것도 알고 있죠. 다른 친구들에 대한 정보나 특별한 이야기가 있다면 공유해 주시면 좋을 것 같습니다! 그러면 더 많은 이야기를 나눌 수 있을 것 같아요.\n",
      "{'input': '구영이에 대해 알고 있어?', 'history': 'Human: 구영이는 멋진 고양이를 가지고 있어.\\nAI: 구영이가 멋진 고양이를 가지고 있다고 하셨네요! 그 고양이는 어떤 종류이고, 이름은 무엇인가요? 구영이와 그 고양이와의 특별한 순간이나 재미있는 에피소드가 있다면 공유해 주시면 좋을 것 같아요!\\nHuman: 내 친구에 대해 알고 있어?\\nAI: 당신의 친구에 대해 더 알고 싶어요! 구영이 외에 다른 친구가 있나요? 그들에 대한 특별한 이야기가 있다면 듣고 싶습니다. 친구들 간의 추억이나 그들의 성격에 대해 공유해 주시면 좋을 것 같아요!\\nHuman: 내 친구에 대해 알고 있는 정보를 알려줘\\nAI: 현재로서는 구영이와 그의 고양이에 대한 정보만 알고 있습니다. 구영이가 멋진 고양이를 가지고 있다는 것과 당신이 그에 대해 이야기하고 싶어 한다는 것도 알고 있죠. 다른 친구들에 대한 정보나 특별한 이야기가 있다면 공유해 주시면 좋을 것 같습니다! 그러면 더 많은 이야기를 나눌 수 있을 것 같아요.', 'entities': {'구영이': '구영이는 김상겸님의 친구이며, 멋진 고양이를 가지고 있다.'}, 'response': '네, 구영이에 대해 알고 있습니다. 구영이는 김상겸님의 친구이며, 멋진 고양이를 가지고 있다고 하셨죠. 구영이에 대한 더 많은 정보나 특별한 이야기가 있다면 공유해 주시면 좋을 것 같아요! 구영이의 성격이나 취미, 또는 그 고양이와의 재미있는 에피소드가 있다면 듣고 싶습니다.'}\n",
      "네, 구영이에 대해 알고 있습니다. 구영이는 김상겸님의 친구이며, 멋진 고양이를 가지고 있다고 하셨죠. 구영이에 대한 더 많은 정보나 특별한 이야기가 있다면 공유해 주시면 좋을 것 같아요! 구영이의 성격이나 취미, 또는 그 고양이와의 재미있는 에피소드가 있다면 듣고 싶습니다.\n"
     ]
    }
   ],
   "source": [
    "response = conv_chain.invoke('구영이는 내 친구야.')\n",
    "print(response, response[\"response\"], sep=\"\\n\")\n",
    "response = conv_chain.invoke('구영이는 멋진 고양이를 가지고 있어.')\n",
    "print(response, response[\"response\"], sep=\"\\n\")\n",
    "response = conv_chain.invoke('내 친구에 대해 알고 있어?')\n",
    "print(response, response[\"response\"], sep=\"\\n\")\n",
    "response = conv_chain.invoke('내 친구에 대해 알고 있는 정보를 알려줘')\n",
    "print(response, response[\"response\"], sep=\"\\n\")\n",
    "response = conv_chain.invoke('구영이에 대해 알고 있어?')\n",
    "print(response, response[\"response\"], sep=\"\\n\")\n",
    "\n",
    "# print(memory.load_memory_variables({}))"
   ]
  },
  {
   "cell_type": "markdown",
   "metadata": {},
   "source": [
    "### Vector Store Retriever Memory\n",
    "\n",
    "```\n",
    "$ pip install faiss-cpu\n",
    "```"
   ]
  },
  {
   "cell_type": "code",
   "execution_count": null,
   "metadata": {},
   "outputs": [
    {
     "name": "stderr",
     "output_type": "stream",
     "text": [
      "C:\\Users\\user\\AppData\\Local\\Temp\\ipykernel_3528\\882235557.py:15: LangChainDeprecationWarning: Please see the migration guide at: https://python.langchain.com/docs/versions/migrating_memory/\n",
      "  memory = VectorStoreRetrieverMemory(retriever=retriever)\n"
     ]
    }
   ],
   "source": [
    "from langchain.memory import VectorStoreRetrieverMemory\n",
    "from langchain.vectorstores import FAISS\n",
    "# from langchain.embeddings.openai import OpenAIEmbeddings\n",
    "from langchain.docstore.in_memory import InMemoryDocstore\n",
    "from langchain_openai import ChatOpenAI, OpenAIEmbeddings\n",
    "import faiss\n",
    "\n",
    "embedding_model = OpenAIEmbeddings()\n",
    "embedding_size = 1536\n",
    "index = faiss.IndexFlatL2(embedding_size)\n",
    "vectorstore = FAISS(embedding_model, index, InMemoryDocstore({}), {})\n",
    "\n",
    "retriever = vectorstore.as_retriever(search_kwargs={'k': 2})\n",
    "\n",
    "memory = VectorStoreRetrieverMemory(retriever=retriever)\n",
    "\n",
    "llm = ChatOpenAI(\n",
    "    model_name='gpt-4o-mini'\n",
    ")\n",
    "\n",
    "conv_chain = ConversationChain(\n",
    "    llm=llm,\n",
    "    memory=memory\n",
    ")\n"
   ]
  },
  {
   "cell_type": "code",
   "execution_count": 56,
   "metadata": {},
   "outputs": [
    {
     "data": {
      "text/plain": [
       "1536"
      ]
     },
     "execution_count": 56,
     "metadata": {},
     "output_type": "execute_result"
    }
   ],
   "source": [
    "vector = embedding_model.embed_query(\"안녕\")\n",
    "len(vector)"
   ]
  },
  {
   "cell_type": "code",
   "execution_count": 58,
   "metadata": {},
   "outputs": [],
   "source": [
    "# 검색이 잘 되는지 확인하기 위해 메모리에 데이터 입력\n",
    "\n",
    "memory.save_context(\n",
    "    inputs={\"human\": \"이번 프로젝트는 어때?\"},\n",
    "    outputs={\"ai\": \"현재 80%정도 완료되었고, QA 테스트가 다음 주 시작됩니다.\"}\n",
    ")\n",
    "\n",
    "memory.save_context(\n",
    "    inputs={\"human\": \"마케팅 전략은?\"},\n",
    "    outputs={\"ai\": \"유튜브에 영상 업로드 예정이며 SNS 캠페인이 월요일부터 시작됩니다.\"}\n",
    ")\n",
    "\n",
    "memory.save_context(\n",
    "    inputs={\"human\": \"프로젝트 문제점은?\"},\n",
    "    outputs={\"ai\": \"프로젝트 문제점은 없습니다.\"}\n",
    ")\n",
    "\n"
   ]
  },
  {
   "cell_type": "code",
   "execution_count": null,
   "metadata": {},
   "outputs": [
    {
     "data": {
      "text/plain": [
       "'다음 주 프로젝트 일정은 다음과 같습니다: 월요일에는 SNS 캠페인이 시작되며, 화요일에는 팀 미팅이 예정되어 있습니다. 수요일에는 QA 테스트를 시작하고, 금요일에는 중간 점검을 통해 진행 상황을 평가할 예정입니다. 만약 추가적인 일정이나 세부 사항이 필요하면 언제든지 말씀해 주세요!'"
      ]
     },
     "execution_count": 59,
     "metadata": {},
     "output_type": "execute_result"
    }
   ],
   "source": [
    "conv_chain.predict(input='다음 주 프로젝트 일정은?')\n"
   ]
  },
  {
   "cell_type": "code",
   "execution_count": 63,
   "metadata": {},
   "outputs": [
    {
     "data": {
      "text/plain": [
       "{'history': 'input: 다음 주 프로젝트 일정은?\\nresponse: 다음 주 프로젝트 일정은 다음과 같습니다: 월요일에는 SNS 캠페인이 시작되며, 화요일에는 팀 미팅이 예정되어 있습니다. 수요일에는 QA 테스트를 시작하고, 금요일에는 중간 점검을 통해 진행 상황을 평가할 예정입니다. 만약 추가적인 일정이나 세부 사항이 필요하면 언제든지 말씀해 주세요!\\nhuman: 이번 프로젝트는 어때?\\nai: 현재 80%정도 완료되었고, QA 테스트가 다음 주 시작됩니다.'}"
      ]
     },
     "execution_count": 63,
     "metadata": {},
     "output_type": "execute_result"
    }
   ],
   "source": [
    "memory.load_memory_variables({'prompt': '다음 주 프로젝트 일정은?'})"
   ]
  }
 ],
 "metadata": {
  "kernelspec": {
   "display_name": "lang_311",
   "language": "python",
   "name": "python3"
  },
  "language_info": {
   "codemirror_mode": {
    "name": "ipython",
    "version": 3
   },
   "file_extension": ".py",
   "mimetype": "text/x-python",
   "name": "python",
   "nbconvert_exporter": "python",
   "pygments_lexer": "ipython3",
   "version": "3.11.11"
  }
 },
 "nbformat": 4,
 "nbformat_minor": 2
}
