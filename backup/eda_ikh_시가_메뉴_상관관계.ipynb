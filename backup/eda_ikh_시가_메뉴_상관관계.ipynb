{
 "cells": [
  {
   "cell_type": "markdown",
   "metadata": {},
   "source": [
    "TODO\n",
    "1. 시장별 시가 확인\n",
    "2. 시장별 메뉴 가격 확인\n",
    "3. 상관관계 분석"
   ]
  },
  {
   "cell_type": "code",
   "execution_count": 1,
   "metadata": {},
   "outputs": [],
   "source": [
    "import pandas as pd\n",
    "import matplotlib.pyplot as plt\n",
    "import seaborn as sns\n",
    "import koreanize_matplotlib\n",
    "from datetime import datetime, timedelta"
   ]
  },
  {
   "cell_type": "code",
   "execution_count": 100,
   "metadata": {},
   "outputs": [
    {
     "data": {
      "text/html": [
       "<div>\n",
       "<style scoped>\n",
       "    .dataframe tbody tr th:only-of-type {\n",
       "        vertical-align: middle;\n",
       "    }\n",
       "\n",
       "    .dataframe tbody tr th {\n",
       "        vertical-align: top;\n",
       "    }\n",
       "\n",
       "    .dataframe thead th {\n",
       "        text-align: right;\n",
       "    }\n",
       "</style>\n",
       "<table border=\"1\" class=\"dataframe\">\n",
       "  <thead>\n",
       "    <tr style=\"text-align: right;\">\n",
       "      <th></th>\n",
       "      <th>market</th>\n",
       "      <th>item</th>\n",
       "      <th>avgPrice</th>\n",
       "    </tr>\n",
       "  </thead>\n",
       "  <tbody>\n",
       "    <tr>\n",
       "      <th>3188</th>\n",
       "      <td>노량진 1층</td>\n",
       "      <td>농어</td>\n",
       "      <td>37250</td>\n",
       "    </tr>\n",
       "    <tr>\n",
       "      <th>6395</th>\n",
       "      <td>가락시장</td>\n",
       "      <td>농어</td>\n",
       "      <td>43000</td>\n",
       "    </tr>\n",
       "    <tr>\n",
       "      <th>8559</th>\n",
       "      <td>노량진 2층</td>\n",
       "      <td>농어</td>\n",
       "      <td>36430</td>\n",
       "    </tr>\n",
       "    <tr>\n",
       "      <th>11432</th>\n",
       "      <td>구리농수산물시장</td>\n",
       "      <td>농어</td>\n",
       "      <td>42500</td>\n",
       "    </tr>\n",
       "    <tr>\n",
       "      <th>14384</th>\n",
       "      <td>강서농수산물시장</td>\n",
       "      <td>농어</td>\n",
       "      <td>45000</td>\n",
       "    </tr>\n",
       "    <tr>\n",
       "      <th>...</th>\n",
       "      <td>...</td>\n",
       "      <td>...</td>\n",
       "      <td>...</td>\n",
       "    </tr>\n",
       "    <tr>\n",
       "      <th>131036</th>\n",
       "      <td>노량진 2층</td>\n",
       "      <td>방어</td>\n",
       "      <td>54000</td>\n",
       "    </tr>\n",
       "    <tr>\n",
       "      <th>131189</th>\n",
       "      <td>구리농수산물시장</td>\n",
       "      <td>방어</td>\n",
       "      <td>48750</td>\n",
       "    </tr>\n",
       "    <tr>\n",
       "      <th>131460</th>\n",
       "      <td>수원농수산물시장</td>\n",
       "      <td>방어</td>\n",
       "      <td>50000</td>\n",
       "    </tr>\n",
       "    <tr>\n",
       "      <th>131524</th>\n",
       "      <td>인천종합연안부두어시장</td>\n",
       "      <td>방어</td>\n",
       "      <td>35000</td>\n",
       "    </tr>\n",
       "    <tr>\n",
       "      <th>131646</th>\n",
       "      <td>소래포구종합어시장</td>\n",
       "      <td>방어</td>\n",
       "      <td>42500</td>\n",
       "    </tr>\n",
       "  </tbody>\n",
       "</table>\n",
       "<p>67 rows × 3 columns</p>\n",
       "</div>"
      ],
      "text/plain": [
       "             market item  avgPrice\n",
       "3188         노량진 1층   농어     37250\n",
       "6395           가락시장   농어     43000\n",
       "8559         노량진 2층   농어     36430\n",
       "11432      구리농수산물시장   농어     42500\n",
       "14384      강서농수산물시장   농어     45000\n",
       "...             ...  ...       ...\n",
       "131036       노량진 2층   방어     54000\n",
       "131189     구리농수산물시장   방어     48750\n",
       "131460     수원농수산물시장   방어     50000\n",
       "131524  인천종합연안부두어시장   방어     35000\n",
       "131646    소래포구종합어시장   방어     42500\n",
       "\n",
       "[67 rows x 3 columns]"
      ]
     },
     "execution_count": 100,
     "metadata": {},
     "output_type": "execute_result"
    }
   ],
   "source": [
    "file_path = \"../data/raw/ikh_item_price_2025-01-14.csv\"\n",
    "df = pd.read_csv(file_path)\n",
    "df[\"priceDate\"] = pd.to_datetime(df[\"priceDate\"])\n",
    "df_market_item_price = df[df[\"priceDate\"] == \"2025-01-14\"][['market', 'item', 'avgPrice']]\n",
    "df_market_item_price"
   ]
  },
  {
   "cell_type": "code",
   "execution_count": 92,
   "metadata": {},
   "outputs": [
    {
     "data": {
      "text/plain": [
       "array(['농어', '광어', '대게', '연어', '우럭', '참돔', '방어'], dtype=object)"
      ]
     },
     "execution_count": 92,
     "metadata": {},
     "output_type": "execute_result"
    }
   ],
   "source": [
    "df_market_item_price[df_market_item_price['item'] == '광어']\n",
    "df_market_item_price['item'].unique()"
   ]
  },
  {
   "cell_type": "code",
   "execution_count": 23,
   "metadata": {},
   "outputs": [
    {
     "data": {
      "text/html": [
       "<div>\n",
       "<style scoped>\n",
       "    .dataframe tbody tr th:only-of-type {\n",
       "        vertical-align: middle;\n",
       "    }\n",
       "\n",
       "    .dataframe tbody tr th {\n",
       "        vertical-align: top;\n",
       "    }\n",
       "\n",
       "    .dataframe thead th {\n",
       "        text-align: right;\n",
       "    }\n",
       "</style>\n",
       "<table border=\"1\" class=\"dataframe\">\n",
       "  <thead>\n",
       "    <tr style=\"text-align: right;\">\n",
       "      <th></th>\n",
       "      <th>market</th>\n",
       "      <th>store_id</th>\n",
       "    </tr>\n",
       "  </thead>\n",
       "  <tbody>\n",
       "    <tr>\n",
       "      <th>0</th>\n",
       "      <td>노량진 1층</td>\n",
       "      <td>833</td>\n",
       "    </tr>\n",
       "    <tr>\n",
       "      <th>1</th>\n",
       "      <td>노량진 1층</td>\n",
       "      <td>5</td>\n",
       "    </tr>\n",
       "    <tr>\n",
       "      <th>2</th>\n",
       "      <td>노량진 2층</td>\n",
       "      <td>822</td>\n",
       "    </tr>\n",
       "    <tr>\n",
       "      <th>3</th>\n",
       "      <td>노량진 1층</td>\n",
       "      <td>13</td>\n",
       "    </tr>\n",
       "    <tr>\n",
       "      <th>4</th>\n",
       "      <td>노량진 1층</td>\n",
       "      <td>6</td>\n",
       "    </tr>\n",
       "    <tr>\n",
       "      <th>...</th>\n",
       "      <td>...</td>\n",
       "      <td>...</td>\n",
       "    </tr>\n",
       "    <tr>\n",
       "      <th>148</th>\n",
       "      <td>부산민락어민활어직판장</td>\n",
       "      <td>123</td>\n",
       "    </tr>\n",
       "    <tr>\n",
       "      <th>149</th>\n",
       "      <td>부산민락어민활어직판장</td>\n",
       "      <td>338</td>\n",
       "    </tr>\n",
       "    <tr>\n",
       "      <th>150</th>\n",
       "      <td>부산민락어민활어직판장</td>\n",
       "      <td>433</td>\n",
       "    </tr>\n",
       "    <tr>\n",
       "      <th>151</th>\n",
       "      <td>부산민락어민활어직판장</td>\n",
       "      <td>388</td>\n",
       "    </tr>\n",
       "    <tr>\n",
       "      <th>152</th>\n",
       "      <td>부산민락어민활어직판장</td>\n",
       "      <td>122</td>\n",
       "    </tr>\n",
       "  </tbody>\n",
       "</table>\n",
       "<p>153 rows × 2 columns</p>\n",
       "</div>"
      ],
      "text/plain": [
       "          market  store_id\n",
       "0         노량진 1층       833\n",
       "1         노량진 1층         5\n",
       "2         노량진 2층       822\n",
       "3         노량진 1층        13\n",
       "4         노량진 1층         6\n",
       "..           ...       ...\n",
       "148  부산민락어민활어직판장       123\n",
       "149  부산민락어민활어직판장       338\n",
       "150  부산민락어민활어직판장       433\n",
       "151  부산민락어민활어직판장       388\n",
       "152  부산민락어민활어직판장       122\n",
       "\n",
       "[153 rows x 2 columns]"
      ]
     },
     "execution_count": 23,
     "metadata": {},
     "output_type": "execute_result"
    }
   ],
   "source": [
    "file_path = \"../data/processed/ikh_store_meta_2025-01-14.csv\"\n",
    "df = pd.read_csv(file_path)\n",
    "df_market_store = df[['market', 'store_id']]\n",
    "df_market_store"
   ]
  },
  {
   "cell_type": "code",
   "execution_count": 77,
   "metadata": {},
   "outputs": [
    {
     "name": "stdout",
     "output_type": "stream",
     "text": [
      "(7668, 6)\n"
     ]
    },
    {
     "data": {
      "text/plain": [
       "name\n",
       "대방어회         135\n",
       "광우회          110\n",
       "대광어회          89\n",
       "도다리모둠회        86\n",
       "광어연어회         79\n",
       "광돔회           77\n",
       "광연회           71\n",
       "활모둠회          70\n",
       "대방어모둠회        66\n",
       "방어회           65\n",
       "방어모둠회         62\n",
       "방광회           60\n",
       "연어회           58\n",
       "특대방어회         56\n",
       "도다리세꼬시모둠회     54\n",
       "대방어광어회        53\n",
       "광우연회          48\n",
       "광참회           47\n",
       "참광우회          46\n",
       "참치모둠회         44\n",
       "Name: menu, dtype: int64"
      ]
     },
     "execution_count": 77,
     "metadata": {},
     "output_type": "execute_result"
    }
   ],
   "source": [
    "file_path = \"../data/raw/ikh_store_menu_2025-01-14.csv\"\n",
    "df = pd.read_csv(file_path)\n",
    "df_market_menu_price = df[['store_id', 'name', 'menu_id', 'menu']].copy()\n",
    "df_market_menu_price['price'] = df['price'] - df['discount']\n",
    "df_market_menu_price = pd.merge(df_market_store, df_market_menu_price, on=\"store_id\", how=\"inner\")\n",
    "print(df_market_menu_price.shape)\n",
    "df_market_menu_price.groupby(['name']).count().sort_values(\"store_id\", ascending=False)['menu'].head(20)\n"
   ]
  },
  {
   "cell_type": "code",
   "execution_count": 71,
   "metadata": {},
   "outputs": [
    {
     "name": "stdout",
     "output_type": "stream",
     "text": [
      "                 market  store_id  menu_id  price\n",
      "name  menu                                       \n",
      "광어연어회 중(2~3인)        21        21       21     21\n",
      "      대(3~4인)        19        19       19     19\n",
      "      소(2인)          19        19       19     19\n",
      "연어회   대(3~4인)        16        16       16     16\n",
      "      중(2~3인)        16        16       16     16\n",
      "...                 ...       ...      ...    ...\n",
      "연어꽃회  대(4인)           1         1        1      1\n",
      "      대(5~6인)         1         1        1      1\n",
      "      소(2~3인)         1         1        1      1\n",
      "      중(2~3인)         1         1        1      1\n",
      "참돔회   특특대(5-6인)       1         1        1      1\n",
      "\n",
      "[314 rows x 4 columns]\n"
     ]
    },
    {
     "data": {
      "text/plain": [
       "{'광어연어회',\n",
       " '광어우럭회',\n",
       " '광어참돔회',\n",
       " '광어회',\n",
       " '농어모둠회',\n",
       " '농어회',\n",
       " '방어광어회',\n",
       " '방어연어회',\n",
       " '방어참돔회',\n",
       " '연어회',\n",
       " '우럭모둠회',\n",
       " '참돔모둠회',\n",
       " '참돔회'}"
      ]
     },
     "execution_count": 71,
     "metadata": {},
     "output_type": "execute_result"
    }
   ],
   "source": [
    "df_market_menu_price = df_market_menu_price[\n",
    "    df_market_menu_price['name'].str.contains('^농어|^광어|^대게|^연어|^우럭|^참돔|^방어', na=False, regex=True)\n",
    "]\n",
    "\n",
    "df_tmp = df_market_menu_price.groupby(['name', 'menu']).count().sort_values(\"store_id\", ascending=False)\n",
    "print(df_tmp)\n",
    "set([i[0] for i in df_tmp[df_tmp[\"store_id\"] > 3].index])"
   ]
  },
  {
   "cell_type": "code",
   "execution_count": 114,
   "metadata": {},
   "outputs": [
    {
     "data": {
      "text/plain": [
       "name  market     \n",
       "광어회   가락시장            85000.000000\n",
       "      구리농수산물시장        80000.000000\n",
       "      노량진 1층         102500.000000\n",
       "      노량진 2층         100000.000000\n",
       "농어회   구리농수산물시장       130000.000000\n",
       "      노량진 1층         120000.000000\n",
       "      노량진 2층          90000.000000\n",
       "      부산민락어민활어직판장     70000.000000\n",
       "방어회   가락시장           111000.000000\n",
       "      강서농수산물시장       130000.000000\n",
       "      구리농수산물시장        88333.333333\n",
       "      노량진 1층         129000.000000\n",
       "      노량진 2층         108000.000000\n",
       "      부산민락어민활어직판장     54000.000000\n",
       "연어회   가락시장            81666.666667\n",
       "      강서농수산물시장        70000.000000\n",
       "      구리농수산물시장        56666.666667\n",
       "      노량진 1층          95000.000000\n",
       "      노량진 2층          80000.000000\n",
       "      수원농수산물시장        60000.000000\n",
       "      안양평촌농수산물시장      70000.000000\n",
       "      인천종합연안부두어시장     80000.000000\n",
       "참돔회   구리농수산물시장        88333.333333\n",
       "      노량진 1층          98750.000000\n",
       "      노량진 2층         100000.000000\n",
       "      수원농수산물시장        80000.000000\n",
       "Name: price, dtype: float64"
      ]
     },
     "execution_count": 114,
     "metadata": {},
     "output_type": "execute_result"
    }
   ],
   "source": [
    "filtered_df = df_market_menu_price[\n",
    "    df_market_menu_price['name'].isin([\"광어회\", \"농어회\", \"연어회\", \"참돔회\", \"방어회\"]) &\n",
    "    df_market_menu_price['menu'].str.contains(\"^대\", na=False)\n",
    "]  # 대(3~4인) 기준\n",
    "# filtered_df[['market', 'name', 'price']]\n",
    "filtered_df[['market', 'name', 'price']].groupby(['name', 'market']).mean()['price']"
   ]
  },
  {
   "cell_type": "code",
   "execution_count": 115,
   "metadata": {},
   "outputs": [],
   "source": [
    "df_tmp = df_market_item_price.copy()\n",
    "for item in df_tmp[\"item\"].unique():\n",
    "    df_tmp.loc[df_tmp[\"item\"] == item, \"name\"] = item + \"회\""
   ]
  },
  {
   "cell_type": "code",
   "execution_count": 116,
   "metadata": {},
   "outputs": [
    {
     "name": "stdout",
     "output_type": "stream",
     "text": [
      "   name       market          price  avgPrice\n",
      "0   광어회         가락시장   85000.000000     45000\n",
      "1   광어회     구리농수산물시장   80000.000000     40000\n",
      "2   광어회       노량진 1층  102500.000000     39770\n",
      "3   광어회       노량진 2층  100000.000000     40000\n",
      "4   농어회     구리농수산물시장  130000.000000     42500\n",
      "5   농어회       노량진 1층  120000.000000     37250\n",
      "6   농어회       노량진 2층   90000.000000     36430\n",
      "7   방어회         가락시장  111000.000000     47780\n",
      "8   방어회     구리농수산물시장   88333.333333     48750\n",
      "9   방어회       노량진 1층  129000.000000     47650\n",
      "10  방어회       노량진 2층  108000.000000     54000\n",
      "11  연어회         가락시장   81666.666667      6450\n",
      "12  연어회     강서농수산물시장   70000.000000      6780\n",
      "13  연어회     구리농수산물시장   56666.666667      5880\n",
      "14  연어회       노량진 1층   95000.000000      6840\n",
      "15  연어회       노량진 2층   80000.000000      6510\n",
      "16  연어회     수원농수산물시장   60000.000000      6000\n",
      "17  연어회  인천종합연안부두어시장   80000.000000      9000\n",
      "18  참돔회     구리농수산물시장   88333.333333     43340\n",
      "19  참돔회       노량진 1층   98750.000000     39400\n",
      "20  참돔회       노량진 2층  100000.000000     36430\n",
      "21  참돔회     수원농수산물시장   80000.000000     40000\n"
     ]
    }
   ],
   "source": [
    "# 두 데이터프레임 병합\n",
    "merged_df = pd.merge(\n",
    "    filtered_df[['market', 'name', 'price']].groupby(['name', 'market']).mean().reset_index(),\n",
    "    df_tmp,\n",
    "    on=['market', 'name'],\n",
    "    how='inner'  # 내부 조인 (공통 데이터만 포함)\n",
    ")[[\"name\", \"market\", \"price\", \"avgPrice\"]]\n",
    "\n",
    "# 결과 확인\n",
    "print(merged_df)"
   ]
  },
  {
   "cell_type": "code",
   "execution_count": 117,
   "metadata": {},
   "outputs": [
    {
     "name": "stdout",
     "output_type": "stream",
     "text": [
      "  name  correlation   p_value\n",
      "0  광어회    -0.436636  0.563364\n",
      "1  농어회     0.777686  0.432786\n",
      "2  방어회    -0.195843  0.804157\n",
      "3  연어회     0.439887  0.323327\n",
      "4  참돔회    -0.561916  0.438084\n"
     ]
    }
   ],
   "source": [
    "from scipy.stats import pearsonr\n",
    "\n",
    "# 상관계수를 저장할 결과 리스트\n",
    "correlation_results = []\n",
    "\n",
    "# 품목별로 그룹화하여 상관관계 계산\n",
    "for name, group in merged_df.groupby('name'):\n",
    "    # Pearson 상관계수 계산\n",
    "    correlation, p_value = pearsonr(group['price'], group['avgPrice'])\n",
    "    \n",
    "    # 결과 저장\n",
    "    correlation_results.append({'name': name, 'correlation': correlation, 'p_value': p_value})\n",
    "\n",
    "# 결과를 데이터프레임으로 변환\n",
    "correlation_df = pd.DataFrame(correlation_results)\n",
    "\n",
    "# 결과 출력\n",
    "print(correlation_df)"
   ]
  }
 ],
 "metadata": {
  "kernelspec": {
   "display_name": "ml_practice",
   "language": "python",
   "name": "python3"
  },
  "language_info": {
   "codemirror_mode": {
    "name": "ipython",
    "version": 3
   },
   "file_extension": ".py",
   "mimetype": "text/x-python",
   "name": "python",
   "nbconvert_exporter": "python",
   "pygments_lexer": "ipython3",
   "version": "3.11.9"
  }
 },
 "nbformat": 4,
 "nbformat_minor": 2
}
