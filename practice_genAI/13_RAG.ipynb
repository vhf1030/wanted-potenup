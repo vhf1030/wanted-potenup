{
 "cells": [
  {
   "cell_type": "code",
   "execution_count": 1,
   "metadata": {},
   "outputs": [
    {
     "data": {
      "text/plain": [
       "True"
      ]
     },
     "execution_count": 1,
     "metadata": {},
     "output_type": "execute_result"
    }
   ],
   "source": [
    "from dotenv import load_dotenv\n",
    "load_dotenv()"
   ]
  },
  {
   "cell_type": "code",
   "execution_count": 50,
   "metadata": {},
   "outputs": [
    {
     "name": "stdout",
     "output_type": "stream",
     "text": [
      "문서 페이지 수: 506\n"
     ]
    }
   ],
   "source": [
    "from langchain_community.document_loaders import PyMuPDFLoader\n",
    "loader = PyMuPDFLoader(\"data/car.pdf\")\n",
    "docs = loader.load()\n",
    "print(f'문서 페이지 수: {len(docs)}')"
   ]
  },
  {
   "cell_type": "code",
   "execution_count": 11,
   "metadata": {},
   "outputs": [
    {
     "data": {
      "text/plain": [
       "'색인\\nI-8\\n클러스터에 표시되는 정보 \\n4-2\\n클러스터 테마 설정하기 \\n4-3\\n타\\n테일게이트 열고 닫기 \\n5-59\\n비상시 테일게이트 잠금 해제 \\n5-61\\n테일게이트 닫기 \\n5-60\\n테일게이트 열기 \\n5-60\\n통합 주행 모드 시스템 \\n6-41\\n드라이브 모드 선택 \\n6-41\\n드라이브 모드별 차량 설정 \\n6-41\\n통합 주행 모드 시스템 (HTRAC) \\n6-42\\nTOW(토우) 모드 \\n6-44\\n드라이브 모드 (Drive Mode) 설정 \\n6-42\\n드라이브 모드별 특징 \\n6-42\\n트레일러 견인 \\n6-51\\n경사로 주차 \\n6-53\\n경사로 주차 후 출발 \\n6-53\\n안전 체인 \\n6-53\\n트레일러 견인 \\n6-52\\n트레일러 견인 시 점검 및 정비 \\n6-54\\n트레일러 견인 주행 \\n6-53\\n트레일러 브레이크 \\n6-52\\n트레일러 연결장치 견인 능력 \\n6-51\\n트레일러 중량 \\n6-52\\n트레일러 히치 볼 수직 하중 \\n6-52\\n파\\n파워 테일게이트 사용하기 \\n5-61\\n물체 끼임 인식 기능 \\n5-64\\n비상시 테일게이트 잠금 해제 \\n5-66\\n파워 테일게이트 설정하기 \\n5-65\\n파워 테일게이트 열고 닫기 \\n5-63\\n파워 테일게이트 초기화하기 \\n5-65\\n퓨즈 점검 및 교체하기 \\n9-31\\n실내 퓨즈 박스 \\n9-32\\n엔진룸 퓨즈 박스 \\n9-32\\n퓨즈 교체용 클립 \\n9-36\\n퓨즈 교체하기 \\n9-37\\n퓨즈 라벨 \\n9-33\\n퓨즈 유형별 점검법 \\n9-36\\n하\\n하이빔 보조(HBA) \\n5-92\\n하이빔 보조 끄기 \\n5-93\\n하이빔 보조 설정하기 \\n5-92\\n하이빔 보조 작동 시 제한 사항 \\n5-93\\n하이빔 보조 켜기 \\n5-92\\n하이패스 시스템(ETCS) \\n5-49\\n하이패스 카드 사용하기 \\n5-49\\n헤드업 디스플레이(HUD) \\n5-71\\n헤드업 디스플레이 기능 설정하기 \\n5-71\\n헤드업 디스플레이 표시 정보 \\n5-71\\n후드 열고 닫기 \\n5-58\\n후드 닫기 \\n5-59\\n후드 열기 \\n5-58\\n후방 교차 충돌방지 보조 (RCCA) \\n7-77\\n후방 교차 충돌방지 보조 설정 \\n7-79\\n후방 교차 충돌방지 보조 이상 및 제한 \\n사항 \\n7-80\\n후방 교차 충돌방지 보조 작동 \\n7-78\\n후방 모니터 (RVM) \\n7-71\\n후방 모니터 설정 \\n7-72\\n후방 모니터 이상 및 제한 사항 \\n7-73\\n후방 모니터 작동 \\n7-71\\n후방 주차 충돌방지 보조 (PCA) \\n7-87\\n후방 주차 충돌방지 보조 설정 \\n7-88\\n후방 주차 충돌방지 보조 이상 및 제한 \\n사항 \\n7-88\\n후방 주차 충돌방지 보조 작동 \\n7-87\\n후측방 모니터 (BVM) \\n7-43\\n후측방 모니터 설정하기 \\n7-44\\n후측방 모니터 이상 \\n7-44\\n후측방 모니터 작동 \\n7-43\\n후측방 충돌방지 보조 (BCA) \\n7-24\\n후측방 충돌방지 보조 설정 \\n7-26\\n후측방 충돌방지 보조 이상 및 제한 사항 \\n7-26\\n후측방 충돌방지 보조 작동 \\n7-24\\n히터와 에어컨(자동 조절식) \\n5-101\\n공조 장치용 에어필터 교체 주기 \\n5-113\\n뒷좌석 조절 \\n5-104\\n수동으로 조절하기 \\n5-106\\n앞좌석에서 뒷좌석 조절 \\n5-103\\n에어컨 점검하기 \\n5-113\\n전자동(AUTO)으로 조절하기 \\n5-105'"
      ]
     },
     "execution_count": 11,
     "metadata": {},
     "output_type": "execute_result"
    }
   ],
   "source": [
    "docs[-1].page_content"
   ]
  },
  {
   "cell_type": "code",
   "execution_count": 18,
   "metadata": {},
   "outputs": [
    {
     "name": "stdout",
     "output_type": "stream",
     "text": [
      "청크의수: 791\n"
     ]
    }
   ],
   "source": [
    "from langchain.text_splitter import RecursiveCharacterTextSplitter\n",
    "\n",
    "splitter = RecursiveCharacterTextSplitter(chunk_size=1000, chunk_overlap=100)\n",
    "chunks = splitter.split_documents(docs)\n",
    "print(f'청크의수: {len(chunks)}')\n"
   ]
  },
  {
   "cell_type": "code",
   "execution_count": null,
   "metadata": {},
   "outputs": [
    {
     "name": "stdout",
     "output_type": "stream",
     "text": [
      "2587\n",
      "page_content='용 시) \n",
      "• 고속도로 주행 보조가 선택되어 있어야 고속\n",
      "도로 차로변경 보조를 설정할 수 있습니다.\n",
      "• 기능에 이상이 발생하면 설정 할 수 없습니\n",
      "다. 당사 직영 하이테크센터나 블루핸즈에서\n",
      "점검을 받으십시오.\n",
      "• 시동을 껐다가 걸어도 기능 설정은 유지됩니\n",
      "다.' metadata={'producer': '', 'creator': '', 'creationdate': '2025-03-05T09:09:40+09:00', 'source': 'data/car.pdf', 'file_path': 'data/car.pdf', 'total_pages': 506, 'format': 'PDF 1.4', 'title': '', 'author': '', 'subject': '', 'keywords': '', 'moddate': '2025-03-05T09:09:40+09:00', 'trapped': '', 'modDate': \"D:20250305090940+09'00'\", 'creationDate': \"D:20250305090940+09'00'\", 'page': 389}\n"
     ]
    }
   ],
   "source": [
    "print(len(chunks))\n",
    "print(chunks[2000])"
   ]
  },
  {
   "cell_type": "code",
   "execution_count": 19,
   "metadata": {},
   "outputs": [],
   "source": [
    "from langchain_openai import OpenAIEmbeddings\n",
    "from langchain_chroma import Chroma\n",
    "\n",
    "embedding = OpenAIEmbeddings()\n",
    "db = Chroma.from_documents(\n",
    "    documents=chunks,\n",
    "    embedding=embedding,\n",
    "    persist_directory='db/chroma_db',\n",
    "    collection_name='car_manual'\n",
    ")"
   ]
  },
  {
   "cell_type": "code",
   "execution_count": null,
   "metadata": {},
   "outputs": [
    {
     "name": "stdout",
     "output_type": "stream",
     "text": [
      "안전 및 차량 손상 경고\n",
      "본 취급설명서에는 고객 및 차량의 안전을 위해 유의해야 할 사항과 제품 사용에 대한 정확한 정보\n",
      "를 알리는 안전경고 표시가 포함되어 있습니다. 지시사항을 반드시 숙지하고 준수하십시오.\n",
      "경고, 주의표시\n",
      "경고, 주의가 있는 문장 및 진하게 표시되어 있는 부분은 특히 유념하\n",
      "십시오.\n",
      "҃Ҋ\n",
      " 부상이나 사망의 우려가 있는 경우를 나타내는 표시입니다.\n",
      " \n",
      " ઱੄\n",
      " 차량이 고장나거나 손상될 우려가 있는 경우를 나타내는 표시입니\n",
      "다.\n",
      " \n",
      "ঌইفӝ\n",
      " 차량 용어 설명 또는 추가 설명을 나타내는 표시입니다.\n",
      " \n",
      "안전을 위해 반드시 지켜야 하는 사항을 나타내는 표시입니다.\n",
      "선택 또는 미장착 \n",
      "사양표시\n",
      "본 취급설명서에는 모든 트림모델 및 선택 사양을 포함하여 설명하고\n",
      "있습니다.\n",
      "고객님의 차량에 장착되지 않는 사양에 대한 설명이 포함될 수 있습\n",
      "니다.\n"
     ]
    }
   ],
   "source": [
    "print(len(db.get()['ids']))\n",
    "print(db.get()['documents'][0])"
   ]
  },
  {
   "cell_type": "code",
   "execution_count": 29,
   "metadata": {},
   "outputs": [
    {
     "data": {
      "text/plain": [
       "[Document(id='bf44cb79-803d-4d02-a3e9-283c3b50660a', metadata={'author': '', 'creationDate': \"D:20250305090940+09'00'\", 'creationdate': '2025-03-05T09:09:40+09:00', 'creator': '', 'file_path': 'data/car.pdf', 'format': 'PDF 1.4', 'keywords': '', 'modDate': \"D:20250305090940+09'00'\", 'moddate': '2025-03-05T09:09:40+09:00', 'page': 9, 'producer': '', 'source': 'data/car.pdf', 'subject': '', 'title': '', 'total_pages': 506, 'trapped': ''}, page_content='차량 살펴보기\\n1-4\\n차량 내부\\n차량 내부의 조작부 위치와 명칭을 확인하십시오.\\n• 부품명 옆에 표시된 참고 페이지에서 상세 사용 정보를 확인할 수 있습니다.\\n크래시 패드 및 중앙 콘솔\\n1C_CenterInsideVehicleOverview\\n(1) 경음기 .........................................................................................................................5-41\\n(2) 클러스터 ......................................................................................................................4-2\\n(3) 운전석 에어백 ............................................................................................................3-49\\n(4) 시동 버튼 .....................................................................................................................6-4\\n(5) 인포테인먼트 시스템 .................................................................................................5-135\\n(6) 비상등 ..........................................................................................................................8-2'),\n",
       " Document(id='5bb9e90b-ce85-477f-8429-371d38cdcda4', metadata={'author': '', 'creationDate': \"D:20250305090940+09'00'\", 'creationdate': '2025-03-05T09:09:40+09:00', 'creator': '', 'file_path': 'data/car.pdf', 'format': 'PDF 1.4', 'keywords': '', 'modDate': \"D:20250305090940+09'00'\", 'moddate': '2025-03-05T09:09:40+09:00', 'page': 465, 'producer': '', 'source': 'data/car.pdf', 'subject': '', 'title': '', 'total_pages': 506, 'trapped': ''}, page_content='차량의 유지보수\\n9-20\\n1C_LabelSubjectToSafetyConfirmation'),\n",
       " Document(id='3b8abe16-cf2b-4c95-aae0-f0c440e00b24', metadata={'author': '', 'creationDate': \"D:20250305090940+09'00'\", 'creationdate': '2025-03-05T09:09:40+09:00', 'creator': '', 'file_path': 'data/car.pdf', 'format': 'PDF 1.4', 'keywords': '', 'modDate': \"D:20250305090940+09'00'\", 'moddate': '2025-03-05T09:09:40+09:00', 'page': 7, 'producer': '', 'source': 'data/car.pdf', 'subject': '', 'title': '', 'total_pages': 506, 'trapped': ''}, page_content='차량 살펴보기\\n1-2\\n차량 외부\\n차량을 구성하는 각 부분의 명칭을 확인하십시오.\\n• 부품명 옆에 표시된 참고 페이지에서 상세 사용 정보를 확인할 수 있습니다.\\n전면\\n1C_OutsideVehicleFrontOverview\\n(1) 엔진 후드 ....................................................................................................................5-58\\n(2) 앞유리 와이퍼 ...................................................................................................5-98, 9-22\\n(3) 전방 카메라 .............................................................................................................. 7-100\\n(4) 듀얼 와이드 선루프 .....................................................................................................5-54\\n(5) 전방 레이더 ..................................................................................................................7-8\\n(6) 램프(앞) ...........................................................................................................5-85, 9-38'),\n",
       " Document(id='d0a9bccf-9936-415d-9f03-b63fcd77f894', metadata={'author': '', 'creationDate': \"D:20250305090940+09'00'\", 'creationdate': '2025-03-05T09:09:40+09:00', 'creator': '', 'file_path': 'data/car.pdf', 'format': 'PDF 1.4', 'keywords': '', 'modDate': \"D:20250305090940+09'00'\", 'moddate': '2025-03-05T09:09:40+09:00', 'page': 4, 'producer': '', 'source': 'data/car.pdf', 'subject': '', 'title': '', 'total_pages': 506, 'trapped': ''}, page_content='목차\\n2\\n3\\n4\\n5\\n6\\n7\\n8\\n9\\nI\\n보증서/ 보증수리서\\n1\\n차량 살펴보기\\n안전 및 주의사항\\n시트 및 안전 장치\\n클러스터\\n편의 장치\\n시동 및 주행\\n운전자 보조\\n비상시 응급조치\\n차량의 유지보수\\n색인')]"
      ]
     },
     "execution_count": 29,
     "metadata": {},
     "output_type": "execute_result"
    }
   ],
   "source": [
    "db.similarity_search('차대번호 확인방법')"
   ]
  },
  {
   "cell_type": "code",
   "execution_count": 30,
   "metadata": {},
   "outputs": [],
   "source": [
    "retriever = db.as_retriever(search_kwargs={\"k\": 5})"
   ]
  },
  {
   "cell_type": "code",
   "execution_count": 31,
   "metadata": {},
   "outputs": [],
   "source": [
    "from langchain_core.prompts import PromptTemplate\n",
    "\n",
    "# 프롬프트 작성\n",
    "prompt = PromptTemplate.from_template(\n",
    "    \"\"\"\n",
    "    You are an assistant for question-answering tasks.\n",
    "    Use the following pieces of retrieved context to answer the question.\n",
    "    If you don't know the answer, just say that you don't know.\n",
    "    Answer in korean.\n",
    "    \n",
    "    question:\n",
    "    {question}\n",
    "    \n",
    "    context:\n",
    "    {context}\n",
    "    \n",
    "    answer:\n",
    "    \"\"\"\n",
    ")"
   ]
  },
  {
   "cell_type": "code",
   "execution_count": 32,
   "metadata": {},
   "outputs": [],
   "source": [
    "from langchain_openai import ChatOpenAI\n",
    "\n",
    "# LLM 생성\n",
    "# ollama 확장자 gguf\n",
    "llm = ChatOpenAI(model_name='gpt-4o-mini', temperature=0)\n"
   ]
  },
  {
   "cell_type": "code",
   "execution_count": 33,
   "metadata": {},
   "outputs": [],
   "source": [
    "from langchain_core.runnables import RunnablePassthrough\n",
    "from langchain_core.output_parsers import StrOutputParser\n",
    "\n",
    "\n",
    "# 체인 생성 - 유저 질문, 검색, 답변\n",
    "chain = (\n",
    "    {'context': retriever, 'question': RunnablePassthrough()}\n",
    "    | prompt\n",
    "    | llm\n",
    "    | StrOutputParser()\n",
    ")\n"
   ]
  },
  {
   "cell_type": "code",
   "execution_count": 36,
   "metadata": {},
   "outputs": [
    {
     "name": "stdout",
     "output_type": "stream",
     "text": [
      "연료가 떨어졌다면 주유소에 가서 연료를 보충해야 합니다. 주유소에 도착하기 전에 엔진을 끄고, 주유가 끝난 후에는 연료 주입구 캡을 잘 잠그는 것을 잊지 마세요.\n"
     ]
    }
   ],
   "source": [
    "response = chain.invoke(\"연료가 떨어졌어\")\n",
    "print(response)"
   ]
  },
  {
   "cell_type": "code",
   "execution_count": 37,
   "metadata": {},
   "outputs": [
    {
     "name": "stdout",
     "output_type": "stream",
     "text": [
      "브레이크 사용법에 대한 몇 가지 중요한 사항은 다음과 같습니다:\n",
      "\n",
      "1. **브레이크 페달 사용**: 브레이크 페달을 여러 번 나누어 밟는 것이 좋습니다. 2-3회에 걸쳐 나누어 밟으면 브레이크 성능이 향상되고 후방 차량에게 제동 상황을 미리 알릴 수 있습니다.\n",
      "\n",
      "2. **내리막길 주행**: 가파르거나 긴 내리막길에서는 브레이크 페달을 계속 밟지 말고 저단 기어를 사용하거나 엔진 브레이크를 함께 사용하여 속도를 줄이십시오. 브레이크를 장시간 밟으면 과열되어 제동 성능이 저하될 수 있습니다.\n",
      "\n",
      "3. **브레이크 성능 점검**: 물이 고인 장소를 주행하거나 차량을 세차한 후에는 브레이크 성능을 점검해야 합니다. 브레이크가 젖으면 정상적으로 작동하지 않을 수 있으므로, 안전한 장소에서 브레이크를 가볍게 밟아 브레이크를 건조시키십시오.\n",
      "\n",
      "4. **브레이크 패드 점검**: 브레이크 패드가 마모된 경우 차량의 제동 성능이 떨어져 심각한 사고가 발생할 수 있으므로 정기적으로 점검하고 필요 시 교체해야 합니다.\n",
      "\n",
      "5. **주차 브레이크 사용**: 차량을 주차할 때는 브레이크 페달을 밟고 주차 브레이크를 거는 것이 중요합니다. \n",
      "\n",
      "이 외에도 차량의 사용 매뉴얼을 참고하여 안전하게 브레이크를 사용하시기 바랍니다.\n"
     ]
    }
   ],
   "source": [
    "response = chain.invoke(\"브레이크 사용법\")\n",
    "print(response)"
   ]
  },
  {
   "cell_type": "code",
   "execution_count": 38,
   "metadata": {},
   "outputs": [
    {
     "name": "stdout",
     "output_type": "stream",
     "text": [
      "차대번호 확인 방법에 대한 정보는 제공되지 않았습니다. 따라서 정확한 답변을 드릴 수 없습니다.\n"
     ]
    }
   ],
   "source": [
    "response = chain.invoke(\"차대번호 확인 방법\")\n",
    "print(response)"
   ]
  },
  {
   "cell_type": "code",
   "execution_count": 39,
   "metadata": {},
   "outputs": [
    {
     "name": "stdout",
     "output_type": "stream",
     "text": [
      "김상겸에 대한 정보는 제공된 문서에서 찾을 수 없습니다. 따라서 김상겸이 누구인지에 대한 답변을 드릴 수 없습니다.\n"
     ]
    }
   ],
   "source": [
    "response = chain.invoke(\"김상겸이 누구야\")\n",
    "print(response)"
   ]
  },
  {
   "cell_type": "markdown",
   "metadata": {},
   "source": [
    "### 대화를 기억하는 RAG"
   ]
  },
  {
   "cell_type": "code",
   "execution_count": null,
   "metadata": {},
   "outputs": [],
   "source": [
    "from langchain_community.document_loaders import PyMuPDFLoader\n",
    "from langchain.text_splitter import RecursiveCharacterTextSplitter\n",
    "from langchain_openai import OpenAIEmbeddings\n",
    "from langchain_chroma import Chroma\n",
    "\n",
    "loader = PyMuPDFLoader(\"data/car.pdf\")\n",
    "docs = loader.load()\n",
    "print(f'문서 페이지 수: {len(docs)}')\n",
    "\n",
    "splitter = RecursiveCharacterTextSplitter(chunk_size=1000, chunk_overlap=100)\n",
    "chunks = splitter.split_documents(docs)\n",
    "print(f'청크의수: {len(chunks)}')\n",
    "\n",
    "embedding = OpenAIEmbeddings()\n",
    "db = Chroma.from_documents(\n",
    "    documents=chunks,\n",
    "    embedding=embedding,\n",
    "    persist_directory='db/chroma_db',\n",
    "    collection_name='car_manual'\n",
    ")"
   ]
  },
  {
   "cell_type": "code",
   "execution_count": 40,
   "metadata": {},
   "outputs": [],
   "source": [
    "from langchain_core.prompts import PromptTemplate\n",
    "from langchain_openai import ChatOpenAI\n",
    "from langchain_core.runnables import RunnablePassthrough\n",
    "from langchain_core.output_parsers import StrOutputParser\n",
    "\n",
    "from operator import itemgetter  # 특정 키값의 데이터를 뽑아오는 기능\n",
    "\n",
    "\n",
    "# 대화를 기억하는 프롬프트 작성\n",
    "prompt = PromptTemplate.from_template(\n",
    "    \"\"\"\n",
    "    You are an assistant for question-answering tasks.\n",
    "    Use the following pieces of retrieved context to answer the question.\n",
    "    If you don't know the answer, just say that you don't know.\n",
    "    Answer in korean.\n",
    "    \n",
    "    previous chat history:\n",
    "    {chat_history}\n",
    "    \n",
    "    question:\n",
    "    {question}\n",
    "    \n",
    "    context:\n",
    "    {context}\n",
    "    \n",
    "    answer:\n",
    "    \"\"\"\n",
    ")\n",
    "\n",
    "llm = ChatOpenAI(model_name='gpt-4o-mini', temperature=0)\n",
    "\n",
    "chain = (\n",
    "    # {'context': retriever, 'question': RunnablePassthrough()}\n",
    "    {\n",
    "        'context': itemgetter('question') | retriever,\n",
    "        'question': itemgetter('question'),\n",
    "        'chat_history': itemgetter('chat_history')\n",
    "    }\n",
    "    | prompt\n",
    "    | llm\n",
    "    | StrOutputParser()\n",
    ")\n",
    "\n"
   ]
  },
  {
   "cell_type": "code",
   "execution_count": 41,
   "metadata": {},
   "outputs": [],
   "source": [
    "from langchain_community.chat_message_histories import ChatMessageHistory  # 한 사람의 대화 내용 기록\n",
    "from langchain_core.runnables.history import RunnableWithMessageHistory  # 프롬프트와 메모리를 체인으로 묶어서 사용하기 위해\n",
    "\n",
    "history_memory = {}\n",
    "def get_session_history(session_ids):\n",
    "    if session_ids not in history_memory:\n",
    "        history_memory[session_ids] = ChatMessageHistory()    \n",
    "    return history_memory[session_ids]\n",
    "\n",
    "\n",
    "\n",
    "history_chain = RunnableWithMessageHistory(\n",
    "    chain,\n",
    "    # ChatMessageHistory(),  # 한 사람이 사용하는 서비스인 경우\n",
    "    get_session_history,\n",
    "    input_messages_key='question',\n",
    "    history_messages_key='chat_history'\n",
    ")\n"
   ]
  },
  {
   "cell_type": "code",
   "execution_count": 47,
   "metadata": {},
   "outputs": [
    {
     "data": {
      "text/plain": [
       "'브레이크 패드의 교체 주기는 명시되어 있지 않지만, 브레이크 패드가 마모된 상태로 차량을 계속 주행하지 말고 정기적으로 브레이크 패드의 마모 상태를 점검해야 한다고 언급되어 있습니다. 필요한 경우 전문 센터에서 점검하고 교체하는 것이 좋습니다.'"
      ]
     },
     "execution_count": 47,
     "metadata": {},
     "output_type": "execute_result"
    }
   ],
   "source": [
    "history_chain.invoke(\n",
    "    {'question': '브레이크 패드 교체 주기는?'},\n",
    "    config={'configurable': {'session_id': 'user123'}}\n",
    ")"
   ]
  },
  {
   "cell_type": "code",
   "execution_count": 48,
   "metadata": {},
   "outputs": [
    {
     "data": {
      "text/plain": [
       "'마모된 상태란 브레이크 패드가 사용되면서 점차 닳아 없어지는 상태를 의미합니다. 브레이크 패드가 마모되면 제동 성능이 저하되어 안전에 문제가 생길 수 있으므로, 정기적으로 점검하고 필요할 경우 교체해야 합니다.'"
      ]
     },
     "execution_count": 48,
     "metadata": {},
     "output_type": "execute_result"
    }
   ],
   "source": [
    "history_chain.invoke(\n",
    "    {'question': '마모된 상태가 뭐야?'},\n",
    "    config={'configurable': {'session_id': 'user123'}}\n",
    ")"
   ]
  },
  {
   "cell_type": "code",
   "execution_count": 49,
   "metadata": {},
   "outputs": [
    {
     "data": {
      "text/plain": [
       "'마모된 상태는 일반적으로 어떤 물체나 기계의 표면이 사용이나 마찰로 인해 닳아 없어지거나 손상된 상태를 의미합니다. 이 상태는 성능 저하나 고장을 초래할 수 있습니다.'"
      ]
     },
     "execution_count": 49,
     "metadata": {},
     "output_type": "execute_result"
    }
   ],
   "source": [
    "history_chain.invoke(\n",
    "    {'question': '마모된 상태가 뭐야?'},\n",
    "    config={'configurable': {'session_id': 'user124'}}\n",
    ")"
   ]
  }
 ],
 "metadata": {
  "kernelspec": {
   "display_name": "lang_311",
   "language": "python",
   "name": "python3"
  },
  "language_info": {
   "codemirror_mode": {
    "name": "ipython",
    "version": 3
   },
   "file_extension": ".py",
   "mimetype": "text/x-python",
   "name": "python",
   "nbconvert_exporter": "python",
   "pygments_lexer": "ipython3",
   "version": "3.11.11"
  }
 },
 "nbformat": 4,
 "nbformat_minor": 2
}
