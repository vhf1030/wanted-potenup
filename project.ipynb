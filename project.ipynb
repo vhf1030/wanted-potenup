{
 "cells": [
  {
   "cell_type": "markdown",
   "metadata": {},
   "source": [
    "# 스팀 게임 데이터 분석\n",
    "- 게임 리뷰 / 뉴스\n",
    "- 인디게임 개발 트랜드\n",
    "- 게임 플레이 시간과 리뷰 점수의 상관관계\n",
    "- 유저 이탈률 예측\n",
    "- 시간에 따른 게임 개발 트렌드 변화"
   ]
  },
  {
   "cell_type": "code",
   "execution_count": 1,
   "metadata": {},
   "outputs": [],
   "source": [
    "import os\n",
    "import sys\n",
    "if os.getcwd() not in sys.path:\n",
    "    sys.path.append(os.getcwd())\n",
    "\n",
    "import pprint\n",
    "import requests\n",
    "from config import keys\n",
    "api_key = keys.STEAM_API_KEY\n",
    "\n"
   ]
  },
  {
   "cell_type": "code",
   "execution_count": 16,
   "metadata": {},
   "outputs": [
    {
     "name": "stdout",
     "output_type": "stream",
     "text": [
      "{\"achievementpercentages\":{\"achievements\":[{\"name\":\"HeatBurst\",\"percent\":89.5},{\"name\":\"BattleTornado\",\"percent\":88.4000015258789063},{\"name\":\"HeatTechnique\",\"percent\":87.1999969482421875},{\"name\":\"Practicedamage\",\"percent\":85.8000030517578125},{\"name\":\"recoverygauge\",\"percent\":84.5},{\"name\":\"BattlePerfect\",\"percent\":83.5999984741210938},{\"name\":\"RageDamage\",\"percent\":80.0999984741210938},{\"name\":\"BattleGreat\",\"percent\":80},{\"name\":\"HeatSmash\",\"percent\":75.9000015258789063},{\"name\":\"BattleCombo70\",\"percent\":75.9000015258789063},{\"name\":\"Customize\",\"percent\":74.6999969482421875},{\"name\":\"OnlineBattle10wins\",\"percent\":72.1999969482421875},{\"name\":\"HeatDash\",\"percent\":66.5999984741210938},{\"name\":\"BattleRageArts\",\"percent\":66.4000015258789063},{\"name\":\"FightMoney\",\"percent\":65.5},{\"name\":\"RankMatchWin\",\"percent\":65},{\"name\":\"FloorBlast\",\"percent\":64.9000015258789063},{\"name\":\"FloorBreak\",\"percent\":64.6999969482421875},{\"name\":\"WallBound\",\"percent\":64},{\"name\":\"Promote1st\",\"percent\":61.4000015258789063},{\"name\":\"WallBreak\",\"percent\":59.7999992370605469},{\"name\":\"WallBlast\",\"percent\":57},{\"name\":\"Promote2nd\",\"percent\":54.2000007629394531},{\"name\":\"PlayerMatchWin\",\"percent\":49.0999984741210938},{\"name\":\"StoryModeClearACT1\",\"percent\":47.2999992370605469},{\"name\":\"PracticeCombo\",\"percent\":47.2000007629394531},{\"name\":\"AQWinHome\",\"percent\":46.9000015258789063},{\"name\":\"Promote3rd\",\"percent\":45.7000007629394531},{\"name\":\"TresureHunt\",\"percent\":43.7000007629394531},{\"name\":\"StoryModeClearACT7\",\"percent\":37.5},{\"name\":\"Hit30Chain\",\"percent\":34},{\"name\":\"StoryModeClearACT12\",\"percent\":33.2000007629394531},{\"name\":\"StoryModeClearJIN\",\"percent\":32.2999992370605469},{\"name\":\"ArcadeBattleClear\",\"percent\":31.7999992370605469},{\"name\":\"MyReplayTips\",\"percent\":23.2999992370605469},{\"name\":\"AQWinGhost\",\"percent\":22.2000007629394531},{\"name\":\"AQWinAway\",\"percent\":21.1000003814697266},{\"name\":\"WinDiscGhost\",\"percent\":20.1000003814697266},{\"name\":\"AQClear\",\"percent\":19.7999992370605469},{\"name\":\"WinGhostPlayer\",\"percent\":18.7000007629394531},{\"name\":\"GroupMatchWin\",\"percent\":17.1000003814697266},{\"name\":\"EpisodeClear5\",\"percent\":16.2000007629394531},{\"name\":\"WinDiscGhostBoss\",\"percent\":11.6999998092651367},{\"name\":\"MagicBall\",\"percent\":11.5},{\"name\":\"EpisodeClear10\",\"percent\":10.6000003814697266},{\"name\":\"StoryModeClearKazuya\",\"percent\":5.19999980926513672},{\"name\":\"AllClear\",\"percent\":2.70000004768371582}]}}\n",
      "{'achievementpercentages': {'achievements': [{'name': 'HeatBurst', 'percent': 89.5}, {'name': 'BattleTornado', 'percent': 88.4000015258789}, {'name': 'HeatTechnique', 'percent': 87.19999694824219}, {'name': 'Practicedamage', 'percent': 85.80000305175781}, {'name': 'recoverygauge', 'percent': 84.5}, {'name': 'BattlePerfect', 'percent': 83.5999984741211}, {'name': 'RageDamage', 'percent': 80.0999984741211}, {'name': 'BattleGreat', 'percent': 80}, {'name': 'HeatSmash', 'percent': 75.9000015258789}, {'name': 'BattleCombo70', 'percent': 75.9000015258789}, {'name': 'Customize', 'percent': 74.69999694824219}, {'name': 'OnlineBattle10wins', 'percent': 72.19999694824219}, {'name': 'HeatDash', 'percent': 66.5999984741211}, {'name': 'BattleRageArts', 'percent': 66.4000015258789}, {'name': 'FightMoney', 'percent': 65.5}, {'name': 'RankMatchWin', 'percent': 65}, {'name': 'FloorBlast', 'percent': 64.9000015258789}, {'name': 'FloorBreak', 'percent': 64.69999694824219}, {'name': 'WallBound', 'percent': 64}, {'name': 'Promote1st', 'percent': 61.400001525878906}, {'name': 'WallBreak', 'percent': 59.79999923706055}, {'name': 'WallBlast', 'percent': 57}, {'name': 'Promote2nd', 'percent': 54.20000076293945}, {'name': 'PlayerMatchWin', 'percent': 49.099998474121094}, {'name': 'StoryModeClearACT1', 'percent': 47.29999923706055}, {'name': 'PracticeCombo', 'percent': 47.20000076293945}, {'name': 'AQWinHome', 'percent': 46.900001525878906}, {'name': 'Promote3rd', 'percent': 45.70000076293945}, {'name': 'TresureHunt', 'percent': 43.70000076293945}, {'name': 'StoryModeClearACT7', 'percent': 37.5}, {'name': 'Hit30Chain', 'percent': 34}, {'name': 'StoryModeClearACT12', 'percent': 33.20000076293945}, {'name': 'StoryModeClearJIN', 'percent': 32.29999923706055}, {'name': 'ArcadeBattleClear', 'percent': 31.799999237060547}, {'name': 'MyReplayTips', 'percent': 23.299999237060547}, {'name': 'AQWinGhost', 'percent': 22.200000762939453}, {'name': 'AQWinAway', 'percent': 21.100000381469727}, {'name': 'WinDiscGhost', 'percent': 20.100000381469727}, {'name': 'AQClear', 'percent': 19.799999237060547}, {'name': 'WinGhostPlayer', 'percent': 18.700000762939453}, {'name': 'GroupMatchWin', 'percent': 17.100000381469727}, {'name': 'EpisodeClear5', 'percent': 16.200000762939453}, {'name': 'WinDiscGhostBoss', 'percent': 11.699999809265137}, {'name': 'MagicBall', 'percent': 11.5}, {'name': 'EpisodeClear10', 'percent': 10.600000381469727}, {'name': 'StoryModeClearKazuya', 'percent': 5.199999809265137}, {'name': 'AllClear', 'percent': 2.700000047683716}]}}\n"
     ]
    }
   ],
   "source": [
    "url = \"http://api.steampowered.com/ISteamUserStats/GetGlobalAchievementPercentagesForApp/v0002/\"\n",
    "params = {\n",
    "    \"key\": api_key,\n",
    "    \"gameid\": 1778820\n",
    "}\n",
    "\n",
    "res = requests.get(url, params=params)\n",
    "print(res.text)\n",
    "res_dict = dict(res.json())\n",
    "print(res_dict)\n",
    "\n",
    "# TODO: 활용 가능한 데이터 탐색해보기"
   ]
  }
 ],
 "metadata": {
  "kernelspec": {
   "display_name": "ml",
   "language": "python",
   "name": "python3"
  },
  "language_info": {
   "codemirror_mode": {
    "name": "ipython",
    "version": 3
   },
   "file_extension": ".py",
   "mimetype": "text/x-python",
   "name": "python",
   "nbconvert_exporter": "python",
   "pygments_lexer": "ipython3",
   "version": "3.12.8"
  }
 },
 "nbformat": 4,
 "nbformat_minor": 2
}
