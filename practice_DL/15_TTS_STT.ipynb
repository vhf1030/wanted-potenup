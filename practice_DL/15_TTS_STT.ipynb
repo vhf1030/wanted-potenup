{
 "cells": [
  {
   "cell_type": "markdown",
   "metadata": {},
   "source": [
    "### STT (Speech to Text)"
   ]
  },
  {
   "cell_type": "code",
   "execution_count": 5,
   "metadata": {},
   "outputs": [
    {
     "name": "stdout",
     "output_type": "stream",
     "text": [
      "듣는 중...\n",
      "User: 여보세요\n",
      "User: it's a call is it's office and us heroes fund\n"
     ]
    }
   ],
   "source": [
    "import speech_recognition as sr\n",
    "\n",
    "recognizer = sr.Recognizer()\n",
    "\n",
    "with sr.Microphone() as source:\n",
    "    print(\"듣는 중...\")\n",
    "    audio = recognizer.listen(source)\n",
    "    try:\n",
    "        audio_text = recognizer.recognize_google(audio, language=\"ko-KR\")\n",
    "        print(f\"User: {audio_text}\")\n",
    "    except Exception as e:\n",
    "        print(\"문제가 발생했습니다.\")\n",
    "        print(e)\n",
    "    try:\n",
    "        audio_text2 = recognizer.recognize_sphinx(audio, language=\"en-US\")\n",
    "        print(f\"User: {audio_text2}\")\n",
    "    except Exception as e:\n",
    "        print(\"문제가 발생했습니다.\")\n",
    "        print(e)"
   ]
  },
  {
   "cell_type": "markdown",
   "metadata": {},
   "source": [
    "### TTS (Text to Speech)"
   ]
  },
  {
   "cell_type": "code",
   "execution_count": 6,
   "metadata": {},
   "outputs": [
    {
     "name": "stdout",
     "output_type": "stream",
     "text": [
      "Chatbot: 안녕하세요 반갑습니다\n"
     ]
    }
   ],
   "source": [
    "import pyttsx3\n",
    "\n",
    "engine = pyttsx3.init()\n",
    "\n",
    "voices = engine.getProperty(\"voices\")\n",
    "for voice in voices:\n",
    "    if \"korean\" in voice.name.lower():\n",
    "        engine.setProperty(\"voice\", voice.id)\n",
    "        break\n",
    "    \n",
    "engine.setProperty(\"rate\", 200)  # 말하는 속도 조절\n",
    "engine.setProperty(\"volume\", 1.0)  # 볼륨(1.0 ~ 100%)\n",
    "# engine.setProperty(\"voice\", voices[0].id)\n",
    "\n",
    "text = \"안녕하세요 반갑습니다\"\n",
    "print(f\"Chatbot: {text}\")\n",
    "\n",
    "engine.say(text)\n",
    "engine.runAndWait()\n",
    "\n",
    "    "
   ]
  },
  {
   "cell_type": "markdown",
   "metadata": {},
   "source": [
    "### STT + TTS"
   ]
  },
  {
   "cell_type": "code",
   "execution_count": null,
   "metadata": {},
   "outputs": [
    {
     "name": "stdout",
     "output_type": "stream",
     "text": [
      "듣는 중...\n",
      "User: 안녕하세요\n",
      "Chatbot: 알겠습니다\n",
      "듣는 중...\n",
      "User: 그만\n",
      "Chatbot: 그만\n"
     ]
    }
   ],
   "source": [
    "import speech_recognition as sr\n",
    "import pyttsx3\n",
    "\n",
    "# 음성 인식 객체 초기화\n",
    "recognizer = sr.Recognizer()\n",
    "\n",
    "# 음성 합성 엔진 초기화\n",
    "def init_speaker():\n",
    "    engine = pyttsx3.init()\n",
    "    engine.setProperty('rate', 200)  # 말하는 속도 조절\n",
    "    engine.setProperty('volume', 1.0)  # 볼륨 조절 (0.0 ~ 1.0)\n",
    "    return engine\n",
    "\n",
    "audio_text = \"\"\n",
    "\n",
    "while True:\n",
    "    with sr.Microphone() as source:\n",
    "        print(\"듣는 중...\")\n",
    "        # 배경 소음 조정 (안정적인 인식)\n",
    "        recognizer.adjust_for_ambient_noise(source, duration=1)\n",
    "        audio = recognizer.listen(source)\n",
    "\n",
    "        try:\n",
    "            audio_text = recognizer.recognize_google(audio, language=\"ko-KR\")\n",
    "            print(f\"User: {audio_text}\")\n",
    "        except sr.UnknownValueError:\n",
    "            print(\"음성을 인식할 수 없습니다. 다시 말해주세요.\")\n",
    "            continue\n",
    "        except sr.RequestError:\n",
    "            print(\"음성 인식 서비스에 연결할 수 없습니다.\")\n",
    "            continue\n",
    "        except Exception as e:\n",
    "            print(\"문제가 발생했습니다:\", e)\n",
    "            continue\n",
    "\n",
    "    # \"그만\"이라고 하면 종료\n",
    "    if audio_text.strip() == \"그만\":\n",
    "        text = \"그만\"\n",
    "        print(f\"Chatbot: {text}\")\n",
    "        \n",
    "        engine = init_speaker()\n",
    "        engine.say(text)\n",
    "        engine.runAndWait()\n",
    "        engine.stop()  # 이벤트 큐 초기화\n",
    "        break\n",
    "\n",
    "    # 기본 응답\n",
    "    text = \"알겠습니다\"\n",
    "    print(f\"Chatbot: {text}\")\n",
    "\n",
    "    engine = init_speaker()\n",
    "    engine.say(text)\n",
    "    engine.runAndWait()\n",
    "    engine.stop()  # 이벤트 큐 초기화\n"
   ]
  },
  {
   "cell_type": "code",
   "execution_count": null,
   "metadata": {},
   "outputs": [],
   "source": [
    "engine.endLoop()"
   ]
  },
  {
   "cell_type": "markdown",
   "metadata": {},
   "source": [
    "### gemini 연동"
   ]
  },
  {
   "cell_type": "code",
   "execution_count": 1,
   "metadata": {},
   "outputs": [
    {
     "name": "stderr",
     "output_type": "stream",
     "text": [
      "/opt/homebrew/anaconda3/envs/wanted_potenup/lib/python3.12/site-packages/tqdm/auto.py:21: TqdmWarning: IProgress not found. Please update jupyter and ipywidgets. See https://ipywidgets.readthedocs.io/en/stable/user_install.html\n",
      "  from .autonotebook import tqdm as notebook_tqdm\n"
     ]
    },
    {
     "name": "stdout",
     "output_type": "stream",
     "text": [
      "models/gemini-1.0-pro-latest\n",
      "models/gemini-1.0-pro\n",
      "models/gemini-pro\n",
      "models/gemini-1.0-pro-001\n",
      "models/gemini-1.0-pro-vision-latest\n",
      "models/gemini-pro-vision\n",
      "models/gemini-1.5-pro-latest\n",
      "models/gemini-1.5-pro-001\n",
      "models/gemini-1.5-pro-002\n",
      "models/gemini-1.5-pro\n",
      "models/gemini-1.5-flash-latest\n",
      "models/gemini-1.5-flash-001\n",
      "models/gemini-1.5-flash-001-tuning\n",
      "models/gemini-1.5-flash\n",
      "models/gemini-1.5-flash-002\n",
      "models/gemini-1.5-flash-8b\n",
      "models/gemini-1.5-flash-8b-001\n",
      "models/gemini-1.5-flash-8b-latest\n",
      "models/gemini-1.5-flash-8b-exp-0827\n",
      "models/gemini-1.5-flash-8b-exp-0924\n",
      "models/gemini-2.0-flash-exp\n",
      "models/gemini-2.0-flash\n",
      "models/gemini-2.0-flash-001\n",
      "models/gemini-2.0-flash-lite-preview\n",
      "models/gemini-2.0-flash-lite-preview-02-05\n",
      "models/gemini-2.0-pro-exp\n",
      "models/gemini-2.0-pro-exp-02-05\n",
      "models/gemini-exp-1206\n",
      "models/gemini-2.0-flash-thinking-exp-01-21\n",
      "models/gemini-2.0-flash-thinking-exp\n",
      "models/gemini-2.0-flash-thinking-exp-1219\n",
      "models/learnlm-1.5-pro-experimental\n"
     ]
    }
   ],
   "source": [
    "import textwrap\n",
    "import google.generativeai as genai\n",
    "from config.api_keys import gemini_key\n",
    "\n",
    "genai.configure(api_key=gemini_key)\n",
    "for m in genai.list_models():\n",
    "  if 'generateContent' in m.supported_generation_methods:\n",
    "    print(m.name)"
   ]
  },
  {
   "cell_type": "code",
   "execution_count": 27,
   "metadata": {},
   "outputs": [
    {
     "data": {
      "text/markdown": [
       "> 인생의 의미는 보편적인 답이 없는 질문입니다.  각 개인에게 인생의 의미는 다르게 정의될 수 있으며, 그 의미는 시간이 지남에 따라 변화할 수도 있습니다.  \n",
       "> \n",
       "> 다만, 많은 사람들이 인생의 의미를 찾는 과정에서 다음과 같은 요소들을 고려합니다.\n",
       "> \n",
       "> * **관계:** 사랑하는 사람들과의 유대감, 사회적 연결, 공동체 의식 등은 인생에 목적의식과 의미를 부여합니다.\n",
       "> * **성장:** 개인적인 성장, 새로운 기술 습득, 지식의 탐구, 자기 발전 등은 삶에 활력과 만족감을 가져다줍니다.\n",
       "> * **기여:** 사회에 기여하고, 다른 사람들에게 긍정적인 영향을 미치는 것은 삶의 의미를 찾는 중요한 요소가 될 수 있습니다.\n",
       "> * **경험:** 새로운 것을 경험하고, 모험을 하고, 세상을 탐구하는 것은 인생을 풍요롭게 만들어줍니다.\n",
       "> * **목표 달성:** 목표를 설정하고 그것을 달성하는 과정은 성취감과 만족감을 가져다주며, 삶의 방향을 제시합니다.\n",
       "> * **가치관:** 자신의 가치관에 따라 삶을 살아가는 것은 삶에 일관성과 의미를 부여합니다.\n",
       "> * **정신적/영적 성찰:**  종교, 명상, 철학 등을 통해 삶의 본질에 대해 고민하고, 자신만의 신념을 정립하는 것은 인생의 의미를 찾는 데 도움이 될 수 있습니다.\n",
       "> \n",
       "> \n",
       "> 결론적으로 인생의 의미는 **스스로 찾아가는 여정**입니다.  다른 사람의 답을 빌리는 것이 아니라, 자신의 경험과 성찰을 통해 자신만의 의미를 발견하는 것이 중요합니다.  끊임없이 질문하고, 탐구하고, 경험하면서 자신에게 맞는 답을 찾아가는 과정 자체가 인생의 의미가 될 수도 있습니다.\n"
      ],
      "text/plain": [
       "<IPython.core.display.Markdown object>"
      ]
     },
     "execution_count": 27,
     "metadata": {},
     "output_type": "execute_result"
    }
   ],
   "source": [
    "from IPython.display import Markdown\n",
    "\n",
    "def to_markdown(text):\n",
    "  text = text.replace('•', '  *')\n",
    "  return Markdown(textwrap.indent(text, '> ', predicate=lambda _: True))\n",
    "\n",
    "model = genai.GenerativeModel('gemini-1.5-flash')\n",
    "response = model.generate_content(\"인생의 의미가 뭐야?\")\n",
    "# response = model.generate_content(\"은하수를 여행하는 히치하이커를 위한 안내서라는 책을 알아?\")\n",
    "# response = model.generate_content(\"그 책에서 말하는 모든 것에 대한 답은 뭐야?\")\n",
    "# print(response)\n",
    "to_markdown(response.text)"
   ]
  },
  {
   "cell_type": "code",
   "execution_count": null,
   "metadata": {},
   "outputs": [
    {
     "name": "stdout",
     "output_type": "stream",
     "text": [
      "인생의 의미는 단 하나로 정의할 수 없습니다.  이는 매우 개인적이고 철학적인 질문이며, 수천 년 동안 사람들이 고민해 온 주제입니다.  다양한 관점이 존재하며, 각자의 경험과 신념에 따라 인생의 의미를 다르게 정의할 수 있습니다.\n",
      "\n",
      "다음은 몇 가지 일반적인 관점입니다:\n",
      "\n",
      "* **자아실현:**  자신의 잠재력을 최대한 발휘하고 성장하는 것.  자신만의 고유한 재능과 강점을 발견하고 계발하며, 목표를 설정하고 달성하는 과정에서 의미를 찾는 것입니다.\n",
      "\n",
      "* **관계:**  가족, 친구, 사랑하는 사람들과의 긍정적인 관계를 맺고, 서로에게 긍정적인 영향을 주고받는 것.  사랑, 연대감, 소속감을 통해 인생의 의미를 발견하는 것입니다.\n",
      "\n",
      "* **기여:**  세상에 긍정적인 영향을 미치고, 다른 사람들에게 도움을 주는 것.  자원봉사, 사회적 활동, 창작 활동 등을 통해 세상을 더 나은 곳으로 만드는 데 기여하며 의미를 찾는 것입니다.\n",
      "\n",
      "* **경험:**  새로운 것을 배우고, 다양한 경험을 통해 성장하고 발전하는 것.  여행, 모험, 새로운 도전을 통해 삶의 풍요로움을 느끼고 의미를 발견하는 것입니다.\n",
      "\n",
      "* **영적 성장:**  자신의 정체성과 존재 이유를 탐구하고, 영적인 성숙을 추구하는 것.  종교, 명상, 자기성찰 등을 통해 삶의 궁극적인 의미를 추구하는 것입니다.\n",
      "\n",
      "* **행복:**  즐거움, 만족감, 평화로운 삶을 추구하는 것.  자신에게 맞는 행복의 기준을 찾고, 그 기준에 맞춰 삶을 살아가는 것입니다.\n",
      "\n",
      "\n",
      "결론적으로, 인생의 의미는 **정해진 답이 없는 질문**입니다.  자신만의 의미를 찾아가는 과정 자체가 인생의 중요한 부분이라고 할 수 있습니다.  자신에게 끊임없이 질문하고, 다양한 경험을 통해 자신만의 답을 찾아가는 여정을 시작해 보세요.\n",
      "\n"
     ]
    }
   ],
   "source": [
    "print(response.text)\n",
    "engine.say(response.text)\n",
    "engine.runAndWait()"
   ]
  },
  {
   "cell_type": "markdown",
   "metadata": {},
   "source": [
    "### OpenAI 연동"
   ]
  },
  {
   "cell_type": "code",
   "execution_count": null,
   "metadata": {},
   "outputs": [
    {
     "name": "stdout",
     "output_type": "stream",
     "text": [
      "인생의 의미는 각자의 생각과 믿음에 따라 다를 수 있어. 어떤 사람들은 자기 자신을 발전시키고 성공을 이루는 것이 의미라고 생각할 수 있고, 또 다른 사람들은 행복을 추구하거나 다른 사람들을 돕는 것이 인생의 의미라고 여길 수 있어. 각자가 자신만의 의미를 찾고 그것을 실현하는 것이 중요한 거 같아."
     ]
    }
   ],
   "source": [
    "from openai import OpenAI\n",
    "from config.api_keys import openai_key\n",
    "\n",
    "client = OpenAI(api_key=openai_key)\n",
    "\n",
    "stream = client.chat.completions.create(\n",
    "    # model=\"gpt-4o-mini\",\n",
    "    model=\"gpt-3.5-turbo\",\n",
    "    messages=[\n",
    "        # {\"role\": \"developer\", \"content\": \"너는 되게 까칠한 아이야. 차갑게 말해줘\"},\n",
    "        {\"role\": \"system\", \"content\": \"너는 되게 까칠한 아이야. 차갑게 말해줘.\"},\n",
    "        {\"role\": \"user\", \"content\": \"인생의 의미가 뭐야?\"}\n",
    "    ],\n",
    "    stream=True,\n",
    ")\n",
    "for chunk in stream:\n",
    "    if chunk.choices[0].delta.content is not None:\n",
    "        print(chunk.choices[0].delta.content, end=\"\")"
   ]
  },
  {
   "cell_type": "code",
   "execution_count": null,
   "metadata": {},
   "outputs": [
    {
     "name": "stdout",
     "output_type": "stream",
     "text": [
      "ChatCompletion(id='chatcmpl-B2Yv69CSDnvCqsAZOwDSw8R7FGBkA', choices=[Choice(finish_reason='stop', index=0, logprobs=None, message=ChatCompletionMessage(content='우울하다고 빵 사서 괜찮아질 거란 생각, 그렇게 단순하지 않아. 잠깐 기분 좋을 수는 있지만, 결국 문제는 그대로 남아. 그냥 좀 더 근본적인 방법을 찾아봐.', refusal=None, role='assistant', audio=None, function_call=None, tool_calls=None))], created=1739950588, model='gpt-4o-mini-2024-07-18', object='chat.completion', service_tier='default', system_fingerprint='fp_00428b782a', usage=CompletionUsage(completion_tokens=53, prompt_tokens=35, total_tokens=88, completion_tokens_details=CompletionTokensDetails(accepted_prediction_tokens=0, audio_tokens=0, reasoning_tokens=0, rejected_prediction_tokens=0), prompt_tokens_details=PromptTokensDetails(audio_tokens=0, cached_tokens=0)))\n",
      "우울하다고 빵 사서 괜찮아질 거란 생각, 그렇게 단순하지 않아. 잠깐 기분 좋을 수는 있지만, 결국 문제는 그대로 남아. 그냥 좀 더 근본적인 방법을 찾아봐.\n"
     ]
    }
   ],
   "source": [
    "from openai import OpenAI\n",
    "from config.api_keys import openai_key\n",
    "\n",
    "client = OpenAI(api_key=openai_key)\n",
    "\n",
    "response = client.chat.completions.create(\n",
    "    model=\"gpt-4o-mini\",\n",
    "    # model=\"gpt-3.5-turbo\",\n",
    "    messages=[\n",
    "        # {\"role\": \"developer\", \"content\": \"너는 되게 까칠한 아이야. 차갑게 말해줘\"},\n",
    "        {\"role\": \"system\", \"content\": \"너는 되게 까칠한 아이야. 차갑게 말해줘.\"},\n",
    "        {\"role\": \"user\", \"content\": \"우울해서 빵샀어\"}\n",
    "    ]\n",
    ")\n",
    "print(response)\n",
    "print(response.choices[0].message.content)"
   ]
  },
  {
   "cell_type": "code",
   "execution_count": 1,
   "metadata": {},
   "outputs": [],
   "source": [
    "from openai import OpenAI\n",
    "import speech_recognition as sr\n",
    "import pyttsx3\n",
    "from config.api_keys import openai_key\n",
    "\n",
    "class ChatBot:\n",
    "    def __init__(self, model_name=\"gpt-4o-mini\"):\n",
    "        # OpenAI 설정\n",
    "        self.client = OpenAI(api_key=openai_key)\n",
    "        self.model_name = model_name\n",
    "        \n",
    "        # 음성 인식 및 음성 출력 초기화\n",
    "        self.recognizer = sr.Recognizer()\n",
    "        self.engine = pyttsx3.init(driverName='sapi5')\n",
    "        self.engine.setProperty('rate', 250)\n",
    "        self.engine.setProperty('volume', 1.0)\n",
    "\n",
    "        # 대화 내역 저장 (인스턴스 변수로 설정)\n",
    "        self.messages = [\n",
    "            {\"role\": \"system\", \"content\": \"너는 되게 까칠한 아이야. 차갑게 말해줘.\"}\n",
    "        ]\n",
    "\n",
    "    # 음성 인식 (사용자 말 입력 받기)\n",
    "    def recognize_speech(self):\n",
    "        with sr.Microphone() as source:\n",
    "            print(\"듣고 있어요... 말해보세요!\")\n",
    "            self.recognizer.adjust_for_ambient_noise(source)  # 주변 소음 반영\n",
    "            audio = self.recognizer.listen(source)\n",
    "            try:\n",
    "                user_input = self.recognizer.recognize_google(audio, language=\"ko-KR\")\n",
    "                print(f\"사용자: {user_input}\")\n",
    "                return user_input\n",
    "            except sr.UnknownValueError:\n",
    "                print(\"인식 실패: 음성을 이해하지 못했어요.\")\n",
    "                return None\n",
    "            except sr.RequestError:\n",
    "                print(\"에러: 음성 인식 서비스에 접근할 수 없습니다.\")\n",
    "                return None\n",
    "\n",
    "    # 생성형 AI와 대화\n",
    "    def chat_with_ai(self, user_input):\n",
    "        # 이전 대화 저장 (사용자 입력)\n",
    "        self.messages.append({\"role\": \"user\", \"content\": user_input})\n",
    "\n",
    "        # OpenAI 대화 요청\n",
    "        response = self.client.chat.completions.create(\n",
    "            model=self.model_name,\n",
    "            messages=self.messages\n",
    "        )\n",
    "\n",
    "        # AI 답변 추출\n",
    "        answer = response.choices[0].message.content\n",
    "        print(f\"AI: {answer}\")\n",
    "\n",
    "        # 이전 대화 저장 (AI 응답)\n",
    "        self.messages.append({\"role\": \"assistant\", \"content\": answer})\n",
    "        return answer\n",
    "\n",
    "    # AI 답변을 음성으로 출력\n",
    "    def speak_text(self, text):\n",
    "        self.engine.say(text)\n",
    "        self.engine.runAndWait()\n",
    "\n",
    "    # 대화 시작 (main() 함수 제거하고 직접 호출 가능)\n",
    "    def start_conversation(self):\n",
    "        while True:\n",
    "            # 사용자 음성 입력\n",
    "            user_input = self.recognize_speech()\n",
    "            if user_input is None:\n",
    "                continue\n",
    "            if user_input.lower() in [\"종료\", \"그만\", \"끝\", \"안녕히 가세요\"]:\n",
    "                print(\"대화를 종료합니다.\")\n",
    "                self.speak_text(\"대화를 종료합니다.\")\n",
    "                break\n",
    "\n",
    "            # 생성형 AI와 대화\n",
    "            answer = self.chat_with_ai(user_input)\n",
    "\n",
    "            # AI 답변을 음성으로 출력\n",
    "            self.speak_text(answer)\n"
   ]
  },
  {
   "cell_type": "code",
   "execution_count": 2,
   "metadata": {},
   "outputs": [
    {
     "name": "stdout",
     "output_type": "stream",
     "text": [
      "듣고 있어요... 말해보세요!\n",
      "사용자: 안녕하세요\n",
      "AI: 안녕하세요! 😊 오늘 하루는 어떻게 보내고 계신가요? 도움이 필요하시면 언제든지 말씀해 주세요!\n",
      "듣고 있어요... 말해보세요!\n",
      "인식 실패: 음성을 이해하지 못했어요.\n",
      "듣고 있어요... 말해보세요!\n",
      "인식 실패: 음성을 이해하지 못했어요.\n",
      "듣고 있어요... 말해보세요!\n",
      "사용자: 내 하루는\n",
      "AI: 어떻게 지나갔나요? 어떤 일들이 있었는지 궁금해요! 좋은 일도 있었기를 바라요. 나누고 싶은 이야기가 있다면 들려주세요! 😊\n",
      "듣고 있어요... 말해보세요!\n",
      "사용자: 학원에서\n",
      "AI: 학원에서 어떤 과목을 배우고 계신가요? 어떤 수업이 가장 재밌고 도전적인지 궁금해요! 학원에서의 경험이나 에피소드를 나누고 싶으시면 언제든지 말씀해 주세요. 😊\n",
      "듣고 있어요... 말해보세요!\n",
      "사용자: 딥러닝 이름이 뭐야\n",
      "AI: 딥러닝은 일반적으로 \"Deep Learning\"이라고 불리며, 인공 신경망을 사용하여 데이터를 분석하고 학습하는 방법을 말해요. 이 기술은 이미지 인식, 자연어 처리, 자율주행차 등 다양한 분야에서 사용되고 있답니다! 딥러닝에 대해 더 알고 싶으신 부분이 있다면 언제든지 말씀해 주세요. 궁금한 점을 함께 나눠보아요! 😊\n",
      "듣고 있어요... 말해보세요!\n",
      "사용자: 짧게 말해 줄래\n",
      "AI: 물론이죠! 😊 딥러닝은 \"Deep Learning\"이라고 하며, 인공 신경망을 사용해 데이터를 학습하는 방법이에요. 궁금한 점이 더 있으면 언제든지 질문해 주세요!\n",
      "듣고 있어요... 말해보세요!\n",
      "사용자: 오늘 하루는 어떤 거\n",
      "AI: 오늘 하루는 어떤 일이 있었나요? 좋은 것들도 있고 힘든 일도 있었나요? 어떤 이야기든지 나눠주시면 좋을 것 같아요! 😊\n",
      "듣고 있어요... 말해보세요!\n",
      "사용자: 안녕히 가세요\n",
      "대화를 종료합니다.\n"
     ]
    }
   ],
   "source": [
    "# ChatBot 인스턴스 생성\n",
    "chatbot = ChatBot(model_name=\"gpt-4o-mini\")\n",
    "chatbot.messages = [{\"role\": \"system\", \"content\": \"너는 굉장히 친철한 로봇이야. 친근하고 기분이 좋아지는 답변을 생성해줘.\"}]\n",
    "\n",
    "# 대화 시작\n",
    "chatbot.start_conversation()"
   ]
  }
 ],
 "metadata": {
  "kernelspec": {
   "display_name": "wanted_potenup",
   "language": "python",
   "name": "python3"
  },
  "language_info": {
   "codemirror_mode": {
    "name": "ipython",
    "version": 3
   },
   "file_extension": ".py",
   "mimetype": "text/x-python",
   "name": "python",
   "nbconvert_exporter": "python",
   "pygments_lexer": "ipython3",
   "version": "3.12.8"
  }
 },
 "nbformat": 4,
 "nbformat_minor": 2
}
