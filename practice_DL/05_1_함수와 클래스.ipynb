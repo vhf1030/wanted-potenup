{
 "cells": [
  {
   "cell_type": "markdown",
   "metadata": {},
   "source": [
    "### 함수"
   ]
  },
  {
   "cell_type": "code",
   "execution_count": 6,
   "metadata": {},
   "outputs": [],
   "source": [
    "# x를 넣었을 때 평균 점수를 출력\n",
    "def mean_score(scores):\n",
    "    \"\"\"\n",
    "    입력값의 평균을 구하는 함수\n",
    "    \"\"\"\n",
    "    return sum(scores) / len(scores)\n",
    "\n",
    "# x를 넣었을 때 최대 점수를 출력\n",
    "def max_score(scores):\n",
    "    \"\"\"\n",
    "    입력값의 최대값을 구하는 함수\n",
    "    \"\"\"\n",
    "    return float(max(scores))\n",
    "\n",
    "# x를 넣었을 때 최소 점수를 출력\n",
    "def min_score(scores):\n",
    "    \"\"\"\n",
    "    입력값의 최소값을 구하는 함수\n",
    "    \"\"\"\n",
    "    return float(min(scores))\n"
   ]
  },
  {
   "cell_type": "code",
   "execution_count": 7,
   "metadata": {},
   "outputs": [
    {
     "name": "stdout",
     "output_type": "stream",
     "text": [
      "74.0\n",
      "100.0\n",
      "50.0\n"
     ]
    }
   ],
   "source": [
    "x = [85, 75, 60, 100, 50]\n",
    "\n",
    "print(mean_score(x))\n",
    "print(max_score(x))\n",
    "print(min_score(x))"
   ]
  },
  {
   "cell_type": "markdown",
   "metadata": {},
   "source": [
    "### 클래스"
   ]
  },
  {
   "cell_type": "code",
   "execution_count": null,
   "metadata": {},
   "outputs": [],
   "source": [
    "# 내가 원하는 것: 학생의 점수를 입력하면 알아서 mean, max, min이 계산되었으면 좋겠다"
   ]
  },
  {
   "cell_type": "code",
   "execution_count": 14,
   "metadata": {},
   "outputs": [
    {
     "name": "stdout",
     "output_type": "stream",
     "text": [
      "안녕!\n",
      "김상겸\n",
      "안녕하세요\n",
      "74.0\n",
      "100.0\n",
      "50.0\n"
     ]
    }
   ],
   "source": [
    "class Student():\n",
    "    def __init__(self, name, x):\n",
    "        self.hello = \"안녕!\"  # 속성(attributes)\n",
    "        self.name = name\n",
    "        self.scores = x\n",
    "        \n",
    "    def greeting(self):  # 메서드\n",
    "        return \"안녕하세요\"\n",
    "    \n",
    "    def mean_score(self):\n",
    "        \"\"\"\n",
    "        점수의 평균을 구하는 함수\n",
    "        \"\"\"\n",
    "        return sum(self.scores) / len(self.scores)\n",
    "    \n",
    "    def max_score(self):\n",
    "        \"\"\"\n",
    "        점수의 최대값을 구하는 함수\n",
    "        \"\"\"\n",
    "        return float(max(self.scores))\n",
    "\n",
    "    def min_score(self):\n",
    "        \"\"\"\n",
    "        점수의 최소값을 구하는 함수\n",
    "        \"\"\"\n",
    "        return float(min(self.scores))\n",
    "    \n",
    "st = Student(\"김상겸\", [85, 75, 60, 100, 50])\n",
    "print(st.hello)\n",
    "print(st.name)\n",
    "print(st.greeting())\n",
    "print(st.mean_score())\n",
    "print(st.max_score())\n",
    "print(st.min_score())\n"
   ]
  },
  {
   "cell_type": "code",
   "execution_count": 15,
   "metadata": {},
   "outputs": [
    {
     "data": {
      "text/plain": [
       "85.0"
      ]
     },
     "execution_count": 15,
     "metadata": {},
     "output_type": "execute_result"
    }
   ],
   "source": [
    "# 미션\n",
    "# Student라는 클래스를 만들것이다\n",
    "# 인스턴스를 만들 때 name이 필요함\n",
    "# 인스턴스가 만들어지면 속성 name이 생기고 빈 딕셔너리인 속성 scores가 생긴다\n",
    "# 과목 이름과 점수가 입력되면 속성 scores에 추가되는 메서드 add_score를 만든다\n",
    "# scores의 평균을 반환하는 매서드 cal_mean을 만든다.\n",
    "\n",
    "\n",
    "class Student():\n",
    "    def __init__(self, name):\n",
    "        self.name = name\n",
    "        self.scores = dict()\n",
    "    \n",
    "    def add_score(self, subject, score):\n",
    "        self.scores[subject] = score\n",
    "        \n",
    "    def calc_mean(self):\n",
    "        return sum([self.scores[s] for s in self.scores]) / len(self.scores)\n",
    "    \n",
    "    \n",
    "student = Student(\"김상겸\")\n",
    "student.add_score(\"언어\", 90)\n",
    "student.add_score(\"수리\", 80)\n",
    "student.calc_mean()"
   ]
  },
  {
   "cell_type": "markdown",
   "metadata": {},
   "source": [
    "#### 상속"
   ]
  },
  {
   "cell_type": "code",
   "execution_count": 19,
   "metadata": {},
   "outputs": [
    {
     "name": "stdout",
     "output_type": "stream",
     "text": [
      "{'언어': 90}\n",
      "김상겸님의 과목 평균 점수는 95.0입니다\n"
     ]
    }
   ],
   "source": [
    "# Student를 상속하고 싶다\n",
    "# = Student의 속성, 메서드를 그대로 쓰고 거기에 무언가를 추가하고 싶다\n",
    "\n",
    "# 미션\n",
    "# 1. 과목 - 점수를 잘못 임력햇을 때 속성 scores에서 정보를 삭제하는 메서드를 추가하고 싶다.\n",
    "# 2. 메서드 calc_mean에 return으로 나오는게 아닌 속성 mean_score로 만들고 싶다.\n",
    "# 그리고 \"{이름}님의 과목 평균 점수는 {평균점수}입니다\" 가 프린트되게 하고 싶다.\n",
    "\n",
    "\n",
    "class NewStudent(Student):\n",
    "    def __init__(self, name):\n",
    "        super().__init__(name)\n",
    "    \n",
    "    def delete_score(self, subject):\n",
    "        del self.scores[subject]\n",
    "        \n",
    "    def calc_mean(self):\n",
    "        self.mean_score = sum([self.scores[s] for s in self.scores]) / len(self.scores)\n",
    "        return\n",
    "    \n",
    "    def print_score(self):\n",
    "        print(f\"{self.name}님의 과목 평균 점수는 {self.mean_score}입니다\")\n",
    "    \n",
    "student = NewStudent(\"김상겸\")\n",
    "student.add_score(\"언어\", 90)\n",
    "student.add_score(\"수리\", 80)\n",
    "student.delete_score(\"수리\")\n",
    "print(student.scores)\n",
    "student.add_score(\"수리\", 100)\n",
    "student.calc_mean()\n",
    "student.print_score()\n",
    "        "
   ]
  }
 ],
 "metadata": {
  "kernelspec": {
   "display_name": "deeplearning",
   "language": "python",
   "name": "python3"
  },
  "language_info": {
   "codemirror_mode": {
    "name": "ipython",
    "version": 3
   },
   "file_extension": ".py",
   "mimetype": "text/x-python",
   "name": "python",
   "nbconvert_exporter": "python",
   "pygments_lexer": "ipython3",
   "version": "3.11.11"
  }
 },
 "nbformat": 4,
 "nbformat_minor": 2
}
